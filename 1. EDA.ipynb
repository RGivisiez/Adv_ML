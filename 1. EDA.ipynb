{
 "cells": [
  {
   "cell_type": "markdown",
   "metadata": {},
   "source": [
    "# EDA"
   ]
  },
  {
   "cell_type": "markdown",
   "metadata": {},
   "source": [
    "- Os Notebook [1. EDA](1.%20EDA.ipynb) e [2. Features](2.%20Criando%20as%20features.ipynb) são a base para as análises e aplicações que serão feitas posteriormente."
   ]
  },
  {
   "cell_type": "markdown",
   "metadata": {},
   "source": [
    "# Ìndice\n",
    "\n",
    "1. [Resumo e objetivo](#Resumo-e-Objetivo)\n",
    "- [EDA Básicas](#EDA-Básica)"
   ]
  },
  {
   "cell_type": "markdown",
   "metadata": {},
   "source": [
    "### Coisas a serem feitas:\n",
    "\n",
    "- [ ] Colocar todas as referências.\n",
    "- [ ] Fazer o resumo.\n",
    "- [ ] Colocar o link pra correlação usando mais features.\n",
    "- [ ] Explicar boxplot."
   ]
  },
  {
   "cell_type": "markdown",
   "metadata": {},
   "source": [
    "# Carregando os arquivos"
   ]
  },
  {
   "cell_type": "code",
   "execution_count": 1,
   "metadata": {},
   "outputs": [
    {
     "data": {
      "text/html": [
       "<script type=\"text/javascript\">window.PlotlyConfig = {MathJaxConfig: 'local'};</script><script type=\"text/javascript\">if (window.MathJax) {MathJax.Hub.Config({SVG: {font: \"STIX-Web\"}});}</script><script>requirejs.config({paths: { 'plotly': ['https://cdn.plot.ly/plotly-latest.min']},});if(!window._Plotly) {require(['plotly'],function(plotly) {window._Plotly=plotly;});}</script>"
      ],
      "text/vnd.plotly.v1+html": [
       "<script type=\"text/javascript\">window.PlotlyConfig = {MathJaxConfig: 'local'};</script><script type=\"text/javascript\">if (window.MathJax) {MathJax.Hub.Config({SVG: {font: \"STIX-Web\"}});}</script><script>requirejs.config({paths: { 'plotly': ['https://cdn.plot.ly/plotly-latest.min']},});if(!window._Plotly) {require(['plotly'],function(plotly) {window._Plotly=plotly;});}</script>"
      ]
     },
     "metadata": {},
     "output_type": "display_data"
    }
   ],
   "source": [
    "import pandas as pd\n",
    "import numpy as np\n",
    "import matplotlib.pyplot as plt\n",
    "import seaborn as sns\n",
    "\n",
    "import plotly.plotly as py\n",
    "import plotly.graph_objs as go\n",
    "from plotly.offline import download_plotlyjs, init_notebook_mode, plot, iplot\n",
    "init_notebook_mode(connected=True)\n",
    "\n",
    "import missingno as msno\n",
    "\n",
    "import datetime\n",
    "\n",
    "from sklearn.preprocessing import LabelEncoder\n",
    "\n",
    "path = 'data'\n",
    "\n",
    "train = pd.read_csv(path + '/sales_train.csv.gz')\n",
    "test = pd.read_csv(path + '/test.csv.gz').set_index('ID')\n",
    "items = pd.read_csv(path + '/items.csv')\n",
    "items_cat = pd.read_csv(path + '/item_categories.csv')\n",
    "shops = pd.read_csv(path + '/shops.csv')"
   ]
  },
  {
   "cell_type": "markdown",
   "metadata": {},
   "source": [
    "# Resumo e Objetivos"
   ]
  },
  {
   "cell_type": "markdown",
   "metadata": {},
   "source": []
  },
  {
   "cell_type": "markdown",
   "metadata": {},
   "source": [
    "#### Reunindo o o dataset."
   ]
  },
  {
   "cell_type": "code",
   "execution_count": 2,
   "metadata": {},
   "outputs": [],
   "source": [
    "train_full = pd.merge(train, items, on='item_id', how='left')\n",
    "train_full = pd.merge(train_full, items_cat, on='item_category_id', how='left')\n",
    "train_full = pd.merge(train_full, shops, on='shop_id', how='left')"
   ]
  },
  {
   "cell_type": "code",
   "execution_count": 3,
   "metadata": {},
   "outputs": [],
   "source": [
    "train_full.date=train_full.date.apply(lambda x:datetime.datetime.strptime(x, '%d.%m.%Y'))"
   ]
  },
  {
   "cell_type": "code",
   "execution_count": 4,
   "metadata": {},
   "outputs": [],
   "source": [
    "train = train_full.drop(['date', 'item_name', 'shop_name', 'item_category_name'], axis=1)"
   ]
  },
  {
   "cell_type": "markdown",
   "metadata": {},
   "source": [
    "----------------------"
   ]
  },
  {
   "cell_type": "markdown",
   "metadata": {},
   "source": [
    "# EDA Básica"
   ]
  },
  {
   "cell_type": "markdown",
   "metadata": {},
   "source": [
    "Fazer uma EDA simples é sempre um bom começo.\n",
    "\n",
    "    - Nan's\n",
    "    - Pandas\n",
    "    - Outsiders"
   ]
  },
  {
   "cell_type": "markdown",
   "metadata": {},
   "source": [
    "A cara do nosso dataset sem as features categóricas."
   ]
  },
  {
   "cell_type": "code",
   "execution_count": 5,
   "metadata": {},
   "outputs": [
    {
     "data": {
      "text/html": [
       "<div>\n",
       "<style scoped>\n",
       "    .dataframe tbody tr th:only-of-type {\n",
       "        vertical-align: middle;\n",
       "    }\n",
       "\n",
       "    .dataframe tbody tr th {\n",
       "        vertical-align: top;\n",
       "    }\n",
       "\n",
       "    .dataframe thead th {\n",
       "        text-align: right;\n",
       "    }\n",
       "</style>\n",
       "<table border=\"1\" class=\"dataframe\">\n",
       "  <thead>\n",
       "    <tr style=\"text-align: right;\">\n",
       "      <th></th>\n",
       "      <th>date_block_num</th>\n",
       "      <th>shop_id</th>\n",
       "      <th>item_id</th>\n",
       "      <th>item_price</th>\n",
       "      <th>item_cnt_day</th>\n",
       "      <th>item_category_id</th>\n",
       "    </tr>\n",
       "  </thead>\n",
       "  <tbody>\n",
       "    <tr>\n",
       "      <th>0</th>\n",
       "      <td>0</td>\n",
       "      <td>59</td>\n",
       "      <td>22154</td>\n",
       "      <td>999.00</td>\n",
       "      <td>1.0</td>\n",
       "      <td>37</td>\n",
       "    </tr>\n",
       "    <tr>\n",
       "      <th>1</th>\n",
       "      <td>0</td>\n",
       "      <td>25</td>\n",
       "      <td>2552</td>\n",
       "      <td>899.00</td>\n",
       "      <td>1.0</td>\n",
       "      <td>58</td>\n",
       "    </tr>\n",
       "    <tr>\n",
       "      <th>2</th>\n",
       "      <td>0</td>\n",
       "      <td>25</td>\n",
       "      <td>2552</td>\n",
       "      <td>899.00</td>\n",
       "      <td>-1.0</td>\n",
       "      <td>58</td>\n",
       "    </tr>\n",
       "    <tr>\n",
       "      <th>3</th>\n",
       "      <td>0</td>\n",
       "      <td>25</td>\n",
       "      <td>2554</td>\n",
       "      <td>1709.05</td>\n",
       "      <td>1.0</td>\n",
       "      <td>58</td>\n",
       "    </tr>\n",
       "    <tr>\n",
       "      <th>4</th>\n",
       "      <td>0</td>\n",
       "      <td>25</td>\n",
       "      <td>2555</td>\n",
       "      <td>1099.00</td>\n",
       "      <td>1.0</td>\n",
       "      <td>56</td>\n",
       "    </tr>\n",
       "  </tbody>\n",
       "</table>\n",
       "</div>"
      ],
      "text/plain": [
       "   date_block_num  shop_id  item_id  item_price  item_cnt_day  \\\n",
       "0               0       59    22154      999.00           1.0   \n",
       "1               0       25     2552      899.00           1.0   \n",
       "2               0       25     2552      899.00          -1.0   \n",
       "3               0       25     2554     1709.05           1.0   \n",
       "4               0       25     2555     1099.00           1.0   \n",
       "\n",
       "   item_category_id  \n",
       "0                37  \n",
       "1                58  \n",
       "2                58  \n",
       "3                58  \n",
       "4                56  "
      ]
     },
     "execution_count": 5,
     "metadata": {},
     "output_type": "execute_result"
    }
   ],
   "source": [
    "train.head()"
   ]
  },
  {
   "cell_type": "code",
   "execution_count": 6,
   "metadata": {},
   "outputs": [
    {
     "data": {
      "text/plain": [
       "(2935849, 6)"
      ]
     },
     "execution_count": 6,
     "metadata": {},
     "output_type": "execute_result"
    }
   ],
   "source": [
    "train.shape"
   ]
  },
  {
   "cell_type": "markdown",
   "metadata": {},
   "source": [
    "Testando se existe algum Nan ou Null no dataset."
   ]
  },
  {
   "cell_type": "code",
   "execution_count": 7,
   "metadata": {},
   "outputs": [
    {
     "name": "stdout",
     "output_type": "stream",
     "text": [
      "date_block_num      False\n",
      "shop_id             False\n",
      "item_id             False\n",
      "item_price          False\n",
      "item_cnt_day        False\n",
      "item_category_id    False\n",
      "dtype: bool\n",
      "date_block_num      False\n",
      "shop_id             False\n",
      "item_id             False\n",
      "item_price          False\n",
      "item_cnt_day        False\n",
      "item_category_id    False\n",
      "dtype: bool\n"
     ]
    }
   ],
   "source": [
    "print(train.isna().any())\n",
    "print(train.isnull().any())"
   ]
  },
  {
   "cell_type": "markdown",
   "metadata": {},
   "source": [
    " <a name=\"backnan\"></a> Parece que o dataset tá Ok. Mesmo assim vamos visualizar essas coisas. Linhas horizontais brancas significam Nans, como não temos nenhum tudo vai ficar cinza.\n",
    "\n",
    "Deixei um exemplo [aqui](#nan) caso queira ver como fica um dataset com Nans."
   ]
  },
  {
   "cell_type": "code",
   "execution_count": 8,
   "metadata": {
    "scrolled": false
   },
   "outputs": [
    {
     "data": {
      "image/png": "[encoded data removed]",
      "text/plain": [
       "<Figure size 1800x720 with 2 Axes>"
      ]
     },
     "metadata": {
      "needs_background": "light"
     },
     "output_type": "display_data"
    }
   ],
   "source": [
    "msno.matrix(train.loc[:, :])\n",
    "plt.show()"
   ]
  },
  {
   "cell_type": "markdown",
   "metadata": {},
   "source": [
    "Número de coisas únicas, como shoppings e itens."
   ]
  },
  {
   "cell_type": "code",
   "execution_count": 9,
   "metadata": {},
   "outputs": [
    {
     "name": "stdout",
     "output_type": "stream",
     "text": [
      "Meses: 34\n",
      "Shoppings: 60\n",
      "Itens: 21807\n",
      "Categórias: 84\n"
     ]
    }
   ],
   "source": [
    "print('Meses:', train['date_block_num'].nunique())\n",
    "print('Shoppings:', train['shop_id'].nunique())\n",
    "print('Itens:', train['item_id'].nunique())\n",
    "print('Categórias:', train['item_category_id'].nunique())"
   ]
  },
  {
   "cell_type": "markdown",
   "metadata": {},
   "source": [
    "> Temos poucos meses no dataset, isso pode ser um problema porque temos poucos dados para serem dividos em treino e teste."
   ]
  },
  {
   "cell_type": "markdown",
   "metadata": {},
   "source": [
    "O mapa de correlações serve para ver como as features variam uma em relação a outra. Por exemplo, o preço de uma casa vai estar correlacionado ao seu tamanho, uma correlação positiva. Se o preço da casa é alto o preço também vai ser.\n",
    "\n",
    "Mais pra baixo vamos usar outras features e elas vão estar correlacionadas e veremos um gráfico mais interessante. [features corr.]()"
   ]
  },
  {
   "cell_type": "code",
   "execution_count": 10,
   "metadata": {},
   "outputs": [
    {
     "data": {
      "image/png": "[encoded data removed]",
      "text/plain": [
       "<Figure size 1080x1080 with 2 Axes>"
      ]
     },
     "metadata": {
      "needs_background": "light"
     },
     "output_type": "display_data"
    }
   ],
   "source": [
    "correlation = train.corr()\n",
    "plt.figure(figsize=(15,15))\n",
    "sns.heatmap(correlation, vmax=1, square=True,annot=True, cmap='Greys')\n",
    "plt.show()"
   ]
  },
  {
   "cell_type": "markdown",
   "metadata": {},
   "source": [
    "Agora vamos pra estatística de verdade usando o pandas."
   ]
  },
  {
   "cell_type": "code",
   "execution_count": 11,
   "metadata": {},
   "outputs": [
    {
     "data": {
      "text/html": [
       "<div>\n",
       "<style scoped>\n",
       "    .dataframe tbody tr th:only-of-type {\n",
       "        vertical-align: middle;\n",
       "    }\n",
       "\n",
       "    .dataframe tbody tr th {\n",
       "        vertical-align: top;\n",
       "    }\n",
       "\n",
       "    .dataframe thead th {\n",
       "        text-align: right;\n",
       "    }\n",
       "</style>\n",
       "<table border=\"1\" class=\"dataframe\">\n",
       "  <thead>\n",
       "    <tr style=\"text-align: right;\">\n",
       "      <th></th>\n",
       "      <th>date_block_num</th>\n",
       "      <th>shop_id</th>\n",
       "      <th>item_id</th>\n",
       "      <th>item_price</th>\n",
       "      <th>item_cnt_day</th>\n",
       "      <th>item_category_id</th>\n",
       "    </tr>\n",
       "  </thead>\n",
       "  <tbody>\n",
       "    <tr>\n",
       "      <th>count</th>\n",
       "      <td>2.935849e+06</td>\n",
       "      <td>2.935849e+06</td>\n",
       "      <td>2.935849e+06</td>\n",
       "      <td>2.935849e+06</td>\n",
       "      <td>2.935849e+06</td>\n",
       "      <td>2.935849e+06</td>\n",
       "    </tr>\n",
       "    <tr>\n",
       "      <th>mean</th>\n",
       "      <td>1.456991e+01</td>\n",
       "      <td>3.300173e+01</td>\n",
       "      <td>1.019723e+04</td>\n",
       "      <td>8.908532e+02</td>\n",
       "      <td>1.242641e+00</td>\n",
       "      <td>4.000138e+01</td>\n",
       "    </tr>\n",
       "    <tr>\n",
       "      <th>std</th>\n",
       "      <td>9.422988e+00</td>\n",
       "      <td>1.622697e+01</td>\n",
       "      <td>6.324297e+03</td>\n",
       "      <td>1.729800e+03</td>\n",
       "      <td>2.618834e+00</td>\n",
       "      <td>1.710076e+01</td>\n",
       "    </tr>\n",
       "    <tr>\n",
       "      <th>min</th>\n",
       "      <td>0.000000e+00</td>\n",
       "      <td>0.000000e+00</td>\n",
       "      <td>0.000000e+00</td>\n",
       "      <td>-1.000000e+00</td>\n",
       "      <td>-2.200000e+01</td>\n",
       "      <td>0.000000e+00</td>\n",
       "    </tr>\n",
       "    <tr>\n",
       "      <th>25%</th>\n",
       "      <td>7.000000e+00</td>\n",
       "      <td>2.200000e+01</td>\n",
       "      <td>4.476000e+03</td>\n",
       "      <td>2.490000e+02</td>\n",
       "      <td>1.000000e+00</td>\n",
       "      <td>2.800000e+01</td>\n",
       "    </tr>\n",
       "    <tr>\n",
       "      <th>50%</th>\n",
       "      <td>1.400000e+01</td>\n",
       "      <td>3.100000e+01</td>\n",
       "      <td>9.343000e+03</td>\n",
       "      <td>3.990000e+02</td>\n",
       "      <td>1.000000e+00</td>\n",
       "      <td>4.000000e+01</td>\n",
       "    </tr>\n",
       "    <tr>\n",
       "      <th>75%</th>\n",
       "      <td>2.300000e+01</td>\n",
       "      <td>4.700000e+01</td>\n",
       "      <td>1.568400e+04</td>\n",
       "      <td>9.990000e+02</td>\n",
       "      <td>1.000000e+00</td>\n",
       "      <td>5.500000e+01</td>\n",
       "    </tr>\n",
       "    <tr>\n",
       "      <th>max</th>\n",
       "      <td>3.300000e+01</td>\n",
       "      <td>5.900000e+01</td>\n",
       "      <td>2.216900e+04</td>\n",
       "      <td>3.079800e+05</td>\n",
       "      <td>2.169000e+03</td>\n",
       "      <td>8.300000e+01</td>\n",
       "    </tr>\n",
       "  </tbody>\n",
       "</table>\n",
       "</div>"
      ],
      "text/plain": [
       "       date_block_num       shop_id       item_id    item_price  item_cnt_day  \\\n",
       "count    2.935849e+06  2.935849e+06  2.935849e+06  2.935849e+06  2.935849e+06   \n",
       "mean     1.456991e+01  3.300173e+01  1.019723e+04  8.908532e+02  1.242641e+00   \n",
       "std      9.422988e+00  1.622697e+01  6.324297e+03  1.729800e+03  2.618834e+00   \n",
       "min      0.000000e+00  0.000000e+00  0.000000e+00 -1.000000e+00 -2.200000e+01   \n",
       "25%      7.000000e+00  2.200000e+01  4.476000e+03  2.490000e+02  1.000000e+00   \n",
       "50%      1.400000e+01  3.100000e+01  9.343000e+03  3.990000e+02  1.000000e+00   \n",
       "75%      2.300000e+01  4.700000e+01  1.568400e+04  9.990000e+02  1.000000e+00   \n",
       "max      3.300000e+01  5.900000e+01  2.216900e+04  3.079800e+05  2.169000e+03   \n",
       "\n",
       "       item_category_id  \n",
       "count      2.935849e+06  \n",
       "mean       4.000138e+01  \n",
       "std        1.710076e+01  \n",
       "min        0.000000e+00  \n",
       "25%        2.800000e+01  \n",
       "50%        4.000000e+01  \n",
       "75%        5.500000e+01  \n",
       "max        8.300000e+01  "
      ]
     },
     "execution_count": 11,
     "metadata": {},
     "output_type": "execute_result"
    }
   ],
   "source": [
    "train.describe()"
   ]
  },
  {
   "cell_type": "markdown",
   "metadata": {},
   "source": [
    "**Obs.:**\n",
    "- O minímo do item_price é negativo. (Provavelmente uma promoção ou coisa do tipo)\n",
    "- O minímo do item_cnt_day é negativo. (Provavelmente são devoluções)\n",
    "- O máximo do item_price é bem alto. (Um dos itens tem valor elevado demais)\n",
    "- O máximo do item_cnt_day é bem alto. (Venderam um monte de itens de uma vez)\n",
    "- O desvio padrão std dos dois também está meio alto. (Isso pode gerar problemas em alguns modelos)\n",
    "\n",
    "> De forma geral todos os itens destacados podem causar problemas para os modelos que vão ser usados."
   ]
  },
  {
   "cell_type": "markdown",
   "metadata": {},
   "source": [
    "Vamos montar alguns gráficos de histogramas. Histogramas agrupam valores repetidos, então a altura da barra no gráfico indica quantas vezes aquele valor apareceu."
   ]
  },
  {
   "cell_type": "code",
   "execution_count": 12,
   "metadata": {},
   "outputs": [
    {
     "data": {
      "image/png": "[encoded data removed]",
      "text/plain": [
       "<Figure size 1008x648 with 3 Axes>"
      ]
     },
     "metadata": {
      "needs_background": "light"
     },
     "output_type": "display_data"
    }
   ],
   "source": [
    "plt.figure(1, figsize=(14,9))\n",
    "\n",
    "plt.subplot(221)\n",
    "plt.hist(train_full['item_price'], bins = 100)\n",
    "plt.title('Hist - item_price')\n",
    "plt.xlabel('Item Price')\n",
    "\n",
    "plt.subplot(222)\n",
    "plt.hist(train_full['item_price'][train_full.item_price < 8000], bins = 100)\n",
    "plt.title('Hist - item_price < 8000')\n",
    "plt.xlabel('Item Price')\n",
    "\n",
    "plt.subplot(223)\n",
    "plt.hist(train_full['item_price'][train_full.item_price > 8000], bins = 100)\n",
    "plt.title('Hist - item_price > 8000')\n",
    "plt.xlim(4000, 90000)\n",
    "plt.xlabel('Item Price')\n",
    "\n",
    "plt.subplots_adjust(top=0.92, bottom=0.08, left=0.10, right=0.95, hspace=0.25,\n",
    "                    wspace=0.35)\n",
    "plt.show()"
   ]
  },
  {
   "cell_type": "markdown",
   "metadata": {},
   "source": [
    "- O primeiro gráfico não diz muito. Só me fala que muitos itens tem valores pequenos.\n",
    "- O segundo gráfico (valores < 8000), me mostra que realmente são vendidos mais itens com valores baixos. \n",
    "- O terceiro gráfico (valores > 8000), poucas vendas de itens caros, apesar de ter $6.000$ vendas de itens que valem mais de $10.000$."
   ]
  },
  {
   "cell_type": "markdown",
   "metadata": {},
   "source": [
    "Uma forma melhor de observar se existem itens com valores muito discrepantes, é utilizando o plot de caixas."
   ]
  },
  {
   "cell_type": "code",
   "execution_count": 13,
   "metadata": {},
   "outputs": [
    {
     "data": {
      "image/png": "[encoded data removed]",
      "text/plain": [
       "<Figure size 1008x648 with 3 Axes>"
      ]
     },
     "metadata": {
      "needs_background": "light"
     },
     "output_type": "display_data"
    }
   ],
   "source": [
    "plt.figure(1, figsize=(14,9))\n",
    "\n",
    "plt.subplot(221)\n",
    "sns.boxplot(x = train['item_price'])\n",
    "plt.title('item_price')\n",
    "plt.xlabel('Item Price')\n",
    "\n",
    "plt.subplot(222)\n",
    "sns.boxplot(train['item_price'][train.item_price < 8000])\n",
    "plt.title('item_price < 8000')\n",
    "plt.xlabel('Item Price')\n",
    "\n",
    "plt.subplot(223)\n",
    "sns.boxplot(train['item_price'][train.item_price > 8000])\n",
    "plt.title('item_price > 8000')\n",
    "#plt.xlim(4000, 90000)\n",
    "plt.xlabel('Item Price')\n",
    "\n",
    "plt.subplots_adjust(top=0.92, bottom=0.08, left=0.10, right=0.95, hspace=0.25,\n",
    "                    wspace=0.35)\n",
    "plt.show()"
   ]
  },
  {
   "cell_type": "markdown",
   "metadata": {},
   "source": [
    "- No primeiro e no terceiro gráfico já da pra ver o valor discrepante.\n",
    "- Deixei um [link][box] onde tem um explicação sobre o boxplot \n",
    "\n",
    "[box]: http://www.abgconsultoria.com.br/blog/boxplot-como-interpretar/"
   ]
  },
  {
   "cell_type": "markdown",
   "metadata": {},
   "source": [
    "O item_cnt_day também vai ter outliers, como é esperado."
   ]
  },
  {
   "cell_type": "code",
   "execution_count": 14,
   "metadata": {},
   "outputs": [
    {
     "data": {
      "image/png": "[encoded data removed]",
      "text/plain": [
       "<Figure size 1008x648 with 3 Axes>"
      ]
     },
     "metadata": {
      "needs_background": "light"
     },
     "output_type": "display_data"
    }
   ],
   "source": [
    "plt.figure(1, figsize=(14,9))\n",
    "\n",
    "plt.subplot(221)\n",
    "sns.boxplot(x = train['item_cnt_day'])\n",
    "plt.title('item_price')\n",
    "plt.xlabel('Item Count')\n",
    "\n",
    "plt.subplot(222)\n",
    "sns.boxplot(train['item_cnt_day'][train.item_cnt_day < 1000])\n",
    "plt.title('item_price < 1000')\n",
    "plt.xlabel('Item Count')\n",
    "\n",
    "plt.subplot(223)\n",
    "sns.boxplot(train['item_cnt_day'][train.item_cnt_day > 1000])\n",
    "plt.title('item_price > 1000')\n",
    "#plt.xlim(4000, 90000)\n",
    "plt.xlabel('Item Count')\n",
    "\n",
    "plt.subplots_adjust(top=0.92, bottom=0.08, left=0.10, right=0.95, hspace=0.25,\n",
    "                    wspace=0.35)\n",
    "plt.show()"
   ]
  },
  {
   "cell_type": "markdown",
   "metadata": {},
   "source": [
    "- Comparando o segundo e o terceiro gráfico, parece que só existe um outliers e está acima de mil."
   ]
  },
  {
   "cell_type": "code",
   "execution_count": 15,
   "metadata": {},
   "outputs": [
    {
     "data": {
      "text/html": [
       "<div>\n",
       "<style scoped>\n",
       "    .dataframe tbody tr th:only-of-type {\n",
       "        vertical-align: middle;\n",
       "    }\n",
       "\n",
       "    .dataframe tbody tr th {\n",
       "        vertical-align: top;\n",
       "    }\n",
       "\n",
       "    .dataframe thead th {\n",
       "        text-align: right;\n",
       "    }\n",
       "</style>\n",
       "<table border=\"1\" class=\"dataframe\">\n",
       "  <thead>\n",
       "    <tr style=\"text-align: right;\">\n",
       "      <th></th>\n",
       "      <th>date_block_num</th>\n",
       "      <th>shop_id</th>\n",
       "      <th>item_id</th>\n",
       "      <th>item_price</th>\n",
       "      <th>item_cnt_day</th>\n",
       "      <th>item_category_id</th>\n",
       "    </tr>\n",
       "  </thead>\n",
       "  <tbody>\n",
       "    <tr>\n",
       "      <th>2909818</th>\n",
       "      <td>33</td>\n",
       "      <td>12</td>\n",
       "      <td>11373</td>\n",
       "      <td>0.908714</td>\n",
       "      <td>2169.0</td>\n",
       "      <td>9</td>\n",
       "    </tr>\n",
       "  </tbody>\n",
       "</table>\n",
       "</div>"
      ],
      "text/plain": [
       "         date_block_num  shop_id  item_id  item_price  item_cnt_day  \\\n",
       "2909818              33       12    11373    0.908714        2169.0   \n",
       "\n",
       "         item_category_id  \n",
       "2909818                 9  "
      ]
     },
     "execution_count": 15,
     "metadata": {},
     "output_type": "execute_result"
    }
   ],
   "source": [
    "train[train.item_cnt_day > 1000]"
   ]
  },
  {
   "cell_type": "markdown",
   "metadata": {},
   "source": [
    "Vamos ver quais categórias que vendem mais itens."
   ]
  },
  {
   "cell_type": "code",
   "execution_count": 16,
   "metadata": {},
   "outputs": [
    {
     "data": {
      "image/png": "[encoded data removed]",
      "text/plain": [
       "<Figure size 1008x504 with 2 Axes>"
      ]
     },
     "metadata": {
      "needs_background": "light"
     },
     "output_type": "display_data"
    }
   ],
   "source": [
    "df = train[['item_category_id', 'item_cnt_day']].groupby(\n",
    "    ['item_category_id']).sum()\n",
    "\n",
    "large = df.nlargest(n=10,columns=['item_cnt_day']).reset_index()\n",
    "small = df.nsmallest(n=10,columns=['item_cnt_day']).reset_index()\n",
    "\n",
    "x = np.linspace(1,10,10)\n",
    "\n",
    "plt.figure(1, figsize=(14,7))\n",
    "\n",
    "plt.subplot(221)\n",
    "plt.bar(x, large['item_cnt_day'])\n",
    "plt.xticks(x, large['item_category_id'])\n",
    "plt.title('Maior número de vendas')\n",
    "plt.xlabel('Id da categória')\n",
    "plt.ylabel('Nº de itens')\n",
    "\n",
    "plt.subplot(222)\n",
    "plt.bar(x, small['item_cnt_day'])\n",
    "plt.xticks(x, small['item_category_id'])\n",
    "plt.title('Menor número de vendas')\n",
    "plt.xlabel('Id da categória')\n",
    "plt.ylabel('Nº de itens')\n",
    "\n",
    "plt.show()"
   ]
  },
  {
   "cell_type": "markdown",
   "metadata": {},
   "source": [
    "Categorias que vendem mais por mês."
   ]
  },
  {
   "cell_type": "code",
   "execution_count": 298,
   "metadata": {
    "scrolled": false
   },
   "outputs": [
    {
     "data": {
      "application/vnd.plotly.v1+json": {
       "config": {
        "linkText": "Export to plot.ly",
        "plotlyServerURL": "https://plot.ly",
        "showLink": false
       },
       "data": [
        {
         "text": [
          19,
          19,
          19,
          19,
          19,
          19,
          37,
          19,
          55,
          55,
          28,
          19,
          19,
          19,
          71,
          37,
          37,
          71,
          71,
          19,
          20,
          71,
          55,
          71,
          71,
          20,
          20,
          20,
          55,
          20,
          20,
          19,
          80
         ],
         "textposition": "auto",
         "type": "bar",
         "uid": "1be66ee3-5979-4075-a2f1-48dc3829febb",
         "x": [
          "2018/January",
          "2018/February",
          "2018/March",
          "2018/April",
          "2018/May",
          "2018/June",
          "2018/July",
          "2018/August",
          "2018/September",
          "2018/October",
          "2018/November",
          "2018/December",
          "2019/January",
          "2019/February",
          "2019/March",
          "2019/April",
          "2019/May",
          "2019/June",
          "2019/July",
          "2019/August",
          "2019/September",
          "2019/October",
          "2019/November",
          "2019/December",
          "2020/January",
          "2020/February",
          "2020/March",
          "2020/April",
          "2020/May",
          "2020/June",
          "2020/July",
          "2020/August",
          "2020/September"
         ],
         "y": [
          8983,
          10095,
          12327,
          7656,
          7280,
          12206,
          8623,
          10488,
          11480,
          11852,
          9529,
          15818,
          9282,
          8687,
          7717,
          7704,
          7177,
          6712,
          5976,
          7439,
          7147,
          6547,
          9809,
          12185,
          7869,
          4915,
          5399,
          4768,
          6353,
          4687,
          4034,
          4667,
          5149
         ]
        },
        {
         "text": [
          55,
          55,
          55,
          55,
          55,
          55,
          55,
          55,
          19,
          19,
          55,
          55,
          55,
          55,
          55,
          55,
          55,
          55,
          30,
          55,
          55,
          55,
          30,
          30,
          55,
          55,
          30,
          55,
          30,
          55,
          30,
          55,
          30
         ],
         "textposition": "auto",
         "type": "bar",
         "uid": "775f4042-fabb-49e4-ad23-928c905800cc",
         "x": [
          "2018/January",
          "2018/February",
          "2018/March",
          "2018/April",
          "2018/May",
          "2018/June",
          "2018/July",
          "2018/August",
          "2018/September",
          "2018/October",
          "2018/November",
          "2018/December",
          "2019/January",
          "2019/February",
          "2019/March",
          "2019/April",
          "2019/May",
          "2019/June",
          "2019/July",
          "2019/August",
          "2019/September",
          "2019/October",
          "2019/November",
          "2019/December",
          "2020/January",
          "2020/February",
          "2020/March",
          "2020/April",
          "2020/May",
          "2020/June",
          "2020/July",
          "2020/August",
          "2020/September"
         ],
         "y": [
          12527,
          11782,
          13705,
          11739,
          12208,
          13616,
          14168,
          14131,
          18932,
          14113,
          11541,
          16186,
          10216,
          9442,
          11533,
          9336,
          9714,
          10769,
          10456,
          11180,
          8364,
          9179,
          10125,
          12226,
          9291,
          8036,
          7445,
          7162,
          6817,
          6017,
          5780,
          6022,
          5303
         ]
        },
        {
         "text": [
          30,
          30,
          30,
          30,
          30,
          30,
          30,
          30,
          30,
          30,
          30,
          30,
          30,
          30,
          30,
          30,
          30,
          30,
          55,
          30,
          30,
          40,
          20,
          55,
          30,
          30,
          55,
          40,
          20,
          30,
          55,
          30,
          40
         ],
         "textposition": "auto",
         "type": "bar",
         "uid": "71865cc9-b4f6-4839-a9ea-ed819576d8c6",
         "x": [
          "2018/January",
          "2018/February",
          "2018/March",
          "2018/April",
          "2018/May",
          "2018/June",
          "2018/July",
          "2018/August",
          "2018/September",
          "2018/October",
          "2018/November",
          "2018/December",
          "2019/January",
          "2019/February",
          "2019/March",
          "2019/April",
          "2019/May",
          "2019/June",
          "2019/July",
          "2019/August",
          "2019/September",
          "2019/October",
          "2019/November",
          "2019/December",
          "2020/January",
          "2020/February",
          "2020/March",
          "2020/April",
          "2020/May",
          "2020/June",
          "2020/July",
          "2020/August",
          "2020/September"
         ],
         "y": [
          22216,
          20966,
          27045,
          16548,
          17223,
          19146,
          17285,
          19340,
          20513,
          18049,
          16794,
          20088,
          14883,
          13204,
          14632,
          10755,
          11604,
          11645,
          11371,
          12142,
          10130,
          13639,
          12834,
          13786,
          9912,
          8288,
          8881,
          10683,
          7130,
          6202,
          6474,
          6222,
          6779
         ]
        },
        {
         "text": [
          40,
          40,
          40,
          40,
          40,
          40,
          40,
          40,
          40,
          40,
          40,
          40,
          40,
          40,
          40,
          40,
          40,
          40,
          40,
          40,
          40,
          30,
          40,
          40,
          40,
          40,
          40,
          30,
          40,
          40,
          40,
          40,
          20
         ],
         "textposition": "auto",
         "type": "bar",
         "uid": "d2be651c-4236-4007-b9ef-905364034ac2",
         "x": [
          "2018/January",
          "2018/February",
          "2018/March",
          "2018/April",
          "2018/May",
          "2018/June",
          "2018/July",
          "2018/August",
          "2018/September",
          "2018/October",
          "2018/November",
          "2018/December",
          "2019/January",
          "2019/February",
          "2019/March",
          "2019/April",
          "2019/May",
          "2019/June",
          "2019/July",
          "2019/August",
          "2019/September",
          "2019/October",
          "2019/November",
          "2019/December",
          "2020/January",
          "2020/February",
          "2020/March",
          "2020/April",
          "2020/May",
          "2020/June",
          "2020/July",
          "2020/August",
          "2020/September"
         ],
         "y": [
          33489,
          31649,
          36277,
          27525,
          25470,
          25992,
          24806,
          24130,
          23348,
          24173,
          25433,
          28598,
          22065,
          18467,
          21266,
          18320,
          15005,
          16064,
          14452,
          15821,
          12748,
          14655,
          14815,
          18876,
          15109,
          12100,
          13084,
          14751,
          9208,
          9304,
          9283,
          8513,
          7107
         ]
        }
       ],
       "layout": {
        "barmode": "stack",
        "height": 800,
        "width": 1000
       }
      },
      "text/html": [
       "<div id=\"ef50e9a7-60e8-4120-a7ed-e9171a0b1813\" style=\"height: 800px; width: 1000px;\" class=\"plotly-graph-div\"></div><script type=\"text/javascript\">require([\"plotly\"], function(Plotly) { window.PLOTLYENV=window.PLOTLYENV || {};window.PLOTLYENV.BASE_URL=\"https://plot.ly\";\n",
       "if (document.getElementById(\"ef50e9a7-60e8-4120-a7ed-e9171a0b1813\")) {\n",
       "    Plotly.newPlot(\"ef50e9a7-60e8-4120-a7ed-e9171a0b1813\", [{\"text\": [19.0, 19.0, 19.0, 19.0, 19.0, 19.0, 37.0, 19.0, 55.0, 55.0, 28.0, 19.0, 19.0, 19.0, 71.0, 37.0, 37.0, 71.0, 71.0, 19.0, 20.0, 71.0, 55.0, 71.0, 71.0, 20.0, 20.0, 20.0, 55.0, 20.0, 20.0, 19.0, 80.0], \"textposition\": \"auto\", \"x\": [\"2018/January\", \"2018/February\", \"2018/March\", \"2018/April\", \"2018/May\", \"2018/June\", \"2018/July\", \"2018/August\", \"2018/September\", \"2018/October\", \"2018/November\", \"2018/December\", \"2019/January\", \"2019/February\", \"2019/March\", \"2019/April\", \"2019/May\", \"2019/June\", \"2019/July\", \"2019/August\", \"2019/September\", \"2019/October\", \"2019/November\", \"2019/December\", \"2020/January\", \"2020/February\", \"2020/March\", \"2020/April\", \"2020/May\", \"2020/June\", \"2020/July\", \"2020/August\", \"2020/September\"], \"y\": [8983.0, 10095.0, 12327.0, 7656.0, 7280.0, 12206.0, 8623.0, 10488.0, 11480.0, 11852.0, 9529.0, 15818.0, 9282.0, 8687.0, 7717.0, 7704.0, 7177.0, 6712.0, 5976.0, 7439.0, 7147.0, 6547.0, 9809.0, 12185.0, 7869.0, 4915.0, 5399.0, 4768.0, 6353.0, 4687.0, 4034.0, 4667.0, 5149.0], \"type\": \"bar\", \"uid\": \"1be66ee3-5979-4075-a2f1-48dc3829febb\"}, {\"text\": [55.0, 55.0, 55.0, 55.0, 55.0, 55.0, 55.0, 55.0, 19.0, 19.0, 55.0, 55.0, 55.0, 55.0, 55.0, 55.0, 55.0, 55.0, 30.0, 55.0, 55.0, 55.0, 30.0, 30.0, 55.0, 55.0, 30.0, 55.0, 30.0, 55.0, 30.0, 55.0, 30.0], \"textposition\": \"auto\", \"x\": [\"2018/January\", \"2018/February\", \"2018/March\", \"2018/April\", \"2018/May\", \"2018/June\", \"2018/July\", \"2018/August\", \"2018/September\", \"2018/October\", \"2018/November\", \"2018/December\", \"2019/January\", \"2019/February\", \"2019/March\", \"2019/April\", \"2019/May\", \"2019/June\", \"2019/July\", \"2019/August\", \"2019/September\", \"2019/October\", \"2019/November\", \"2019/December\", \"2020/January\", \"2020/February\", \"2020/March\", \"2020/April\", \"2020/May\", \"2020/June\", \"2020/July\", \"2020/August\", \"2020/September\"], \"y\": [12527.0, 11782.0, 13705.0, 11739.0, 12208.0, 13616.0, 14168.0, 14131.0, 18932.0, 14113.0, 11541.0, 16186.0, 10216.0, 9442.0, 11533.0, 9336.0, 9714.0, 10769.0, 10456.0, 11180.0, 8364.0, 9179.0, 10125.0, 12226.0, 9291.0, 8036.0, 7445.0, 7162.0, 6817.0, 6017.0, 5780.0, 6022.0, 5303.0], \"type\": \"bar\", \"uid\": \"775f4042-fabb-49e4-ad23-928c905800cc\"}, {\"text\": [30.0, 30.0, 30.0, 30.0, 30.0, 30.0, 30.0, 30.0, 30.0, 30.0, 30.0, 30.0, 30.0, 30.0, 30.0, 30.0, 30.0, 30.0, 55.0, 30.0, 30.0, 40.0, 20.0, 55.0, 30.0, 30.0, 55.0, 40.0, 20.0, 30.0, 55.0, 30.0, 40.0], \"textposition\": \"auto\", \"x\": [\"2018/January\", \"2018/February\", \"2018/March\", \"2018/April\", \"2018/May\", \"2018/June\", \"2018/July\", \"2018/August\", \"2018/September\", \"2018/October\", \"2018/November\", \"2018/December\", \"2019/January\", \"2019/February\", \"2019/March\", \"2019/April\", \"2019/May\", \"2019/June\", \"2019/July\", \"2019/August\", \"2019/September\", \"2019/October\", \"2019/November\", \"2019/December\", \"2020/January\", \"2020/February\", \"2020/March\", \"2020/April\", \"2020/May\", \"2020/June\", \"2020/July\", \"2020/August\", \"2020/September\"], \"y\": [22216.0, 20966.0, 27045.0, 16548.0, 17223.0, 19146.0, 17285.0, 19340.0, 20513.0, 18049.0, 16794.0, 20088.0, 14883.0, 13204.0, 14632.0, 10755.0, 11604.0, 11645.0, 11371.0, 12142.0, 10130.0, 13639.0, 12834.0, 13786.0, 9912.0, 8288.0, 8881.0, 10683.0, 7130.0, 6202.0, 6474.0, 6222.0, 6779.0], \"type\": \"bar\", \"uid\": \"71865cc9-b4f6-4839-a9ea-ed819576d8c6\"}, {\"text\": [40.0, 40.0, 40.0, 40.0, 40.0, 40.0, 40.0, 40.0, 40.0, 40.0, 40.0, 40.0, 40.0, 40.0, 40.0, 40.0, 40.0, 40.0, 40.0, 40.0, 40.0, 30.0, 40.0, 40.0, 40.0, 40.0, 40.0, 30.0, 40.0, 40.0, 40.0, 40.0, 20.0], \"textposition\": \"auto\", \"x\": [\"2018/January\", \"2018/February\", \"2018/March\", \"2018/April\", \"2018/May\", \"2018/June\", \"2018/July\", \"2018/August\", \"2018/September\", \"2018/October\", \"2018/November\", \"2018/December\", \"2019/January\", \"2019/February\", \"2019/March\", \"2019/April\", \"2019/May\", \"2019/June\", \"2019/July\", \"2019/August\", \"2019/September\", \"2019/October\", \"2019/November\", \"2019/December\", \"2020/January\", \"2020/February\", \"2020/March\", \"2020/April\", \"2020/May\", \"2020/June\", \"2020/July\", \"2020/August\", \"2020/September\"], \"y\": [33489.0, 31649.0, 36277.0, 27525.0, 25470.0, 25992.0, 24806.0, 24130.0, 23348.0, 24173.0, 25433.0, 28598.0, 22065.0, 18467.0, 21266.0, 18320.0, 15005.0, 16064.0, 14452.0, 15821.0, 12748.0, 14655.0, 14815.0, 18876.0, 15109.0, 12100.0, 13084.0, 14751.0, 9208.0, 9304.0, 9283.0, 8513.0, 7107.0], \"type\": \"bar\", \"uid\": \"d2be651c-4236-4007-b9ef-905364034ac2\"}], {\"barmode\": \"stack\", \"height\": 800, \"width\": 1000}, {\"showLink\": false, \"linkText\": \"Export to plot.ly\", \"plotlyServerURL\": \"https://plot.ly\"}); \n",
       "}\n",
       "});</script>"
      ],
      "text/vnd.plotly.v1+html": [
       "<div id=\"ef50e9a7-60e8-4120-a7ed-e9171a0b1813\" style=\"height: 800px; width: 1000px;\" class=\"plotly-graph-div\"></div><script type=\"text/javascript\">require([\"plotly\"], function(Plotly) { window.PLOTLYENV=window.PLOTLYENV || {};window.PLOTLYENV.BASE_URL=\"https://plot.ly\";\n",
       "if (document.getElementById(\"ef50e9a7-60e8-4120-a7ed-e9171a0b1813\")) {\n",
       "    Plotly.newPlot(\"ef50e9a7-60e8-4120-a7ed-e9171a0b1813\", [{\"text\": [19.0, 19.0, 19.0, 19.0, 19.0, 19.0, 37.0, 19.0, 55.0, 55.0, 28.0, 19.0, 19.0, 19.0, 71.0, 37.0, 37.0, 71.0, 71.0, 19.0, 20.0, 71.0, 55.0, 71.0, 71.0, 20.0, 20.0, 20.0, 55.0, 20.0, 20.0, 19.0, 80.0], \"textposition\": \"auto\", \"x\": [\"2018/January\", \"2018/February\", \"2018/March\", \"2018/April\", \"2018/May\", \"2018/June\", \"2018/July\", \"2018/August\", \"2018/September\", \"2018/October\", \"2018/November\", \"2018/December\", \"2019/January\", \"2019/February\", \"2019/March\", \"2019/April\", \"2019/May\", \"2019/June\", \"2019/July\", \"2019/August\", \"2019/September\", \"2019/October\", \"2019/November\", \"2019/December\", \"2020/January\", \"2020/February\", \"2020/March\", \"2020/April\", \"2020/May\", \"2020/June\", \"2020/July\", \"2020/August\", \"2020/September\"], \"y\": [8983.0, 10095.0, 12327.0, 7656.0, 7280.0, 12206.0, 8623.0, 10488.0, 11480.0, 11852.0, 9529.0, 15818.0, 9282.0, 8687.0, 7717.0, 7704.0, 7177.0, 6712.0, 5976.0, 7439.0, 7147.0, 6547.0, 9809.0, 12185.0, 7869.0, 4915.0, 5399.0, 4768.0, 6353.0, 4687.0, 4034.0, 4667.0, 5149.0], \"type\": \"bar\", \"uid\": \"1be66ee3-5979-4075-a2f1-48dc3829febb\"}, {\"text\": [55.0, 55.0, 55.0, 55.0, 55.0, 55.0, 55.0, 55.0, 19.0, 19.0, 55.0, 55.0, 55.0, 55.0, 55.0, 55.0, 55.0, 55.0, 30.0, 55.0, 55.0, 55.0, 30.0, 30.0, 55.0, 55.0, 30.0, 55.0, 30.0, 55.0, 30.0, 55.0, 30.0], \"textposition\": \"auto\", \"x\": [\"2018/January\", \"2018/February\", \"2018/March\", \"2018/April\", \"2018/May\", \"2018/June\", \"2018/July\", \"2018/August\", \"2018/September\", \"2018/October\", \"2018/November\", \"2018/December\", \"2019/January\", \"2019/February\", \"2019/March\", \"2019/April\", \"2019/May\", \"2019/June\", \"2019/July\", \"2019/August\", \"2019/September\", \"2019/October\", \"2019/November\", \"2019/December\", \"2020/January\", \"2020/February\", \"2020/March\", \"2020/April\", \"2020/May\", \"2020/June\", \"2020/July\", \"2020/August\", \"2020/September\"], \"y\": [12527.0, 11782.0, 13705.0, 11739.0, 12208.0, 13616.0, 14168.0, 14131.0, 18932.0, 14113.0, 11541.0, 16186.0, 10216.0, 9442.0, 11533.0, 9336.0, 9714.0, 10769.0, 10456.0, 11180.0, 8364.0, 9179.0, 10125.0, 12226.0, 9291.0, 8036.0, 7445.0, 7162.0, 6817.0, 6017.0, 5780.0, 6022.0, 5303.0], \"type\": \"bar\", \"uid\": \"775f4042-fabb-49e4-ad23-928c905800cc\"}, {\"text\": [30.0, 30.0, 30.0, 30.0, 30.0, 30.0, 30.0, 30.0, 30.0, 30.0, 30.0, 30.0, 30.0, 30.0, 30.0, 30.0, 30.0, 30.0, 55.0, 30.0, 30.0, 40.0, 20.0, 55.0, 30.0, 30.0, 55.0, 40.0, 20.0, 30.0, 55.0, 30.0, 40.0], \"textposition\": \"auto\", \"x\": [\"2018/January\", \"2018/February\", \"2018/March\", \"2018/April\", \"2018/May\", \"2018/June\", \"2018/July\", \"2018/August\", \"2018/September\", \"2018/October\", \"2018/November\", \"2018/December\", \"2019/January\", \"2019/February\", \"2019/March\", \"2019/April\", \"2019/May\", \"2019/June\", \"2019/July\", \"2019/August\", \"2019/September\", \"2019/October\", \"2019/November\", \"2019/December\", \"2020/January\", \"2020/February\", \"2020/March\", \"2020/April\", \"2020/May\", \"2020/June\", \"2020/July\", \"2020/August\", \"2020/September\"], \"y\": [22216.0, 20966.0, 27045.0, 16548.0, 17223.0, 19146.0, 17285.0, 19340.0, 20513.0, 18049.0, 16794.0, 20088.0, 14883.0, 13204.0, 14632.0, 10755.0, 11604.0, 11645.0, 11371.0, 12142.0, 10130.0, 13639.0, 12834.0, 13786.0, 9912.0, 8288.0, 8881.0, 10683.0, 7130.0, 6202.0, 6474.0, 6222.0, 6779.0], \"type\": \"bar\", \"uid\": \"71865cc9-b4f6-4839-a9ea-ed819576d8c6\"}, {\"text\": [40.0, 40.0, 40.0, 40.0, 40.0, 40.0, 40.0, 40.0, 40.0, 40.0, 40.0, 40.0, 40.0, 40.0, 40.0, 40.0, 40.0, 40.0, 40.0, 40.0, 40.0, 30.0, 40.0, 40.0, 40.0, 40.0, 40.0, 30.0, 40.0, 40.0, 40.0, 40.0, 20.0], \"textposition\": \"auto\", \"x\": [\"2018/January\", \"2018/February\", \"2018/March\", \"2018/April\", \"2018/May\", \"2018/June\", \"2018/July\", \"2018/August\", \"2018/September\", \"2018/October\", \"2018/November\", \"2018/December\", \"2019/January\", \"2019/February\", \"2019/March\", \"2019/April\", \"2019/May\", \"2019/June\", \"2019/July\", \"2019/August\", \"2019/September\", \"2019/October\", \"2019/November\", \"2019/December\", \"2020/January\", \"2020/February\", \"2020/March\", \"2020/April\", \"2020/May\", \"2020/June\", \"2020/July\", \"2020/August\", \"2020/September\"], \"y\": [33489.0, 31649.0, 36277.0, 27525.0, 25470.0, 25992.0, 24806.0, 24130.0, 23348.0, 24173.0, 25433.0, 28598.0, 22065.0, 18467.0, 21266.0, 18320.0, 15005.0, 16064.0, 14452.0, 15821.0, 12748.0, 14655.0, 14815.0, 18876.0, 15109.0, 12100.0, 13084.0, 14751.0, 9208.0, 9304.0, 9283.0, 8513.0, 7107.0], \"type\": \"bar\", \"uid\": \"d2be651c-4236-4007-b9ef-905364034ac2\"}], {\"barmode\": \"stack\", \"height\": 800, \"width\": 1000}, {\"showLink\": false, \"linkText\": \"Export to plot.ly\", \"plotlyServerURL\": \"https://plot.ly\"}); \n",
       "}\n",
       "});</script>"
      ]
     },
     "metadata": {},
     "output_type": "display_data"
    }
   ],
   "source": [
    "df = train.pivot_table(index=['item_category_id'],\n",
    "                       columns=['date_block_num'], values=['item_cnt_day'], aggfunc='sum', fill_value=0)\n",
    "df.columns = df.columns.droplevel(0)\n",
    "\n",
    "months = train['date_block_num'].nunique() - 1\n",
    "n_max = 4\n",
    "\n",
    "for month in range(months):\n",
    "    \n",
    "    if month == 0:\n",
    "        aux = df[[month]].reset_index()\n",
    "        \n",
    "        norm_sum = aux[month].sum() / 100\n",
    "        \n",
    "        aux = aux.nlargest(n=n_max, columns=[month]).sort_values(by=month, ascending=True)\n",
    "        aux.index = pd.RangeIndex(len(aux.index))\n",
    "        \n",
    "        df_n = aux.nlargest(n=n_max, columns=[month]).sort_values(by=month, ascending=True)\n",
    "\n",
    "        df_n[str(month)+'_%'] = df_n.loc[:, month] / norm_sum\n",
    "       \n",
    "    else:\n",
    "        aux = df[[month]].reset_index()\n",
    "        \n",
    "        norm_sum = aux[month].sum() / 100\n",
    "        \n",
    "        aux = aux.nlargest(n=n_max, columns=[month]).sort_values(by=month, ascending=True)\n",
    "        aux.index = pd.RangeIndex(len(aux.index))\n",
    "        \n",
    "        df_n[['item_category_id_'+str(month), month]] = aux.nlargest(n=n_max, columns=[month]).sort_values(by=month, ascending=True) \n",
    "        \n",
    "        df_n[str(month)+'_%'] = df_n.loc[:, month] / norm_sum     \n",
    "        \n",
    "data = df_n.values.reshape((n_max, months, 3))\n",
    "\n",
    "a = pd.date_range(start='1/2018', periods=months, freq='M')\n",
    "\n",
    "date = [ str(a.year[month]) + '/' + str(a.month_name()[month]) for month in range(months)]\n",
    "\n",
    "trace = [ \n",
    "    go.Bar(\n",
    "        x=date,\n",
    "        y=data[i, :, 1],\n",
    "        text=data[i, :, 0],\n",
    "        textposition = 'auto',        \n",
    "    )\n",
    "    for i in range(n_max)]\n",
    "\n",
    "layout = go.Layout(\n",
    "    barmode='stack',\n",
    "    width=1000,\n",
    "    height=800,\n",
    ")\n",
    "\n",
    "fig = go.Figure(data=trace, layout=layout)\n",
    "iplot(fig, filename='stacked-bar')"
   ]
  },
  {
   "cell_type": "markdown",
   "metadata": {},
   "source": [
    "# Apéndice"
   ]
  },
  {
   "cell_type": "code",
   "execution_count": null,
   "metadata": {},
   "outputs": [],
   "source": []
  },
  {
   "cell_type": "markdown",
   "metadata": {},
   "source": [
    "#### <a name=\"nan\"></a> Criando o dataframe com nans para ser visualizado.\n",
    "\n",
    "[Voltar ao notebook](#backnan)\n"
   ]
  },
  {
   "cell_type": "code",
   "execution_count": null,
   "metadata": {},
   "outputs": [],
   "source": [
    "a = np.zeros((10,4))\n",
    "a[4, :] = np.nan\n",
    "a[8, :] = np.nan\n",
    "\n",
    "a = pd.DataFrame(a)"
   ]
  },
  {
   "cell_type": "code",
   "execution_count": null,
   "metadata": {},
   "outputs": [],
   "source": [
    "msno.matrix(a)"
   ]
  },
  {
   "cell_type": "markdown",
   "metadata": {},
   "source": [
    "Mapa de correlações dos nans."
   ]
  },
  {
   "cell_type": "code",
   "execution_count": null,
   "metadata": {},
   "outputs": [],
   "source": [
    "msno.heatmap(a)\n",
    "plt.show()"
   ]
  },
  {
   "cell_type": "markdown",
   "metadata": {},
   "source": [
    "# Referências"
   ]
  },
  {
   "cell_type": "markdown",
   "metadata": {},
   "source": []
  }
 ],
 "metadata": {
  "kernelspec": {
   "display_name": "Python 3",
   "language": "python",
   "name": "python3"
  },
  "language_info": {
   "codemirror_mode": {
    "name": "ipython",
    "version": 3
   },
   "file_extension": ".py",
   "mimetype": "text/x-python",
   "name": "python",
   "nbconvert_exporter": "python",
   "pygments_lexer": "ipython3",
   "version": "3.6.8"
  }
 },
 "nbformat": 4,
 "nbformat_minor": 2
}
