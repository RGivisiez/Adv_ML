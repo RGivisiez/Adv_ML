{
 "cells": [
  {
   "cell_type": "markdown",
   "metadata": {},
   "source": [
    "# Criando features\n",
    "\n",
    "- Esse notebook é o continuação do [1. EDA](1.%20EDA.ipynb)"
   ]
  },
  {
   "cell_type": "markdown",
   "metadata": {},
   "source": [
    "# Ìndice\n",
    "1. Resumo e objetivo.\n",
    "2. [Features Básicas](#Features-Básicas).\n",
    "3. [Criando Features Novas](#Criando-Features-Novas).\n",
    "4. [Apêndice](#Apêndice)\n",
    "5. [Referências](#Referências)"
   ]
  },
  {
   "cell_type": "markdown",
   "metadata": {},
   "source": [
    "### Coisas a serem feitas:\n",
    "\n",
    "- [ ] Colocar todas as referências.\n",
    "    - [ ] [Falta a do Machine Learning Mastery.](#Referência)\n",
    "    - [ ] [Referência do algoritmo](#back2)\n",
    "- Colocar as outras featues.\n",
    "    - [ ] Lagged.  \n",
    "    - [ ] Meses.  \n",
    "    - [ ] Médias. \n",
    "- [ ] Explicar Lagged.\n",
    "    - Explicar o descarte dos Nan's."
   ]
  },
  {
   "cell_type": "code",
   "execution_count": 57,
   "metadata": {},
   "outputs": [],
   "source": [
    "import pandas as pd\n",
    "import numpy as np\n",
    "\n",
    "from sklearn.preprocessing import LabelEncoder"
   ]
  },
  {
   "cell_type": "code",
   "execution_count": 58,
   "metadata": {},
   "outputs": [],
   "source": [
    "path = 'data'"
   ]
  },
  {
   "cell_type": "markdown",
   "metadata": {},
   "source": [
    "# Carregando os arquivos"
   ]
  },
  {
   "cell_type": "code",
   "execution_count": 59,
   "metadata": {},
   "outputs": [],
   "source": [
    "train = pd.read_csv(path + '/sales_train.csv.gz')\n",
    "test = pd.read_csv(path + '/test.csv.gz').set_index('ID')\n",
    "items = pd.read_csv(path + '/items.csv')\n",
    "items_cat = pd.read_csv(path + '/item_categories.csv')\n",
    "shops = pd.read_csv(path + '/shops.csv')"
   ]
  },
  {
   "cell_type": "markdown",
   "metadata": {},
   "source": [
    "# Features Básicas"
   ]
  },
  {
   "cell_type": "markdown",
   "metadata": {},
   "source": [
    "#### A feature categórica shop_name, também possui informação sobre localização e tipos dos shoppings.\n",
    "\n",
    "- Адыгея ТЦ \"Мега\"         => Adygea shopping center \"Mega\"\t\n",
    "- Волжский ТЦ \"Волга Молл\" => Volzhsky shopping center \"Volga Mall\"\n",
    "- Вологда ТРЦ \"Мармелад\"   => Shopping center Vologda \"Marmalade\"\t\n",
    "- Якутск ТЦ \"Центральный\"  => Centro comercial Yakutsk \"Central\"\t\n",
    "- Ярославль ТЦ \"Альтаир\"   => Centro comercial Yaroslavl \"Altair\""
   ]
  },
  {
   "cell_type": "code",
   "execution_count": 60,
   "metadata": {},
   "outputs": [
    {
     "name": "stdout",
     "output_type": "stream",
     "text": [
      "Nome das cidades:\n",
      " 0      Якутск\n",
      "1      Якутск\n",
      "2      Адыгея\n",
      "3    Балашиха\n",
      "4    Волжский\n",
      "Name: city, dtype: object\n"
     ]
    }
   ],
   "source": [
    "# Corrigindo uma entrada.\n",
    "shops.loc[shops.shop_name == 'Сергиев Посад ТЦ \"7Я\"', 'shop_name'] = 'СергиевПосад ТЦ \"7Я\"'\n",
    "\n",
    "# Separando as palavras (split) e escolhendo a primeira (map(lambda x: x[0])).\n",
    "shops['city'] = shops['shop_name'].str.split(' ').map(lambda x: x[0])\n",
    "\n",
    "#Corringindo um nome.\n",
    "shops.loc[shops.city == '!Якутск', 'city'] = 'Якутск'\n",
    "\n",
    "print('Nome das cidades:\\n',shops['city'].head())"
   ]
  },
  {
   "cell_type": "markdown",
   "metadata": {},
   "source": [
    "> ### Obs.:\n",
    "> Note que é possível retirar mais informações dos nomes, como o tipo de estabelecimento (Shopping, Centro comercial, e etc), o tipo do shopping (Volga Mall) e até mesmo a localização na cidade (Central)."
   ]
  },
  {
   "cell_type": "markdown",
   "metadata": {},
   "source": [
    "<a name=\"back1\"></a> Apesar de termos as localizações separadas, a maioria dos algoritmos só enchergam números, sendo o XGboost uma excessão. Então, temos que rotular cada nome de cidade com um número.\n",
    "\n",
    "Deixei um exemplo simples [aqui](#go1) para quem ainda está começando."
   ]
  },
  {
   "cell_type": "code",
   "execution_count": 61,
   "metadata": {},
   "outputs": [
    {
     "data": {
      "text/html": [
       "<div>\n",
       "<style scoped>\n",
       "    .dataframe tbody tr th:only-of-type {\n",
       "        vertical-align: middle;\n",
       "    }\n",
       "\n",
       "    .dataframe tbody tr th {\n",
       "        vertical-align: top;\n",
       "    }\n",
       "\n",
       "    .dataframe thead th {\n",
       "        text-align: right;\n",
       "    }\n",
       "</style>\n",
       "<table border=\"1\" class=\"dataframe\">\n",
       "  <thead>\n",
       "    <tr style=\"text-align: right;\">\n",
       "      <th></th>\n",
       "      <th>shop_id</th>\n",
       "      <th>city_code</th>\n",
       "    </tr>\n",
       "  </thead>\n",
       "  <tbody>\n",
       "    <tr>\n",
       "      <th>0</th>\n",
       "      <td>0</td>\n",
       "      <td>29</td>\n",
       "    </tr>\n",
       "    <tr>\n",
       "      <th>1</th>\n",
       "      <td>1</td>\n",
       "      <td>29</td>\n",
       "    </tr>\n",
       "    <tr>\n",
       "      <th>2</th>\n",
       "      <td>2</td>\n",
       "      <td>0</td>\n",
       "    </tr>\n",
       "    <tr>\n",
       "      <th>3</th>\n",
       "      <td>3</td>\n",
       "      <td>1</td>\n",
       "    </tr>\n",
       "    <tr>\n",
       "      <th>4</th>\n",
       "      <td>4</td>\n",
       "      <td>2</td>\n",
       "    </tr>\n",
       "  </tbody>\n",
       "</table>\n",
       "</div>"
      ],
      "text/plain": [
       "   shop_id  city_code\n",
       "0        0         29\n",
       "1        1         29\n",
       "2        2          0\n",
       "3        3          1\n",
       "4        4          2"
      ]
     },
     "execution_count": 61,
     "metadata": {},
     "output_type": "execute_result"
    }
   ],
   "source": [
    "shops['city_code'] = LabelEncoder().fit_transform(shops['city'])\n",
    "shops.drop(['shop_name', 'city'], axis='columns', inplace=True)\n",
    "shops.head()"
   ]
  },
  {
   "cell_type": "markdown",
   "metadata": {},
   "source": [
    "#### O mesmo procedimento vai ser realizado para os nomes das categorias. Vamos dividi-las em dois tipo e subtipo, como por exemplo:\n",
    "    - Аксессуары - PS2 => Tipo: Acessórios / Subtipo: PS2.\n",
    "    \n",
    "Da mesma forma iremos colocar rótulos em cada um dos tipos e subtipos."
   ]
  },
  {
   "cell_type": "code",
   "execution_count": 62,
   "metadata": {},
   "outputs": [
    {
     "data": {
      "text/html": [
       "<div>\n",
       "<style scoped>\n",
       "    .dataframe tbody tr th:only-of-type {\n",
       "        vertical-align: middle;\n",
       "    }\n",
       "\n",
       "    .dataframe tbody tr th {\n",
       "        vertical-align: top;\n",
       "    }\n",
       "\n",
       "    .dataframe thead th {\n",
       "        text-align: right;\n",
       "    }\n",
       "</style>\n",
       "<table border=\"1\" class=\"dataframe\">\n",
       "  <thead>\n",
       "    <tr style=\"text-align: right;\">\n",
       "      <th></th>\n",
       "      <th>item_category_name</th>\n",
       "      <th>item_category_id</th>\n",
       "      <th>split</th>\n",
       "      <th>type</th>\n",
       "      <th>type_code</th>\n",
       "      <th>subtype</th>\n",
       "      <th>subtype_code</th>\n",
       "    </tr>\n",
       "  </thead>\n",
       "  <tbody>\n",
       "    <tr>\n",
       "      <th>0</th>\n",
       "      <td>PC - Гарнитуры/Наушники</td>\n",
       "      <td>0</td>\n",
       "      <td>[PC ,  Гарнитуры/Наушники]</td>\n",
       "      <td>PC</td>\n",
       "      <td>0</td>\n",
       "      <td>Гарнитуры/Наушники</td>\n",
       "      <td>29</td>\n",
       "    </tr>\n",
       "    <tr>\n",
       "      <th>1</th>\n",
       "      <td>Аксессуары - PS2</td>\n",
       "      <td>1</td>\n",
       "      <td>[Аксессуары ,  PS2]</td>\n",
       "      <td>Аксессуары</td>\n",
       "      <td>1</td>\n",
       "      <td>PS2</td>\n",
       "      <td>9</td>\n",
       "    </tr>\n",
       "    <tr>\n",
       "      <th>2</th>\n",
       "      <td>Аксессуары - PS3</td>\n",
       "      <td>2</td>\n",
       "      <td>[Аксессуары ,  PS3]</td>\n",
       "      <td>Аксессуары</td>\n",
       "      <td>1</td>\n",
       "      <td>PS3</td>\n",
       "      <td>10</td>\n",
       "    </tr>\n",
       "    <tr>\n",
       "      <th>3</th>\n",
       "      <td>Аксессуары - PS4</td>\n",
       "      <td>3</td>\n",
       "      <td>[Аксессуары ,  PS4]</td>\n",
       "      <td>Аксессуары</td>\n",
       "      <td>1</td>\n",
       "      <td>PS4</td>\n",
       "      <td>11</td>\n",
       "    </tr>\n",
       "    <tr>\n",
       "      <th>4</th>\n",
       "      <td>Аксессуары - PSP</td>\n",
       "      <td>4</td>\n",
       "      <td>[Аксессуары ,  PSP]</td>\n",
       "      <td>Аксессуары</td>\n",
       "      <td>1</td>\n",
       "      <td>PSP</td>\n",
       "      <td>13</td>\n",
       "    </tr>\n",
       "  </tbody>\n",
       "</table>\n",
       "</div>"
      ],
      "text/plain": [
       "        item_category_name  item_category_id                       split  \\\n",
       "0  PC - Гарнитуры/Наушники                 0  [PC ,  Гарнитуры/Наушники]   \n",
       "1         Аксессуары - PS2                 1         [Аксессуары ,  PS2]   \n",
       "2         Аксессуары - PS3                 2         [Аксессуары ,  PS3]   \n",
       "3         Аксессуары - PS4                 3         [Аксессуары ,  PS4]   \n",
       "4         Аксессуары - PSP                 4         [Аксессуары ,  PSP]   \n",
       "\n",
       "         type  type_code             subtype  subtype_code  \n",
       "0          PC          0  Гарнитуры/Наушники            29  \n",
       "1  Аксессуары          1                 PS2             9  \n",
       "2  Аксессуары          1                 PS3            10  \n",
       "3  Аксессуары          1                 PS4            11  \n",
       "4  Аксессуары          1                 PSP            13  "
      ]
     },
     "execution_count": 62,
     "metadata": {},
     "output_type": "execute_result"
    }
   ],
   "source": [
    "# Separando as duas categorias.\n",
    "items_cat['split'] = items_cat['item_category_name'].str.split('-')\n",
    "\n",
    "# Criando uma coluna só com o tipo e depois criando os rótulos.\n",
    "items_cat['type'] = items_cat['split'].map(lambda x: x[0].strip())\n",
    "items_cat['type_code'] = LabelEncoder().fit_transform(items_cat['type'])\n",
    "\n",
    "# Criando uma coluna só com o subtipo e depois criando os rótulos.\n",
    "items_cat['subtype'] = items_cat['split'].map(lambda x: x[1].strip() if len(x) > 1 else x[0].strip())\n",
    "items_cat['subtype_code'] = LabelEncoder().fit_transform(items_cat['subtype'])\n",
    "\n",
    "items_cat.head()"
   ]
  },
  {
   "cell_type": "code",
   "execution_count": 63,
   "metadata": {},
   "outputs": [
    {
     "data": {
      "text/html": [
       "<div>\n",
       "<style scoped>\n",
       "    .dataframe tbody tr th:only-of-type {\n",
       "        vertical-align: middle;\n",
       "    }\n",
       "\n",
       "    .dataframe tbody tr th {\n",
       "        vertical-align: top;\n",
       "    }\n",
       "\n",
       "    .dataframe thead th {\n",
       "        text-align: right;\n",
       "    }\n",
       "</style>\n",
       "<table border=\"1\" class=\"dataframe\">\n",
       "  <thead>\n",
       "    <tr style=\"text-align: right;\">\n",
       "      <th></th>\n",
       "      <th>item_category_id</th>\n",
       "      <th>type_code</th>\n",
       "      <th>subtype_code</th>\n",
       "    </tr>\n",
       "  </thead>\n",
       "  <tbody>\n",
       "    <tr>\n",
       "      <th>0</th>\n",
       "      <td>0</td>\n",
       "      <td>0</td>\n",
       "      <td>29</td>\n",
       "    </tr>\n",
       "    <tr>\n",
       "      <th>1</th>\n",
       "      <td>1</td>\n",
       "      <td>1</td>\n",
       "      <td>9</td>\n",
       "    </tr>\n",
       "    <tr>\n",
       "      <th>2</th>\n",
       "      <td>2</td>\n",
       "      <td>1</td>\n",
       "      <td>10</td>\n",
       "    </tr>\n",
       "    <tr>\n",
       "      <th>3</th>\n",
       "      <td>3</td>\n",
       "      <td>1</td>\n",
       "      <td>11</td>\n",
       "    </tr>\n",
       "    <tr>\n",
       "      <th>4</th>\n",
       "      <td>4</td>\n",
       "      <td>1</td>\n",
       "      <td>13</td>\n",
       "    </tr>\n",
       "  </tbody>\n",
       "</table>\n",
       "</div>"
      ],
      "text/plain": [
       "   item_category_id  type_code  subtype_code\n",
       "0                 0          0            29\n",
       "1                 1          1             9\n",
       "2                 2          1            10\n",
       "3                 3          1            11\n",
       "4                 4          1            13"
      ]
     },
     "execution_count": 63,
     "metadata": {},
     "output_type": "execute_result"
    }
   ],
   "source": [
    "# Retirando colunas que não tem mais utilidade.\n",
    "items_cat.drop(['item_category_name', 'split', 'type', 'subtype'], axis='columns', inplace=True)\n",
    "items_cat.head()"
   ]
  },
  {
   "cell_type": "markdown",
   "metadata": {},
   "source": [
    "Vou retirar duas colunas dos bancos de dados, item_name e date. As datas não vão ser precisas porque vou utilizar somente os meses e para isso já temos a coluna date_block_num. O nome dos itens provavelmente tem alguma coisa interessante, mais vai ser muito complicado separar algum informação útil de lá."
   ]
  },
  {
   "cell_type": "code",
   "execution_count": 66,
   "metadata": {},
   "outputs": [],
   "source": [
    "items.drop(['item_name'], axis=1, inplace=True)"
   ]
  },
  {
   "cell_type": "code",
   "execution_count": 67,
   "metadata": {},
   "outputs": [],
   "source": [
    "train.drop(['date'], axis='columns', inplace=True)"
   ]
  },
  {
   "cell_type": "markdown",
   "metadata": {},
   "source": [
    "# Criando Features Novas"
   ]
  },
  {
   "cell_type": "markdown",
   "metadata": {},
   "source": [
    "Criar features é uma das coisas mais importantes a se fazer. Uma boa feature ajuda o modelo a fazer melhores previsões. Vou abordar a construção das seguintes features:\n",
    "\n",
    "- Revenue.\n",
    "- Lagged.  \n",
    "- Meses.  \n",
    "- Médias."
   ]
  },
  {
   "cell_type": "markdown",
   "metadata": {},
   "source": [
    "A feature mais básica de todas é a receita (Dinheiro total ganho por item vendido)."
   ]
  },
  {
   "cell_type": "code",
   "execution_count": 73,
   "metadata": {},
   "outputs": [],
   "source": [
    "train['revenue'] = train['item_price'] * train['item_cnt_day']"
   ]
  },
  {
   "cell_type": "markdown",
   "metadata": {},
   "source": [
    "Uma lagged feature é obtida ao atrasarmos ou adiantarmos a sequência daquela feature. Como exemplo,\n",
    "\n",
    "| Vendas_lag1   | Vendas   |\n",
    "|----------|:------------- |\n",
    "| 1 |  Nan |\n",
    "| 2 |    1   |\n",
    "| 3 | 2 |\n",
    "\n",
    "a ideia por trás do de fazermos essa transformação, é dar ao algoritmo a oportunidade de fazer escolhas como:\n",
    "- O número de vendas desse mês é o mesmo número do mês passado.\n",
    "- Dependendo do tamanho do lag, no exemplo o lag foi de 1, é possível que ele aprenda sobre sazonalidade. Ele pode passar a entender que no Natal o número de vendas é maior."
   ]
  },
  {
   "cell_type": "code",
   "execution_count": null,
   "metadata": {},
   "outputs": [],
   "source": []
  },
  {
   "cell_type": "markdown",
   "metadata": {},
   "source": [
    "<a name=\"back2\"></a> Vou utilizar uma função criada por mim para produzir as lagged variables ([time_shift](#lagged)). Essa função foi inspirada em outra utilizada neste site [ML](), que é um ótimo site para se aprender sobre Machine Learning."
   ]
  },
  {
   "cell_type": "code",
   "execution_count": null,
   "metadata": {},
   "outputs": [],
   "source": []
  },
  {
   "cell_type": "code",
   "execution_count": null,
   "metadata": {},
   "outputs": [],
   "source": []
  },
  {
   "cell_type": "markdown",
   "metadata": {},
   "source": [
    "# Apêndice"
   ]
  },
  {
   "cell_type": "markdown",
   "metadata": {},
   "source": [
    "<a name=\"go1\"></a>No código abaixo, x vai guardar a relações entre os rótulos,\n",
    "-  Ex.: a = 1, b = 2, e etc.\n",
    "\n",
    "Isso é importante se quisermos fazer a transformação reversa.\n",
    "\n",
    "[Voltar ao notebook](#back1)"
   ]
  },
  {
   "cell_type": "code",
   "execution_count": 49,
   "metadata": {},
   "outputs": [
    {
     "name": "stdout",
     "output_type": "stream",
     "text": [
      "Categorias ['a', 'b', 'c', 'd']\n",
      "Rótulos: [0 1 2 3]\n",
      "Invertendo a transformação: ['a' 'b' 'c' 'd']\n"
     ]
    }
   ],
   "source": [
    "x = LabelEncoder()\n",
    "\n",
    "vetor_normal = ['a','b','c','d']\n",
    "\n",
    "vetor_transformado = x.fit_transform(vetor_normal)\n",
    "\n",
    "print('Categorias', vetor_normal)\n",
    "print('Rótulos:', vetor_transformado)\n",
    "\n",
    "voltando = x.inverse_transform(vetor_transformado)\n",
    "\n",
    "print('Invertendo a transformação:', voltando)"
   ]
  },
  {
   "cell_type": "markdown",
   "metadata": {},
   "source": [
    "----------------------------------------"
   ]
  },
  {
   "cell_type": "markdown",
   "metadata": {},
   "source": [
    "### <a name=\"lagged\"></a> Código para gerar e organizar as variáveis com lag.\n",
    "\n",
    "[Voltar ao notebook](#back2)"
   ]
  },
  {
   "cell_type": "code",
   "execution_count": 72,
   "metadata": {},
   "outputs": [],
   "source": [
    "def time_shift(df, lags, dropnan=True):\n",
    "    \n",
    "    '''\n",
    "    Adiciona novas colunas deslocadas no tempo.\n",
    "    Argumentos:\n",
    "    \n",
    "        df: Pandas DataFrame.\n",
    "        \n",
    "        lags: lista com o número de passos\n",
    "               a ser deslocado.\n",
    "               \n",
    "        dropnan: (True) Retira as linhas que\n",
    "                teham Nan's.\n",
    "                \n",
    "    Retorna:\n",
    "        Pandas DataFrame com as colunas deslocadas.\n",
    "    '''\n",
    "    lags.append(0)\n",
    "    lags = -1 * np.sort(lags)\n",
    "    \n",
    "    columns = [str(df.name)] if type(df) is pd.Series else df.columns\n",
    "    col = []\n",
    "    \n",
    "    for column in columns:\n",
    "        for lag in lags: \n",
    "            \n",
    "            if lag == 0:\n",
    "                new_column = column \n",
    "                col.append(new_column)\n",
    "            else:\n",
    "                new_column = column + '_lag(' + str(-1 * lag) + ')'\n",
    "                col.append(new_column)\n",
    "                df[new_column] = df[column].shift(lag)\n",
    "                \n",
    "    if dropnan:\n",
    "        df.dropna(inplace=True)\n",
    "        \n",
    "    return df[col]"
   ]
  },
  {
   "cell_type": "markdown",
   "metadata": {},
   "source": [
    "----------------------------------------"
   ]
  },
  {
   "cell_type": "code",
   "execution_count": 74,
   "metadata": {},
   "outputs": [],
   "source": [
    "def fit_column_scaler_min_max(minval, maxval, dataframe):\n",
    "    \n",
    "    columns = dataframe.columns\n",
    "    \n",
    "    scaler = { column : MinMaxScaler(feature_range=(minval, maxval))\n",
    "              for column in columns}\n",
    "    \n",
    "    scaler_fit = [scaler[column].fit_transform(dataframe[[column]])\n",
    "                  for column in columns]\n",
    "    \n",
    "    for idx, column in enumerate(columns):\n",
    "        dataframe[column] = scaler_fit[idx]\n",
    "        \n",
    "    return dataframe, scaler"
   ]
  },
  {
   "cell_type": "markdown",
   "metadata": {},
   "source": [
    "# Referências\n",
    "1. **Muitas das features craidas neste notebook foram retiradas deste [kernel](https://www.kaggle.com/dlarionov/feature-engineering-xgboost).**\n",
    "2. **Site de onde tirei as informações sobre lagged variables. [Machine Learning Mastery]()**"
   ]
  }
 ],
 "metadata": {
  "kernelspec": {
   "display_name": "Python 3",
   "language": "python",
   "name": "python3"
  },
  "language_info": {
   "codemirror_mode": {
    "name": "ipython",
    "version": 3
   },
   "file_extension": ".py",
   "mimetype": "text/x-python",
   "name": "python",
   "nbconvert_exporter": "python",
   "pygments_lexer": "ipython3",
   "version": "3.6.8"
  }
 },
 "nbformat": 4,
 "nbformat_minor": 2
}
