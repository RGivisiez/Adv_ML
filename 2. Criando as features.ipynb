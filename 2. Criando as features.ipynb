{
 "cells": [
  {
   "cell_type": "markdown",
   "metadata": {},
   "source": [
    "# Criando features\n",
    "\n",
    "- Esse notebook é a continuação do [1. EDA](1.%20EDA.ipynb)"
   ]
  },
  {
   "cell_type": "markdown",
   "metadata": {},
   "source": [
    "# Ìndice\n",
    "1. [Resumo e objetivo](#Resumo-e-Objetivo)\n",
    "- [Features Básicas](#Features-Básicas)\n",
    "    - [Feature shop_name](#Features-shop_name)\n",
    "    - [Feature category_id](#Features-category_id)\n",
    "    - [Retirando item_name e date](#Retirando-item_name-e-date)\n",
    "- [Criando Features Novas](#Criando-Features-Novas)\n",
    "    - [Revenue](#Revenue)\n",
    "    - [Semestre e ano](#Semestre-e-ano)  \n",
    "    - [Médias mensais](#Médias-mensais)\n",
    "        - [Média por loja](#Média-por-loja)\n",
    "        -  [Média por item](#Média-por-item)\n",
    "        -  [Média dos itens por loja](#Média-dos-itens-por-loja)\n",
    "    - [Lagged Variables](#Lagged-Variables) (Em construção)\n",
    "    - [Latitude e Longitude](#Latitude-e-Longitude)\n",
    "    - [Unindo os dataframes](#unindo)\n",
    "- [Apêndice](#Apêndice)\n",
    "- [Referências](#Referências)"
   ]
  },
  {
   "cell_type": "markdown",
   "metadata": {},
   "source": [
    "### Coisas a serem feitas:\n",
    "- [ ] **Comentar o código e deixar as variáveis mais fáceis de serem lidas.**\n",
    "- Colocar as outras featues.\n",
    "    - [ ] Lagged. [1](https://machinelearningmastery.com/multivariate-time-series-forecasting-lstms-keras/) [2](https://machinelearningmastery.com/convert-time-series-supervised-learning-problem-python/)\n",
    "    - [x] Meses.  \n",
    "    - [ ] Médias.\n",
    "        - [ ] Fazer a média do item_cnt por loja por item.\n",
    "        - [ ] Fazer a média do item_cnt por categória.\n",
    "- [ ] Tem que melhorar muito a explicação das laggeds.\n",
    "- [ ] Unir os dataframes."
   ]
  },
  {
   "cell_type": "markdown",
   "metadata": {},
   "source": [
    "# Carregando os arquivos"
   ]
  },
  {
   "cell_type": "code",
   "execution_count": 18,
   "metadata": {},
   "outputs": [],
   "source": [
    "import pandas as pd\n",
    "import numpy as np\n",
    "\n",
    "from sklearn.preprocessing import LabelEncoder\n",
    "from sklearn.preprocessing import OneHotEncoder\n",
    "\n",
    "path = 'data'\n",
    "\n",
    "train = pd.read_csv(path + '/sales_train.csv.gz')\n",
    "test = pd.read_csv(path + '/test.csv.gz').set_index('ID')\n",
    "items = pd.read_csv(path + '/items.csv')\n",
    "items_cat = pd.read_csv(path + '/item_categories.csv')\n",
    "shops = pd.read_csv(path + '/shops.csv')"
   ]
  },
  {
   "cell_type": "markdown",
   "metadata": {},
   "source": [
    "# Resumo e objetivo"
   ]
  },
  {
   "cell_type": "markdown",
   "metadata": {},
   "source": [
    "Neste notebook nos vamos criar várias features novas e depois vamos voltar em [1. EDA](1.%20EDA.ipynb) e tentar extrair alguma informação."
   ]
  },
  {
   "cell_type": "markdown",
   "metadata": {},
   "source": [
    "# Features Básicas\n",
    "\n",
    "- [Feature shop_name](#Features-shop_name)\n",
    "- [Feature category_id](#Features-category_id)\n",
    "- [Retirando item_name e date](#Retirando-item_name-e-date)"
   ]
  },
  {
   "cell_type": "markdown",
   "metadata": {},
   "source": [
    "### Features shop_name"
   ]
  },
  {
   "cell_type": "markdown",
   "metadata": {},
   "source": [
    "A feature categórica shop_name, também possui informação sobre localização e tipos de lojas.\n",
    "\n",
    "- Адыгея ТЦ \"Мега\"         => Adygea shopping center \"Mega\"\t\n",
    "- Волжский ТЦ \"Волга Молл\" => Volzhsky shopping center \"Volga Mall\"\n",
    "- Вологда ТРЦ \"Мармелад\"   => Shopping center Vologda \"Marmalade\"\t\n",
    "- Якутск ТЦ \"Центральный\"  => Centro comercial Yakutsk \"Central\"\t\n",
    "- Ярославль ТЦ \"Альтаир\"   => Centro comercial Yaroslavl \"Altair\""
   ]
  },
  {
   "cell_type": "code",
   "execution_count": 19,
   "metadata": {},
   "outputs": [
    {
     "name": "stdout",
     "output_type": "stream",
     "text": [
      "Nome das cidades:\n",
      " 0      Якутск\n",
      "1      Якутск\n",
      "2      Адыгея\n",
      "3    Балашиха\n",
      "4    Волжский\n",
      "Name: city, dtype: object\n"
     ]
    }
   ],
   "source": [
    "# Corrigindo uma entrada.\n",
    "shops.loc[shops.shop_name == 'Сергиев Посад ТЦ \"7Я\"', 'shop_name'] = 'СергиевПосад ТЦ \"7Я\"'\n",
    "\n",
    "# Separando as palavras (split) e escolhendo a primeira (map(lambda x: x[0])).\n",
    "shops['city'] = shops['shop_name'].str.split(' ').map(lambda x: x[0])\n",
    "\n",
    "#Corringindo um nome.\n",
    "shops.loc[shops.city == '!Якутск', 'city'] = 'Якутск'\n",
    "\n",
    "print('Nome das cidades:\\n',shops['city'].head())"
   ]
  },
  {
   "cell_type": "markdown",
   "metadata": {},
   "source": [
    "> ### Obs.:\n",
    "> Note que é possível retirar mais informações dos nomes, como o tipo de estabelecimento (Shopping, Centro comercial, e etc), o tipo do shopping (Volga Mall) e até mesmo a localização na cidade (Central)."
   ]
  },
  {
   "cell_type": "markdown",
   "metadata": {},
   "source": [
    "Apesar de termos as localizações separadas, a maioria dos algoritmos só enchergam números, sendo o XGboost uma excessão. Então, temos que rotular cada nome de cidade com um número.\n",
    "\n",
    "<a name=\"back1\"></a> Deixei um exemplo simples [aqui](#go1) de como fazer isso para quem ainda está começando."
   ]
  },
  {
   "cell_type": "code",
   "execution_count": 20,
   "metadata": {},
   "outputs": [
    {
     "data": {
      "text/html": [
       "<div>\n",
       "<style scoped>\n",
       "    .dataframe tbody tr th:only-of-type {\n",
       "        vertical-align: middle;\n",
       "    }\n",
       "\n",
       "    .dataframe tbody tr th {\n",
       "        vertical-align: top;\n",
       "    }\n",
       "\n",
       "    .dataframe thead th {\n",
       "        text-align: right;\n",
       "    }\n",
       "</style>\n",
       "<table border=\"1\" class=\"dataframe\">\n",
       "  <thead>\n",
       "    <tr style=\"text-align: right;\">\n",
       "      <th></th>\n",
       "      <th>shop_name</th>\n",
       "      <th>shop_id</th>\n",
       "      <th>city</th>\n",
       "      <th>city_code</th>\n",
       "    </tr>\n",
       "  </thead>\n",
       "  <tbody>\n",
       "    <tr>\n",
       "      <th>0</th>\n",
       "      <td>!Якутск Орджоникидзе, 56 фран</td>\n",
       "      <td>0</td>\n",
       "      <td>Якутск</td>\n",
       "      <td>29</td>\n",
       "    </tr>\n",
       "    <tr>\n",
       "      <th>1</th>\n",
       "      <td>!Якутск ТЦ \"Центральный\" фран</td>\n",
       "      <td>1</td>\n",
       "      <td>Якутск</td>\n",
       "      <td>29</td>\n",
       "    </tr>\n",
       "    <tr>\n",
       "      <th>2</th>\n",
       "      <td>Адыгея ТЦ \"Мега\"</td>\n",
       "      <td>2</td>\n",
       "      <td>Адыгея</td>\n",
       "      <td>0</td>\n",
       "    </tr>\n",
       "    <tr>\n",
       "      <th>3</th>\n",
       "      <td>Балашиха ТРК \"Октябрь-Киномир\"</td>\n",
       "      <td>3</td>\n",
       "      <td>Балашиха</td>\n",
       "      <td>1</td>\n",
       "    </tr>\n",
       "    <tr>\n",
       "      <th>4</th>\n",
       "      <td>Волжский ТЦ \"Волга Молл\"</td>\n",
       "      <td>4</td>\n",
       "      <td>Волжский</td>\n",
       "      <td>2</td>\n",
       "    </tr>\n",
       "  </tbody>\n",
       "</table>\n",
       "</div>"
      ],
      "text/plain": [
       "                        shop_name  shop_id      city  city_code\n",
       "0   !Якутск Орджоникидзе, 56 фран        0    Якутск         29\n",
       "1   !Якутск ТЦ \"Центральный\" фран        1    Якутск         29\n",
       "2                Адыгея ТЦ \"Мега\"        2    Адыгея          0\n",
       "3  Балашиха ТРК \"Октябрь-Киномир\"        3  Балашиха          1\n",
       "4        Волжский ТЦ \"Волга Молл\"        4  Волжский          2"
      ]
     },
     "execution_count": 20,
     "metadata": {},
     "output_type": "execute_result"
    }
   ],
   "source": [
    "shops['city_code'] = LabelEncoder().fit_transform(shops['city'])\n",
    "shops.head()"
   ]
  },
  {
   "cell_type": "code",
   "execution_count": 21,
   "metadata": {},
   "outputs": [
    {
     "data": {
      "text/html": [
       "<div>\n",
       "<style scoped>\n",
       "    .dataframe tbody tr th:only-of-type {\n",
       "        vertical-align: middle;\n",
       "    }\n",
       "\n",
       "    .dataframe tbody tr th {\n",
       "        vertical-align: top;\n",
       "    }\n",
       "\n",
       "    .dataframe thead th {\n",
       "        text-align: right;\n",
       "    }\n",
       "</style>\n",
       "<table border=\"1\" class=\"dataframe\">\n",
       "  <thead>\n",
       "    <tr style=\"text-align: right;\">\n",
       "      <th></th>\n",
       "      <th>shop_id</th>\n",
       "      <th>city_code</th>\n",
       "    </tr>\n",
       "  </thead>\n",
       "  <tbody>\n",
       "    <tr>\n",
       "      <th>0</th>\n",
       "      <td>0</td>\n",
       "      <td>29</td>\n",
       "    </tr>\n",
       "    <tr>\n",
       "      <th>1</th>\n",
       "      <td>1</td>\n",
       "      <td>29</td>\n",
       "    </tr>\n",
       "    <tr>\n",
       "      <th>2</th>\n",
       "      <td>2</td>\n",
       "      <td>0</td>\n",
       "    </tr>\n",
       "    <tr>\n",
       "      <th>3</th>\n",
       "      <td>3</td>\n",
       "      <td>1</td>\n",
       "    </tr>\n",
       "    <tr>\n",
       "      <th>4</th>\n",
       "      <td>4</td>\n",
       "      <td>2</td>\n",
       "    </tr>\n",
       "  </tbody>\n",
       "</table>\n",
       "</div>"
      ],
      "text/plain": [
       "   shop_id  city_code\n",
       "0        0         29\n",
       "1        1         29\n",
       "2        2          0\n",
       "3        3          1\n",
       "4        4          2"
      ]
     },
     "execution_count": 21,
     "metadata": {},
     "output_type": "execute_result"
    }
   ],
   "source": [
    "shops.drop(['shop_name', 'city'], axis='columns', inplace=True)\n",
    "shops.head()"
   ]
  },
  {
   "cell_type": "markdown",
   "metadata": {},
   "source": [
    "### Feature category_id"
   ]
  },
  {
   "cell_type": "markdown",
   "metadata": {},
   "source": [
    "O mesmo procedimento vai ser realizado para os nomes das categorias. Vamos dividi-las em duas features, tipo e subtipo. Exemplo:\n",
    "    - Аксессуары - PS2 => Tipo: Acessórios / Subtipo: PS2.\n",
    "    \n",
    "Da mesma forma iremos definir um número para cada um dos tipos e subtipos."
   ]
  },
  {
   "cell_type": "code",
   "execution_count": 22,
   "metadata": {},
   "outputs": [
    {
     "data": {
      "text/html": [
       "<div>\n",
       "<style scoped>\n",
       "    .dataframe tbody tr th:only-of-type {\n",
       "        vertical-align: middle;\n",
       "    }\n",
       "\n",
       "    .dataframe tbody tr th {\n",
       "        vertical-align: top;\n",
       "    }\n",
       "\n",
       "    .dataframe thead th {\n",
       "        text-align: right;\n",
       "    }\n",
       "</style>\n",
       "<table border=\"1\" class=\"dataframe\">\n",
       "  <thead>\n",
       "    <tr style=\"text-align: right;\">\n",
       "      <th></th>\n",
       "      <th>item_category_name</th>\n",
       "      <th>item_category_id</th>\n",
       "      <th>split</th>\n",
       "      <th>type</th>\n",
       "      <th>type_code</th>\n",
       "      <th>subtype</th>\n",
       "      <th>subtype_code</th>\n",
       "    </tr>\n",
       "  </thead>\n",
       "  <tbody>\n",
       "    <tr>\n",
       "      <th>0</th>\n",
       "      <td>PC - Гарнитуры/Наушники</td>\n",
       "      <td>0</td>\n",
       "      <td>[PC ,  Гарнитуры/Наушники]</td>\n",
       "      <td>PC</td>\n",
       "      <td>0</td>\n",
       "      <td>Гарнитуры/Наушники</td>\n",
       "      <td>29</td>\n",
       "    </tr>\n",
       "    <tr>\n",
       "      <th>1</th>\n",
       "      <td>Аксессуары - PS2</td>\n",
       "      <td>1</td>\n",
       "      <td>[Аксессуары ,  PS2]</td>\n",
       "      <td>Аксессуары</td>\n",
       "      <td>1</td>\n",
       "      <td>PS2</td>\n",
       "      <td>9</td>\n",
       "    </tr>\n",
       "    <tr>\n",
       "      <th>2</th>\n",
       "      <td>Аксессуары - PS3</td>\n",
       "      <td>2</td>\n",
       "      <td>[Аксессуары ,  PS3]</td>\n",
       "      <td>Аксессуары</td>\n",
       "      <td>1</td>\n",
       "      <td>PS3</td>\n",
       "      <td>10</td>\n",
       "    </tr>\n",
       "    <tr>\n",
       "      <th>3</th>\n",
       "      <td>Аксессуары - PS4</td>\n",
       "      <td>3</td>\n",
       "      <td>[Аксессуары ,  PS4]</td>\n",
       "      <td>Аксессуары</td>\n",
       "      <td>1</td>\n",
       "      <td>PS4</td>\n",
       "      <td>11</td>\n",
       "    </tr>\n",
       "    <tr>\n",
       "      <th>4</th>\n",
       "      <td>Аксессуары - PSP</td>\n",
       "      <td>4</td>\n",
       "      <td>[Аксессуары ,  PSP]</td>\n",
       "      <td>Аксессуары</td>\n",
       "      <td>1</td>\n",
       "      <td>PSP</td>\n",
       "      <td>13</td>\n",
       "    </tr>\n",
       "  </tbody>\n",
       "</table>\n",
       "</div>"
      ],
      "text/plain": [
       "        item_category_name  item_category_id                       split  \\\n",
       "0  PC - Гарнитуры/Наушники                 0  [PC ,  Гарнитуры/Наушники]   \n",
       "1         Аксессуары - PS2                 1         [Аксессуары ,  PS2]   \n",
       "2         Аксессуары - PS3                 2         [Аксессуары ,  PS3]   \n",
       "3         Аксессуары - PS4                 3         [Аксессуары ,  PS4]   \n",
       "4         Аксессуары - PSP                 4         [Аксессуары ,  PSP]   \n",
       "\n",
       "         type  type_code             subtype  subtype_code  \n",
       "0          PC          0  Гарнитуры/Наушники            29  \n",
       "1  Аксессуары          1                 PS2             9  \n",
       "2  Аксессуары          1                 PS3            10  \n",
       "3  Аксессуары          1                 PS4            11  \n",
       "4  Аксессуары          1                 PSP            13  "
      ]
     },
     "execution_count": 22,
     "metadata": {},
     "output_type": "execute_result"
    }
   ],
   "source": [
    "# Separando as duas categorias.\n",
    "items_cat['split'] = items_cat['item_category_name'].str.split('-')\n",
    "\n",
    "# Criando uma coluna só com o tipo e depois criando os rótulos.\n",
    "items_cat['type'] = items_cat['split'].map(lambda x: x[0].strip())\n",
    "items_cat['type_code'] = LabelEncoder().fit_transform(items_cat['type'])\n",
    "\n",
    "# Criando uma coluna só com o subtipo e depois criando os rótulos.\n",
    "items_cat['subtype'] = items_cat['split'].map(lambda x: x[1].strip() if len(x) > 1 else x[0].strip())\n",
    "items_cat['subtype_code'] = LabelEncoder().fit_transform(items_cat['subtype'])\n",
    "\n",
    "items_cat.head()"
   ]
  },
  {
   "cell_type": "code",
   "execution_count": 23,
   "metadata": {},
   "outputs": [
    {
     "data": {
      "text/html": [
       "<div>\n",
       "<style scoped>\n",
       "    .dataframe tbody tr th:only-of-type {\n",
       "        vertical-align: middle;\n",
       "    }\n",
       "\n",
       "    .dataframe tbody tr th {\n",
       "        vertical-align: top;\n",
       "    }\n",
       "\n",
       "    .dataframe thead th {\n",
       "        text-align: right;\n",
       "    }\n",
       "</style>\n",
       "<table border=\"1\" class=\"dataframe\">\n",
       "  <thead>\n",
       "    <tr style=\"text-align: right;\">\n",
       "      <th></th>\n",
       "      <th>item_category_id</th>\n",
       "      <th>type_code</th>\n",
       "      <th>subtype_code</th>\n",
       "    </tr>\n",
       "  </thead>\n",
       "  <tbody>\n",
       "    <tr>\n",
       "      <th>0</th>\n",
       "      <td>0</td>\n",
       "      <td>0</td>\n",
       "      <td>29</td>\n",
       "    </tr>\n",
       "    <tr>\n",
       "      <th>1</th>\n",
       "      <td>1</td>\n",
       "      <td>1</td>\n",
       "      <td>9</td>\n",
       "    </tr>\n",
       "    <tr>\n",
       "      <th>2</th>\n",
       "      <td>2</td>\n",
       "      <td>1</td>\n",
       "      <td>10</td>\n",
       "    </tr>\n",
       "    <tr>\n",
       "      <th>3</th>\n",
       "      <td>3</td>\n",
       "      <td>1</td>\n",
       "      <td>11</td>\n",
       "    </tr>\n",
       "    <tr>\n",
       "      <th>4</th>\n",
       "      <td>4</td>\n",
       "      <td>1</td>\n",
       "      <td>13</td>\n",
       "    </tr>\n",
       "  </tbody>\n",
       "</table>\n",
       "</div>"
      ],
      "text/plain": [
       "   item_category_id  type_code  subtype_code\n",
       "0                 0          0            29\n",
       "1                 1          1             9\n",
       "2                 2          1            10\n",
       "3                 3          1            11\n",
       "4                 4          1            13"
      ]
     },
     "execution_count": 23,
     "metadata": {},
     "output_type": "execute_result"
    }
   ],
   "source": [
    "# Retirando colunas que não tem mais utilidade.\n",
    "items_cat.drop(['item_category_name', 'split', 'type', 'subtype'], axis='columns', inplace=True)\n",
    "items_cat.head()"
   ]
  },
  {
   "cell_type": "markdown",
   "metadata": {},
   "source": [
    "### Retirando item_name e date"
   ]
  },
  {
   "cell_type": "markdown",
   "metadata": {},
   "source": [
    " Vou retirar duas colunas do banco de dado, item_name e date. As datas não vão ser precisas porque vou utilizar somente os meses e para isso já temos a coluna date_block_num. No nome dos itens deve ter alguma informação interessante, mas vai ser muito complicado separar essas coisas."
   ]
  },
  {
   "cell_type": "code",
   "execution_count": 24,
   "metadata": {},
   "outputs": [],
   "source": [
    "items.drop(['item_name'], axis=1, inplace=True)"
   ]
  },
  {
   "cell_type": "code",
   "execution_count": 25,
   "metadata": {},
   "outputs": [],
   "source": [
    "train.drop(['date'], axis='columns', inplace=True)"
   ]
  },
  {
   "cell_type": "markdown",
   "metadata": {},
   "source": [
    "# Criando Features Novas"
   ]
  },
  {
   "cell_type": "markdown",
   "metadata": {},
   "source": [
    "Criar features é tão importante quanto fazer uma boa EDA. Algumas features podem fazer a diferença para modelo preditivos. Vou abordar a construção das seguintes features:\n",
    "\n",
    "   - [Revenue](#Revenue)\n",
    "   - [Semestre e ano](#Semestre-e-ano)  \n",
    "   - [Médias mensais](#Médias-mensais)\n",
    "       - [Média por loja](#Média-por-loja)\n",
    "       -  [Média por item](#Média-por-item)\n",
    "       -  [Média dos itens por loja](#Média-dos-itens-por-loja)\n",
    "   - [Lagged Variables](#Lagged-Variables) \n",
    "   \n",
    " > **Obs.:**\n",
    "     - Vou criar primeiro features que são combinações de outras do dataset.\n",
    "     - Depois vamos criar médias e somas com base em meses.\n",
    "     - Por último entra as variáveis lagged, elas entram por último porque é importante manter a ordem delas."
   ]
  },
  {
   "cell_type": "markdown",
   "metadata": {},
   "source": [
    "### Revenue"
   ]
  },
  {
   "cell_type": "markdown",
   "metadata": {},
   "source": [
    "A feature mais básica de todas é a receita (Dinheiro total ganho por item vendido)."
   ]
  },
  {
   "cell_type": "code",
   "execution_count": 26,
   "metadata": {},
   "outputs": [],
   "source": [
    "train['revenue'] = train['item_price'] * train['item_cnt_day']"
   ]
  },
  {
   "cell_type": "markdown",
   "metadata": {},
   "source": [
    "### Somas mensais"
   ]
  },
  {
   "cell_type": "code",
   "execution_count": 27,
   "metadata": {},
   "outputs": [
    {
     "data": {
      "text/html": [
       "<div>\n",
       "<style scoped>\n",
       "    .dataframe tbody tr th:only-of-type {\n",
       "        vertical-align: middle;\n",
       "    }\n",
       "\n",
       "    .dataframe tbody tr th {\n",
       "        vertical-align: top;\n",
       "    }\n",
       "\n",
       "    .dataframe thead th {\n",
       "        text-align: right;\n",
       "    }\n",
       "</style>\n",
       "<table border=\"1\" class=\"dataframe\">\n",
       "  <thead>\n",
       "    <tr style=\"text-align: right;\">\n",
       "      <th></th>\n",
       "      <th>date_block_num</th>\n",
       "      <th>shop_id</th>\n",
       "      <th>item_id</th>\n",
       "      <th>item_price</th>\n",
       "      <th>item_cnt_day</th>\n",
       "      <th>revenue</th>\n",
       "    </tr>\n",
       "  </thead>\n",
       "  <tbody>\n",
       "    <tr>\n",
       "      <th>0</th>\n",
       "      <td>0</td>\n",
       "      <td>59</td>\n",
       "      <td>22154</td>\n",
       "      <td>999.00</td>\n",
       "      <td>1.0</td>\n",
       "      <td>999.00</td>\n",
       "    </tr>\n",
       "    <tr>\n",
       "      <th>1</th>\n",
       "      <td>0</td>\n",
       "      <td>25</td>\n",
       "      <td>2552</td>\n",
       "      <td>899.00</td>\n",
       "      <td>1.0</td>\n",
       "      <td>899.00</td>\n",
       "    </tr>\n",
       "    <tr>\n",
       "      <th>2</th>\n",
       "      <td>0</td>\n",
       "      <td>25</td>\n",
       "      <td>2552</td>\n",
       "      <td>899.00</td>\n",
       "      <td>-1.0</td>\n",
       "      <td>-899.00</td>\n",
       "    </tr>\n",
       "    <tr>\n",
       "      <th>3</th>\n",
       "      <td>0</td>\n",
       "      <td>25</td>\n",
       "      <td>2554</td>\n",
       "      <td>1709.05</td>\n",
       "      <td>1.0</td>\n",
       "      <td>1709.05</td>\n",
       "    </tr>\n",
       "    <tr>\n",
       "      <th>4</th>\n",
       "      <td>0</td>\n",
       "      <td>25</td>\n",
       "      <td>2555</td>\n",
       "      <td>1099.00</td>\n",
       "      <td>1.0</td>\n",
       "      <td>1099.00</td>\n",
       "    </tr>\n",
       "  </tbody>\n",
       "</table>\n",
       "</div>"
      ],
      "text/plain": [
       "   date_block_num  shop_id  item_id  item_price  item_cnt_day  revenue\n",
       "0               0       59    22154      999.00           1.0   999.00\n",
       "1               0       25     2552      899.00           1.0   899.00\n",
       "2               0       25     2552      899.00          -1.0  -899.00\n",
       "3               0       25     2554     1709.05           1.0  1709.05\n",
       "4               0       25     2555     1099.00           1.0  1099.00"
      ]
     },
     "execution_count": 27,
     "metadata": {},
     "output_type": "execute_result"
    }
   ],
   "source": [
    "train.head()"
   ]
  },
  {
   "cell_type": "code",
   "execution_count": 28,
   "metadata": {},
   "outputs": [
    {
     "data": {
      "text/html": [
       "<div>\n",
       "<style scoped>\n",
       "    .dataframe tbody tr th:only-of-type {\n",
       "        vertical-align: middle;\n",
       "    }\n",
       "\n",
       "    .dataframe tbody tr th {\n",
       "        vertical-align: top;\n",
       "    }\n",
       "\n",
       "    .dataframe thead th {\n",
       "        text-align: right;\n",
       "    }\n",
       "</style>\n",
       "<table border=\"1\" class=\"dataframe\">\n",
       "  <thead>\n",
       "    <tr style=\"text-align: right;\">\n",
       "      <th></th>\n",
       "      <th>date_block_num</th>\n",
       "      <th>shop_id</th>\n",
       "      <th>item_id</th>\n",
       "      <th>item_cnt_month</th>\n",
       "      <th>revenue_month</th>\n",
       "    </tr>\n",
       "  </thead>\n",
       "  <tbody>\n",
       "    <tr>\n",
       "      <th>0</th>\n",
       "      <td>0</td>\n",
       "      <td>0</td>\n",
       "      <td>32</td>\n",
       "      <td>6.0</td>\n",
       "      <td>1326.0</td>\n",
       "    </tr>\n",
       "    <tr>\n",
       "      <th>1</th>\n",
       "      <td>0</td>\n",
       "      <td>0</td>\n",
       "      <td>33</td>\n",
       "      <td>3.0</td>\n",
       "      <td>1041.0</td>\n",
       "    </tr>\n",
       "    <tr>\n",
       "      <th>2</th>\n",
       "      <td>0</td>\n",
       "      <td>0</td>\n",
       "      <td>35</td>\n",
       "      <td>1.0</td>\n",
       "      <td>247.0</td>\n",
       "    </tr>\n",
       "    <tr>\n",
       "      <th>3</th>\n",
       "      <td>0</td>\n",
       "      <td>0</td>\n",
       "      <td>43</td>\n",
       "      <td>1.0</td>\n",
       "      <td>221.0</td>\n",
       "    </tr>\n",
       "    <tr>\n",
       "      <th>4</th>\n",
       "      <td>0</td>\n",
       "      <td>0</td>\n",
       "      <td>51</td>\n",
       "      <td>2.0</td>\n",
       "      <td>257.0</td>\n",
       "    </tr>\n",
       "  </tbody>\n",
       "</table>\n",
       "</div>"
      ],
      "text/plain": [
       "   date_block_num  shop_id  item_id  item_cnt_month  revenue_month\n",
       "0               0        0       32             6.0         1326.0\n",
       "1               0        0       33             3.0         1041.0\n",
       "2               0        0       35             1.0          247.0\n",
       "3               0        0       43             1.0          221.0\n",
       "4               0        0       51             2.0          257.0"
      ]
     },
     "execution_count": 28,
     "metadata": {},
     "output_type": "execute_result"
    }
   ],
   "source": [
    "# Vamos usar muito essas colunas.\n",
    "group_basic = ['date_block_num', 'shop_id', 'item_id']\n",
    "\n",
    "# Não faz sentido somar o preço unitário de cada item.\n",
    "df_train_month = train.drop(['item_price'], axis=1).groupby(group_basic).sum()\n",
    "df_train_month.rename(columns={'item_cnt_day':'item_cnt_month', 'revenue':'revenue_month'}, inplace=True)\n",
    "df_train_month.reset_index(inplace=True)\n",
    "df_train_month.head()"
   ]
  },
  {
   "cell_type": "markdown",
   "metadata": {},
   "source": [
    "### Médias mensais"
   ]
  },
  {
   "cell_type": "markdown",
   "metadata": {},
   "source": [
    "Queremos tentar prever as vendas mensais do itens, então vou criar algumas features com base em médias mensais.\n",
    "\n",
    "> **Obs.:**\n",
    "   - Tirar médias do item_cnt_day não é muito preciso, porque algumas contém valores negativos. Mas deve ser pelo menos uma aproximação boa se não tivermos muitos números ímpares e valores pequenos."
   ]
  },
  {
   "cell_type": "markdown",
   "metadata": {},
   "source": [
    "### Média por loja"
   ]
  },
  {
   "cell_type": "markdown",
   "metadata": {},
   "source": [
    "Vamos calcular a média do número de itens vendidos e da receita de cada loja por mês."
   ]
  },
  {
   "cell_type": "code",
   "execution_count": 29,
   "metadata": {},
   "outputs": [
    {
     "data": {
      "text/html": [
       "<div>\n",
       "<style scoped>\n",
       "    .dataframe tbody tr th:only-of-type {\n",
       "        vertical-align: middle;\n",
       "    }\n",
       "\n",
       "    .dataframe tbody tr th {\n",
       "        vertical-align: top;\n",
       "    }\n",
       "\n",
       "    .dataframe thead th {\n",
       "        text-align: right;\n",
       "    }\n",
       "</style>\n",
       "<table border=\"1\" class=\"dataframe\">\n",
       "  <thead>\n",
       "    <tr style=\"text-align: right;\">\n",
       "      <th></th>\n",
       "      <th>date_block_num</th>\n",
       "      <th>shop_id</th>\n",
       "      <th>item_id</th>\n",
       "      <th>item_price</th>\n",
       "      <th>item_cnt_day</th>\n",
       "      <th>revenue</th>\n",
       "    </tr>\n",
       "  </thead>\n",
       "  <tbody>\n",
       "    <tr>\n",
       "      <th>0</th>\n",
       "      <td>0</td>\n",
       "      <td>59</td>\n",
       "      <td>22154</td>\n",
       "      <td>999.00</td>\n",
       "      <td>1.0</td>\n",
       "      <td>999.00</td>\n",
       "    </tr>\n",
       "    <tr>\n",
       "      <th>1</th>\n",
       "      <td>0</td>\n",
       "      <td>25</td>\n",
       "      <td>2552</td>\n",
       "      <td>899.00</td>\n",
       "      <td>1.0</td>\n",
       "      <td>899.00</td>\n",
       "    </tr>\n",
       "    <tr>\n",
       "      <th>2</th>\n",
       "      <td>0</td>\n",
       "      <td>25</td>\n",
       "      <td>2552</td>\n",
       "      <td>899.00</td>\n",
       "      <td>-1.0</td>\n",
       "      <td>-899.00</td>\n",
       "    </tr>\n",
       "    <tr>\n",
       "      <th>3</th>\n",
       "      <td>0</td>\n",
       "      <td>25</td>\n",
       "      <td>2554</td>\n",
       "      <td>1709.05</td>\n",
       "      <td>1.0</td>\n",
       "      <td>1709.05</td>\n",
       "    </tr>\n",
       "    <tr>\n",
       "      <th>4</th>\n",
       "      <td>0</td>\n",
       "      <td>25</td>\n",
       "      <td>2555</td>\n",
       "      <td>1099.00</td>\n",
       "      <td>1.0</td>\n",
       "      <td>1099.00</td>\n",
       "    </tr>\n",
       "  </tbody>\n",
       "</table>\n",
       "</div>"
      ],
      "text/plain": [
       "   date_block_num  shop_id  item_id  item_price  item_cnt_day  revenue\n",
       "0               0       59    22154      999.00           1.0   999.00\n",
       "1               0       25     2552      899.00           1.0   899.00\n",
       "2               0       25     2552      899.00          -1.0  -899.00\n",
       "3               0       25     2554     1709.05           1.0  1709.05\n",
       "4               0       25     2555     1099.00           1.0  1099.00"
      ]
     },
     "execution_count": 29,
     "metadata": {},
     "output_type": "execute_result"
    }
   ],
   "source": [
    "train.head()"
   ]
  },
  {
   "cell_type": "code",
   "execution_count": 30,
   "metadata": {},
   "outputs": [
    {
     "data": {
      "text/html": [
       "<div>\n",
       "<style scoped>\n",
       "    .dataframe tbody tr th:only-of-type {\n",
       "        vertical-align: middle;\n",
       "    }\n",
       "\n",
       "    .dataframe tbody tr th {\n",
       "        vertical-align: top;\n",
       "    }\n",
       "\n",
       "    .dataframe thead th {\n",
       "        text-align: right;\n",
       "    }\n",
       "</style>\n",
       "<table border=\"1\" class=\"dataframe\">\n",
       "  <thead>\n",
       "    <tr style=\"text-align: right;\">\n",
       "      <th></th>\n",
       "      <th>date_block_num</th>\n",
       "      <th>shop_id</th>\n",
       "      <th>item_id</th>\n",
       "      <th>item_cnt_month</th>\n",
       "      <th>revenue_month</th>\n",
       "      <th>mean_item_price_per_shop</th>\n",
       "      <th>mean_item_cnt_per_shop</th>\n",
       "      <th>mean_revenue_per_shop</th>\n",
       "    </tr>\n",
       "  </thead>\n",
       "  <tbody>\n",
       "    <tr>\n",
       "      <th>0</th>\n",
       "      <td>0</td>\n",
       "      <td>0</td>\n",
       "      <td>32</td>\n",
       "      <td>6.0</td>\n",
       "      <td>1326.0</td>\n",
       "      <td>531.262049</td>\n",
       "      <td>1.163781</td>\n",
       "      <td>618.90507</td>\n",
       "    </tr>\n",
       "    <tr>\n",
       "      <th>1</th>\n",
       "      <td>0</td>\n",
       "      <td>0</td>\n",
       "      <td>33</td>\n",
       "      <td>3.0</td>\n",
       "      <td>1041.0</td>\n",
       "      <td>531.262049</td>\n",
       "      <td>1.163781</td>\n",
       "      <td>618.90507</td>\n",
       "    </tr>\n",
       "    <tr>\n",
       "      <th>2</th>\n",
       "      <td>0</td>\n",
       "      <td>0</td>\n",
       "      <td>35</td>\n",
       "      <td>1.0</td>\n",
       "      <td>247.0</td>\n",
       "      <td>531.262049</td>\n",
       "      <td>1.163781</td>\n",
       "      <td>618.90507</td>\n",
       "    </tr>\n",
       "    <tr>\n",
       "      <th>3</th>\n",
       "      <td>0</td>\n",
       "      <td>0</td>\n",
       "      <td>43</td>\n",
       "      <td>1.0</td>\n",
       "      <td>221.0</td>\n",
       "      <td>531.262049</td>\n",
       "      <td>1.163781</td>\n",
       "      <td>618.90507</td>\n",
       "    </tr>\n",
       "    <tr>\n",
       "      <th>4</th>\n",
       "      <td>0</td>\n",
       "      <td>0</td>\n",
       "      <td>51</td>\n",
       "      <td>2.0</td>\n",
       "      <td>257.0</td>\n",
       "      <td>531.262049</td>\n",
       "      <td>1.163781</td>\n",
       "      <td>618.90507</td>\n",
       "    </tr>\n",
       "  </tbody>\n",
       "</table>\n",
       "</div>"
      ],
      "text/plain": [
       "   date_block_num  shop_id  item_id  item_cnt_month  revenue_month  \\\n",
       "0               0        0       32             6.0         1326.0   \n",
       "1               0        0       33             3.0         1041.0   \n",
       "2               0        0       35             1.0          247.0   \n",
       "3               0        0       43             1.0          221.0   \n",
       "4               0        0       51             2.0          257.0   \n",
       "\n",
       "   mean_item_price_per_shop  mean_item_cnt_per_shop  mean_revenue_per_shop  \n",
       "0                531.262049                1.163781              618.90507  \n",
       "1                531.262049                1.163781              618.90507  \n",
       "2                531.262049                1.163781              618.90507  \n",
       "3                531.262049                1.163781              618.90507  \n",
       "4                531.262049                1.163781              618.90507  "
      ]
     },
     "execution_count": 30,
     "metadata": {},
     "output_type": "execute_result"
    }
   ],
   "source": [
    "aux = train.drop(['item_id'], axis=1)\n",
    "aux = aux.groupby(['date_block_num', 'shop_id']).mean()\n",
    "aux.rename(columns={'item_cnt_day':'mean_item_cnt_per_shop', 'revenue':'mean_revenue_per_shop',\n",
    "                   'item_price':'mean_item_price_per_shop'},\n",
    "          inplace=True)\n",
    "\n",
    "df_train_month = pd.merge(df_train_month, aux, on=['date_block_num', 'shop_id'], how='left')\n",
    "df_train_month.head()"
   ]
  },
  {
   "cell_type": "markdown",
   "metadata": {},
   "source": [
    "### Média por item"
   ]
  },
  {
   "cell_type": "markdown",
   "metadata": {},
   "source": [
    "Vou calcular a média do número de itens vendidos e receita por item em cada mês."
   ]
  },
  {
   "cell_type": "code",
   "execution_count": 31,
   "metadata": {},
   "outputs": [
    {
     "data": {
      "text/html": [
       "<div>\n",
       "<style scoped>\n",
       "    .dataframe tbody tr th:only-of-type {\n",
       "        vertical-align: middle;\n",
       "    }\n",
       "\n",
       "    .dataframe tbody tr th {\n",
       "        vertical-align: top;\n",
       "    }\n",
       "\n",
       "    .dataframe thead th {\n",
       "        text-align: right;\n",
       "    }\n",
       "</style>\n",
       "<table border=\"1\" class=\"dataframe\">\n",
       "  <thead>\n",
       "    <tr style=\"text-align: right;\">\n",
       "      <th></th>\n",
       "      <th>date_block_num</th>\n",
       "      <th>shop_id</th>\n",
       "      <th>item_id</th>\n",
       "      <th>item_cnt_month</th>\n",
       "      <th>revenue_month</th>\n",
       "      <th>mean_item_price_per_shop</th>\n",
       "      <th>mean_item_cnt_per_shop</th>\n",
       "      <th>mean_revenue_per_shop</th>\n",
       "      <th>mean_item_price_per_item</th>\n",
       "      <th>mean_item_cnt_per_item</th>\n",
       "      <th>mean_revenue_per_item</th>\n",
       "    </tr>\n",
       "  </thead>\n",
       "  <tbody>\n",
       "    <tr>\n",
       "      <th>0</th>\n",
       "      <td>0</td>\n",
       "      <td>0</td>\n",
       "      <td>32</td>\n",
       "      <td>6.0</td>\n",
       "      <td>1326.0</td>\n",
       "      <td>531.262049</td>\n",
       "      <td>1.163781</td>\n",
       "      <td>618.90507</td>\n",
       "      <td>338.110349</td>\n",
       "      <td>1.328889</td>\n",
       "      <td>451.181600</td>\n",
       "    </tr>\n",
       "    <tr>\n",
       "      <th>1</th>\n",
       "      <td>0</td>\n",
       "      <td>0</td>\n",
       "      <td>33</td>\n",
       "      <td>3.0</td>\n",
       "      <td>1041.0</td>\n",
       "      <td>531.262049</td>\n",
       "      <td>1.163781</td>\n",
       "      <td>618.90507</td>\n",
       "      <td>488.517241</td>\n",
       "      <td>1.051724</td>\n",
       "      <td>514.327586</td>\n",
       "    </tr>\n",
       "    <tr>\n",
       "      <th>2</th>\n",
       "      <td>0</td>\n",
       "      <td>0</td>\n",
       "      <td>35</td>\n",
       "      <td>1.0</td>\n",
       "      <td>247.0</td>\n",
       "      <td>531.262049</td>\n",
       "      <td>1.163781</td>\n",
       "      <td>618.90507</td>\n",
       "      <td>390.709091</td>\n",
       "      <td>1.418182</td>\n",
       "      <td>549.272727</td>\n",
       "    </tr>\n",
       "    <tr>\n",
       "      <th>3</th>\n",
       "      <td>0</td>\n",
       "      <td>0</td>\n",
       "      <td>43</td>\n",
       "      <td>1.0</td>\n",
       "      <td>221.0</td>\n",
       "      <td>531.262049</td>\n",
       "      <td>1.163781</td>\n",
       "      <td>618.90507</td>\n",
       "      <td>234.500000</td>\n",
       "      <td>1.000000</td>\n",
       "      <td>234.500000</td>\n",
       "    </tr>\n",
       "    <tr>\n",
       "      <th>4</th>\n",
       "      <td>0</td>\n",
       "      <td>0</td>\n",
       "      <td>51</td>\n",
       "      <td>2.0</td>\n",
       "      <td>257.0</td>\n",
       "      <td>531.262049</td>\n",
       "      <td>1.163781</td>\n",
       "      <td>618.90507</td>\n",
       "      <td>230.461538</td>\n",
       "      <td>1.000000</td>\n",
       "      <td>230.461538</td>\n",
       "    </tr>\n",
       "  </tbody>\n",
       "</table>\n",
       "</div>"
      ],
      "text/plain": [
       "   date_block_num  shop_id  item_id  item_cnt_month  revenue_month  \\\n",
       "0               0        0       32             6.0         1326.0   \n",
       "1               0        0       33             3.0         1041.0   \n",
       "2               0        0       35             1.0          247.0   \n",
       "3               0        0       43             1.0          221.0   \n",
       "4               0        0       51             2.0          257.0   \n",
       "\n",
       "   mean_item_price_per_shop  mean_item_cnt_per_shop  mean_revenue_per_shop  \\\n",
       "0                531.262049                1.163781              618.90507   \n",
       "1                531.262049                1.163781              618.90507   \n",
       "2                531.262049                1.163781              618.90507   \n",
       "3                531.262049                1.163781              618.90507   \n",
       "4                531.262049                1.163781              618.90507   \n",
       "\n",
       "   mean_item_price_per_item  mean_item_cnt_per_item  mean_revenue_per_item  \n",
       "0                338.110349                1.328889             451.181600  \n",
       "1                488.517241                1.051724             514.327586  \n",
       "2                390.709091                1.418182             549.272727  \n",
       "3                234.500000                1.000000             234.500000  \n",
       "4                230.461538                1.000000             230.461538  "
      ]
     },
     "execution_count": 31,
     "metadata": {},
     "output_type": "execute_result"
    }
   ],
   "source": [
    "aux = train.drop(['shop_id'], axis=1)\n",
    "aux = aux.groupby(['date_block_num', 'item_id']).mean()\n",
    "aux.rename(columns={'item_cnt_day':'mean_item_cnt_per_item', 'revenue':'mean_revenue_per_item',\n",
    "                   'item_price':'mean_item_price_per_item'},\n",
    "          inplace=True)\n",
    "df_train_month = pd.merge(df_train_month, aux, on=['date_block_num', 'item_id'], how='left')\n",
    "df_train_month.head()"
   ]
  },
  {
   "cell_type": "markdown",
   "metadata": {},
   "source": [
    "### Média por categoria"
   ]
  },
  {
   "cell_type": "markdown",
   "metadata": {},
   "source": [
    "Vai ser preciso unir as partes do dataset"
   ]
  },
  {
   "cell_type": "code",
   "execution_count": 32,
   "metadata": {},
   "outputs": [
    {
     "data": {
      "text/html": [
       "<div>\n",
       "<style scoped>\n",
       "    .dataframe tbody tr th:only-of-type {\n",
       "        vertical-align: middle;\n",
       "    }\n",
       "\n",
       "    .dataframe tbody tr th {\n",
       "        vertical-align: top;\n",
       "    }\n",
       "\n",
       "    .dataframe thead th {\n",
       "        text-align: right;\n",
       "    }\n",
       "</style>\n",
       "<table border=\"1\" class=\"dataframe\">\n",
       "  <thead>\n",
       "    <tr style=\"text-align: right;\">\n",
       "      <th></th>\n",
       "      <th>date_block_num</th>\n",
       "      <th>shop_id</th>\n",
       "      <th>item_id</th>\n",
       "      <th>item_price</th>\n",
       "      <th>item_cnt_day</th>\n",
       "      <th>revenue</th>\n",
       "      <th>item_category_id</th>\n",
       "      <th>type_code</th>\n",
       "      <th>subtype_code</th>\n",
       "    </tr>\n",
       "  </thead>\n",
       "  <tbody>\n",
       "    <tr>\n",
       "      <th>0</th>\n",
       "      <td>0</td>\n",
       "      <td>59</td>\n",
       "      <td>22154</td>\n",
       "      <td>999.00</td>\n",
       "      <td>1.0</td>\n",
       "      <td>999.00</td>\n",
       "      <td>37</td>\n",
       "      <td>11</td>\n",
       "      <td>1</td>\n",
       "    </tr>\n",
       "    <tr>\n",
       "      <th>1</th>\n",
       "      <td>0</td>\n",
       "      <td>25</td>\n",
       "      <td>2552</td>\n",
       "      <td>899.00</td>\n",
       "      <td>1.0</td>\n",
       "      <td>899.00</td>\n",
       "      <td>58</td>\n",
       "      <td>13</td>\n",
       "      <td>27</td>\n",
       "    </tr>\n",
       "    <tr>\n",
       "      <th>2</th>\n",
       "      <td>0</td>\n",
       "      <td>25</td>\n",
       "      <td>2552</td>\n",
       "      <td>899.00</td>\n",
       "      <td>-1.0</td>\n",
       "      <td>-899.00</td>\n",
       "      <td>58</td>\n",
       "      <td>13</td>\n",
       "      <td>27</td>\n",
       "    </tr>\n",
       "    <tr>\n",
       "      <th>3</th>\n",
       "      <td>0</td>\n",
       "      <td>25</td>\n",
       "      <td>2554</td>\n",
       "      <td>1709.05</td>\n",
       "      <td>1.0</td>\n",
       "      <td>1709.05</td>\n",
       "      <td>58</td>\n",
       "      <td>13</td>\n",
       "      <td>27</td>\n",
       "    </tr>\n",
       "    <tr>\n",
       "      <th>4</th>\n",
       "      <td>0</td>\n",
       "      <td>25</td>\n",
       "      <td>2555</td>\n",
       "      <td>1099.00</td>\n",
       "      <td>1.0</td>\n",
       "      <td>1099.00</td>\n",
       "      <td>56</td>\n",
       "      <td>13</td>\n",
       "      <td>3</td>\n",
       "    </tr>\n",
       "  </tbody>\n",
       "</table>\n",
       "</div>"
      ],
      "text/plain": [
       "   date_block_num  shop_id  item_id  item_price  item_cnt_day  revenue  \\\n",
       "0               0       59    22154      999.00           1.0   999.00   \n",
       "1               0       25     2552      899.00           1.0   899.00   \n",
       "2               0       25     2552      899.00          -1.0  -899.00   \n",
       "3               0       25     2554     1709.05           1.0  1709.05   \n",
       "4               0       25     2555     1099.00           1.0  1099.00   \n",
       "\n",
       "   item_category_id  type_code  subtype_code  \n",
       "0                37         11             1  \n",
       "1                58         13            27  \n",
       "2                58         13            27  \n",
       "3                58         13            27  \n",
       "4                56         13             3  "
      ]
     },
     "execution_count": 32,
     "metadata": {},
     "output_type": "execute_result"
    }
   ],
   "source": [
    "train = pd.merge(train, items, on=['item_id'], how='left')\n",
    "train = pd.merge(train, items_cat, on=['item_category_id'], how='left')\n",
    "train.head()"
   ]
  },
  {
   "cell_type": "code",
   "execution_count": 36,
   "metadata": {},
   "outputs": [
    {
     "data": {
      "text/html": [
       "<div>\n",
       "<style scoped>\n",
       "    .dataframe tbody tr th:only-of-type {\n",
       "        vertical-align: middle;\n",
       "    }\n",
       "\n",
       "    .dataframe tbody tr th {\n",
       "        vertical-align: top;\n",
       "    }\n",
       "\n",
       "    .dataframe thead th {\n",
       "        text-align: right;\n",
       "    }\n",
       "</style>\n",
       "<table border=\"1\" class=\"dataframe\">\n",
       "  <thead>\n",
       "    <tr style=\"text-align: right;\">\n",
       "      <th></th>\n",
       "      <th>date_block_num</th>\n",
       "      <th>shop_id</th>\n",
       "      <th>item_id</th>\n",
       "      <th>item_cnt_month</th>\n",
       "      <th>revenue_month</th>\n",
       "      <th>mean_item_price_per_shop</th>\n",
       "      <th>mean_item_cnt_per_shop</th>\n",
       "      <th>mean_revenue_per_shop</th>\n",
       "      <th>mean_item_price_per_item</th>\n",
       "      <th>mean_item_cnt_per_item</th>\n",
       "      <th>mean_revenue_per_item</th>\n",
       "      <th>item_category_id</th>\n",
       "      <th>type_code</th>\n",
       "      <th>subtype_code</th>\n",
       "    </tr>\n",
       "  </thead>\n",
       "  <tbody>\n",
       "    <tr>\n",
       "      <th>0</th>\n",
       "      <td>0</td>\n",
       "      <td>0</td>\n",
       "      <td>32</td>\n",
       "      <td>6.0</td>\n",
       "      <td>1326.0</td>\n",
       "      <td>531.262049</td>\n",
       "      <td>1.163781</td>\n",
       "      <td>618.90507</td>\n",
       "      <td>338.110349</td>\n",
       "      <td>1.328889</td>\n",
       "      <td>451.181600</td>\n",
       "      <td>40</td>\n",
       "      <td>11</td>\n",
       "      <td>4</td>\n",
       "    </tr>\n",
       "    <tr>\n",
       "      <th>1</th>\n",
       "      <td>0</td>\n",
       "      <td>0</td>\n",
       "      <td>33</td>\n",
       "      <td>3.0</td>\n",
       "      <td>1041.0</td>\n",
       "      <td>531.262049</td>\n",
       "      <td>1.163781</td>\n",
       "      <td>618.90507</td>\n",
       "      <td>488.517241</td>\n",
       "      <td>1.051724</td>\n",
       "      <td>514.327586</td>\n",
       "      <td>37</td>\n",
       "      <td>11</td>\n",
       "      <td>1</td>\n",
       "    </tr>\n",
       "    <tr>\n",
       "      <th>2</th>\n",
       "      <td>0</td>\n",
       "      <td>0</td>\n",
       "      <td>35</td>\n",
       "      <td>1.0</td>\n",
       "      <td>247.0</td>\n",
       "      <td>531.262049</td>\n",
       "      <td>1.163781</td>\n",
       "      <td>618.90507</td>\n",
       "      <td>390.709091</td>\n",
       "      <td>1.418182</td>\n",
       "      <td>549.272727</td>\n",
       "      <td>40</td>\n",
       "      <td>11</td>\n",
       "      <td>4</td>\n",
       "    </tr>\n",
       "    <tr>\n",
       "      <th>3</th>\n",
       "      <td>0</td>\n",
       "      <td>0</td>\n",
       "      <td>43</td>\n",
       "      <td>1.0</td>\n",
       "      <td>221.0</td>\n",
       "      <td>531.262049</td>\n",
       "      <td>1.163781</td>\n",
       "      <td>618.90507</td>\n",
       "      <td>234.500000</td>\n",
       "      <td>1.000000</td>\n",
       "      <td>234.500000</td>\n",
       "      <td>40</td>\n",
       "      <td>11</td>\n",
       "      <td>4</td>\n",
       "    </tr>\n",
       "    <tr>\n",
       "      <th>4</th>\n",
       "      <td>0</td>\n",
       "      <td>0</td>\n",
       "      <td>51</td>\n",
       "      <td>2.0</td>\n",
       "      <td>257.0</td>\n",
       "      <td>531.262049</td>\n",
       "      <td>1.163781</td>\n",
       "      <td>618.90507</td>\n",
       "      <td>230.461538</td>\n",
       "      <td>1.000000</td>\n",
       "      <td>230.461538</td>\n",
       "      <td>57</td>\n",
       "      <td>13</td>\n",
       "      <td>8</td>\n",
       "    </tr>\n",
       "  </tbody>\n",
       "</table>\n",
       "</div>"
      ],
      "text/plain": [
       "   date_block_num  shop_id  item_id  item_cnt_month  revenue_month  \\\n",
       "0               0        0       32             6.0         1326.0   \n",
       "1               0        0       33             3.0         1041.0   \n",
       "2               0        0       35             1.0          247.0   \n",
       "3               0        0       43             1.0          221.0   \n",
       "4               0        0       51             2.0          257.0   \n",
       "\n",
       "   mean_item_price_per_shop  mean_item_cnt_per_shop  mean_revenue_per_shop  \\\n",
       "0                531.262049                1.163781              618.90507   \n",
       "1                531.262049                1.163781              618.90507   \n",
       "2                531.262049                1.163781              618.90507   \n",
       "3                531.262049                1.163781              618.90507   \n",
       "4                531.262049                1.163781              618.90507   \n",
       "\n",
       "   mean_item_price_per_item  mean_item_cnt_per_item  mean_revenue_per_item  \\\n",
       "0                338.110349                1.328889             451.181600   \n",
       "1                488.517241                1.051724             514.327586   \n",
       "2                390.709091                1.418182             549.272727   \n",
       "3                234.500000                1.000000             234.500000   \n",
       "4                230.461538                1.000000             230.461538   \n",
       "\n",
       "   item_category_id  type_code  subtype_code  \n",
       "0                40         11             4  \n",
       "1                37         11             1  \n",
       "2                40         11             4  \n",
       "3                40         11             4  \n",
       "4                57         13             8  "
      ]
     },
     "execution_count": 36,
     "metadata": {},
     "output_type": "execute_result"
    }
   ],
   "source": [
    "df_train_month = pd.merge(df_train_month, items, on=['item_id'], how='left')\n",
    "df_train_month = pd.merge(df_train_month, items_cat, on=['item_category_id'], how='left')\n",
    "df_train_month.head()"
   ]
  },
  {
   "cell_type": "code",
   "execution_count": 38,
   "metadata": {},
   "outputs": [
    {
     "data": {
      "text/html": [
       "<div>\n",
       "<style scoped>\n",
       "    .dataframe tbody tr th:only-of-type {\n",
       "        vertical-align: middle;\n",
       "    }\n",
       "\n",
       "    .dataframe tbody tr th {\n",
       "        vertical-align: top;\n",
       "    }\n",
       "\n",
       "    .dataframe thead th {\n",
       "        text-align: right;\n",
       "    }\n",
       "</style>\n",
       "<table border=\"1\" class=\"dataframe\">\n",
       "  <thead>\n",
       "    <tr style=\"text-align: right;\">\n",
       "      <th></th>\n",
       "      <th>date_block_num</th>\n",
       "      <th>shop_id</th>\n",
       "      <th>item_id</th>\n",
       "      <th>item_cnt_month</th>\n",
       "      <th>revenue_month</th>\n",
       "      <th>mean_item_price_per_shop</th>\n",
       "      <th>mean_item_cnt_per_shop</th>\n",
       "      <th>mean_revenue_per_shop</th>\n",
       "      <th>mean_item_price_per_item</th>\n",
       "      <th>mean_item_cnt_per_item</th>\n",
       "      <th>mean_revenue_per_item</th>\n",
       "      <th>item_category_id</th>\n",
       "      <th>type_code</th>\n",
       "      <th>subtype_code</th>\n",
       "      <th>mean_item_price_per_category</th>\n",
       "      <th>mean_item_cnt_per_category</th>\n",
       "      <th>mean_revenue_per_category</th>\n",
       "    </tr>\n",
       "  </thead>\n",
       "  <tbody>\n",
       "    <tr>\n",
       "      <th>0</th>\n",
       "      <td>0</td>\n",
       "      <td>0</td>\n",
       "      <td>32</td>\n",
       "      <td>6.0</td>\n",
       "      <td>1326.0</td>\n",
       "      <td>531.262049</td>\n",
       "      <td>1.163781</td>\n",
       "      <td>618.90507</td>\n",
       "      <td>338.110349</td>\n",
       "      <td>1.328889</td>\n",
       "      <td>451.181600</td>\n",
       "      <td>40</td>\n",
       "      <td>11</td>\n",
       "      <td>4</td>\n",
       "      <td>244.485942</td>\n",
       "      <td>1.145902</td>\n",
       "      <td>296.569262</td>\n",
       "    </tr>\n",
       "    <tr>\n",
       "      <th>1</th>\n",
       "      <td>0</td>\n",
       "      <td>0</td>\n",
       "      <td>33</td>\n",
       "      <td>3.0</td>\n",
       "      <td>1041.0</td>\n",
       "      <td>531.262049</td>\n",
       "      <td>1.163781</td>\n",
       "      <td>618.90507</td>\n",
       "      <td>488.517241</td>\n",
       "      <td>1.051724</td>\n",
       "      <td>514.327586</td>\n",
       "      <td>37</td>\n",
       "      <td>11</td>\n",
       "      <td>1</td>\n",
       "      <td>465.036007</td>\n",
       "      <td>1.053414</td>\n",
       "      <td>491.797659</td>\n",
       "    </tr>\n",
       "    <tr>\n",
       "      <th>2</th>\n",
       "      <td>0</td>\n",
       "      <td>0</td>\n",
       "      <td>35</td>\n",
       "      <td>1.0</td>\n",
       "      <td>247.0</td>\n",
       "      <td>531.262049</td>\n",
       "      <td>1.163781</td>\n",
       "      <td>618.90507</td>\n",
       "      <td>390.709091</td>\n",
       "      <td>1.418182</td>\n",
       "      <td>549.272727</td>\n",
       "      <td>40</td>\n",
       "      <td>11</td>\n",
       "      <td>4</td>\n",
       "      <td>244.485942</td>\n",
       "      <td>1.145902</td>\n",
       "      <td>296.569262</td>\n",
       "    </tr>\n",
       "    <tr>\n",
       "      <th>3</th>\n",
       "      <td>0</td>\n",
       "      <td>0</td>\n",
       "      <td>43</td>\n",
       "      <td>1.0</td>\n",
       "      <td>221.0</td>\n",
       "      <td>531.262049</td>\n",
       "      <td>1.163781</td>\n",
       "      <td>618.90507</td>\n",
       "      <td>234.500000</td>\n",
       "      <td>1.000000</td>\n",
       "      <td>234.500000</td>\n",
       "      <td>40</td>\n",
       "      <td>11</td>\n",
       "      <td>4</td>\n",
       "      <td>244.485942</td>\n",
       "      <td>1.145902</td>\n",
       "      <td>296.569262</td>\n",
       "    </tr>\n",
       "    <tr>\n",
       "      <th>4</th>\n",
       "      <td>0</td>\n",
       "      <td>0</td>\n",
       "      <td>51</td>\n",
       "      <td>2.0</td>\n",
       "      <td>257.0</td>\n",
       "      <td>531.262049</td>\n",
       "      <td>1.163781</td>\n",
       "      <td>618.90507</td>\n",
       "      <td>230.461538</td>\n",
       "      <td>1.000000</td>\n",
       "      <td>230.461538</td>\n",
       "      <td>57</td>\n",
       "      <td>13</td>\n",
       "      <td>8</td>\n",
       "      <td>277.780085</td>\n",
       "      <td>1.003914</td>\n",
       "      <td>278.672453</td>\n",
       "    </tr>\n",
       "  </tbody>\n",
       "</table>\n",
       "</div>"
      ],
      "text/plain": [
       "   date_block_num  shop_id  item_id  item_cnt_month  revenue_month  \\\n",
       "0               0        0       32             6.0         1326.0   \n",
       "1               0        0       33             3.0         1041.0   \n",
       "2               0        0       35             1.0          247.0   \n",
       "3               0        0       43             1.0          221.0   \n",
       "4               0        0       51             2.0          257.0   \n",
       "\n",
       "   mean_item_price_per_shop  mean_item_cnt_per_shop  mean_revenue_per_shop  \\\n",
       "0                531.262049                1.163781              618.90507   \n",
       "1                531.262049                1.163781              618.90507   \n",
       "2                531.262049                1.163781              618.90507   \n",
       "3                531.262049                1.163781              618.90507   \n",
       "4                531.262049                1.163781              618.90507   \n",
       "\n",
       "   mean_item_price_per_item  mean_item_cnt_per_item  mean_revenue_per_item  \\\n",
       "0                338.110349                1.328889             451.181600   \n",
       "1                488.517241                1.051724             514.327586   \n",
       "2                390.709091                1.418182             549.272727   \n",
       "3                234.500000                1.000000             234.500000   \n",
       "4                230.461538                1.000000             230.461538   \n",
       "\n",
       "   item_category_id  type_code  subtype_code  mean_item_price_per_category  \\\n",
       "0                40         11             4                    244.485942   \n",
       "1                37         11             1                    465.036007   \n",
       "2                40         11             4                    244.485942   \n",
       "3                40         11             4                    244.485942   \n",
       "4                57         13             8                    277.780085   \n",
       "\n",
       "   mean_item_cnt_per_category  mean_revenue_per_category  \n",
       "0                    1.145902                 296.569262  \n",
       "1                    1.053414                 491.797659  \n",
       "2                    1.145902                 296.569262  \n",
       "3                    1.145902                 296.569262  \n",
       "4                    1.003914                 278.672453  "
      ]
     },
     "execution_count": 38,
     "metadata": {},
     "output_type": "execute_result"
    }
   ],
   "source": [
    "aux = train.drop(['shop_id', 'item_id', 'type_code', 'subtype_code'], axis=1)\n",
    "aux = aux.groupby(['date_block_num', 'item_category_id']).mean()\n",
    "aux.rename(columns={'item_cnt_day':'mean_item_cnt_per_category', 'revenue':'mean_revenue_per_category',\n",
    "                   'item_price':'mean_item_price_per_category'},\n",
    "          inplace=True)\n",
    "df_train_month = pd.merge(df_train_month, aux, on=['date_block_num', 'item_category_id'], how='left')\n",
    "df_train_month.head()"
   ]
  },
  {
   "cell_type": "markdown",
   "metadata": {},
   "source": [
    "### Média dos itens por loja"
   ]
  },
  {
   "cell_type": "markdown",
   "metadata": {},
   "source": [
    "#### Não sei calcular a média do número de itens vendidos por loja."
   ]
  },
  {
   "cell_type": "code",
   "execution_count": null,
   "metadata": {},
   "outputs": [],
   "source": [
    "col = ['date_block_num', 'item_price', 'item_cnt_day', 'revenue', 'item_id', 'shop_id']\n",
    "group_index = ['date_block_num', 'shop_id', 'item_id']"
   ]
  },
  {
   "cell_type": "code",
   "execution_count": null,
   "metadata": {},
   "outputs": [],
   "source": [
    "aux = train[col].groupby(group_index).mean()\n",
    "\n",
    "aux.rename(columns={'item_cnt_day':'item_cnt-(mean_shop_item)',\n",
    "                    'revenue':'revenue-(mean_shop_item)', 'item_price':'item_price-(mean_shop_item)'}, inplace=True)\n",
    "\n",
    "#train = pd.merge(train, aux, left_on=group_index, right_index=True, how='inner')\n",
    "\n",
    "aux.head()"
   ]
  },
  {
   "cell_type": "code",
   "execution_count": null,
   "metadata": {
    "scrolled": true
   },
   "outputs": [],
   "source": [
    "train[(train.shop_id == 0) & (train.date_block_num == 0) & (train.item_id == 32)]['item_cnt_day']"
   ]
  },
  {
   "cell_type": "markdown",
   "metadata": {},
   "source": [
    "### Lagged Variables"
   ]
  },
  {
   "cell_type": "markdown",
   "metadata": {},
   "source": [
    "Uma lagged feature é obtida ao atrasarmos ou adiantarmos a sequência daquela feature. Como por exemplo,\n",
    "\n",
    "| Vendas_original  | Vendas_lag1    |\n",
    "|----------|:------------- |\n",
    "| 1 |  Nan |\n",
    "| 2 |    1   |\n",
    "| 3 | 2 |\n",
    "\n",
    "A ideia por trás de fazermos essa transformação, é dar ao algoritmo a oportunidade de fazer escolhas como:\n",
    "- O número de vendas desse mês é o mesmo número do mês passado.\n",
    "- Dependendo do tamanho do lag é possível que o algoritmo aprenda sobre sazonalidade das vendas. Um bom exemplo é o natal, todo ano existe um aumento nas vendas neste período e o algoritmo pode levar isso em consideração."
   ]
  },
  {
   "cell_type": "markdown",
   "metadata": {},
   "source": [
    "<a name=\"lagged\"></a> Deixei no apéndice uma explicação mais extensa sobre os [lagged variables](#lagged)."
   ]
  },
  {
   "cell_type": "markdown",
   "metadata": {},
   "source": [
    "> Daqui pra frente as coisas ficam complicadas e eu não sei se vou utilizar lagged variables para treinar o modelo, mas já deixei o dataframe quase pronto para ser colocado em uma [6. LSTM](6.%20LSTM%20(Simples).ipynb)."
   ]
  },
  {
   "cell_type": "code",
   "execution_count": 39,
   "metadata": {},
   "outputs": [
    {
     "data": {
      "text/html": [
       "<div>\n",
       "<style scoped>\n",
       "    .dataframe tbody tr th:only-of-type {\n",
       "        vertical-align: middle;\n",
       "    }\n",
       "\n",
       "    .dataframe tbody tr th {\n",
       "        vertical-align: top;\n",
       "    }\n",
       "\n",
       "    .dataframe thead th {\n",
       "        text-align: right;\n",
       "    }\n",
       "</style>\n",
       "<table border=\"1\" class=\"dataframe\">\n",
       "  <thead>\n",
       "    <tr style=\"text-align: right;\">\n",
       "      <th></th>\n",
       "      <th>date_block_num</th>\n",
       "      <th>shop_id</th>\n",
       "      <th>item_id</th>\n",
       "      <th>item_cnt_month</th>\n",
       "      <th>revenue_month</th>\n",
       "      <th>mean_item_price_per_shop</th>\n",
       "      <th>mean_item_cnt_per_shop</th>\n",
       "      <th>mean_revenue_per_shop</th>\n",
       "      <th>mean_item_price_per_item</th>\n",
       "      <th>mean_item_cnt_per_item</th>\n",
       "      <th>mean_revenue_per_item</th>\n",
       "      <th>item_category_id</th>\n",
       "      <th>type_code</th>\n",
       "      <th>subtype_code</th>\n",
       "      <th>mean_item_price_per_category</th>\n",
       "      <th>mean_item_cnt_per_category</th>\n",
       "      <th>mean_revenue_per_category</th>\n",
       "    </tr>\n",
       "  </thead>\n",
       "  <tbody>\n",
       "    <tr>\n",
       "      <th>0</th>\n",
       "      <td>0</td>\n",
       "      <td>0</td>\n",
       "      <td>32</td>\n",
       "      <td>6.0</td>\n",
       "      <td>1326.0</td>\n",
       "      <td>531.262049</td>\n",
       "      <td>1.163781</td>\n",
       "      <td>618.90507</td>\n",
       "      <td>338.110349</td>\n",
       "      <td>1.328889</td>\n",
       "      <td>451.181600</td>\n",
       "      <td>40</td>\n",
       "      <td>11</td>\n",
       "      <td>4</td>\n",
       "      <td>244.485942</td>\n",
       "      <td>1.145902</td>\n",
       "      <td>296.569262</td>\n",
       "    </tr>\n",
       "    <tr>\n",
       "      <th>1</th>\n",
       "      <td>0</td>\n",
       "      <td>0</td>\n",
       "      <td>33</td>\n",
       "      <td>3.0</td>\n",
       "      <td>1041.0</td>\n",
       "      <td>531.262049</td>\n",
       "      <td>1.163781</td>\n",
       "      <td>618.90507</td>\n",
       "      <td>488.517241</td>\n",
       "      <td>1.051724</td>\n",
       "      <td>514.327586</td>\n",
       "      <td>37</td>\n",
       "      <td>11</td>\n",
       "      <td>1</td>\n",
       "      <td>465.036007</td>\n",
       "      <td>1.053414</td>\n",
       "      <td>491.797659</td>\n",
       "    </tr>\n",
       "    <tr>\n",
       "      <th>2</th>\n",
       "      <td>0</td>\n",
       "      <td>0</td>\n",
       "      <td>35</td>\n",
       "      <td>1.0</td>\n",
       "      <td>247.0</td>\n",
       "      <td>531.262049</td>\n",
       "      <td>1.163781</td>\n",
       "      <td>618.90507</td>\n",
       "      <td>390.709091</td>\n",
       "      <td>1.418182</td>\n",
       "      <td>549.272727</td>\n",
       "      <td>40</td>\n",
       "      <td>11</td>\n",
       "      <td>4</td>\n",
       "      <td>244.485942</td>\n",
       "      <td>1.145902</td>\n",
       "      <td>296.569262</td>\n",
       "    </tr>\n",
       "    <tr>\n",
       "      <th>3</th>\n",
       "      <td>0</td>\n",
       "      <td>0</td>\n",
       "      <td>43</td>\n",
       "      <td>1.0</td>\n",
       "      <td>221.0</td>\n",
       "      <td>531.262049</td>\n",
       "      <td>1.163781</td>\n",
       "      <td>618.90507</td>\n",
       "      <td>234.500000</td>\n",
       "      <td>1.000000</td>\n",
       "      <td>234.500000</td>\n",
       "      <td>40</td>\n",
       "      <td>11</td>\n",
       "      <td>4</td>\n",
       "      <td>244.485942</td>\n",
       "      <td>1.145902</td>\n",
       "      <td>296.569262</td>\n",
       "    </tr>\n",
       "    <tr>\n",
       "      <th>4</th>\n",
       "      <td>0</td>\n",
       "      <td>0</td>\n",
       "      <td>51</td>\n",
       "      <td>2.0</td>\n",
       "      <td>257.0</td>\n",
       "      <td>531.262049</td>\n",
       "      <td>1.163781</td>\n",
       "      <td>618.90507</td>\n",
       "      <td>230.461538</td>\n",
       "      <td>1.000000</td>\n",
       "      <td>230.461538</td>\n",
       "      <td>57</td>\n",
       "      <td>13</td>\n",
       "      <td>8</td>\n",
       "      <td>277.780085</td>\n",
       "      <td>1.003914</td>\n",
       "      <td>278.672453</td>\n",
       "    </tr>\n",
       "  </tbody>\n",
       "</table>\n",
       "</div>"
      ],
      "text/plain": [
       "   date_block_num  shop_id  item_id  item_cnt_month  revenue_month  \\\n",
       "0               0        0       32             6.0         1326.0   \n",
       "1               0        0       33             3.0         1041.0   \n",
       "2               0        0       35             1.0          247.0   \n",
       "3               0        0       43             1.0          221.0   \n",
       "4               0        0       51             2.0          257.0   \n",
       "\n",
       "   mean_item_price_per_shop  mean_item_cnt_per_shop  mean_revenue_per_shop  \\\n",
       "0                531.262049                1.163781              618.90507   \n",
       "1                531.262049                1.163781              618.90507   \n",
       "2                531.262049                1.163781              618.90507   \n",
       "3                531.262049                1.163781              618.90507   \n",
       "4                531.262049                1.163781              618.90507   \n",
       "\n",
       "   mean_item_price_per_item  mean_item_cnt_per_item  mean_revenue_per_item  \\\n",
       "0                338.110349                1.328889             451.181600   \n",
       "1                488.517241                1.051724             514.327586   \n",
       "2                390.709091                1.418182             549.272727   \n",
       "3                234.500000                1.000000             234.500000   \n",
       "4                230.461538                1.000000             230.461538   \n",
       "\n",
       "   item_category_id  type_code  subtype_code  mean_item_price_per_category  \\\n",
       "0                40         11             4                    244.485942   \n",
       "1                37         11             1                    465.036007   \n",
       "2                40         11             4                    244.485942   \n",
       "3                40         11             4                    244.485942   \n",
       "4                57         13             8                    277.780085   \n",
       "\n",
       "   mean_item_cnt_per_category  mean_revenue_per_category  \n",
       "0                    1.145902                 296.569262  \n",
       "1                    1.053414                 491.797659  \n",
       "2                    1.145902                 296.569262  \n",
       "3                    1.145902                 296.569262  \n",
       "4                    1.003914                 278.672453  "
      ]
     },
     "execution_count": 39,
     "metadata": {},
     "output_type": "execute_result"
    }
   ],
   "source": [
    "df_train_month.head()"
   ]
  },
  {
   "cell_type": "markdown",
   "metadata": {},
   "source": [
    "# teste:"
   ]
  },
  {
   "cell_type": "code",
   "execution_count": 48,
   "metadata": {},
   "outputs": [
    {
     "data": {
      "text/html": [
       "<div>\n",
       "<style scoped>\n",
       "    .dataframe tbody tr th:only-of-type {\n",
       "        vertical-align: middle;\n",
       "    }\n",
       "\n",
       "    .dataframe tbody tr th {\n",
       "        vertical-align: top;\n",
       "    }\n",
       "\n",
       "    .dataframe thead tr th {\n",
       "        text-align: left;\n",
       "    }\n",
       "\n",
       "    .dataframe thead tr:last-of-type th {\n",
       "        text-align: right;\n",
       "    }\n",
       "</style>\n",
       "<table border=\"1\" class=\"dataframe\">\n",
       "  <thead>\n",
       "    <tr>\n",
       "      <th></th>\n",
       "      <th></th>\n",
       "      <th colspan=\"10\" halign=\"left\">item_cnt_month</th>\n",
       "      <th>...</th>\n",
       "      <th colspan=\"10\" halign=\"left\">revenue_month</th>\n",
       "    </tr>\n",
       "    <tr>\n",
       "      <th></th>\n",
       "      <th>date_block_num</th>\n",
       "      <th>0</th>\n",
       "      <th>1</th>\n",
       "      <th>2</th>\n",
       "      <th>3</th>\n",
       "      <th>4</th>\n",
       "      <th>5</th>\n",
       "      <th>6</th>\n",
       "      <th>7</th>\n",
       "      <th>8</th>\n",
       "      <th>9</th>\n",
       "      <th>...</th>\n",
       "      <th>24</th>\n",
       "      <th>25</th>\n",
       "      <th>26</th>\n",
       "      <th>27</th>\n",
       "      <th>28</th>\n",
       "      <th>29</th>\n",
       "      <th>30</th>\n",
       "      <th>31</th>\n",
       "      <th>32</th>\n",
       "      <th>33</th>\n",
       "    </tr>\n",
       "    <tr>\n",
       "      <th>shop_id</th>\n",
       "      <th>item_id</th>\n",
       "      <th></th>\n",
       "      <th></th>\n",
       "      <th></th>\n",
       "      <th></th>\n",
       "      <th></th>\n",
       "      <th></th>\n",
       "      <th></th>\n",
       "      <th></th>\n",
       "      <th></th>\n",
       "      <th></th>\n",
       "      <th></th>\n",
       "      <th></th>\n",
       "      <th></th>\n",
       "      <th></th>\n",
       "      <th></th>\n",
       "      <th></th>\n",
       "      <th></th>\n",
       "      <th></th>\n",
       "      <th></th>\n",
       "      <th></th>\n",
       "      <th></th>\n",
       "    </tr>\n",
       "  </thead>\n",
       "  <tbody>\n",
       "    <tr>\n",
       "      <th rowspan=\"5\" valign=\"top\">0</th>\n",
       "      <th>30</th>\n",
       "      <td>0</td>\n",
       "      <td>31</td>\n",
       "      <td>0</td>\n",
       "      <td>0</td>\n",
       "      <td>0</td>\n",
       "      <td>0</td>\n",
       "      <td>0</td>\n",
       "      <td>0</td>\n",
       "      <td>0</td>\n",
       "      <td>0</td>\n",
       "      <td>...</td>\n",
       "      <td>0.0</td>\n",
       "      <td>0.0</td>\n",
       "      <td>0.0</td>\n",
       "      <td>0.0</td>\n",
       "      <td>0.0</td>\n",
       "      <td>0.0</td>\n",
       "      <td>0.0</td>\n",
       "      <td>0.0</td>\n",
       "      <td>0.0</td>\n",
       "      <td>0.0</td>\n",
       "    </tr>\n",
       "    <tr>\n",
       "      <th>31</th>\n",
       "      <td>0</td>\n",
       "      <td>11</td>\n",
       "      <td>0</td>\n",
       "      <td>0</td>\n",
       "      <td>0</td>\n",
       "      <td>0</td>\n",
       "      <td>0</td>\n",
       "      <td>0</td>\n",
       "      <td>0</td>\n",
       "      <td>0</td>\n",
       "      <td>...</td>\n",
       "      <td>0.0</td>\n",
       "      <td>0.0</td>\n",
       "      <td>0.0</td>\n",
       "      <td>0.0</td>\n",
       "      <td>0.0</td>\n",
       "      <td>0.0</td>\n",
       "      <td>0.0</td>\n",
       "      <td>0.0</td>\n",
       "      <td>0.0</td>\n",
       "      <td>0.0</td>\n",
       "    </tr>\n",
       "    <tr>\n",
       "      <th>32</th>\n",
       "      <td>6</td>\n",
       "      <td>10</td>\n",
       "      <td>0</td>\n",
       "      <td>0</td>\n",
       "      <td>0</td>\n",
       "      <td>0</td>\n",
       "      <td>0</td>\n",
       "      <td>0</td>\n",
       "      <td>0</td>\n",
       "      <td>0</td>\n",
       "      <td>...</td>\n",
       "      <td>0.0</td>\n",
       "      <td>0.0</td>\n",
       "      <td>0.0</td>\n",
       "      <td>0.0</td>\n",
       "      <td>0.0</td>\n",
       "      <td>0.0</td>\n",
       "      <td>0.0</td>\n",
       "      <td>0.0</td>\n",
       "      <td>0.0</td>\n",
       "      <td>0.0</td>\n",
       "    </tr>\n",
       "    <tr>\n",
       "      <th>33</th>\n",
       "      <td>3</td>\n",
       "      <td>3</td>\n",
       "      <td>0</td>\n",
       "      <td>0</td>\n",
       "      <td>0</td>\n",
       "      <td>0</td>\n",
       "      <td>0</td>\n",
       "      <td>0</td>\n",
       "      <td>0</td>\n",
       "      <td>0</td>\n",
       "      <td>...</td>\n",
       "      <td>0.0</td>\n",
       "      <td>0.0</td>\n",
       "      <td>0.0</td>\n",
       "      <td>0.0</td>\n",
       "      <td>0.0</td>\n",
       "      <td>0.0</td>\n",
       "      <td>0.0</td>\n",
       "      <td>0.0</td>\n",
       "      <td>0.0</td>\n",
       "      <td>0.0</td>\n",
       "    </tr>\n",
       "    <tr>\n",
       "      <th>35</th>\n",
       "      <td>1</td>\n",
       "      <td>14</td>\n",
       "      <td>0</td>\n",
       "      <td>0</td>\n",
       "      <td>0</td>\n",
       "      <td>0</td>\n",
       "      <td>0</td>\n",
       "      <td>0</td>\n",
       "      <td>0</td>\n",
       "      <td>0</td>\n",
       "      <td>...</td>\n",
       "      <td>0.0</td>\n",
       "      <td>0.0</td>\n",
       "      <td>0.0</td>\n",
       "      <td>0.0</td>\n",
       "      <td>0.0</td>\n",
       "      <td>0.0</td>\n",
       "      <td>0.0</td>\n",
       "      <td>0.0</td>\n",
       "      <td>0.0</td>\n",
       "      <td>0.0</td>\n",
       "    </tr>\n",
       "  </tbody>\n",
       "</table>\n",
       "<p>5 rows × 68 columns</p>\n",
       "</div>"
      ],
      "text/plain": [
       "                item_cnt_month                              ... revenue_month  \\\n",
       "date_block_num              0   1  2  3  4  5  6  7  8  9   ...            24   \n",
       "shop_id item_id                                             ...                 \n",
       "0       30                   0  31  0  0  0  0  0  0  0  0  ...           0.0   \n",
       "        31                   0  11  0  0  0  0  0  0  0  0  ...           0.0   \n",
       "        32                   6  10  0  0  0  0  0  0  0  0  ...           0.0   \n",
       "        33                   3   3  0  0  0  0  0  0  0  0  ...           0.0   \n",
       "        35                   1  14  0  0  0  0  0  0  0  0  ...           0.0   \n",
       "\n",
       "                                                              \n",
       "date_block_num    25   26   27   28   29   30   31   32   33  \n",
       "shop_id item_id                                               \n",
       "0       30       0.0  0.0  0.0  0.0  0.0  0.0  0.0  0.0  0.0  \n",
       "        31       0.0  0.0  0.0  0.0  0.0  0.0  0.0  0.0  0.0  \n",
       "        32       0.0  0.0  0.0  0.0  0.0  0.0  0.0  0.0  0.0  \n",
       "        33       0.0  0.0  0.0  0.0  0.0  0.0  0.0  0.0  0.0  \n",
       "        35       0.0  0.0  0.0  0.0  0.0  0.0  0.0  0.0  0.0  \n",
       "\n",
       "[5 rows x 68 columns]"
      ]
     },
     "execution_count": 48,
     "metadata": {},
     "output_type": "execute_result"
    }
   ],
   "source": [
    "aux = df_train_month[['date_block_num', 'shop_id', 'item_id', 'item_cnt_month', 'revenue_month']].pivot_table(\n",
    "                index=['shop_id', 'item_id'],\n",
    "                columns=['date_block_num'],\n",
    "                values=['item_cnt_month', 'revenue_month'], fill_value=0)\n",
    "aux.head()"
   ]
  },
  {
   "cell_type": "markdown",
   "metadata": {},
   "source": [
    "___________________"
   ]
  },
  {
   "cell_type": "markdown",
   "metadata": {},
   "source": [
    "Adicionando as lagged em item_cnt_day e revenue."
   ]
  },
  {
   "cell_type": "code",
   "execution_count": null,
   "metadata": {},
   "outputs": [],
   "source": [
    "first_lvl_columns = df_month.columns.levels[0] # [item_cnt_day, revenue]\n",
    "n_lags = 1\n",
    "\n",
    "for first_lvl_name in first_lvl_columns:\n",
    "    \n",
    "    for lag in range(1,n_lags + 1,1):\n",
    "        \n",
    "        aux = df_month[first_lvl_name].shift(-lag, axis=1)\n",
    "        \n",
    "        aux = pd.concat([aux], keys=[first_lvl_name + '_lag(-'+str(lag)+')'], axis=1) # Faltou habilidade aqui.\n",
    "        \n",
    "        df_month = pd.concat([df_month, aux], join='inner', axis=1)\n",
    "\n",
    "df_month.head()"
   ]
  },
  {
   "cell_type": "code",
   "execution_count": null,
   "metadata": {},
   "outputs": [],
   "source": [
    "# Uma visualização mais limpa.\n",
    "df_month[['item_cnt_day_lag(-1)']].head()"
   ]
  },
  {
   "cell_type": "markdown",
   "metadata": {},
   "source": [
    "É necessário retirar as colunas com o mês 33. O motivo disso está um pouco explicado aqui [lagged variables](#lagged)."
   ]
  },
  {
   "cell_type": "markdown",
   "metadata": {},
   "source": [
    "### Semestre e ano"
   ]
  },
  {
   "cell_type": "markdown",
   "metadata": {},
   "source": [
    "A ideia aqui é criar colunas que indicam meses especiais com 1 e meses normais com 0. Por exemplo, podemos criar uma coluna na qual o mês de Dezembro é considerado especial (1). Isso deve ajudar o algoritmo a prever as vendas de natal."
   ]
  },
  {
   "cell_type": "code",
   "execution_count": null,
   "metadata": {},
   "outputs": [],
   "source": [
    "# Criando uma coluna com zeros.\n",
    "train['is_year'] = 0\n",
    "\n",
    "# Nos lugares onde o date_block_num for divisível por 12 colocamos o valor 1.\n",
    "train['is_year'][(train.date_block_num + 1) % 12 == 0]  = 1"
   ]
  },
  {
   "cell_type": "markdown",
   "metadata": {},
   "source": [
    "> <a name=\"back3\"></a> **Obs.:** Se ficou muito complicado de entender o que aconteceu na última linha, eu coloquei um exemplo mais simples [aqui](#mask)."
   ]
  },
  {
   "cell_type": "code",
   "execution_count": null,
   "metadata": {},
   "outputs": [],
   "source": [
    "# Checando se os valores foram substituidos corretamente.\n",
    "train[train.date_block_num == 11].head()"
   ]
  },
  {
   "cell_type": "code",
   "execution_count": null,
   "metadata": {},
   "outputs": [],
   "source": [
    "# Criando uma coluna com zeros.\n",
    "train['is_semester'] = 0\n",
    "\n",
    "# Nos lugares onde o date_block_num for divisível por 12 colocamos o valor 1.\n",
    "train['is_semester'][(train.date_block_num + 1) % 6 == 0]  = 1"
   ]
  },
  {
   "cell_type": "code",
   "execution_count": null,
   "metadata": {},
   "outputs": [],
   "source": [
    "# Checando se os valores foram substituidos corretamente.\n",
    "train[train.date_block_num == 11].head()"
   ]
  },
  {
   "cell_type": "code",
   "execution_count": null,
   "metadata": {
    "scrolled": true
   },
   "outputs": [],
   "source": [
    "# Checando se os valores foram substituidos corretamente.\n",
    "train[train.date_block_num == 5].head()"
   ]
  },
  {
   "cell_type": "markdown",
   "metadata": {},
   "source": [
    "### Latitude e Longitude"
   ]
  },
  {
   "cell_type": "markdown",
   "metadata": {},
   "source": [
    "No final do notebook [1. EDA](1.%20EDA.ipynb) (Sessão Show off) eu queria colocar alguns mapas com as localizações e vendas das lojas, mas acabei achando interessante incluir também a latitude e longitude como features.\n",
    "Para criar o arquivo com as latitudes e longitudes eu usei a feature com o nome das cidades e esse [site](https://www.latlong.net/)."
   ]
  },
  {
   "cell_type": "markdown",
   "metadata": {},
   "source": [
    "### <a name=\"unindo\"></a> Unindo os dataframes (sem lagged)"
   ]
  },
  {
   "cell_type": "code",
   "execution_count": null,
   "metadata": {},
   "outputs": [],
   "source": [
    "df_clean = pd.merge(train, shops, on=['shop_id'], how='left')\n",
    "df_clean = pd.merge(df_clean, items, on=['item_id'], how='left')\n",
    "df_clean = pd.merge(df_clean, items_cat, on=['item_category_id'], how='left')\n",
    "\n",
    "df_clean.drop(['shop_name', 'item_name', 'city',\n",
    "         'item_category_name', 'split',\n",
    "         'type', 'subtype'], axis=1, inplace=True)"
   ]
  },
  {
   "cell_type": "markdown",
   "metadata": {},
   "source": [
    "-----------------"
   ]
  },
  {
   "cell_type": "markdown",
   "metadata": {},
   "source": [
    "# Apêndice"
   ]
  },
  {
   "cell_type": "markdown",
   "metadata": {},
   "source": [
    "### Trocando features categóricas por números ou vetores"
   ]
  },
  {
   "cell_type": "markdown",
   "metadata": {},
   "source": [
    "<a name=\"go1\"></a>No código abaixo, x vai guardar a relações entre os rótulos,\n",
    "-  Ex.: a = 1, b = 2, e etc.\n",
    "\n",
    "Isso é importante se quisermos fazer a transformação reversa.\n",
    "\n",
    "[Voltar ao notebook](#back1)"
   ]
  },
  {
   "cell_type": "code",
   "execution_count": null,
   "metadata": {},
   "outputs": [],
   "source": [
    "x = LabelEncoder()\n",
    "\n",
    "vetor_normal = ['a','b','c','d']\n",
    "\n",
    "vetor_transformado = x.fit_transform(vetor_normal)\n",
    "\n",
    "print('Categorias', vetor_normal)\n",
    "print('Rótulos:', vetor_transformado)\n",
    "\n",
    "voltando = x.inverse_transform(vetor_transformado)\n",
    "\n",
    "print('Invertendo a transformação:', voltando)"
   ]
  },
  {
   "cell_type": "markdown",
   "metadata": {},
   "source": [
    "One-hot enconding."
   ]
  },
  {
   "cell_type": "code",
   "execution_count": null,
   "metadata": {},
   "outputs": [],
   "source": [
    "one = OneHotEncoder(handle_unknown='ignore')\n",
    "vetor = [['Laranja', 'bom'], ['Maçã', 'bom'], ['Cebola', 'ruim']]\n",
    "one.fit(vetor)"
   ]
  },
  {
   "cell_type": "code",
   "execution_count": null,
   "metadata": {},
   "outputs": [],
   "source": [
    "one_hot = one.transform(vetor).toarray()\n",
    "print('Representação em forma de vetor:')\n",
    "print(['Laranja', 'bom'], '=', one_hot[0])\n",
    "print(['Maçã', 'bom'], '=', one_hot[1])\n",
    "print(['Cebola', 'ruim'], '=', one_hot[2])"
   ]
  },
  {
   "cell_type": "markdown",
   "metadata": {},
   "source": [
    "Quando colocamos um vetor que não existe, como ['Chocolate, 'médio'], e o handle_unknown='ignore', a função vai retornar um vetor $0$. Agora, se colocarmos um vetor que não estava presente inicialmente, mas é uma combinação dos outros como ['Cebola', 'bom'], então conseguimos uma representação vetorial."
   ]
  },
  {
   "cell_type": "code",
   "execution_count": null,
   "metadata": {},
   "outputs": [],
   "source": [
    "one_hot = one.transform([['Chocolate', 'médio'], ['Cebola', 'bom']]).toarray()\n",
    "print('Não estava presente nas categórias:')\n",
    "print(['Chocolate', 'médio'], '=', one_hot[0])\n",
    "print('Combinação de outras categórias:')\n",
    "print(['Cebola', 'bom'], '=', one_hot[1])"
   ]
  },
  {
   "cell_type": "markdown",
   "metadata": {},
   "source": [
    "----------------------------------------"
   ]
  },
  {
   "cell_type": "markdown",
   "metadata": {},
   "source": [
    "### <a name=\"lagged\"></a>  Lagged um pouco mais explicada\n",
    "\n",
    "[Voltar ao notebook](#back2)"
   ]
  },
  {
   "cell_type": "code",
   "execution_count": null,
   "metadata": {},
   "outputs": [],
   "source": [
    "a = pd.merge(a, a.shift(-1, axis=1), left_index=True, right_index=True, how='inner', suffixes=('_-1', '_0'))"
   ]
  },
  {
   "cell_type": "markdown",
   "metadata": {},
   "source": [
    "Explicando lagged variables"
   ]
  },
  {
   "cell_type": "code",
   "execution_count": null,
   "metadata": {},
   "outputs": [],
   "source": [
    "# Criando um pandas dataframe com o número de vendas de 1 até 6.\n",
    "df_aux = pd.DataFrame(np.linspace(1,6,6), columns=['Vendas'])\n",
    "df_aux"
   ]
  },
  {
   "cell_type": "markdown",
   "metadata": {},
   "source": [
    "> **Obs.:** df_aux simula um dataset das vendas de uma loja, onde a passagem de tempo seria algo do tipo:\n",
    "- linha 0 = mês de Janeiro.\n",
    "- linha 1 = mês de Fevereiro."
   ]
  },
  {
   "cell_type": "code",
   "execution_count": null,
   "metadata": {},
   "outputs": [],
   "source": [
    "#Usando a função shift para deslocar o array em 1.\n",
    "df_aux['Vendas_shift_+'] = df_aux['Vendas'].shift(1)\n",
    "df_aux['Vendas_shift_-'] = df_aux['Vendas'].shift(-1)\n",
    "\n",
    "df_aux"
   ]
  },
  {
   "cell_type": "markdown",
   "metadata": {},
   "source": [
    "Temos que descartar as linhas que possuem Nan's."
   ]
  },
  {
   "cell_type": "code",
   "execution_count": null,
   "metadata": {},
   "outputs": [],
   "source": [
    "df_aux.dropna(inplace=True)\n",
    "df_aux"
   ]
  },
  {
   "cell_type": "markdown",
   "metadata": {},
   "source": [
    "Note que as colunas estão fora de ordem, para que o algoritmo reconheça a passagem de tempo é necessário reorganziar as colunas."
   ]
  },
  {
   "cell_type": "code",
   "execution_count": null,
   "metadata": {},
   "outputs": [],
   "source": [
    "df_aux = df_aux[['Vendas_shift_+', 'Vendas', 'Vendas_shift_-']]\n",
    "df_aux"
   ]
  },
  {
   "cell_type": "markdown",
   "metadata": {},
   "source": [
    "É mais conveninente renomear as colunas tmb."
   ]
  },
  {
   "cell_type": "code",
   "execution_count": null,
   "metadata": {},
   "outputs": [],
   "source": [
    "df_aux.rename(columns={'Vendas_shift_+': 'Vendas_t-2',\n",
    "                       'Vendas': 'Vendas_t-1',\n",
    "                       'Vendas_shift_-': 'Vendas_t'}\n",
    "              , inplace=True)\n",
    "df_aux"
   ]
  },
  {
   "cell_type": "markdown",
   "metadata": {},
   "source": [
    "Compare essa tabela com a gerada inicialmente, onde a passagem dos meses seguiam o número das linhas. Na nova tabela, a passagem de tempo pode ser vista seguindo as colunas $t-2$, $t-1$, $t$."
   ]
  },
  {
   "cell_type": "markdown",
   "metadata": {},
   "source": [
    "> **Obs.:** Esse tipo de organização é perfeita para usarmos em algoritmo de Machine Learning. As linhas seriam suas amostras, as features seriam $t-2$ e $t-1$, e o que você estaria prevendo seria $t$."
   ]
  },
  {
   "cell_type": "markdown",
   "metadata": {},
   "source": [
    "### Código para gerar e organizar as variáveis com lag"
   ]
  },
  {
   "cell_type": "markdown",
   "metadata": {},
   "source": [
    "O processo de criar lagged features é bem chato se for feito manualmente igual fizemos acima, principalmente se fizermos com muitas variáveis. Acabei fazendo um função pra fazer isso. Ela foi baseado em outra função encontrada [aqui][lag] (ótimo site para aprender Machine Learning).\n",
    "\n",
    "[lag]: https://machinelearningmastery.com/basic-feature-engineering-time-series-data-python/"
   ]
  },
  {
   "cell_type": "markdown",
   "metadata": {},
   "source": [
    "> Acabei não usando essa função nesse notebook, mas ela é bem útil para gerar lagged variables."
   ]
  },
  {
   "cell_type": "code",
   "execution_count": null,
   "metadata": {},
   "outputs": [],
   "source": [
    "def time_shift(df, lags, dropnan=True):\n",
    "    \n",
    "    '''\n",
    "    Adiciona novas colunas deslocadas no tempo.\n",
    "    Argumentos:\n",
    "    \n",
    "        df: Pandas DataFrame.\n",
    "        \n",
    "        lags: lista com o número de passos\n",
    "               a ser deslocado.\n",
    "               \n",
    "        dropnan: (True) Retira as linhas que\n",
    "                teham Nan's.\n",
    "                \n",
    "    Retorna:\n",
    "        Pandas DataFrame com as colunas deslocadas.\n",
    "    '''\n",
    "    lags.append(0)\n",
    "    lags = -1 * np.sort(lags)\n",
    "    \n",
    "    columns = [str(df.name)] if type(df) is pd.Series else df.columns\n",
    "    col = []\n",
    "    \n",
    "    for column in columns:\n",
    "        for lag in lags: \n",
    "            \n",
    "            if lag == 0:\n",
    "                new_column = column \n",
    "                col.append(new_column)\n",
    "            else:\n",
    "                new_column = column + '_lag(' + str(-1 * lag) + ')'\n",
    "                col.append(new_column)\n",
    "                df[new_column] = df[column].shift(lag)\n",
    "                \n",
    "    if dropnan:\n",
    "        df.dropna(inplace=True)\n",
    "        \n",
    "    return df[col]"
   ]
  },
  {
   "cell_type": "markdown",
   "metadata": {},
   "source": [
    "### <a name=\"mask\"></a> Exemplo para seleção do mês ano\n",
    "\n",
    "[Voltar ao notebook](#back3)"
   ]
  },
  {
   "cell_type": "markdown",
   "metadata": {},
   "source": [
    "Vamos criar um array com números de 1 a 36."
   ]
  },
  {
   "cell_type": "code",
   "execution_count": null,
   "metadata": {},
   "outputs": [],
   "source": [
    "month = np.linspace(1,36,36)\n",
    "month"
   ]
  },
  {
   "cell_type": "markdown",
   "metadata": {},
   "source": [
    "Ao fazermos (month % 12), o python retorna o resto da divisão do array month por 12, ou seja, os únicos números que divisíveis são 12, 24, 36."
   ]
  },
  {
   "cell_type": "code",
   "execution_count": null,
   "metadata": {},
   "outputs": [],
   "source": [
    "(month % 12)"
   ]
  },
  {
   "cell_type": "markdown",
   "metadata": {},
   "source": [
    "Agora, ao adicionarmos uma comparação (month % 12 == 0), queremos saber em quais posições do arrya a condição (== 0) é verdade."
   ]
  },
  {
   "cell_type": "code",
   "execution_count": null,
   "metadata": {
    "scrolled": true
   },
   "outputs": [],
   "source": [
    "(month % 12 == 0)"
   ]
  },
  {
   "cell_type": "markdown",
   "metadata": {},
   "source": [
    "Logo, ao colocarmos esse tipo de array no pandas queremos dizer: Só faça o que pedimos nas posições onde temos **True**, não faça nada se for **False**."
   ]
  },
  {
   "cell_type": "markdown",
   "metadata": {},
   "source": [
    "----------------------------------------"
   ]
  },
  {
   "cell_type": "markdown",
   "metadata": {},
   "source": [
    "# Referências\n",
    "1. Muitas das features craidas neste notebook foram retiradas deste [kernel](https://www.kaggle.com/dlarionov/feature-engineering-xgboost).\n",
    "2. Site de onde tirei as informações sobre lagged variables. [Machine Learning Mastery](https://machinelearningmastery.com/basic-feature-engineering-time-series-data-python/)\n",
    "3. Site para encontrar as latitudes e longitudes. [Latlong](https://www.latlong.net/)."
   ]
  }
 ],
 "metadata": {
  "kernelspec": {
   "display_name": "Python 3",
   "language": "python",
   "name": "python3"
  },
  "language_info": {
   "codemirror_mode": {
    "name": "ipython",
    "version": 3
   },
   "file_extension": ".py",
   "mimetype": "text/x-python",
   "name": "python",
   "nbconvert_exporter": "python",
   "pygments_lexer": "ipython3",
   "version": "3.6.7"
  }
 },
 "nbformat": 4,
 "nbformat_minor": 2
}
