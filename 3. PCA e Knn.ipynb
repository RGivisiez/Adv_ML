{
 "cells": [
  {
   "cell_type": "code",
   "execution_count": 1,
   "metadata": {},
   "outputs": [],
   "source": [
    "def fit_column_scaler_min_max(minval, maxval, dataframe):\n",
    "    \n",
    "    columns = dataframe.columns\n",
    "    \n",
    "    scaler = { column : MinMaxScaler(feature_range=(minval, maxval))\n",
    "              for column in columns}\n",
    "    \n",
    "    scaler_fit = [scaler[column].fit_transform(dataframe[[column]])\n",
    "                  for column in columns]\n",
    "    \n",
    "    for idx, column in enumerate(columns):\n",
    "        dataframe[column] = scaler_fit[idx]\n",
    "        \n",
    "    return dataframe, scaler"
   ]
  },
  {
   "cell_type": "markdown",
   "metadata": {},
   "source": [
    "### Ideias para dataviz:\n",
    "- [ ] Olhar vendas/receita de categórias por cidade.\n",
    "- [ ] Agrupar as lojas por vendas, por receita e por cidade."
   ]
  },
  {
   "cell_type": "markdown",
   "metadata": {},
   "source": [
    "- https://www.kaggle.com/arthurtok/interactive-intro-to-dimensionality-reduction\n",
    "- http://sebastianraschka.com/Articles/2015_pca_in_3_steps.html\n",
    "- http://fabian-kostadinov.github.io/2015/05/31/pca-in-r/"
   ]
  },
  {
   "cell_type": "markdown",
   "metadata": {},
   "source": [
    "[1](https://www.analyticsvidhya.com/blog/2018/10/predicting-stock-price-machine-learningnd-deep-learning-techniques-python/) <- Ideia pra usar Knn"
   ]
  },
  {
   "cell_type": "code",
   "execution_count": null,
   "metadata": {},
   "outputs": [],
   "source": []
  }
 ],
 "metadata": {
  "kernelspec": {
   "display_name": "Python 3",
   "language": "python",
   "name": "python3"
  },
  "language_info": {
   "codemirror_mode": {
    "name": "ipython",
    "version": 3
   },
   "file_extension": ".py",
   "mimetype": "text/x-python",
   "name": "python",
   "nbconvert_exporter": "python",
   "pygments_lexer": "ipython3",
   "version": "3.6.7"
  }
 },
 "nbformat": 4,
 "nbformat_minor": 2
}
