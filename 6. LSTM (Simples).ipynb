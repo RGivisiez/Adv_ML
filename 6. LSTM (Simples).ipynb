{
 "cells": [
  {
   "cell_type": "markdown",
   "metadata": {},
   "source": [
    "Repetir o gráfico:\n",
    "- Categorias que vendem mais em cada mês.\n",
    "usando o clip(0,20)"
   ]
  },
  {
   "cell_type": "markdown",
   "metadata": {},
   "source": [
    "A linha que monta a entrada da LSTM"
   ]
  },
  {
   "cell_type": "code",
   "execution_count": 1,
   "metadata": {},
   "outputs": [],
   "source": [
    "#a = df_clean[['date_block_num', 'shop_id', 'item_id','city_code', 'revenue', 'item_cnt_day']]\n",
    "#a.pivot_table(index=['shop_id', 'item_id', 'city_code'], columns=['date_block_num'], values=['item_cnt_day','revenue'], aggfunc='sum', fill_value=0).stack()[0:33]"
   ]
  },
  {
   "cell_type": "code",
   "execution_count": 25,
   "metadata": {},
   "outputs": [],
   "source": [
    "import pandas as pd\n",
    "import numpy as np\n",
    "import matplotlib.pyplot as plt\n",
    "import seaborn as sns\n",
    "\n",
    "from keras.models import Model\n",
    "from keras.layers import Input, LSTM, Dense, Dropout\n",
    "from keras.models import Sequential\n",
    "\n",
    "from sklearn.metrics import mean_squared_error\n",
    "\n",
    "path = 'data'\n",
    "\n",
    "train = pd.read_csv(path + '/sales_train.csv.gz')\n",
    "test = pd.read_csv(path + '/test.csv.gz').set_index('ID')\n",
    "items = pd.read_csv(path + '/items.csv')\n",
    "items_cat = pd.read_csv(path + '/item_categories.csv')\n",
    "shops = pd.read_csv(path + '/shops.csv')\n",
    "geo = pd.read_csv(path + '/geo_shop.csv')"
   ]
  },
  {
   "cell_type": "code",
   "execution_count": 4,
   "metadata": {},
   "outputs": [
    {
     "data": {
      "text/html": [
       "<div>\n",
       "<style scoped>\n",
       "    .dataframe tbody tr th:only-of-type {\n",
       "        vertical-align: middle;\n",
       "    }\n",
       "\n",
       "    .dataframe tbody tr th {\n",
       "        vertical-align: top;\n",
       "    }\n",
       "\n",
       "    .dataframe thead th {\n",
       "        text-align: right;\n",
       "    }\n",
       "</style>\n",
       "<table border=\"1\" class=\"dataframe\">\n",
       "  <thead>\n",
       "    <tr style=\"text-align: right;\">\n",
       "      <th></th>\n",
       "      <th>shop_id</th>\n",
       "      <th>item_id</th>\n",
       "      <th>date_block_num</th>\n",
       "      <th>item_cnt_month_lag(-1)</th>\n",
       "      <th>item_cnt_month_lag(-2)</th>\n",
       "      <th>item_cnt_month_lag(-3)</th>\n",
       "      <th>item_cnt_month_lag(-4)</th>\n",
       "      <th>item_cnt_month_lag(-5)</th>\n",
       "      <th>item_cnt_month_lag(-6)</th>\n",
       "      <th>item_cnt_month_lag(0)</th>\n",
       "      <th>...</th>\n",
       "      <th>revenue_month_lag(-5)</th>\n",
       "      <th>revenue_month_lag(-6)</th>\n",
       "      <th>revenue_month_lag(0)</th>\n",
       "      <th>item_category_id</th>\n",
       "      <th>type_code</th>\n",
       "      <th>subtype_code</th>\n",
       "      <th>city_code</th>\n",
       "      <th>latitude</th>\n",
       "      <th>longitude</th>\n",
       "      <th>is_online</th>\n",
       "    </tr>\n",
       "  </thead>\n",
       "  <tbody>\n",
       "    <tr>\n",
       "      <th>6</th>\n",
       "      <td>0</td>\n",
       "      <td>30</td>\n",
       "      <td>6</td>\n",
       "      <td>0</td>\n",
       "      <td>0</td>\n",
       "      <td>0</td>\n",
       "      <td>0</td>\n",
       "      <td>31</td>\n",
       "      <td>0</td>\n",
       "      <td>0</td>\n",
       "      <td>...</td>\n",
       "      <td>8215.0</td>\n",
       "      <td>0.0</td>\n",
       "      <td>0.0</td>\n",
       "      <td>40</td>\n",
       "      <td>11</td>\n",
       "      <td>4</td>\n",
       "      <td>29</td>\n",
       "      <td>62.035454</td>\n",
       "      <td>129.675476</td>\n",
       "      <td>0</td>\n",
       "    </tr>\n",
       "    <tr>\n",
       "      <th>7</th>\n",
       "      <td>0</td>\n",
       "      <td>30</td>\n",
       "      <td>7</td>\n",
       "      <td>0</td>\n",
       "      <td>0</td>\n",
       "      <td>0</td>\n",
       "      <td>0</td>\n",
       "      <td>0</td>\n",
       "      <td>31</td>\n",
       "      <td>0</td>\n",
       "      <td>...</td>\n",
       "      <td>0.0</td>\n",
       "      <td>8215.0</td>\n",
       "      <td>0.0</td>\n",
       "      <td>40</td>\n",
       "      <td>11</td>\n",
       "      <td>4</td>\n",
       "      <td>29</td>\n",
       "      <td>62.035454</td>\n",
       "      <td>129.675476</td>\n",
       "      <td>0</td>\n",
       "    </tr>\n",
       "    <tr>\n",
       "      <th>8</th>\n",
       "      <td>0</td>\n",
       "      <td>30</td>\n",
       "      <td>8</td>\n",
       "      <td>0</td>\n",
       "      <td>0</td>\n",
       "      <td>0</td>\n",
       "      <td>0</td>\n",
       "      <td>0</td>\n",
       "      <td>0</td>\n",
       "      <td>0</td>\n",
       "      <td>...</td>\n",
       "      <td>0.0</td>\n",
       "      <td>0.0</td>\n",
       "      <td>0.0</td>\n",
       "      <td>40</td>\n",
       "      <td>11</td>\n",
       "      <td>4</td>\n",
       "      <td>29</td>\n",
       "      <td>62.035454</td>\n",
       "      <td>129.675476</td>\n",
       "      <td>0</td>\n",
       "    </tr>\n",
       "    <tr>\n",
       "      <th>9</th>\n",
       "      <td>0</td>\n",
       "      <td>30</td>\n",
       "      <td>9</td>\n",
       "      <td>0</td>\n",
       "      <td>0</td>\n",
       "      <td>0</td>\n",
       "      <td>0</td>\n",
       "      <td>0</td>\n",
       "      <td>0</td>\n",
       "      <td>0</td>\n",
       "      <td>...</td>\n",
       "      <td>0.0</td>\n",
       "      <td>0.0</td>\n",
       "      <td>0.0</td>\n",
       "      <td>40</td>\n",
       "      <td>11</td>\n",
       "      <td>4</td>\n",
       "      <td>29</td>\n",
       "      <td>62.035454</td>\n",
       "      <td>129.675476</td>\n",
       "      <td>0</td>\n",
       "    </tr>\n",
       "    <tr>\n",
       "      <th>10</th>\n",
       "      <td>0</td>\n",
       "      <td>30</td>\n",
       "      <td>10</td>\n",
       "      <td>0</td>\n",
       "      <td>0</td>\n",
       "      <td>0</td>\n",
       "      <td>0</td>\n",
       "      <td>0</td>\n",
       "      <td>0</td>\n",
       "      <td>0</td>\n",
       "      <td>...</td>\n",
       "      <td>0.0</td>\n",
       "      <td>0.0</td>\n",
       "      <td>0.0</td>\n",
       "      <td>40</td>\n",
       "      <td>11</td>\n",
       "      <td>4</td>\n",
       "      <td>29</td>\n",
       "      <td>62.035454</td>\n",
       "      <td>129.675476</td>\n",
       "      <td>0</td>\n",
       "    </tr>\n",
       "  </tbody>\n",
       "</table>\n",
       "<p>5 rows × 59 columns</p>\n",
       "</div>"
      ],
      "text/plain": [
       "    shop_id  item_id  date_block_num  item_cnt_month_lag(-1)  \\\n",
       "6         0       30               6                       0   \n",
       "7         0       30               7                       0   \n",
       "8         0       30               8                       0   \n",
       "9         0       30               9                       0   \n",
       "10        0       30              10                       0   \n",
       "\n",
       "    item_cnt_month_lag(-2)  item_cnt_month_lag(-3)  item_cnt_month_lag(-4)  \\\n",
       "6                        0                       0                       0   \n",
       "7                        0                       0                       0   \n",
       "8                        0                       0                       0   \n",
       "9                        0                       0                       0   \n",
       "10                       0                       0                       0   \n",
       "\n",
       "    item_cnt_month_lag(-5)  item_cnt_month_lag(-6)  item_cnt_month_lag(0)  \\\n",
       "6                       31                       0                      0   \n",
       "7                        0                      31                      0   \n",
       "8                        0                       0                      0   \n",
       "9                        0                       0                      0   \n",
       "10                       0                       0                      0   \n",
       "\n",
       "    ...  revenue_month_lag(-5)  revenue_month_lag(-6)  revenue_month_lag(0)  \\\n",
       "6   ...                 8215.0                    0.0                   0.0   \n",
       "7   ...                    0.0                 8215.0                   0.0   \n",
       "8   ...                    0.0                    0.0                   0.0   \n",
       "9   ...                    0.0                    0.0                   0.0   \n",
       "10  ...                    0.0                    0.0                   0.0   \n",
       "\n",
       "    item_category_id  type_code  subtype_code  city_code   latitude  \\\n",
       "6                 40         11             4         29  62.035454   \n",
       "7                 40         11             4         29  62.035454   \n",
       "8                 40         11             4         29  62.035454   \n",
       "9                 40         11             4         29  62.035454   \n",
       "10                40         11             4         29  62.035454   \n",
       "\n",
       "     longitude  is_online  \n",
       "6   129.675476          0  \n",
       "7   129.675476          0  \n",
       "8   129.675476          0  \n",
       "9   129.675476          0  \n",
       "10  129.675476          0  \n",
       "\n",
       "[5 rows x 59 columns]"
      ]
     },
     "execution_count": 4,
     "metadata": {},
     "output_type": "execute_result"
    }
   ],
   "source": [
    "df_train_month = pd.read_pickle('df_train_month_lag6.pkl')\n",
    "\n",
    "df_train_month.head()"
   ]
  },
  {
   "cell_type": "code",
   "execution_count": null,
   "metadata": {},
   "outputs": [],
   "source": [
    "def fit_column_scaler_min_max(minval, maxval, dataframe):\n",
    "    \n",
    "    columns = dataframe.columns\n",
    "    \n",
    "    scaler = { column : MinMaxScaler(feature_range=(minval, maxval))\n",
    "              for column in columns}\n",
    "    \n",
    "    scaler_fit = [scaler[column].fit_transform(dataframe[[column]])\n",
    "                  for column in columns]\n",
    "    \n",
    "    for idx, column in enumerate(columns):\n",
    "        dataframe[column] = scaler_fit[idx]\n",
    "        \n",
    "    return dataframe, scaler"
   ]
  },
  {
   "cell_type": "code",
   "execution_count": null,
   "metadata": {},
   "outputs": [],
   "source": [
    "def inv_column_scaler_min_max(scaler_data, dataframe):\n",
    "    \n",
    "    columns = dataframe.columns\n",
    "    \n",
    "    scaler_inv = [scaler_data[column].inverse_transform(dataframe[[column]])\n",
    "                  for column in columns]\n",
    "        \n",
    "    for idx, column in enumerate(columns):\n",
    "        dataframe[column] = scaler_inv[idx]\n",
    "        \n",
    "    return dataframe"
   ]
  },
  {
   "cell_type": "code",
   "execution_count": null,
   "metadata": {},
   "outputs": [],
   "source": [
    "df_train_month, scaler = fit_column_scaler_min_max(0, 1, df_month)"
   ]
  },
  {
   "cell_type": "code",
   "execution_count": 5,
   "metadata": {},
   "outputs": [],
   "source": [
    "t = df_train_month['date_block_num']\n",
    "time_steps = t.max() - t.min()\n",
    "\n",
    "del t"
   ]
  },
  {
   "cell_type": "code",
   "execution_count": 6,
   "metadata": {},
   "outputs": [
    {
     "data": {
      "text/plain": [
       "('Time:', 27, 'Features:', 57, 'Samples:', 424124)"
      ]
     },
     "execution_count": 6,
     "metadata": {},
     "output_type": "execute_result"
    }
   ],
   "source": [
    "features = df_train_month.shape[1] - 2 # date_block_num e item_cnt_lag(0) não vão entrar.\n",
    "n_samples = int(df_train_month.shape[0] / (time_steps + 1) ) # +1 é porque ainda não retirei o mês 33\n",
    "\n",
    "'Time:', time_steps, 'Features:', features, 'Samples:', n_samples"
   ]
  },
  {
   "cell_type": "code",
   "execution_count": 7,
   "metadata": {},
   "outputs": [],
   "source": [
    "x_train = df_train_month[df_train_month.date_block_num != 33].drop(['date_block_num', 'item_cnt_month_lag(0)'], axis=1).values\n",
    "y_train = df_train_month.loc[df_train_month.date_block_num == 33, 'item_cnt_month_lag(0)'].values"
   ]
  },
  {
   "cell_type": "code",
   "execution_count": 8,
   "metadata": {},
   "outputs": [],
   "source": [
    "x_train = x_train.reshape((n_samples, time_steps, features))"
   ]
  },
  {
   "cell_type": "code",
   "execution_count": 9,
   "metadata": {},
   "outputs": [
    {
     "data": {
      "text/plain": [
       "((424124, 27, 57), (424124,))"
      ]
     },
     "execution_count": 9,
     "metadata": {},
     "output_type": "execute_result"
    }
   ],
   "source": [
    "x_train.shape, y_train.shape"
   ]
  },
  {
   "cell_type": "code",
   "execution_count": 11,
   "metadata": {},
   "outputs": [],
   "source": [
    "model = Sequential()\n",
    "model.add(LSTM(units=32, input_shape=(time_steps, features)))#, return_sequences=True))\n",
    "model.add(Dropout(0.5))\n",
    "#model.add(LSTM(units=64, input_shape=(time_step1, features1)))\n",
    "#model.add(Dropout(0.5))\n",
    "model.add(Dense(1))"
   ]
  },
  {
   "cell_type": "code",
   "execution_count": 12,
   "metadata": {},
   "outputs": [],
   "source": [
    "model.compile(loss = 'mse',optimizer = 'adam', metrics = ['mean_squared_error'])"
   ]
  },
  {
   "cell_type": "code",
   "execution_count": 13,
   "metadata": {},
   "outputs": [
    {
     "name": "stdout",
     "output_type": "stream",
     "text": [
      "_________________________________________________________________\n",
      "Layer (type)                 Output Shape              Param #   \n",
      "=================================================================\n",
      "lstm_1 (LSTM)                (None, 32)                11520     \n",
      "_________________________________________________________________\n",
      "dropout_1 (Dropout)          (None, 32)                0         \n",
      "_________________________________________________________________\n",
      "dense_1 (Dense)              (None, 1)                 33        \n",
      "=================================================================\n",
      "Total params: 11,553\n",
      "Trainable params: 11,553\n",
      "Non-trainable params: 0\n",
      "_________________________________________________________________\n"
     ]
    }
   ],
   "source": [
    "model.summary()"
   ]
  },
  {
   "cell_type": "code",
   "execution_count": 14,
   "metadata": {},
   "outputs": [
    {
     "name": "stdout",
     "output_type": "stream",
     "text": [
      "Epoch 1/10\n",
      "424124/424124 [==============================] - 23s 55us/step - loss: 16.3354 - mean_squared_error: 16.3354\n",
      "Epoch 2/10\n",
      "424124/424124 [==============================] - 22s 51us/step - loss: 16.1323 - mean_squared_error: 16.1323\n",
      "Epoch 3/10\n",
      "424124/424124 [==============================] - 22s 53us/step - loss: 16.0567 - mean_squared_error: 16.0567\n",
      "Epoch 4/10\n",
      "424124/424124 [==============================] - 22s 52us/step - loss: 16.0313 - mean_squared_error: 16.0313\n",
      "Epoch 5/10\n",
      "424124/424124 [==============================] - 22s 51us/step - loss: 16.0342 - mean_squared_error: 16.0342\n",
      "Epoch 6/10\n",
      "424124/424124 [==============================] - 23s 54us/step - loss: 16.0222 - mean_squared_error: 16.0222\n",
      "Epoch 7/10\n",
      "424124/424124 [==============================] - 22s 53us/step - loss: 16.0279 - mean_squared_error: 16.0279\n",
      "Epoch 8/10\n",
      "424124/424124 [==============================] - 22s 52us/step - loss: 16.0181 - mean_squared_error: 16.0181\n",
      "Epoch 9/10\n",
      "424124/424124 [==============================] - 22s 52us/step - loss: 16.0228 - mean_squared_error: 16.0228\n",
      "Epoch 10/10\n",
      "424124/424124 [==============================] - 21s 50us/step - loss: 16.0223 - mean_squared_error: 16.0223\n"
     ]
    }
   ],
   "source": [
    "history = model.fit(x_train, y_train, batch_size = 4096, epochs = 10, shuffle=False)"
   ]
  },
  {
   "cell_type": "code",
   "execution_count": 15,
   "metadata": {},
   "outputs": [
    {
     "data": {
      "image/png": "[encoded data removed]",
      "text/plain": [
       "<Figure size 432x288 with 1 Axes>"
      ]
     },
     "metadata": {
      "needs_background": "light"
     },
     "output_type": "display_data"
    }
   ],
   "source": [
    "plt.plot(history.history['loss'], label='train')\n",
    "plt.plot(history.history[''], label='train')\n",
    "plt.legend()\n",
    "plt.show()"
   ]
  },
  {
   "cell_type": "code",
   "execution_count": 23,
   "metadata": {},
   "outputs": [],
   "source": [
    "#pred = df_train_month[df_train_month.date_block_num != 6].drop(['date_block_num', 'item_cnt_month_lag(0)'], axis=1).values\n",
    "#pred = pred.reshape((n_samples, time_steps, features))\n",
    "#yhat = model.predict(pred)"
   ]
  },
  {
   "cell_type": "code",
   "execution_count": 27,
   "metadata": {},
   "outputs": [
    {
     "name": "stdout",
     "output_type": "stream",
     "text": [
      "Test RMSE: 3.993\n"
     ]
    }
   ],
   "source": [
    "#rmse = np.sqrt(mean_squared_error(y_train, yhat))\n",
    "#print('Test RMSE: %.3f' % rmse) #0.565"
   ]
  },
  {
   "cell_type": "code",
   "execution_count": null,
   "metadata": {},
   "outputs": [],
   "source": []
  }
 ],
 "metadata": {
  "kernelspec": {
   "display_name": "Python 3",
   "language": "python",
   "name": "python3"
  },
  "language_info": {
   "codemirror_mode": {
    "name": "ipython",
    "version": 3
   },
   "file_extension": ".py",
   "mimetype": "text/x-python",
   "name": "python",
   "nbconvert_exporter": "python",
   "pygments_lexer": "ipython3",
   "version": "3.6.7"
  }
 },
 "nbformat": 4,
 "nbformat_minor": 2
}
