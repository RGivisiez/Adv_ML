{
 "cells": [
  {
   "cell_type": "markdown",
   "metadata": {},
   "source": [
    "Repetir o gráfico:\n",
    "- Categorias que vendem mais em cada mês.\n",
    "usando o clip(0,20)"
   ]
  },
  {
   "cell_type": "markdown",
   "metadata": {},
   "source": [
    "A linha que monta a entrada da LSTM"
   ]
  },
  {
   "cell_type": "code",
   "execution_count": null,
   "metadata": {},
   "outputs": [],
   "source": [
    "a = df_clean[['date_block_num', 'shop_id', 'item_id','city_code', 'revenue', 'item_cnt_day']]\n",
    "a.pivot_table(index=['shop_id', 'item_id', 'city_code'], columns=['date_block_num'], values=['item_cnt_day','revenue'], aggfunc='sum', fill_value=0).stack()[0:33]"
   ]
  },
  {
   "cell_type": "code",
   "execution_count": null,
   "metadata": {},
   "outputs": [],
   "source": [
    "df_clean['date_block_num'] = df_clean['date_block_num'].astype(np.int16)\n",
    "df_clean['shop_id'] = df_clean['shop_id'].astype(np.int16)\n",
    "df_clean['item_id'] = df_clean['item_id'].astype(np.int16)\n",
    "df_clean['item_cnt_day'] = df_clean['item_cnt_day'].astype(np.int16)\n",
    "df_clean['is_year'] = df_clean['is_year'].astype(np.int16)\n",
    "df_clean['is_semester'] = df_clean['is_semester'].astype(np.int16)\n",
    "df_clean['city_code'] = df_clean['city_code'].astype(np.int16)\n",
    "df_clean['item_category_id'] = df_clean['item_category_id'].astype(np.int16)\n",
    "df_clean['type_code'] = df_clean['type_code'].astype(np.int16)\n",
    "df_clean['subtype_code'] = df_clean['subtype_code'].astype(np.int16)"
   ]
  }
 ],
 "metadata": {
  "kernelspec": {
   "display_name": "Python 3",
   "language": "python",
   "name": "python3"
  },
  "language_info": {
   "codemirror_mode": {
    "name": "ipython",
    "version": 3
   },
   "file_extension": ".py",
   "mimetype": "text/x-python",
   "name": "python",
   "nbconvert_exporter": "python",
   "pygments_lexer": "ipython3",
   "version": "3.6.7"
  }
 },
 "nbformat": 4,
 "nbformat_minor": 2
}
