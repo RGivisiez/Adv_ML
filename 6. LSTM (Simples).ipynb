{
 "cells": [
  {
   "cell_type": "markdown",
   "metadata": {},
   "source": [
    "Repetir o gráfico:\n",
    "- Categorias que vendem mais em cada mês.\n",
    "usando o clip(0,20)"
   ]
  },
  {
   "cell_type": "markdown",
   "metadata": {},
   "source": [
    "A linha que monta a entrada da LSTM"
   ]
  },
  {
   "cell_type": "code",
   "execution_count": null,
   "metadata": {},
   "outputs": [],
   "source": [
    "a = df_clean[['date_block_num', 'shop_id', 'item_id','city_code', 'revenue', 'item_cnt_day']]\n",
    "a.pivot_table(index=['shop_id', 'item_id', 'city_code'], columns=['date_block_num'], values=['item_cnt_day','revenue'], aggfunc='sum', fill_value=0).stack()[0:33]"
   ]
  }
 ],
 "metadata": {
  "kernelspec": {
   "display_name": "Python 3",
   "language": "python",
   "name": "python3"
  },
  "language_info": {
   "codemirror_mode": {
    "name": "ipython",
    "version": 3
   },
   "file_extension": ".py",
   "mimetype": "text/x-python",
   "name": "python",
   "nbconvert_exporter": "python",
   "pygments_lexer": "ipython3",
   "version": "3.6.8"
  }
 },
 "nbformat": 4,
 "nbformat_minor": 2
}
