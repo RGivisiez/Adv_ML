{
 "cells": [
  {
   "cell_type": "code",
   "execution_count": 1,
   "metadata": {},
   "outputs": [
    {
     "name": "stderr",
     "output_type": "stream",
     "text": [
      "Using TensorFlow backend.\n"
     ]
    }
   ],
   "source": [
    "import pandas as pd\n",
    "import numpy as np\n",
    "import seaborn as sns\n",
    "import matplotlib.pyplot as plt\n",
    "\n",
    "from sklearn.preprocessing import LabelEncoder\n",
    "from sklearn.preprocessing import MinMaxScaler\n",
    "from itertools import product\n",
    "\n",
    "import xgboost as xgb\n",
    "from xgboost import XGBRegressor\n",
    "\n",
    "from sklearn import preprocessing\n",
    "from sklearn.preprocessing import StandardScaler\n",
    "from sklearn.decomposition import PCA\n",
    "\n",
    "from keras.models import Model\n",
    "from keras.layers import Input, LSTM, Dense, Dropout\n",
    "from keras.models import Sequential"
   ]
  },
  {
   "cell_type": "code",
   "execution_count": 2,
   "metadata": {},
   "outputs": [],
   "source": [
    "path = '~/Git_repo/Adv_ML/data'"
   ]
  },
  {
   "cell_type": "code",
   "execution_count": 3,
   "metadata": {},
   "outputs": [],
   "source": [
    "train = pd.read_csv(path + '/sales_train.csv.gz')\n",
    "test = pd.read_csv(path + '/test.csv.gz').set_index('ID')\n",
    "items = pd.read_csv(path + '/items.csv')\n",
    "items_cat = pd.read_csv(path + '/item_categories.csv')\n",
    "shops = pd.read_csv(path + '/shops.csv')\n",
    "\n",
    "#print('Treino \\n', train.head(), '\\n')\n",
    "#print('Itens \\n', items.head(), '\\n')\n",
    "#print('Itens Cat \\n', items_cat.head(), '\\n')\n",
    "#print('Shops \\n', shops.head(), '\\n')"
   ]
  },
  {
   "cell_type": "code",
   "execution_count": 4,
   "metadata": {},
   "outputs": [],
   "source": [
    "shops.loc[shops.shop_name == 'Сергиев Посад ТЦ \"7Я\"', 'shop_name'] = 'СергиевПосад ТЦ \"7Я\"'\n",
    "shops['city'] = shops['shop_name'].str.split(' ').map(lambda x: x[0])\n",
    "shops.loc[shops.city == '!Якутск', 'city'] = 'Якутск'\n",
    "shops['city_code'] = LabelEncoder().fit_transform(shops['city'])\n",
    "shops.drop(['shop_name', 'city'], axis='columns', inplace=True)\n",
    "#shops.head()"
   ]
  },
  {
   "cell_type": "code",
   "execution_count": 5,
   "metadata": {},
   "outputs": [],
   "source": [
    "items_cat['split'] = items_cat['item_category_name'].str.split('-')\n",
    "items_cat['type'] = items_cat['split'].map(lambda x: x[0].strip())\n",
    "items_cat['type_code'] = LabelEncoder().fit_transform(items_cat['type'])\n",
    "\n",
    "items_cat['subtype'] = items_cat['split'].map(lambda x: x[1].strip() if len(x) > 1 else x[0].strip())\n",
    "items_cat['subtype_code'] = LabelEncoder().fit_transform(items_cat['subtype'])\n",
    "\n",
    "items_cat.drop(['item_category_name', 'split', 'type', 'subtype'], axis='columns', inplace=True)\n",
    "#items_cat.head()"
   ]
  },
  {
   "cell_type": "code",
   "execution_count": 6,
   "metadata": {},
   "outputs": [],
   "source": [
    "items.drop(['item_name'], axis=1, inplace=True)\n",
    "#items.head()"
   ]
  },
  {
   "cell_type": "code",
   "execution_count": 7,
   "metadata": {},
   "outputs": [],
   "source": [
    "train.drop(['date'], axis='columns', inplace=True)\n",
    "#train.head()"
   ]
  },
  {
   "cell_type": "code",
   "execution_count": 8,
   "metadata": {},
   "outputs": [],
   "source": [
    "train['revenue'] = train['item_price'] * train['item_cnt_day']"
   ]
  },
  {
   "cell_type": "code",
   "execution_count": 9,
   "metadata": {},
   "outputs": [],
   "source": [
    "# Idk with this is true\n",
    "train.loc[train.shop_id == 0, 'shop_id'] = 57\n",
    "test.loc[test.shop_id == 0, 'shop_id'] = 57\n",
    "train.loc[train.shop_id == 1, 'shop_id'] = 58\n",
    "test.loc[test.shop_id == 1, 'shop_id'] = 58\n",
    "train.loc[train.shop_id == 10, 'shop_id'] = 11\n",
    "test.loc[test.shop_id == 10, 'shop_id'] = 11"
   ]
  },
  {
   "cell_type": "code",
   "execution_count": 10,
   "metadata": {},
   "outputs": [],
   "source": [
    "train = train[train.item_price < 100000]\n",
    "train = train[train.item_cnt_day < 1001]"
   ]
  },
  {
   "cell_type": "code",
   "execution_count": 11,
   "metadata": {},
   "outputs": [],
   "source": [
    "df_month = train.groupby(by=['date_block_num', 'shop_id', 'item_id'], axis='index').sum()\n",
    "df_month.rename(columns={'item_cnt_day':'item_cnt_month', 'revenue':'revenue_month'}, inplace=True)\n",
    "df_month.reset_index(inplace=True)\n",
    "#df_month.head()"
   ]
  },
  {
   "cell_type": "code",
   "execution_count": null,
   "metadata": {},
   "outputs": [],
   "source": [
    "n_months = train['date_block_num'].nunique()\n",
    "aux = []\n",
    "for i in range(n_months):\n",
    "    df = train[train.date_block_num == i]\n",
    "    shop_uniq, item_uniq = df.shop_id.unique(), df.item_id.unique()\n",
    "\n",
    "    a = list(product([i], shop_uniq, item_uniq))\n",
    "    a = np.array(a)\n",
    "    aux.append(a)\n",
    "aux = pd.DataFrame(np.vstack(aux), columns=['date_block_num', 'shop_id', 'item_id'])\n",
    "aux.sort_values(['date_block_num', 'shop_id', 'item_id'], inplace=True)"
   ]
  },
  {
   "cell_type": "code",
   "execution_count": null,
   "metadata": {},
   "outputs": [],
   "source": [
    "df_month = pd.merge(aux, df_month, on=['date_block_num', 'shop_id', 'item_id'], how='left')\n",
    "del aux"
   ]
  },
  {
   "cell_type": "code",
   "execution_count": 12,
   "metadata": {},
   "outputs": [],
   "source": [
    "df_month['item_cnt_month'] = df_month['item_cnt_month'].clip(0, 20)"
   ]
  },
  {
   "cell_type": "code",
   "execution_count": null,
   "metadata": {},
   "outputs": [],
   "source": [
    "test['date_block_num'] = 34\n",
    "#test.head()"
   ]
  },
  {
   "cell_type": "code",
   "execution_count": null,
   "metadata": {},
   "outputs": [],
   "source": [
    "df_month = pd.concat([df_month, test], ignore_index=True, sort=False, keys=['date_block_num', 'shop_id', 'item_id']).fillna(0)\n",
    "#df_month.tail()"
   ]
  },
  {
   "cell_type": "code",
   "execution_count": 13,
   "metadata": {},
   "outputs": [],
   "source": [
    "df_month = pd.merge(df_month, shops, on=['shop_id'], how='left')\n",
    "df_month = pd.merge(df_month, items, on=['item_id'], how='left')\n",
    "df_month = pd.merge(df_month, items_cat, on=['item_category_id'], how='left')"
   ]
  },
  {
   "cell_type": "code",
   "execution_count": 14,
   "metadata": {},
   "outputs": [
    {
     "data": {
      "text/html": [
       "<div>\n",
       "<style scoped>\n",
       "    .dataframe tbody tr th:only-of-type {\n",
       "        vertical-align: middle;\n",
       "    }\n",
       "\n",
       "    .dataframe tbody tr th {\n",
       "        vertical-align: top;\n",
       "    }\n",
       "\n",
       "    .dataframe thead th {\n",
       "        text-align: right;\n",
       "    }\n",
       "</style>\n",
       "<table border=\"1\" class=\"dataframe\">\n",
       "  <thead>\n",
       "    <tr style=\"text-align: right;\">\n",
       "      <th></th>\n",
       "      <th>date_block_num</th>\n",
       "      <th>shop_id</th>\n",
       "      <th>item_id</th>\n",
       "      <th>item_price</th>\n",
       "      <th>item_cnt_month</th>\n",
       "      <th>revenue_month</th>\n",
       "      <th>city_code</th>\n",
       "      <th>item_category_id</th>\n",
       "      <th>type_code</th>\n",
       "      <th>subtype_code</th>\n",
       "    </tr>\n",
       "  </thead>\n",
       "  <tbody>\n",
       "    <tr>\n",
       "      <th>0</th>\n",
       "      <td>0</td>\n",
       "      <td>2</td>\n",
       "      <td>27</td>\n",
       "      <td>2499.0</td>\n",
       "      <td>1.0</td>\n",
       "      <td>2499.0</td>\n",
       "      <td>0</td>\n",
       "      <td>19</td>\n",
       "      <td>5</td>\n",
       "      <td>10</td>\n",
       "    </tr>\n",
       "    <tr>\n",
       "      <th>1</th>\n",
       "      <td>0</td>\n",
       "      <td>2</td>\n",
       "      <td>33</td>\n",
       "      <td>499.0</td>\n",
       "      <td>1.0</td>\n",
       "      <td>499.0</td>\n",
       "      <td>0</td>\n",
       "      <td>37</td>\n",
       "      <td>11</td>\n",
       "      <td>1</td>\n",
       "    </tr>\n",
       "    <tr>\n",
       "      <th>2</th>\n",
       "      <td>0</td>\n",
       "      <td>2</td>\n",
       "      <td>317</td>\n",
       "      <td>299.0</td>\n",
       "      <td>1.0</td>\n",
       "      <td>299.0</td>\n",
       "      <td>0</td>\n",
       "      <td>45</td>\n",
       "      <td>12</td>\n",
       "      <td>23</td>\n",
       "    </tr>\n",
       "    <tr>\n",
       "      <th>3</th>\n",
       "      <td>0</td>\n",
       "      <td>2</td>\n",
       "      <td>438</td>\n",
       "      <td>299.0</td>\n",
       "      <td>1.0</td>\n",
       "      <td>299.0</td>\n",
       "      <td>0</td>\n",
       "      <td>45</td>\n",
       "      <td>12</td>\n",
       "      <td>23</td>\n",
       "    </tr>\n",
       "    <tr>\n",
       "      <th>4</th>\n",
       "      <td>0</td>\n",
       "      <td>2</td>\n",
       "      <td>471</td>\n",
       "      <td>798.0</td>\n",
       "      <td>2.0</td>\n",
       "      <td>798.0</td>\n",
       "      <td>0</td>\n",
       "      <td>49</td>\n",
       "      <td>12</td>\n",
       "      <td>39</td>\n",
       "    </tr>\n",
       "  </tbody>\n",
       "</table>\n",
       "</div>"
      ],
      "text/plain": [
       "   date_block_num  shop_id  item_id  item_price  item_cnt_month  \\\n",
       "0               0        2       27      2499.0             1.0   \n",
       "1               0        2       33       499.0             1.0   \n",
       "2               0        2      317       299.0             1.0   \n",
       "3               0        2      438       299.0             1.0   \n",
       "4               0        2      471       798.0             2.0   \n",
       "\n",
       "   revenue_month  city_code  item_category_id  type_code  subtype_code  \n",
       "0         2499.0          0                19          5            10  \n",
       "1          499.0          0                37         11             1  \n",
       "2          299.0          0                45         12            23  \n",
       "3          299.0          0                45         12            23  \n",
       "4          798.0          0                49         12            39  "
      ]
     },
     "execution_count": 14,
     "metadata": {},
     "output_type": "execute_result"
    }
   ],
   "source": [
    "df_month.head()"
   ]
  },
  {
   "cell_type": "code",
   "execution_count": 15,
   "metadata": {},
   "outputs": [],
   "source": [
    "df_month = df_month.fillna(0)"
   ]
  },
  {
   "cell_type": "code",
   "execution_count": null,
   "metadata": {},
   "outputs": [],
   "source": [
    "scaler = [MinMaxScaler(feature_range=(-1, 1)) for i in df_month.columns]\n",
    "\n",
    "a = [scaler[j].fit_transform(df_month[[i]]) for j,i in enumerate(df_month.columns)]\n",
    "\n",
    "for j,i in enumerate(df_month.columns):\n",
    "    df_month[i] = a[j]\n",
    "    \n",
    "df_month.head()"
   ]
  },
  {
   "cell_type": "code",
   "execution_count": null,
   "metadata": {},
   "outputs": [],
   "source": [
    "df_month['date_block_num'] = scaler[0].inverse_transform(df_month[['date_block_num']]).astype(np.int16)"
   ]
  },
  {
   "cell_type": "code",
   "execution_count": null,
   "metadata": {},
   "outputs": [],
   "source": [
    "df_month.head()"
   ]
  },
  {
   "cell_type": "markdown",
   "metadata": {},
   "source": [
    "# Simples (provavelmente errado)"
   ]
  },
  {
   "cell_type": "code",
   "execution_count": 16,
   "metadata": {},
   "outputs": [
    {
     "name": "stderr",
     "output_type": "stream",
     "text": [
      "/home/ronaldo/anaconda3/envs/Data_Science/lib/python3.6/site-packages/sklearn/preprocessing/data.py:323: DataConversionWarning: Data with input dtype int64 were all converted to float64 by MinMaxScaler.\n",
      "  return self.partial_fit(X, y)\n",
      "/home/ronaldo/anaconda3/envs/Data_Science/lib/python3.6/site-packages/sklearn/preprocessing/data.py:323: DataConversionWarning: Data with input dtype int64 were all converted to float64 by MinMaxScaler.\n",
      "  return self.partial_fit(X, y)\n",
      "/home/ronaldo/anaconda3/envs/Data_Science/lib/python3.6/site-packages/sklearn/preprocessing/data.py:323: DataConversionWarning: Data with input dtype int64 were all converted to float64 by MinMaxScaler.\n",
      "  return self.partial_fit(X, y)\n",
      "/home/ronaldo/anaconda3/envs/Data_Science/lib/python3.6/site-packages/sklearn/preprocessing/data.py:323: DataConversionWarning: Data with input dtype int64 were all converted to float64 by MinMaxScaler.\n",
      "  return self.partial_fit(X, y)\n"
     ]
    },
    {
     "data": {
      "text/html": [
       "<div>\n",
       "<style scoped>\n",
       "    .dataframe tbody tr th:only-of-type {\n",
       "        vertical-align: middle;\n",
       "    }\n",
       "\n",
       "    .dataframe tbody tr th {\n",
       "        vertical-align: top;\n",
       "    }\n",
       "\n",
       "    .dataframe thead th {\n",
       "        text-align: right;\n",
       "    }\n",
       "</style>\n",
       "<table border=\"1\" class=\"dataframe\">\n",
       "  <thead>\n",
       "    <tr style=\"text-align: right;\">\n",
       "      <th></th>\n",
       "      <th>date_block_num</th>\n",
       "      <th>shop_id</th>\n",
       "      <th>item_id</th>\n",
       "      <th>item_price</th>\n",
       "      <th>item_cnt_month</th>\n",
       "      <th>revenue_month</th>\n",
       "      <th>city_code</th>\n",
       "      <th>item_category_id</th>\n",
       "      <th>type_code</th>\n",
       "      <th>subtype_code</th>\n",
       "    </tr>\n",
       "  </thead>\n",
       "  <tbody>\n",
       "    <tr>\n",
       "      <th>0</th>\n",
       "      <td>0</td>\n",
       "      <td>2</td>\n",
       "      <td>27</td>\n",
       "      <td>-0.992562</td>\n",
       "      <td>-0.9</td>\n",
       "      <td>-0.988477</td>\n",
       "      <td>-1.0</td>\n",
       "      <td>-0.542169</td>\n",
       "      <td>-0.473684</td>\n",
       "      <td>-0.68750</td>\n",
       "    </tr>\n",
       "    <tr>\n",
       "      <th>1</th>\n",
       "      <td>0</td>\n",
       "      <td>2</td>\n",
       "      <td>33</td>\n",
       "      <td>-0.998515</td>\n",
       "      <td>-0.9</td>\n",
       "      <td>-0.989112</td>\n",
       "      <td>-1.0</td>\n",
       "      <td>-0.108434</td>\n",
       "      <td>0.157895</td>\n",
       "      <td>-0.96875</td>\n",
       "    </tr>\n",
       "    <tr>\n",
       "      <th>2</th>\n",
       "      <td>0</td>\n",
       "      <td>2</td>\n",
       "      <td>317</td>\n",
       "      <td>-0.999110</td>\n",
       "      <td>-0.9</td>\n",
       "      <td>-0.989176</td>\n",
       "      <td>-1.0</td>\n",
       "      <td>0.084337</td>\n",
       "      <td>0.263158</td>\n",
       "      <td>-0.28125</td>\n",
       "    </tr>\n",
       "    <tr>\n",
       "      <th>3</th>\n",
       "      <td>0</td>\n",
       "      <td>2</td>\n",
       "      <td>438</td>\n",
       "      <td>-0.999110</td>\n",
       "      <td>-0.9</td>\n",
       "      <td>-0.989176</td>\n",
       "      <td>-1.0</td>\n",
       "      <td>0.084337</td>\n",
       "      <td>0.263158</td>\n",
       "      <td>-0.28125</td>\n",
       "    </tr>\n",
       "    <tr>\n",
       "      <th>4</th>\n",
       "      <td>0</td>\n",
       "      <td>2</td>\n",
       "      <td>471</td>\n",
       "      <td>-0.997625</td>\n",
       "      <td>-0.8</td>\n",
       "      <td>-0.989017</td>\n",
       "      <td>-1.0</td>\n",
       "      <td>0.180723</td>\n",
       "      <td>0.263158</td>\n",
       "      <td>0.21875</td>\n",
       "    </tr>\n",
       "  </tbody>\n",
       "</table>\n",
       "</div>"
      ],
      "text/plain": [
       "   date_block_num  shop_id  item_id  item_price  item_cnt_month  \\\n",
       "0               0        2       27   -0.992562            -0.9   \n",
       "1               0        2       33   -0.998515            -0.9   \n",
       "2               0        2      317   -0.999110            -0.9   \n",
       "3               0        2      438   -0.999110            -0.9   \n",
       "4               0        2      471   -0.997625            -0.8   \n",
       "\n",
       "   revenue_month  city_code  item_category_id  type_code  subtype_code  \n",
       "0      -0.988477       -1.0         -0.542169  -0.473684      -0.68750  \n",
       "1      -0.989112       -1.0         -0.108434   0.157895      -0.96875  \n",
       "2      -0.989176       -1.0          0.084337   0.263158      -0.28125  \n",
       "3      -0.989176       -1.0          0.084337   0.263158      -0.28125  \n",
       "4      -0.989017       -1.0          0.180723   0.263158       0.21875  "
      ]
     },
     "execution_count": 16,
     "metadata": {},
     "output_type": "execute_result"
    }
   ],
   "source": [
    "scaler = [MinMaxScaler(feature_range=(-1, 1)) for i in df_month.columns[3:]]\n",
    "\n",
    "a = [scaler[j].fit_transform(df_month[[i]]) for j,i in enumerate(df_month.columns[3:])]\n",
    "\n",
    "for j,i in enumerate(df_month.columns[3:]):\n",
    "    df_month[i] = a[j]\n",
    "    \n",
    "df_month.head()"
   ]
  },
  {
   "cell_type": "code",
   "execution_count": 17,
   "metadata": {},
   "outputs": [
    {
     "data": {
      "text/html": [
       "<div>\n",
       "<style scoped>\n",
       "    .dataframe tbody tr th:only-of-type {\n",
       "        vertical-align: middle;\n",
       "    }\n",
       "\n",
       "    .dataframe tbody tr th {\n",
       "        vertical-align: top;\n",
       "    }\n",
       "\n",
       "    .dataframe thead th {\n",
       "        text-align: right;\n",
       "    }\n",
       "</style>\n",
       "<table border=\"1\" class=\"dataframe\">\n",
       "  <thead>\n",
       "    <tr style=\"text-align: right;\">\n",
       "      <th></th>\n",
       "      <th>shop_id</th>\n",
       "      <th>item_id</th>\n",
       "      <th>0</th>\n",
       "      <th>1</th>\n",
       "      <th>2</th>\n",
       "      <th>3</th>\n",
       "      <th>4</th>\n",
       "      <th>5</th>\n",
       "      <th>6</th>\n",
       "      <th>7</th>\n",
       "      <th>...</th>\n",
       "      <th>24</th>\n",
       "      <th>25</th>\n",
       "      <th>26</th>\n",
       "      <th>27</th>\n",
       "      <th>28</th>\n",
       "      <th>29</th>\n",
       "      <th>30</th>\n",
       "      <th>31</th>\n",
       "      <th>32</th>\n",
       "      <th>33</th>\n",
       "    </tr>\n",
       "  </thead>\n",
       "  <tbody>\n",
       "    <tr>\n",
       "      <th>0</th>\n",
       "      <td>2</td>\n",
       "      <td>27</td>\n",
       "      <td>-0.9</td>\n",
       "      <td>0.0</td>\n",
       "      <td>0.0</td>\n",
       "      <td>0.0</td>\n",
       "      <td>0.0</td>\n",
       "      <td>0.0</td>\n",
       "      <td>0.0</td>\n",
       "      <td>0.0</td>\n",
       "      <td>...</td>\n",
       "      <td>0.0</td>\n",
       "      <td>0.0</td>\n",
       "      <td>0.0</td>\n",
       "      <td>0.0</td>\n",
       "      <td>0.0</td>\n",
       "      <td>0.0</td>\n",
       "      <td>0.0</td>\n",
       "      <td>0.0</td>\n",
       "      <td>0.0</td>\n",
       "      <td>0.0</td>\n",
       "    </tr>\n",
       "    <tr>\n",
       "      <th>1</th>\n",
       "      <td>2</td>\n",
       "      <td>30</td>\n",
       "      <td>0.0</td>\n",
       "      <td>0.0</td>\n",
       "      <td>-0.9</td>\n",
       "      <td>0.0</td>\n",
       "      <td>0.0</td>\n",
       "      <td>-0.9</td>\n",
       "      <td>0.0</td>\n",
       "      <td>0.0</td>\n",
       "      <td>...</td>\n",
       "      <td>0.0</td>\n",
       "      <td>0.0</td>\n",
       "      <td>0.0</td>\n",
       "      <td>0.0</td>\n",
       "      <td>0.0</td>\n",
       "      <td>0.0</td>\n",
       "      <td>0.0</td>\n",
       "      <td>0.0</td>\n",
       "      <td>0.0</td>\n",
       "      <td>0.0</td>\n",
       "    </tr>\n",
       "    <tr>\n",
       "      <th>2</th>\n",
       "      <td>2</td>\n",
       "      <td>31</td>\n",
       "      <td>0.0</td>\n",
       "      <td>-0.6</td>\n",
       "      <td>-0.9</td>\n",
       "      <td>-0.9</td>\n",
       "      <td>0.0</td>\n",
       "      <td>0.0</td>\n",
       "      <td>0.0</td>\n",
       "      <td>0.0</td>\n",
       "      <td>...</td>\n",
       "      <td>0.0</td>\n",
       "      <td>0.0</td>\n",
       "      <td>0.0</td>\n",
       "      <td>0.0</td>\n",
       "      <td>0.0</td>\n",
       "      <td>0.0</td>\n",
       "      <td>0.0</td>\n",
       "      <td>0.0</td>\n",
       "      <td>0.0</td>\n",
       "      <td>-0.9</td>\n",
       "    </tr>\n",
       "    <tr>\n",
       "      <th>3</th>\n",
       "      <td>2</td>\n",
       "      <td>32</td>\n",
       "      <td>0.0</td>\n",
       "      <td>0.0</td>\n",
       "      <td>0.0</td>\n",
       "      <td>0.0</td>\n",
       "      <td>0.0</td>\n",
       "      <td>0.0</td>\n",
       "      <td>0.0</td>\n",
       "      <td>0.0</td>\n",
       "      <td>...</td>\n",
       "      <td>0.0</td>\n",
       "      <td>0.0</td>\n",
       "      <td>-0.9</td>\n",
       "      <td>0.0</td>\n",
       "      <td>0.0</td>\n",
       "      <td>0.0</td>\n",
       "      <td>0.0</td>\n",
       "      <td>-0.9</td>\n",
       "      <td>0.0</td>\n",
       "      <td>0.0</td>\n",
       "    </tr>\n",
       "    <tr>\n",
       "      <th>4</th>\n",
       "      <td>2</td>\n",
       "      <td>33</td>\n",
       "      <td>-0.9</td>\n",
       "      <td>0.0</td>\n",
       "      <td>0.0</td>\n",
       "      <td>0.0</td>\n",
       "      <td>0.0</td>\n",
       "      <td>0.0</td>\n",
       "      <td>0.0</td>\n",
       "      <td>0.0</td>\n",
       "      <td>...</td>\n",
       "      <td>0.0</td>\n",
       "      <td>-0.9</td>\n",
       "      <td>0.0</td>\n",
       "      <td>-0.9</td>\n",
       "      <td>-0.9</td>\n",
       "      <td>0.0</td>\n",
       "      <td>-0.9</td>\n",
       "      <td>0.0</td>\n",
       "      <td>-0.9</td>\n",
       "      <td>0.0</td>\n",
       "    </tr>\n",
       "  </tbody>\n",
       "</table>\n",
       "<p>5 rows × 36 columns</p>\n",
       "</div>"
      ],
      "text/plain": [
       "   shop_id  item_id    0    1    2    3    4    5    6    7 ...    24   25  \\\n",
       "0        2       27 -0.9  0.0  0.0  0.0  0.0  0.0  0.0  0.0 ...   0.0  0.0   \n",
       "1        2       30  0.0  0.0 -0.9  0.0  0.0 -0.9  0.0  0.0 ...   0.0  0.0   \n",
       "2        2       31  0.0 -0.6 -0.9 -0.9  0.0  0.0  0.0  0.0 ...   0.0  0.0   \n",
       "3        2       32  0.0  0.0  0.0  0.0  0.0  0.0  0.0  0.0 ...   0.0  0.0   \n",
       "4        2       33 -0.9  0.0  0.0  0.0  0.0  0.0  0.0  0.0 ...   0.0 -0.9   \n",
       "\n",
       "    26   27   28   29   30   31   32   33  \n",
       "0  0.0  0.0  0.0  0.0  0.0  0.0  0.0  0.0  \n",
       "1  0.0  0.0  0.0  0.0  0.0  0.0  0.0  0.0  \n",
       "2  0.0  0.0  0.0  0.0  0.0  0.0  0.0 -0.9  \n",
       "3 -0.9  0.0  0.0  0.0  0.0 -0.9  0.0  0.0  \n",
       "4  0.0 -0.9 -0.9  0.0 -0.9  0.0 -0.9  0.0  \n",
       "\n",
       "[5 rows x 36 columns]"
      ]
     },
     "execution_count": 17,
     "metadata": {},
     "output_type": "execute_result"
    }
   ],
   "source": [
    "df_lstm1 = df_month.pivot_table(index=['shop_id', 'item_id'],\n",
    "                               columns=['date_block_num'], values=['item_cnt_month']).fillna(0)\n",
    "df_lstm1.columns = df_lstm1.columns.droplevel(0)\n",
    "df_lstm1.reset_index(inplace=True)\n",
    "df_lstm1.columns.name = None\n",
    "df_lstm1.head()"
   ]
  },
  {
   "cell_type": "code",
   "execution_count": 18,
   "metadata": {},
   "outputs": [
    {
     "data": {
      "text/plain": [
       "((418908, 33), (418908,))"
      ]
     },
     "execution_count": 18,
     "metadata": {},
     "output_type": "execute_result"
    }
   ],
   "source": [
    "x_train1 = df_lstm1.iloc[:, 2:35].values\n",
    "y_train1 = df_lstm1.iloc[:, -1]\n",
    "\n",
    "x_train1.shape, y_train1.shape"
   ]
  },
  {
   "cell_type": "code",
   "execution_count": 19,
   "metadata": {},
   "outputs": [],
   "source": [
    "time_step1 = x_train1.shape[1]\n",
    "features1 = 1\n",
    "n_samples1 = x_train1.shape[0]"
   ]
  },
  {
   "cell_type": "code",
   "execution_count": 20,
   "metadata": {},
   "outputs": [
    {
     "data": {
      "text/plain": [
       "((418908, 33, 1), (418908,))"
      ]
     },
     "execution_count": 20,
     "metadata": {},
     "output_type": "execute_result"
    }
   ],
   "source": [
    "x_train1  = x_train1.reshape((n_samples1, time_step1, features1))\n",
    "\n",
    "x_train1.shape, y_train1.shape"
   ]
  },
  {
   "cell_type": "code",
   "execution_count": 21,
   "metadata": {},
   "outputs": [
    {
     "name": "stdout",
     "output_type": "stream",
     "text": [
      "_________________________________________________________________\n",
      "Layer (type)                 Output Shape              Param #   \n",
      "=================================================================\n",
      "lstm_1 (LSTM)                (None, 64)                16896     \n",
      "_________________________________________________________________\n",
      "dropout_1 (Dropout)          (None, 64)                0         \n",
      "_________________________________________________________________\n",
      "dense_1 (Dense)              (None, 1)                 65        \n",
      "=================================================================\n",
      "Total params: 16,961\n",
      "Trainable params: 16,961\n",
      "Non-trainable params: 0\n",
      "_________________________________________________________________\n"
     ]
    }
   ],
   "source": [
    "model = Sequential()\n",
    "model.add(LSTM(units=64, input_shape=(time_step1, features1)))\n",
    "model.add(Dropout(0.3))\n",
    "model.add(Dense(1))\n",
    "model.compile(loss = 'mse',optimizer = 'adam', metrics = ['mean_squared_error'])\n",
    "model.summary()"
   ]
  },
  {
   "cell_type": "code",
   "execution_count": 24,
   "metadata": {},
   "outputs": [
    {
     "name": "stdout",
     "output_type": "stream",
     "text": [
      "Epoch 1/50\n",
      "418908/418908 [==============================] - 9s 21us/step - loss: 0.0434 - mean_squared_error: 0.0434\n",
      "Epoch 2/50\n",
      "418908/418908 [==============================] - 9s 21us/step - loss: 0.0434 - mean_squared_error: 0.0434\n",
      "Epoch 3/50\n",
      "418908/418908 [==============================] - 9s 21us/step - loss: 0.0433 - mean_squared_error: 0.0433\n",
      "Epoch 4/50\n",
      "418908/418908 [==============================] - 9s 21us/step - loss: 0.0432 - mean_squared_error: 0.0432\n",
      "Epoch 5/50\n",
      "418908/418908 [==============================] - 9s 21us/step - loss: 0.0431 - mean_squared_error: 0.0431\n",
      "Epoch 6/50\n",
      "418908/418908 [==============================] - 9s 21us/step - loss: 0.0430 - mean_squared_error: 0.0430\n",
      "Epoch 7/50\n",
      "418908/418908 [==============================] - 9s 21us/step - loss: 0.0418 - mean_squared_error: 0.0418\n",
      "Epoch 8/50\n",
      "418908/418908 [==============================] - 9s 21us/step - loss: 0.0396 - mean_squared_error: 0.0396\n",
      "Epoch 9/50\n",
      "418908/418908 [==============================] - 9s 21us/step - loss: 0.0376 - mean_squared_error: 0.0376\n",
      "Epoch 10/50\n",
      "418908/418908 [==============================] - 9s 21us/step - loss: 0.0366 - mean_squared_error: 0.0366\n",
      "Epoch 11/50\n",
      "418908/418908 [==============================] - 9s 21us/step - loss: 0.0359 - mean_squared_error: 0.0359\n",
      "Epoch 12/50\n",
      "418908/418908 [==============================] - 9s 21us/step - loss: 0.0356 - mean_squared_error: 0.0356\n",
      "Epoch 13/50\n",
      "418908/418908 [==============================] - 9s 21us/step - loss: 0.0355 - mean_squared_error: 0.0355\n",
      "Epoch 14/50\n",
      "418908/418908 [==============================] - 9s 21us/step - loss: 0.0355 - mean_squared_error: 0.0355\n",
      "Epoch 15/50\n",
      "418908/418908 [==============================] - 9s 22us/step - loss: 0.0351 - mean_squared_error: 0.0351\n",
      "Epoch 16/50\n",
      "418908/418908 [==============================] - 9s 21us/step - loss: 0.0348 - mean_squared_error: 0.0348\n",
      "Epoch 17/50\n",
      "418908/418908 [==============================] - 9s 21us/step - loss: 0.0349 - mean_squared_error: 0.0349\n",
      "Epoch 18/50\n",
      "418908/418908 [==============================] - 9s 21us/step - loss: 0.0347 - mean_squared_error: 0.0347\n",
      "Epoch 19/50\n",
      "418908/418908 [==============================] - 9s 21us/step - loss: 0.0346 - mean_squared_error: 0.0346\n",
      "Epoch 20/50\n",
      "418908/418908 [==============================] - 9s 21us/step - loss: 0.0344 - mean_squared_error: 0.0344\n",
      "Epoch 21/50\n",
      "418908/418908 [==============================] - 9s 21us/step - loss: 0.0345 - mean_squared_error: 0.0345\n",
      "Epoch 22/50\n",
      "418908/418908 [==============================] - 9s 21us/step - loss: 0.0343 - mean_squared_error: 0.0343\n",
      "Epoch 23/50\n",
      "418908/418908 [==============================] - 9s 21us/step - loss: 0.0342 - mean_squared_error: 0.0342\n",
      "Epoch 24/50\n",
      "418908/418908 [==============================] - 9s 21us/step - loss: 0.0342 - mean_squared_error: 0.0342\n",
      "Epoch 25/50\n",
      "418908/418908 [==============================] - 9s 22us/step - loss: 0.0342 - mean_squared_error: 0.0342\n",
      "Epoch 26/50\n",
      "418908/418908 [==============================] - 9s 21us/step - loss: 0.0344 - mean_squared_error: 0.0344\n",
      "Epoch 27/50\n",
      "418908/418908 [==============================] - 9s 21us/step - loss: 0.0341 - mean_squared_error: 0.0341\n",
      "Epoch 28/50\n",
      "418908/418908 [==============================] - 9s 21us/step - loss: 0.0340 - mean_squared_error: 0.0340\n",
      "Epoch 29/50\n",
      "418908/418908 [==============================] - 9s 21us/step - loss: 0.0341 - mean_squared_error: 0.0341\n",
      "Epoch 30/50\n",
      "418908/418908 [==============================] - 9s 21us/step - loss: 0.0339 - mean_squared_error: 0.0339\n",
      "Epoch 31/50\n",
      "418908/418908 [==============================] - 9s 21us/step - loss: 0.0341 - mean_squared_error: 0.0341\n",
      "Epoch 32/50\n",
      "418908/418908 [==============================] - 9s 21us/step - loss: 0.0338 - mean_squared_error: 0.0338\n",
      "Epoch 33/50\n",
      "418908/418908 [==============================] - 9s 21us/step - loss: 0.0338 - mean_squared_error: 0.0338\n",
      "Epoch 34/50\n",
      "418908/418908 [==============================] - 9s 21us/step - loss: 0.0337 - mean_squared_error: 0.0337\n",
      "Epoch 35/50\n",
      "418908/418908 [==============================] - 9s 21us/step - loss: 0.0338 - mean_squared_error: 0.0338\n",
      "Epoch 36/50\n",
      "418908/418908 [==============================] - 9s 21us/step - loss: 0.0337 - mean_squared_error: 0.0337\n",
      "Epoch 37/50\n",
      "418908/418908 [==============================] - 9s 21us/step - loss: 0.0337 - mean_squared_error: 0.0337\n",
      "Epoch 38/50\n",
      "418908/418908 [==============================] - 9s 21us/step - loss: 0.0337 - mean_squared_error: 0.0337\n",
      "Epoch 39/50\n",
      "418908/418908 [==============================] - 9s 21us/step - loss: 0.0337 - mean_squared_error: 0.0337\n",
      "Epoch 40/50\n",
      "418908/418908 [==============================] - 9s 21us/step - loss: 0.0336 - mean_squared_error: 0.0336\n",
      "Epoch 41/50\n",
      "418908/418908 [==============================] - 9s 21us/step - loss: 0.0337 - mean_squared_error: 0.0337\n",
      "Epoch 42/50\n",
      "418908/418908 [==============================] - 9s 21us/step - loss: 0.0336 - mean_squared_error: 0.0336\n",
      "Epoch 43/50\n",
      "418908/418908 [==============================] - 9s 21us/step - loss: 0.0336 - mean_squared_error: 0.0336\n",
      "Epoch 44/50\n",
      "418908/418908 [==============================] - 9s 21us/step - loss: 0.0337 - mean_squared_error: 0.0337\n",
      "Epoch 45/50\n",
      "418908/418908 [==============================] - 9s 21us/step - loss: 0.0336 - mean_squared_error: 0.0336\n",
      "Epoch 46/50\n",
      "418908/418908 [==============================] - 9s 21us/step - loss: 0.0336 - mean_squared_error: 0.0336\n",
      "Epoch 47/50\n",
      "418908/418908 [==============================] - 9s 21us/step - loss: 0.0336 - mean_squared_error: 0.0336\n",
      "Epoch 48/50\n",
      "418908/418908 [==============================] - 9s 21us/step - loss: 0.0335 - mean_squared_error: 0.0335\n",
      "Epoch 49/50\n",
      "418908/418908 [==============================] - 9s 21us/step - loss: 0.0335 - mean_squared_error: 0.0335\n",
      "Epoch 50/50\n",
      "418908/418908 [==============================] - 9s 21us/step - loss: 0.0335 - mean_squared_error: 0.0335\n"
     ]
    }
   ],
   "source": [
    "history = model.fit(x_train1, y_train1, batch_size = 4096, epochs = 15, shuffle=False)"
   ]
  },
  {
   "cell_type": "code",
   "execution_count": 25,
   "metadata": {},
   "outputs": [
    {
     "data": {
      "image/png": "[encoded data removed]",
      "text/plain": [
       "<Figure size 432x288 with 1 Axes>"
      ]
     },
     "metadata": {
      "needs_background": "light"
     },
     "output_type": "display_data"
    }
   ],
   "source": [
    "plt.plot(history.history['loss'], label='train')\n",
    "plt.legend()\n",
    "plt.show()"
   ]
  },
  {
   "cell_type": "code",
   "execution_count": 26,
   "metadata": {},
   "outputs": [],
   "source": [
    "pred1 = df_lstm1.iloc[:, 3:36].values.reshape((n_samples1, time_step1, features1))"
   ]
  },
  {
   "cell_type": "code",
   "execution_count": 27,
   "metadata": {},
   "outputs": [],
   "source": [
    "yhat = model.predict(pred1)"
   ]
  },
  {
   "cell_type": "code",
   "execution_count": 36,
   "metadata": {},
   "outputs": [
    {
     "name": "stderr",
     "output_type": "stream",
     "text": [
      "/home/ronaldo/anaconda3/envs/Data_Science/lib/python3.6/site-packages/ipykernel_launcher.py:2: SettingWithCopyWarning: \n",
      "A value is trying to be set on a copy of a slice from a DataFrame.\n",
      "Try using .loc[row_indexer,col_indexer] = value instead\n",
      "\n",
      "See the caveats in the documentation: http://pandas.pydata.org/pandas-docs/stable/indexing.html#indexing-view-versus-copy\n",
      "  \n"
     ]
    },
    {
     "data": {
      "text/html": [
       "<div>\n",
       "<style scoped>\n",
       "    .dataframe tbody tr th:only-of-type {\n",
       "        vertical-align: middle;\n",
       "    }\n",
       "\n",
       "    .dataframe tbody tr th {\n",
       "        vertical-align: top;\n",
       "    }\n",
       "\n",
       "    .dataframe thead th {\n",
       "        text-align: right;\n",
       "    }\n",
       "</style>\n",
       "<table border=\"1\" class=\"dataframe\">\n",
       "  <thead>\n",
       "    <tr style=\"text-align: right;\">\n",
       "      <th></th>\n",
       "      <th>shop_id</th>\n",
       "      <th>item_id</th>\n",
       "      <th>pred</th>\n",
       "    </tr>\n",
       "  </thead>\n",
       "  <tbody>\n",
       "    <tr>\n",
       "      <th>0</th>\n",
       "      <td>2</td>\n",
       "      <td>27</td>\n",
       "      <td>-0.010928</td>\n",
       "    </tr>\n",
       "    <tr>\n",
       "      <th>1</th>\n",
       "      <td>2</td>\n",
       "      <td>30</td>\n",
       "      <td>-0.011599</td>\n",
       "    </tr>\n",
       "    <tr>\n",
       "      <th>2</th>\n",
       "      <td>2</td>\n",
       "      <td>31</td>\n",
       "      <td>-0.103383</td>\n",
       "    </tr>\n",
       "    <tr>\n",
       "      <th>3</th>\n",
       "      <td>2</td>\n",
       "      <td>32</td>\n",
       "      <td>-0.096049</td>\n",
       "    </tr>\n",
       "    <tr>\n",
       "      <th>4</th>\n",
       "      <td>2</td>\n",
       "      <td>33</td>\n",
       "      <td>-0.202953</td>\n",
       "    </tr>\n",
       "  </tbody>\n",
       "</table>\n",
       "</div>"
      ],
      "text/plain": [
       "   shop_id  item_id      pred\n",
       "0        2       27 -0.010928\n",
       "1        2       30 -0.011599\n",
       "2        2       31 -0.103383\n",
       "3        2       32 -0.096049\n",
       "4        2       33 -0.202953"
      ]
     },
     "execution_count": 36,
     "metadata": {},
     "output_type": "execute_result"
    }
   ],
   "source": [
    "df_test1 = df_lstm1[['shop_id', 'item_id']]\n",
    "df_test1['pred'] = yhat\n",
    "df_test1.head()"
   ]
  },
  {
   "cell_type": "code",
   "execution_count": 37,
   "metadata": {},
   "outputs": [
    {
     "name": "stderr",
     "output_type": "stream",
     "text": [
      "/home/ronaldo/anaconda3/envs/Data_Science/lib/python3.6/site-packages/ipykernel_launcher.py:1: SettingWithCopyWarning: \n",
      "A value is trying to be set on a copy of a slice from a DataFrame.\n",
      "Try using .loc[row_indexer,col_indexer] = value instead\n",
      "\n",
      "See the caveats in the documentation: http://pandas.pydata.org/pandas-docs/stable/indexing.html#indexing-view-versus-copy\n",
      "  \"\"\"Entry point for launching an IPython kernel.\n"
     ]
    },
    {
     "data": {
      "text/html": [
       "<div>\n",
       "<style scoped>\n",
       "    .dataframe tbody tr th:only-of-type {\n",
       "        vertical-align: middle;\n",
       "    }\n",
       "\n",
       "    .dataframe tbody tr th {\n",
       "        vertical-align: top;\n",
       "    }\n",
       "\n",
       "    .dataframe thead th {\n",
       "        text-align: right;\n",
       "    }\n",
       "</style>\n",
       "<table border=\"1\" class=\"dataframe\">\n",
       "  <thead>\n",
       "    <tr style=\"text-align: right;\">\n",
       "      <th></th>\n",
       "      <th>shop_id</th>\n",
       "      <th>item_id</th>\n",
       "      <th>pred</th>\n",
       "    </tr>\n",
       "  </thead>\n",
       "  <tbody>\n",
       "    <tr>\n",
       "      <th>0</th>\n",
       "      <td>2</td>\n",
       "      <td>27</td>\n",
       "      <td>10</td>\n",
       "    </tr>\n",
       "    <tr>\n",
       "      <th>1</th>\n",
       "      <td>2</td>\n",
       "      <td>30</td>\n",
       "      <td>10</td>\n",
       "    </tr>\n",
       "    <tr>\n",
       "      <th>2</th>\n",
       "      <td>2</td>\n",
       "      <td>31</td>\n",
       "      <td>9</td>\n",
       "    </tr>\n",
       "    <tr>\n",
       "      <th>3</th>\n",
       "      <td>2</td>\n",
       "      <td>32</td>\n",
       "      <td>9</td>\n",
       "    </tr>\n",
       "    <tr>\n",
       "      <th>4</th>\n",
       "      <td>2</td>\n",
       "      <td>33</td>\n",
       "      <td>8</td>\n",
       "    </tr>\n",
       "  </tbody>\n",
       "</table>\n",
       "</div>"
      ],
      "text/plain": [
       "   shop_id  item_id  pred\n",
       "0        2       27    10\n",
       "1        2       30    10\n",
       "2        2       31     9\n",
       "3        2       32     9\n",
       "4        2       33     8"
      ]
     },
     "execution_count": 37,
     "metadata": {},
     "output_type": "execute_result"
    }
   ],
   "source": [
    "df_test1['pred'] = np.around(scaler[1].inverse_transform(df_test1[['pred']]).clip(0, 20)).astype(np.int16)\n",
    "df_test1.head()"
   ]
  },
  {
   "cell_type": "code",
   "execution_count": 38,
   "metadata": {},
   "outputs": [],
   "source": [
    "df_sub1 = pd.merge(test, df_test1, how='left').fillna(0)\n",
    "\n",
    "submission = pd.DataFrame({\n",
    "    \"ID\": test.index, \n",
    "    \"item_cnt_month\": df_sub1['pred']\n",
    "})\n",
    "\n",
    "submission.to_csv('LSTM_submission.csv', index=False)"
   ]
  },
  {
   "cell_type": "markdown",
   "metadata": {},
   "source": [
    "------------------"
   ]
  },
  {
   "cell_type": "code",
   "execution_count": null,
   "metadata": {},
   "outputs": [],
   "source": [
    "df_lstm = df_month.pivot_table(columns=['shop_id', 'item_id'],\n",
    "                               index=['date_block_num'], values=['item_cnt_month'])\n",
    "df_lstm.head()"
   ]
  },
  {
   "cell_type": "code",
   "execution_count": null,
   "metadata": {},
   "outputs": [],
   "source": [
    "df_lstm.columns = df_lstm.columns.droplevel(0)"
   ]
  },
  {
   "cell_type": "code",
   "execution_count": null,
   "metadata": {},
   "outputs": [],
   "source": [
    "df_lstm."
   ]
  },
  {
   "cell_type": "code",
   "execution_count": null,
   "metadata": {},
   "outputs": [],
   "source": [
    "df_lstm = df_lstm.reset_index()"
   ]
  },
  {
   "cell_type": "code",
   "execution_count": null,
   "metadata": {},
   "outputs": [],
   "source": [
    "df_lstm.head()"
   ]
  },
  {
   "cell_type": "code",
   "execution_count": null,
   "metadata": {},
   "outputs": [],
   "source": [
    "df_lstm.fillna(0, inplace=True)"
   ]
  },
  {
   "cell_type": "code",
   "execution_count": null,
   "metadata": {},
   "outputs": [],
   "source": [
    "df_lstm"
   ]
  },
  {
   "cell_type": "code",
   "execution_count": null,
   "metadata": {},
   "outputs": [],
   "source": [
    "X_train = df_lstm.iloc[]"
   ]
  },
  {
   "cell_type": "code",
   "execution_count": null,
   "metadata": {},
   "outputs": [],
   "source": [
    "Y_train = X_train[33]\n",
    "Y_test = X_train[34]\n",
    "X_train.drop([33, 34], axis=1, inplace=True)"
   ]
  },
  {
   "cell_type": "code",
   "execution_count": null,
   "metadata": {},
   "outputs": [],
   "source": [
    "X_train.head()"
   ]
  },
  {
   "cell_type": "code",
   "execution_count": null,
   "metadata": {
    "scrolled": true
   },
   "outputs": [],
   "source": [
    "xx = np.zeros((X_train.shape[0], 99))\n",
    "\n",
    "features = []\n",
    "\n",
    "for i in range(X_train.shape[0]):\n",
    "    features = X_train.iloc[i, 0:2].values\n",
    "    for j in range(33):\n",
    "        xx[i, j*3:j*3+2] = features\n",
    "        xx[i, j*3+2] = X_train.loc[i, j]"
   ]
  },
  {
   "cell_type": "code",
   "execution_count": null,
   "metadata": {},
   "outputs": [],
   "source": [
    "n_samples = X_train.shape[0]\n",
    "\n",
    "time_step = 33\n",
    "features = 3\n",
    "\n",
    "print(n_samples, time_step, features)"
   ]
  },
  {
   "cell_type": "code",
   "execution_count": null,
   "metadata": {},
   "outputs": [],
   "source": [
    "xx = xx.reshape((n_samples, time_step, features))\n",
    "xx.shape"
   ]
  },
  {
   "cell_type": "code",
   "execution_count": null,
   "metadata": {},
   "outputs": [],
   "source": [
    "model = Sequential()\n",
    "model.add(LSTM(units=64, input_shape=(time_step, features)))\n",
    "model.add(Dropout(0.3))\n",
    "model.add(Dense(1))\n",
    "model.compile(loss = 'mse',optimizer = 'adam', metrics = ['mean_squared_error'])\n",
    "model.summary()"
   ]
  },
  {
   "cell_type": "code",
   "execution_count": null,
   "metadata": {},
   "outputs": [],
   "source": [
    "history = model.fit(xx, Y_train, batch_size = 4096, epochs = 5, shuffle=False)"
   ]
  },
  {
   "cell_type": "code",
   "execution_count": null,
   "metadata": {},
   "outputs": [],
   "source": [
    "a = model.predict()"
   ]
  },
  {
   "cell_type": "code",
   "execution_count": null,
   "metadata": {},
   "outputs": [],
   "source": []
  }
 ],
 "metadata": {
  "kernelspec": {
   "display_name": "Python 3",
   "language": "python",
   "name": "python3"
  },
  "language_info": {
   "codemirror_mode": {
    "name": "ipython",
    "version": 3
   },
   "file_extension": ".py",
   "mimetype": "text/x-python",
   "name": "python",
   "nbconvert_exporter": "python",
   "pygments_lexer": "ipython3",
   "version": "3.6.8"
  }
 },
 "nbformat": 4,
 "nbformat_minor": 2
}
