{
 "cells": [
  {
   "cell_type": "markdown",
   "metadata": {},
   "source": [
    "# Criando features"
   ]
  },
  {
   "cell_type": "markdown",
   "metadata": {},
   "source": [
    "### Coisas a serem feitas:\n",
    "\n",
    "- [ ] Colocar todas as referências.\n",
    "- Colocar as outras featues.\n",
    "    - [ ] Lagged.  \n",
    "    - [ ] Meses.  \n",
    "    - [ ] Médias. \n",
    "- [ ] Explicar Lagged.\n",
    "    - Explicar o descarte dos Nan's."
   ]
  },
  {
   "cell_type": "markdown",
   "metadata": {},
   "source": []
  },
  {
   "cell_type": "markdown",
   "metadata": {},
   "source": [
    "### Muitas das features craidas neste notebook foram retiradas deste [kernel](https://www.kaggle.com/dlarionov/feature-engineering-xgboost)."
   ]
  },
  {
   "cell_type": "code",
   "execution_count": 5,
   "metadata": {},
   "outputs": [],
   "source": [
    "import pandas as pd\n",
    "import numpy as np\n",
    "\n",
    "from sklearn.preprocessing import LabelEncoder"
   ]
  },
  {
   "cell_type": "code",
   "execution_count": 2,
   "metadata": {},
   "outputs": [],
   "source": [
    "path = '~/Git_repo/Adv_ML/data'"
   ]
  },
  {
   "cell_type": "code",
   "execution_count": 3,
   "metadata": {},
   "outputs": [],
   "source": [
    "train = pd.read_csv(path + '/sales_train.csv.gz')\n",
    "test = pd.read_csv(path + '/test.csv.gz').set_index('ID')\n",
    "items = pd.read_csv(path + '/items.csv')\n",
    "items_cat = pd.read_csv(path + '/item_categories.csv')\n",
    "shops = pd.read_csv(path + '/shops.csv')\n",
    "\n",
    "#print('Treino \\n', train.head(), '\\n')\n",
    "#print('Itens \\n', items.head(), '\\n')\n",
    "#print('Itens Cat \\n', items_cat.head(), '\\n')\n",
    "#print('Shops \\n', shops.head(), '\\n')"
   ]
  },
  {
   "cell_type": "code",
   "execution_count": 6,
   "metadata": {},
   "outputs": [],
   "source": [
    "shops.loc[shops.shop_name == 'Сергиев Посад ТЦ \"7Я\"', 'shop_name'] = 'СергиевПосад ТЦ \"7Я\"'\n",
    "shops['city'] = shops['shop_name'].str.split(' ').map(lambda x: x[0])\n",
    "shops.loc[shops.city == '!Якутск', 'city'] = 'Якутск'\n",
    "shops['city_code'] = LabelEncoder().fit_transform(shops['city'])\n",
    "shops.drop(['shop_name', 'city'], axis='columns', inplace=True)\n",
    "#shops.head()"
   ]
  },
  {
   "cell_type": "code",
   "execution_count": 7,
   "metadata": {},
   "outputs": [],
   "source": [
    "items_cat['split'] = items_cat['item_category_name'].str.split('-')\n",
    "items_cat['type'] = items_cat['split'].map(lambda x: x[0].strip())\n",
    "items_cat['type_code'] = LabelEncoder().fit_transform(items_cat['type'])\n",
    "\n",
    "items_cat['subtype'] = items_cat['split'].map(lambda x: x[1].strip() if len(x) > 1 else x[0].strip())\n",
    "items_cat['subtype_code'] = LabelEncoder().fit_transform(items_cat['subtype'])\n",
    "\n",
    "items_cat.drop(['item_category_name', 'split', 'type', 'subtype'], axis='columns', inplace=True)\n",
    "#items_cat.head()"
   ]
  },
  {
   "cell_type": "code",
   "execution_count": 8,
   "metadata": {},
   "outputs": [],
   "source": [
    "items.drop(['item_name'], axis=1, inplace=True)\n",
    "#items.head()"
   ]
  },
  {
   "cell_type": "code",
   "execution_count": 9,
   "metadata": {},
   "outputs": [],
   "source": [
    "train.drop(['date'], axis='columns', inplace=True)\n",
    "#train.head()"
   ]
  },
  {
   "cell_type": "code",
   "execution_count": 10,
   "metadata": {},
   "outputs": [],
   "source": [
    "train['revenue'] = train['item_price'] * train['item_cnt_day']"
   ]
  },
  {
   "cell_type": "code",
   "execution_count": null,
   "metadata": {},
   "outputs": [],
   "source": []
  }
 ],
 "metadata": {
  "kernelspec": {
   "display_name": "Python 3",
   "language": "python",
   "name": "python3"
  },
  "language_info": {
   "codemirror_mode": {
    "name": "ipython",
    "version": 3
   },
   "file_extension": ".py",
   "mimetype": "text/x-python",
   "name": "python",
   "nbconvert_exporter": "python",
   "pygments_lexer": "ipython3",
   "version": "3.6.8"
  }
 },
 "nbformat": 4,
 "nbformat_minor": 2
}
