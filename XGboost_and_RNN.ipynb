{
  "nbformat": 4,
  "nbformat_minor": 0,
  "metadata": {
    "colab": {
      "name": "XGboost and RNN.ipynb",
      "version": "0.3.2",
      "provenance": [],
      "collapsed_sections": [
        "0pREbqL27K-C",
        "SVtKBPUnn_F5",
        "E0kBta1keGI_"
      ],
      "include_colab_link": true
    },
    "kernelspec": {
      "name": "python3",
      "display_name": "Python 3"
    },
    "accelerator": "GPU"
  },
  "cells": [
    {
      "cell_type": "markdown",
      "metadata": {
        "id": "view-in-github",
        "colab_type": "text"
      },
      "source": [
        "<a href=\"https://colab.research.google.com/github/RGivisiez/Adv_ML/blob/clean/XGboost_and_RNN.ipynb\" target=\"_parent\"><img src=\"https://colab.research.google.com/assets/colab-badge.svg\" alt=\"Open In Colab\"/></a>"
      ]
    },
    {
      "metadata": {
        "id": "gcHnLkR9Jqgv",
        "colab_type": "code",
        "outputId": "4e0d505e-25dd-4d1b-9dd0-aca536bba0e7",
        "colab": {
          "base_uri": "https://localhost:8080/",
          "height": 34
        }
      },
      "cell_type": "code",
      "source": [
        "from google.colab import drive\n",
        "drive.mount('/content/gdrive')"
      ],
      "execution_count": 0,
      "outputs": [
        {
          "output_type": "stream",
          "text": [
            "Drive already mounted at /content/gdrive; to attempt to forcibly remount, call drive.mount(\"/content/gdrive\", force_remount=True).\n"
          ],
          "name": "stdout"
        }
      ]
    },
    {
      "metadata": {
        "id": "0pREbqL27K-C",
        "colab_type": "text"
      },
      "cell_type": "markdown",
      "source": [
        "# Importing"
      ]
    },
    {
      "metadata": {
        "id": "lxQp_1TiJ6iN",
        "colab_type": "code",
        "colab": {}
      },
      "cell_type": "code",
      "source": [
        "import pandas as pd\n",
        "import numpy as np\n",
        "import seaborn as sns\n",
        "import matplotlib.pyplot as plt\n",
        "\n",
        "from sklearn.preprocessing import LabelEncoder\n",
        "from itertools import product\n",
        "\n",
        "import xgboost as xgb\n",
        "from xgboost import XGBRegressor\n",
        "\n",
        "from sklearn import preprocessing\n",
        "from sklearn.preprocessing import StandardScaler\n",
        "from sklearn.decomposition import PCA"
      ],
      "execution_count": 0,
      "outputs": []
    },
    {
      "metadata": {
        "id": "T-wtzfxDDjFV",
        "colab_type": "code",
        "outputId": "c0ea0eed-e07d-4ed1-bdf1-130f90d6db80",
        "colab": {
          "base_uri": "https://localhost:8080/",
          "height": 54
        }
      },
      "cell_type": "code",
      "source": [
        "import tensorflow as tf\n",
        "device_name = tf.test.gpu_device_name()\n",
        "if device_name != '/device:GPU:0':\n",
        "  raise SystemError('GPU device not found')\n",
        "print('Found GPU at: {}'.format(device_name))"
      ],
      "execution_count": 0,
      "outputs": [
        {
          "output_type": "stream",
          "text": [
            "Found GPU at: /device:GPU:0\n"
          ],
          "name": "stdout"
        }
      ]
    },
    {
      "metadata": {
        "id": "6aLVftQwKVks",
        "colab_type": "code",
        "colab": {}
      },
      "cell_type": "code",
      "source": [
        "path = '/content/gdrive/My Drive/Colab Notebooks/Kaggle Data'"
      ],
      "execution_count": 0,
      "outputs": []
    },
    {
      "metadata": {
        "id": "3m7Q8DcL7Bb-",
        "colab_type": "text"
      },
      "cell_type": "markdown",
      "source": [
        "# Loading data"
      ]
    },
    {
      "metadata": {
        "id": "ANUaM4qjLLY_",
        "colab_type": "code",
        "outputId": "cc8bfdda-01bd-44e8-9f10-59c981027c5e",
        "colab": {
          "base_uri": "https://localhost:8080/",
          "height": 672
        }
      },
      "cell_type": "code",
      "source": [
        "train = pd.read_csv(path + '/sales_train.csv.gz')\n",
        "test = pd.read_csv(path + '/test.csv.gz')\n",
        "items = pd.read_csv(path + '/items.csv')\n",
        "items_cat = pd.read_csv(path + '/item_categories.csv')\n",
        "shops = pd.read_csv(path + '/shops.csv')\n",
        "\n",
        "print('Treino \\n', train.head(), '\\n')\n",
        "print('Itens \\n', items.head(), '\\n')\n",
        "print('Itens Cat \\n', items_cat.head(), '\\n')\n",
        "print('Shops \\n', shops.head(), '\\n')"
      ],
      "execution_count": 0,
      "outputs": [
        {
          "output_type": "stream",
          "text": [
            "Treino \n",
            "          date  date_block_num  shop_id  item_id  item_price  item_cnt_day\n",
            "0  02.01.2013               0       59    22154      999.00           1.0\n",
            "1  03.01.2013               0       25     2552      899.00           1.0\n",
            "2  05.01.2013               0       25     2552      899.00          -1.0\n",
            "3  06.01.2013               0       25     2554     1709.05           1.0\n",
            "4  15.01.2013               0       25     2555     1099.00           1.0 \n",
            "\n",
            "Itens \n",
            "                                            item_name  item_id  \\\n",
            "0          ! ВО ВЛАСТИ НАВАЖДЕНИЯ (ПЛАСТ.)         D        0   \n",
            "1  !ABBYY FineReader 12 Professional Edition Full...        1   \n",
            "2      ***В ЛУЧАХ СЛАВЫ   (UNV)                    D        2   \n",
            "3    ***ГОЛУБАЯ ВОЛНА  (Univ)                      D        3   \n",
            "4        ***КОРОБКА (СТЕКЛО)                       D        4   \n",
            "\n",
            "   item_category_id  \n",
            "0                40  \n",
            "1                76  \n",
            "2                40  \n",
            "3                40  \n",
            "4                40   \n",
            "\n",
            "Itens Cat \n",
            "         item_category_name  item_category_id\n",
            "0  PC - Гарнитуры/Наушники                 0\n",
            "1         Аксессуары - PS2                 1\n",
            "2         Аксессуары - PS3                 2\n",
            "3         Аксессуары - PS4                 3\n",
            "4         Аксессуары - PSP                 4 \n",
            "\n",
            "Shops \n",
            "                         shop_name  shop_id\n",
            "0   !Якутск Орджоникидзе, 56 фран        0\n",
            "1   !Якутск ТЦ \"Центральный\" фран        1\n",
            "2                Адыгея ТЦ \"Мега\"        2\n",
            "3  Балашиха ТРК \"Октябрь-Киномир\"        3\n",
            "4        Волжский ТЦ \"Волга Молл\"        4 \n",
            "\n"
          ],
          "name": "stdout"
        }
      ]
    },
    {
      "metadata": {
        "id": "v5NPFj-4B2uE",
        "colab_type": "code",
        "outputId": "95072735-d4a7-43a2-ddad-1169aece4281",
        "colab": {
          "base_uri": "https://localhost:8080/",
          "height": 134
        }
      },
      "cell_type": "code",
      "source": [
        "print('Teste \\n', test.tail() )"
      ],
      "execution_count": 0,
      "outputs": [
        {
          "output_type": "stream",
          "text": [
            "Teste \n",
            "             ID  shop_id  item_id\n",
            "214195  214195       45    18454\n",
            "214196  214196       45    16188\n",
            "214197  214197       45    15757\n",
            "214198  214198       45    19648\n",
            "214199  214199       45      969\n"
          ],
          "name": "stdout"
        }
      ]
    },
    {
      "metadata": {
        "id": "JBwMNmgNdGQo",
        "colab_type": "text"
      },
      "cell_type": "markdown",
      "source": [
        "# Creating new features"
      ]
    },
    {
      "metadata": {
        "id": "XhReNi6icmn_",
        "colab_type": "code",
        "outputId": "49b8782d-6360-42b8-9bc3-931ffe371f28",
        "colab": {
          "base_uri": "https://localhost:8080/",
          "height": 195
        }
      },
      "cell_type": "code",
      "source": [
        "shops.loc[shops.shop_name == 'Сергиев Посад ТЦ \"7Я\"', 'shop_name'] = 'СергиевПосад ТЦ \"7Я\"'\n",
        "shops['city'] = shops['shop_name'].str.split(' ').map(lambda x: x[0])\n",
        "shops.loc[shops.city == '!Якутск', 'city'] = 'Якутск'\n",
        "shops['city_code'] = LabelEncoder().fit_transform(shops['city'])\n",
        "shops.drop(['shop_name', 'city'], axis='columns', inplace=True)\n",
        "shops.head()"
      ],
      "execution_count": 0,
      "outputs": [
        {
          "output_type": "execute_result",
          "data": {
            "text/html": [
              "<div>\n",
              "<style scoped>\n",
              "    .dataframe tbody tr th:only-of-type {\n",
              "        vertical-align: middle;\n",
              "    }\n",
              "\n",
              "    .dataframe tbody tr th {\n",
              "        vertical-align: top;\n",
              "    }\n",
              "\n",
              "    .dataframe thead th {\n",
              "        text-align: right;\n",
              "    }\n",
              "</style>\n",
              "<table border=\"1\" class=\"dataframe\">\n",
              "  <thead>\n",
              "    <tr style=\"text-align: right;\">\n",
              "      <th></th>\n",
              "      <th>shop_id</th>\n",
              "      <th>city_code</th>\n",
              "    </tr>\n",
              "  </thead>\n",
              "  <tbody>\n",
              "    <tr>\n",
              "      <th>0</th>\n",
              "      <td>0</td>\n",
              "      <td>29</td>\n",
              "    </tr>\n",
              "    <tr>\n",
              "      <th>1</th>\n",
              "      <td>1</td>\n",
              "      <td>29</td>\n",
              "    </tr>\n",
              "    <tr>\n",
              "      <th>2</th>\n",
              "      <td>2</td>\n",
              "      <td>0</td>\n",
              "    </tr>\n",
              "    <tr>\n",
              "      <th>3</th>\n",
              "      <td>3</td>\n",
              "      <td>1</td>\n",
              "    </tr>\n",
              "    <tr>\n",
              "      <th>4</th>\n",
              "      <td>4</td>\n",
              "      <td>2</td>\n",
              "    </tr>\n",
              "  </tbody>\n",
              "</table>\n",
              "</div>"
            ],
            "text/plain": [
              "   shop_id  city_code\n",
              "0        0         29\n",
              "1        1         29\n",
              "2        2          0\n",
              "3        3          1\n",
              "4        4          2"
            ]
          },
          "metadata": {
            "tags": []
          },
          "execution_count": 7
        }
      ]
    },
    {
      "metadata": {
        "id": "OhH2UrOodKmv",
        "colab_type": "code",
        "outputId": "67c7e279-f772-451c-a44d-800443bb9c16",
        "colab": {
          "base_uri": "https://localhost:8080/",
          "height": 195
        }
      },
      "cell_type": "code",
      "source": [
        "items_cat['split'] = items_cat['item_category_name'].str.split('-')\n",
        "items_cat['type'] = items_cat['split'].map(lambda x: x[0].strip())\n",
        "items_cat['type_code'] = LabelEncoder().fit_transform(items_cat['type'])\n",
        "\n",
        "items_cat['subtype'] = items_cat['split'].map(lambda x: x[1].strip() if len(x) > 1 else x[0].strip())\n",
        "items_cat['subtype_code'] = LabelEncoder().fit_transform(items_cat['subtype'])\n",
        "\n",
        "items_cat.drop(['item_category_name', 'split', 'type', 'subtype'], axis='columns', inplace=True)\n",
        "items_cat.head()"
      ],
      "execution_count": 0,
      "outputs": [
        {
          "output_type": "execute_result",
          "data": {
            "text/html": [
              "<div>\n",
              "<style scoped>\n",
              "    .dataframe tbody tr th:only-of-type {\n",
              "        vertical-align: middle;\n",
              "    }\n",
              "\n",
              "    .dataframe tbody tr th {\n",
              "        vertical-align: top;\n",
              "    }\n",
              "\n",
              "    .dataframe thead th {\n",
              "        text-align: right;\n",
              "    }\n",
              "</style>\n",
              "<table border=\"1\" class=\"dataframe\">\n",
              "  <thead>\n",
              "    <tr style=\"text-align: right;\">\n",
              "      <th></th>\n",
              "      <th>item_category_id</th>\n",
              "      <th>type_code</th>\n",
              "      <th>subtype_code</th>\n",
              "    </tr>\n",
              "  </thead>\n",
              "  <tbody>\n",
              "    <tr>\n",
              "      <th>0</th>\n",
              "      <td>0</td>\n",
              "      <td>0</td>\n",
              "      <td>29</td>\n",
              "    </tr>\n",
              "    <tr>\n",
              "      <th>1</th>\n",
              "      <td>1</td>\n",
              "      <td>1</td>\n",
              "      <td>9</td>\n",
              "    </tr>\n",
              "    <tr>\n",
              "      <th>2</th>\n",
              "      <td>2</td>\n",
              "      <td>1</td>\n",
              "      <td>10</td>\n",
              "    </tr>\n",
              "    <tr>\n",
              "      <th>3</th>\n",
              "      <td>3</td>\n",
              "      <td>1</td>\n",
              "      <td>11</td>\n",
              "    </tr>\n",
              "    <tr>\n",
              "      <th>4</th>\n",
              "      <td>4</td>\n",
              "      <td>1</td>\n",
              "      <td>13</td>\n",
              "    </tr>\n",
              "  </tbody>\n",
              "</table>\n",
              "</div>"
            ],
            "text/plain": [
              "   item_category_id  type_code  subtype_code\n",
              "0                 0          0            29\n",
              "1                 1          1             9\n",
              "2                 2          1            10\n",
              "3                 3          1            11\n",
              "4                 4          1            13"
            ]
          },
          "metadata": {
            "tags": []
          },
          "execution_count": 8
        }
      ]
    },
    {
      "metadata": {
        "id": "t9r9LXlndR6n",
        "colab_type": "code",
        "outputId": "7d496f52-e022-438b-b070-14e0012d72e2",
        "colab": {
          "base_uri": "https://localhost:8080/",
          "height": 195
        }
      },
      "cell_type": "code",
      "source": [
        "items.drop(['item_name'], axis=1, inplace=True)\n",
        "items.head()"
      ],
      "execution_count": 0,
      "outputs": [
        {
          "output_type": "execute_result",
          "data": {
            "text/html": [
              "<div>\n",
              "<style scoped>\n",
              "    .dataframe tbody tr th:only-of-type {\n",
              "        vertical-align: middle;\n",
              "    }\n",
              "\n",
              "    .dataframe tbody tr th {\n",
              "        vertical-align: top;\n",
              "    }\n",
              "\n",
              "    .dataframe thead th {\n",
              "        text-align: right;\n",
              "    }\n",
              "</style>\n",
              "<table border=\"1\" class=\"dataframe\">\n",
              "  <thead>\n",
              "    <tr style=\"text-align: right;\">\n",
              "      <th></th>\n",
              "      <th>item_id</th>\n",
              "      <th>item_category_id</th>\n",
              "    </tr>\n",
              "  </thead>\n",
              "  <tbody>\n",
              "    <tr>\n",
              "      <th>0</th>\n",
              "      <td>0</td>\n",
              "      <td>40</td>\n",
              "    </tr>\n",
              "    <tr>\n",
              "      <th>1</th>\n",
              "      <td>1</td>\n",
              "      <td>76</td>\n",
              "    </tr>\n",
              "    <tr>\n",
              "      <th>2</th>\n",
              "      <td>2</td>\n",
              "      <td>40</td>\n",
              "    </tr>\n",
              "    <tr>\n",
              "      <th>3</th>\n",
              "      <td>3</td>\n",
              "      <td>40</td>\n",
              "    </tr>\n",
              "    <tr>\n",
              "      <th>4</th>\n",
              "      <td>4</td>\n",
              "      <td>40</td>\n",
              "    </tr>\n",
              "  </tbody>\n",
              "</table>\n",
              "</div>"
            ],
            "text/plain": [
              "   item_id  item_category_id\n",
              "0        0                40\n",
              "1        1                76\n",
              "2        2                40\n",
              "3        3                40\n",
              "4        4                40"
            ]
          },
          "metadata": {
            "tags": []
          },
          "execution_count": 9
        }
      ]
    },
    {
      "metadata": {
        "id": "XXSEA13zdXOP",
        "colab_type": "code",
        "outputId": "a8b637c0-da63-493a-b166-ee8ce8e09c71",
        "colab": {
          "base_uri": "https://localhost:8080/",
          "height": 195
        }
      },
      "cell_type": "code",
      "source": [
        "train.drop(['date'], axis='columns', inplace=True)\n",
        "train.head()"
      ],
      "execution_count": 0,
      "outputs": [
        {
          "output_type": "execute_result",
          "data": {
            "text/html": [
              "<div>\n",
              "<style scoped>\n",
              "    .dataframe tbody tr th:only-of-type {\n",
              "        vertical-align: middle;\n",
              "    }\n",
              "\n",
              "    .dataframe tbody tr th {\n",
              "        vertical-align: top;\n",
              "    }\n",
              "\n",
              "    .dataframe thead th {\n",
              "        text-align: right;\n",
              "    }\n",
              "</style>\n",
              "<table border=\"1\" class=\"dataframe\">\n",
              "  <thead>\n",
              "    <tr style=\"text-align: right;\">\n",
              "      <th></th>\n",
              "      <th>date_block_num</th>\n",
              "      <th>shop_id</th>\n",
              "      <th>item_id</th>\n",
              "      <th>item_price</th>\n",
              "      <th>item_cnt_day</th>\n",
              "    </tr>\n",
              "  </thead>\n",
              "  <tbody>\n",
              "    <tr>\n",
              "      <th>0</th>\n",
              "      <td>0</td>\n",
              "      <td>59</td>\n",
              "      <td>22154</td>\n",
              "      <td>999.00</td>\n",
              "      <td>1.0</td>\n",
              "    </tr>\n",
              "    <tr>\n",
              "      <th>1</th>\n",
              "      <td>0</td>\n",
              "      <td>25</td>\n",
              "      <td>2552</td>\n",
              "      <td>899.00</td>\n",
              "      <td>1.0</td>\n",
              "    </tr>\n",
              "    <tr>\n",
              "      <th>2</th>\n",
              "      <td>0</td>\n",
              "      <td>25</td>\n",
              "      <td>2552</td>\n",
              "      <td>899.00</td>\n",
              "      <td>-1.0</td>\n",
              "    </tr>\n",
              "    <tr>\n",
              "      <th>3</th>\n",
              "      <td>0</td>\n",
              "      <td>25</td>\n",
              "      <td>2554</td>\n",
              "      <td>1709.05</td>\n",
              "      <td>1.0</td>\n",
              "    </tr>\n",
              "    <tr>\n",
              "      <th>4</th>\n",
              "      <td>0</td>\n",
              "      <td>25</td>\n",
              "      <td>2555</td>\n",
              "      <td>1099.00</td>\n",
              "      <td>1.0</td>\n",
              "    </tr>\n",
              "  </tbody>\n",
              "</table>\n",
              "</div>"
            ],
            "text/plain": [
              "   date_block_num  shop_id  item_id  item_price  item_cnt_day\n",
              "0               0       59    22154      999.00           1.0\n",
              "1               0       25     2552      899.00           1.0\n",
              "2               0       25     2552      899.00          -1.0\n",
              "3               0       25     2554     1709.05           1.0\n",
              "4               0       25     2555     1099.00           1.0"
            ]
          },
          "metadata": {
            "tags": []
          },
          "execution_count": 10
        }
      ]
    },
    {
      "metadata": {
        "id": "Xc-cMcd3dXmX",
        "colab_type": "code",
        "outputId": "91bb2c4e-f867-4d95-e7a0-83f85edfb7bd",
        "colab": {
          "base_uri": "https://localhost:8080/",
          "height": 195
        }
      },
      "cell_type": "code",
      "source": [
        "train_full = pd.merge(train, shops, on='shop_id', how='left')\n",
        "train_full = pd.merge(train_full, items, on='item_id', how='left')\n",
        "train_full = pd.merge(train_full, items_cat, on='item_category_id', how='left')\n",
        "train_full.head()"
      ],
      "execution_count": 0,
      "outputs": [
        {
          "output_type": "execute_result",
          "data": {
            "text/html": [
              "<div>\n",
              "<style scoped>\n",
              "    .dataframe tbody tr th:only-of-type {\n",
              "        vertical-align: middle;\n",
              "    }\n",
              "\n",
              "    .dataframe tbody tr th {\n",
              "        vertical-align: top;\n",
              "    }\n",
              "\n",
              "    .dataframe thead th {\n",
              "        text-align: right;\n",
              "    }\n",
              "</style>\n",
              "<table border=\"1\" class=\"dataframe\">\n",
              "  <thead>\n",
              "    <tr style=\"text-align: right;\">\n",
              "      <th></th>\n",
              "      <th>date_block_num</th>\n",
              "      <th>shop_id</th>\n",
              "      <th>item_id</th>\n",
              "      <th>item_price</th>\n",
              "      <th>item_cnt_day</th>\n",
              "      <th>city_code</th>\n",
              "      <th>item_category_id</th>\n",
              "      <th>type_code</th>\n",
              "      <th>subtype_code</th>\n",
              "    </tr>\n",
              "  </thead>\n",
              "  <tbody>\n",
              "    <tr>\n",
              "      <th>0</th>\n",
              "      <td>0</td>\n",
              "      <td>59</td>\n",
              "      <td>22154</td>\n",
              "      <td>999.00</td>\n",
              "      <td>1.0</td>\n",
              "      <td>30</td>\n",
              "      <td>37</td>\n",
              "      <td>11</td>\n",
              "      <td>1</td>\n",
              "    </tr>\n",
              "    <tr>\n",
              "      <th>1</th>\n",
              "      <td>0</td>\n",
              "      <td>25</td>\n",
              "      <td>2552</td>\n",
              "      <td>899.00</td>\n",
              "      <td>1.0</td>\n",
              "      <td>13</td>\n",
              "      <td>58</td>\n",
              "      <td>13</td>\n",
              "      <td>27</td>\n",
              "    </tr>\n",
              "    <tr>\n",
              "      <th>2</th>\n",
              "      <td>0</td>\n",
              "      <td>25</td>\n",
              "      <td>2552</td>\n",
              "      <td>899.00</td>\n",
              "      <td>-1.0</td>\n",
              "      <td>13</td>\n",
              "      <td>58</td>\n",
              "      <td>13</td>\n",
              "      <td>27</td>\n",
              "    </tr>\n",
              "    <tr>\n",
              "      <th>3</th>\n",
              "      <td>0</td>\n",
              "      <td>25</td>\n",
              "      <td>2554</td>\n",
              "      <td>1709.05</td>\n",
              "      <td>1.0</td>\n",
              "      <td>13</td>\n",
              "      <td>58</td>\n",
              "      <td>13</td>\n",
              "      <td>27</td>\n",
              "    </tr>\n",
              "    <tr>\n",
              "      <th>4</th>\n",
              "      <td>0</td>\n",
              "      <td>25</td>\n",
              "      <td>2555</td>\n",
              "      <td>1099.00</td>\n",
              "      <td>1.0</td>\n",
              "      <td>13</td>\n",
              "      <td>56</td>\n",
              "      <td>13</td>\n",
              "      <td>3</td>\n",
              "    </tr>\n",
              "  </tbody>\n",
              "</table>\n",
              "</div>"
            ],
            "text/plain": [
              "   date_block_num  shop_id  item_id  item_price  item_cnt_day  city_code  \\\n",
              "0               0       59    22154      999.00           1.0         30   \n",
              "1               0       25     2552      899.00           1.0         13   \n",
              "2               0       25     2552      899.00          -1.0         13   \n",
              "3               0       25     2554     1709.05           1.0         13   \n",
              "4               0       25     2555     1099.00           1.0         13   \n",
              "\n",
              "   item_category_id  type_code  subtype_code  \n",
              "0                37         11             1  \n",
              "1                58         13            27  \n",
              "2                58         13            27  \n",
              "3                58         13            27  \n",
              "4                56         13             3  "
            ]
          },
          "metadata": {
            "tags": []
          },
          "execution_count": 11
        }
      ]
    },
    {
      "metadata": {
        "id": "1UBveIeDdddf",
        "colab_type": "code",
        "outputId": "cf558efd-6037-45bd-aa91-6fe827f0cdfd",
        "colab": {
          "base_uri": "https://localhost:8080/",
          "height": 846
        }
      },
      "cell_type": "code",
      "source": [
        "# Liner correlation between features.\n",
        "correlation = train_full.corr()\n",
        "plt.figure(figsize=(15,15))\n",
        "sns.heatmap(correlation, vmax=1, square=True,annot=True)\n",
        "plt.show()"
      ],
      "execution_count": 0,
      "outputs": [
        {
          "output_type": "display_data",
          "data": {
            "image/png": "[encoded data removed]",
            "text/plain": [
              "<Figure size 1080x1080 with 2 Axes>"
            ]
          },
          "metadata": {
            "tags": []
          }
        }
      ]
    },
    {
      "metadata": {
        "id": "FvlFZfDQdo9H",
        "colab_type": "code",
        "outputId": "1cd551f5-db58-48f3-de91-1bb603e64a09",
        "colab": {
          "base_uri": "https://localhost:8080/",
          "height": 134
        }
      },
      "cell_type": "code",
      "source": [
        "print('Test:')\n",
        "print('- Número de itens únicos:', test['item_id'].nunique())\n",
        "print('- Número de shoppings únicos:', test['shop_id'].nunique())\n",
        "print('\\n Train_full:')\n",
        "print('- Número de itens únicos:', train_full['item_id'].nunique())\n",
        "print('- Número de shoppings únicos:', train_full['shop_id'].nunique())"
      ],
      "execution_count": 0,
      "outputs": [
        {
          "output_type": "stream",
          "text": [
            "Test:\n",
            "- Número de itens únicos: 5100\n",
            "- Número de shoppings únicos: 42\n",
            "\n",
            " Train_full:\n",
            "- Número de itens únicos: 21807\n",
            "- Número de shoppings únicos: 60\n"
          ],
          "name": "stdout"
        }
      ]
    },
    {
      "metadata": {
        "id": "y10OM1XjdvhX",
        "colab_type": "code",
        "outputId": "50dea854-26de-4d83-ee41-25bb7385882a",
        "colab": {
          "base_uri": "https://localhost:8080/",
          "height": 284
        }
      },
      "cell_type": "code",
      "source": [
        "train_full.describe()"
      ],
      "execution_count": 0,
      "outputs": [
        {
          "output_type": "execute_result",
          "data": {
            "text/html": [
              "<div>\n",
              "<style scoped>\n",
              "    .dataframe tbody tr th:only-of-type {\n",
              "        vertical-align: middle;\n",
              "    }\n",
              "\n",
              "    .dataframe tbody tr th {\n",
              "        vertical-align: top;\n",
              "    }\n",
              "\n",
              "    .dataframe thead th {\n",
              "        text-align: right;\n",
              "    }\n",
              "</style>\n",
              "<table border=\"1\" class=\"dataframe\">\n",
              "  <thead>\n",
              "    <tr style=\"text-align: right;\">\n",
              "      <th></th>\n",
              "      <th>date_block_num</th>\n",
              "      <th>shop_id</th>\n",
              "      <th>item_id</th>\n",
              "      <th>item_price</th>\n",
              "      <th>item_cnt_day</th>\n",
              "      <th>city_code</th>\n",
              "      <th>item_category_id</th>\n",
              "      <th>type_code</th>\n",
              "      <th>subtype_code</th>\n",
              "    </tr>\n",
              "  </thead>\n",
              "  <tbody>\n",
              "    <tr>\n",
              "      <th>count</th>\n",
              "      <td>2.935849e+06</td>\n",
              "      <td>2.935849e+06</td>\n",
              "      <td>2.935849e+06</td>\n",
              "      <td>2.935849e+06</td>\n",
              "      <td>2.935849e+06</td>\n",
              "      <td>2.935849e+06</td>\n",
              "      <td>2.935849e+06</td>\n",
              "      <td>2.935849e+06</td>\n",
              "      <td>2.935849e+06</td>\n",
              "    </tr>\n",
              "    <tr>\n",
              "      <th>mean</th>\n",
              "      <td>1.456991e+01</td>\n",
              "      <td>3.300173e+01</td>\n",
              "      <td>1.019723e+04</td>\n",
              "      <td>8.908532e+02</td>\n",
              "      <td>1.242641e+00</td>\n",
              "      <td>1.617069e+01</td>\n",
              "      <td>4.000138e+01</td>\n",
              "      <td>9.872360e+00</td>\n",
              "      <td>2.096082e+01</td>\n",
              "    </tr>\n",
              "    <tr>\n",
              "      <th>std</th>\n",
              "      <td>9.422988e+00</td>\n",
              "      <td>1.622697e+01</td>\n",
              "      <td>6.324297e+03</td>\n",
              "      <td>1.729800e+03</td>\n",
              "      <td>2.618834e+00</td>\n",
              "      <td>7.554980e+00</td>\n",
              "      <td>1.710076e+01</td>\n",
              "      <td>3.499719e+00</td>\n",
              "      <td>2.080453e+01</td>\n",
              "    </tr>\n",
              "    <tr>\n",
              "      <th>min</th>\n",
              "      <td>0.000000e+00</td>\n",
              "      <td>0.000000e+00</td>\n",
              "      <td>0.000000e+00</td>\n",
              "      <td>-1.000000e+00</td>\n",
              "      <td>-2.200000e+01</td>\n",
              "      <td>0.000000e+00</td>\n",
              "      <td>0.000000e+00</td>\n",
              "      <td>0.000000e+00</td>\n",
              "      <td>0.000000e+00</td>\n",
              "    </tr>\n",
              "    <tr>\n",
              "      <th>25%</th>\n",
              "      <td>7.000000e+00</td>\n",
              "      <td>2.200000e+01</td>\n",
              "      <td>4.476000e+03</td>\n",
              "      <td>2.490000e+02</td>\n",
              "      <td>1.000000e+00</td>\n",
              "      <td>1.300000e+01</td>\n",
              "      <td>2.800000e+01</td>\n",
              "      <td>8.000000e+00</td>\n",
              "      <td>4.000000e+00</td>\n",
              "    </tr>\n",
              "    <tr>\n",
              "      <th>50%</th>\n",
              "      <td>1.400000e+01</td>\n",
              "      <td>3.100000e+01</td>\n",
              "      <td>9.343000e+03</td>\n",
              "      <td>3.990000e+02</td>\n",
              "      <td>1.000000e+00</td>\n",
              "      <td>1.300000e+01</td>\n",
              "      <td>4.000000e+01</td>\n",
              "      <td>1.100000e+01</td>\n",
              "      <td>1.100000e+01</td>\n",
              "    </tr>\n",
              "    <tr>\n",
              "      <th>75%</th>\n",
              "      <td>2.300000e+01</td>\n",
              "      <td>4.700000e+01</td>\n",
              "      <td>1.568400e+04</td>\n",
              "      <td>9.990000e+02</td>\n",
              "      <td>1.000000e+00</td>\n",
              "      <td>2.300000e+01</td>\n",
              "      <td>5.500000e+01</td>\n",
              "      <td>1.300000e+01</td>\n",
              "      <td>4.100000e+01</td>\n",
              "    </tr>\n",
              "    <tr>\n",
              "      <th>max</th>\n",
              "      <td>3.300000e+01</td>\n",
              "      <td>5.900000e+01</td>\n",
              "      <td>2.216900e+04</td>\n",
              "      <td>3.079800e+05</td>\n",
              "      <td>2.169000e+03</td>\n",
              "      <td>3.000000e+01</td>\n",
              "      <td>8.300000e+01</td>\n",
              "      <td>1.900000e+01</td>\n",
              "      <td>6.400000e+01</td>\n",
              "    </tr>\n",
              "  </tbody>\n",
              "</table>\n",
              "</div>"
            ],
            "text/plain": [
              "       date_block_num       shop_id       item_id    item_price  item_cnt_day  \\\n",
              "count    2.935849e+06  2.935849e+06  2.935849e+06  2.935849e+06  2.935849e+06   \n",
              "mean     1.456991e+01  3.300173e+01  1.019723e+04  8.908532e+02  1.242641e+00   \n",
              "std      9.422988e+00  1.622697e+01  6.324297e+03  1.729800e+03  2.618834e+00   \n",
              "min      0.000000e+00  0.000000e+00  0.000000e+00 -1.000000e+00 -2.200000e+01   \n",
              "25%      7.000000e+00  2.200000e+01  4.476000e+03  2.490000e+02  1.000000e+00   \n",
              "50%      1.400000e+01  3.100000e+01  9.343000e+03  3.990000e+02  1.000000e+00   \n",
              "75%      2.300000e+01  4.700000e+01  1.568400e+04  9.990000e+02  1.000000e+00   \n",
              "max      3.300000e+01  5.900000e+01  2.216900e+04  3.079800e+05  2.169000e+03   \n",
              "\n",
              "          city_code  item_category_id     type_code  subtype_code  \n",
              "count  2.935849e+06      2.935849e+06  2.935849e+06  2.935849e+06  \n",
              "mean   1.617069e+01      4.000138e+01  9.872360e+00  2.096082e+01  \n",
              "std    7.554980e+00      1.710076e+01  3.499719e+00  2.080453e+01  \n",
              "min    0.000000e+00      0.000000e+00  0.000000e+00  0.000000e+00  \n",
              "25%    1.300000e+01      2.800000e+01  8.000000e+00  4.000000e+00  \n",
              "50%    1.300000e+01      4.000000e+01  1.100000e+01  1.100000e+01  \n",
              "75%    2.300000e+01      5.500000e+01  1.300000e+01  4.100000e+01  \n",
              "max    3.000000e+01      8.300000e+01  1.900000e+01  6.400000e+01  "
            ]
          },
          "metadata": {
            "tags": []
          },
          "execution_count": 14
        }
      ]
    },
    {
      "metadata": {
        "id": "4ibZ-VrcdxGv",
        "colab_type": "code",
        "outputId": "f259d426-f6e6-45be-ab3c-00ad8fb59f01",
        "colab": {
          "base_uri": "https://localhost:8080/",
          "height": 284
        }
      },
      "cell_type": "code",
      "source": [
        "test.describe()"
      ],
      "execution_count": 0,
      "outputs": [
        {
          "output_type": "execute_result",
          "data": {
            "text/html": [
              "<div>\n",
              "<style scoped>\n",
              "    .dataframe tbody tr th:only-of-type {\n",
              "        vertical-align: middle;\n",
              "    }\n",
              "\n",
              "    .dataframe tbody tr th {\n",
              "        vertical-align: top;\n",
              "    }\n",
              "\n",
              "    .dataframe thead th {\n",
              "        text-align: right;\n",
              "    }\n",
              "</style>\n",
              "<table border=\"1\" class=\"dataframe\">\n",
              "  <thead>\n",
              "    <tr style=\"text-align: right;\">\n",
              "      <th></th>\n",
              "      <th>ID</th>\n",
              "      <th>shop_id</th>\n",
              "      <th>item_id</th>\n",
              "    </tr>\n",
              "  </thead>\n",
              "  <tbody>\n",
              "    <tr>\n",
              "      <th>count</th>\n",
              "      <td>214200.000000</td>\n",
              "      <td>214200.000000</td>\n",
              "      <td>214200.000000</td>\n",
              "    </tr>\n",
              "    <tr>\n",
              "      <th>mean</th>\n",
              "      <td>107099.500000</td>\n",
              "      <td>31.642857</td>\n",
              "      <td>11019.398627</td>\n",
              "    </tr>\n",
              "    <tr>\n",
              "      <th>std</th>\n",
              "      <td>61834.358168</td>\n",
              "      <td>17.561933</td>\n",
              "      <td>6252.644590</td>\n",
              "    </tr>\n",
              "    <tr>\n",
              "      <th>min</th>\n",
              "      <td>0.000000</td>\n",
              "      <td>2.000000</td>\n",
              "      <td>30.000000</td>\n",
              "    </tr>\n",
              "    <tr>\n",
              "      <th>25%</th>\n",
              "      <td>53549.750000</td>\n",
              "      <td>16.000000</td>\n",
              "      <td>5381.500000</td>\n",
              "    </tr>\n",
              "    <tr>\n",
              "      <th>50%</th>\n",
              "      <td>107099.500000</td>\n",
              "      <td>34.500000</td>\n",
              "      <td>11203.000000</td>\n",
              "    </tr>\n",
              "    <tr>\n",
              "      <th>75%</th>\n",
              "      <td>160649.250000</td>\n",
              "      <td>47.000000</td>\n",
              "      <td>16071.500000</td>\n",
              "    </tr>\n",
              "    <tr>\n",
              "      <th>max</th>\n",
              "      <td>214199.000000</td>\n",
              "      <td>59.000000</td>\n",
              "      <td>22167.000000</td>\n",
              "    </tr>\n",
              "  </tbody>\n",
              "</table>\n",
              "</div>"
            ],
            "text/plain": [
              "                  ID        shop_id        item_id\n",
              "count  214200.000000  214200.000000  214200.000000\n",
              "mean   107099.500000      31.642857   11019.398627\n",
              "std     61834.358168      17.561933    6252.644590\n",
              "min         0.000000       2.000000      30.000000\n",
              "25%     53549.750000      16.000000    5381.500000\n",
              "50%    107099.500000      34.500000   11203.000000\n",
              "75%    160649.250000      47.000000   16071.500000\n",
              "max    214199.000000      59.000000   22167.000000"
            ]
          },
          "metadata": {
            "tags": []
          },
          "execution_count": 15
        }
      ]
    },
    {
      "metadata": {
        "id": "Ss8K84TNdzaH",
        "colab_type": "code",
        "outputId": "4eb6a30c-7440-4cc1-f19e-52402d644e5d",
        "colab": {
          "base_uri": "https://localhost:8080/",
          "height": 376
        }
      },
      "cell_type": "code",
      "source": [
        "plt.hist(train_full['item_price'], bins = 100)\n",
        "plt.title('Hist - item_price')\n",
        "plt.xlabel('Item Price')\n",
        "plt.show()"
      ],
      "execution_count": 0,
      "outputs": [
        {
          "output_type": "display_data",
          "data": {
            "image/png": "[encoded data removed]",
            "text/plain": [
              "<Figure size 576x396 with 1 Axes>"
            ]
          },
          "metadata": {
            "tags": []
          }
        }
      ]
    },
    {
      "metadata": {
        "id": "JHUci6o1d2YP",
        "colab_type": "code",
        "outputId": "d3cc7aec-a742-4d06-a557-7c085b5f0d71",
        "colab": {
          "base_uri": "https://localhost:8080/",
          "height": 376
        }
      },
      "cell_type": "code",
      "source": [
        "plt.hist(train_full['item_price'][train_full.item_price < 8000], bins = 100)\n",
        "plt.title('Hist - item_price')\n",
        "plt.xlabel('Item Price')\n",
        "plt.show()"
      ],
      "execution_count": 0,
      "outputs": [
        {
          "output_type": "display_data",
          "data": {
            "image/png": "[encoded data removed]",
            "text/plain": [
              "<Figure size 576x396 with 1 Axes>"
            ]
          },
          "metadata": {
            "tags": []
          }
        }
      ]
    },
    {
      "metadata": {
        "id": "jCNCPRZcd4U_",
        "colab_type": "code",
        "outputId": "cff4161a-d408-4a47-b34f-d7fabf94a785",
        "colab": {
          "base_uri": "https://localhost:8080/",
          "height": 376
        }
      },
      "cell_type": "code",
      "source": [
        "x = train_full['item_price'][train_full.item_price < 8000].values\n",
        "x = np.log(np.abs(x))\n",
        "plt.hist(x, bins = 30)\n",
        "plt.title('Hist - item_price')\n",
        "plt.xlabel('Log(Item Price)')\n",
        "plt.show()"
      ],
      "execution_count": 0,
      "outputs": [
        {
          "output_type": "display_data",
          "data": {
            "image/png": "[encoded data removed]",
            "text/plain": [
              "<Figure size 576x396 with 1 Axes>"
            ]
          },
          "metadata": {
            "tags": []
          }
        }
      ]
    },
    {
      "metadata": {
        "id": "9aQGA0UId5-n",
        "colab_type": "code",
        "colab": {}
      },
      "cell_type": "code",
      "source": [
        "train_full = train_full[train_full.item_price < 100000]\n",
        "train = train[train.item_price < 100000]"
      ],
      "execution_count": 0,
      "outputs": []
    },
    {
      "metadata": {
        "id": "Px1KHST-d_Lp",
        "colab_type": "code",
        "colab": {}
      },
      "cell_type": "code",
      "source": [
        "train_full = train_full[train_full.item_cnt_day < 1001]\n",
        "train = train[train.item_cnt_day < 1001]"
      ],
      "execution_count": 0,
      "outputs": []
    },
    {
      "metadata": {
        "id": "Mp5n-huDeAHn",
        "colab_type": "code",
        "outputId": "40d5f909-2f36-4ecb-be36-422ff1264163",
        "colab": {
          "base_uri": "https://localhost:8080/",
          "height": 284
        }
      },
      "cell_type": "code",
      "source": [
        "train_full.describe()"
      ],
      "execution_count": 0,
      "outputs": [
        {
          "output_type": "execute_result",
          "data": {
            "text/html": [
              "<div>\n",
              "<style scoped>\n",
              "    .dataframe tbody tr th:only-of-type {\n",
              "        vertical-align: middle;\n",
              "    }\n",
              "\n",
              "    .dataframe tbody tr th {\n",
              "        vertical-align: top;\n",
              "    }\n",
              "\n",
              "    .dataframe thead th {\n",
              "        text-align: right;\n",
              "    }\n",
              "</style>\n",
              "<table border=\"1\" class=\"dataframe\">\n",
              "  <thead>\n",
              "    <tr style=\"text-align: right;\">\n",
              "      <th></th>\n",
              "      <th>date_block_num</th>\n",
              "      <th>shop_id</th>\n",
              "      <th>item_id</th>\n",
              "      <th>item_price</th>\n",
              "      <th>item_cnt_day</th>\n",
              "      <th>city_code</th>\n",
              "      <th>item_category_id</th>\n",
              "      <th>type_code</th>\n",
              "      <th>subtype_code</th>\n",
              "    </tr>\n",
              "  </thead>\n",
              "  <tbody>\n",
              "    <tr>\n",
              "      <th>count</th>\n",
              "      <td>2.935847e+06</td>\n",
              "      <td>2.935847e+06</td>\n",
              "      <td>2.935847e+06</td>\n",
              "      <td>2.935847e+06</td>\n",
              "      <td>2.935847e+06</td>\n",
              "      <td>2.935847e+06</td>\n",
              "      <td>2.935847e+06</td>\n",
              "      <td>2.935847e+06</td>\n",
              "      <td>2.935847e+06</td>\n",
              "    </tr>\n",
              "    <tr>\n",
              "      <th>mean</th>\n",
              "      <td>1.456991e+01</td>\n",
              "      <td>3.300174e+01</td>\n",
              "      <td>1.019723e+04</td>\n",
              "      <td>8.907489e+02</td>\n",
              "      <td>1.241903e+00</td>\n",
              "      <td>1.617069e+01</td>\n",
              "      <td>4.000138e+01</td>\n",
              "      <td>9.872360e+00</td>\n",
              "      <td>2.096081e+01</td>\n",
              "    </tr>\n",
              "    <tr>\n",
              "      <th>std</th>\n",
              "      <td>9.422985e+00</td>\n",
              "      <td>1.622697e+01</td>\n",
              "      <td>6.324299e+03</td>\n",
              "      <td>1.720490e+03</td>\n",
              "      <td>2.292963e+00</td>\n",
              "      <td>7.554978e+00</td>\n",
              "      <td>1.710074e+01</td>\n",
              "      <td>3.499717e+00</td>\n",
              "      <td>2.080453e+01</td>\n",
              "    </tr>\n",
              "    <tr>\n",
              "      <th>min</th>\n",
              "      <td>0.000000e+00</td>\n",
              "      <td>0.000000e+00</td>\n",
              "      <td>0.000000e+00</td>\n",
              "      <td>-1.000000e+00</td>\n",
              "      <td>-2.200000e+01</td>\n",
              "      <td>0.000000e+00</td>\n",
              "      <td>0.000000e+00</td>\n",
              "      <td>0.000000e+00</td>\n",
              "      <td>0.000000e+00</td>\n",
              "    </tr>\n",
              "    <tr>\n",
              "      <th>25%</th>\n",
              "      <td>7.000000e+00</td>\n",
              "      <td>2.200000e+01</td>\n",
              "      <td>4.476000e+03</td>\n",
              "      <td>2.490000e+02</td>\n",
              "      <td>1.000000e+00</td>\n",
              "      <td>1.300000e+01</td>\n",
              "      <td>2.800000e+01</td>\n",
              "      <td>8.000000e+00</td>\n",
              "      <td>4.000000e+00</td>\n",
              "    </tr>\n",
              "    <tr>\n",
              "      <th>50%</th>\n",
              "      <td>1.400000e+01</td>\n",
              "      <td>3.100000e+01</td>\n",
              "      <td>9.343000e+03</td>\n",
              "      <td>3.990000e+02</td>\n",
              "      <td>1.000000e+00</td>\n",
              "      <td>1.300000e+01</td>\n",
              "      <td>4.000000e+01</td>\n",
              "      <td>1.100000e+01</td>\n",
              "      <td>1.100000e+01</td>\n",
              "    </tr>\n",
              "    <tr>\n",
              "      <th>75%</th>\n",
              "      <td>2.300000e+01</td>\n",
              "      <td>4.700000e+01</td>\n",
              "      <td>1.568400e+04</td>\n",
              "      <td>9.990000e+02</td>\n",
              "      <td>1.000000e+00</td>\n",
              "      <td>2.300000e+01</td>\n",
              "      <td>5.500000e+01</td>\n",
              "      <td>1.300000e+01</td>\n",
              "      <td>4.100000e+01</td>\n",
              "    </tr>\n",
              "    <tr>\n",
              "      <th>max</th>\n",
              "      <td>3.300000e+01</td>\n",
              "      <td>5.900000e+01</td>\n",
              "      <td>2.216900e+04</td>\n",
              "      <td>5.920000e+04</td>\n",
              "      <td>1.000000e+03</td>\n",
              "      <td>3.000000e+01</td>\n",
              "      <td>8.300000e+01</td>\n",
              "      <td>1.900000e+01</td>\n",
              "      <td>6.400000e+01</td>\n",
              "    </tr>\n",
              "  </tbody>\n",
              "</table>\n",
              "</div>"
            ],
            "text/plain": [
              "       date_block_num       shop_id       item_id    item_price  item_cnt_day  \\\n",
              "count    2.935847e+06  2.935847e+06  2.935847e+06  2.935847e+06  2.935847e+06   \n",
              "mean     1.456991e+01  3.300174e+01  1.019723e+04  8.907489e+02  1.241903e+00   \n",
              "std      9.422985e+00  1.622697e+01  6.324299e+03  1.720490e+03  2.292963e+00   \n",
              "min      0.000000e+00  0.000000e+00  0.000000e+00 -1.000000e+00 -2.200000e+01   \n",
              "25%      7.000000e+00  2.200000e+01  4.476000e+03  2.490000e+02  1.000000e+00   \n",
              "50%      1.400000e+01  3.100000e+01  9.343000e+03  3.990000e+02  1.000000e+00   \n",
              "75%      2.300000e+01  4.700000e+01  1.568400e+04  9.990000e+02  1.000000e+00   \n",
              "max      3.300000e+01  5.900000e+01  2.216900e+04  5.920000e+04  1.000000e+03   \n",
              "\n",
              "          city_code  item_category_id     type_code  subtype_code  \n",
              "count  2.935847e+06      2.935847e+06  2.935847e+06  2.935847e+06  \n",
              "mean   1.617069e+01      4.000138e+01  9.872360e+00  2.096081e+01  \n",
              "std    7.554978e+00      1.710074e+01  3.499717e+00  2.080453e+01  \n",
              "min    0.000000e+00      0.000000e+00  0.000000e+00  0.000000e+00  \n",
              "25%    1.300000e+01      2.800000e+01  8.000000e+00  4.000000e+00  \n",
              "50%    1.300000e+01      4.000000e+01  1.100000e+01  1.100000e+01  \n",
              "75%    2.300000e+01      5.500000e+01  1.300000e+01  4.100000e+01  \n",
              "max    3.000000e+01      8.300000e+01  1.900000e+01  6.400000e+01  "
            ]
          },
          "metadata": {
            "tags": []
          },
          "execution_count": 21
        }
      ]
    },
    {
      "metadata": {
        "id": "eEryG5GTeBpn",
        "colab_type": "code",
        "colab": {}
      },
      "cell_type": "code",
      "source": [
        "# Idk with this is true\n",
        "train.loc[train.shop_id == 0, 'shop_id'] = 57\n",
        "test.loc[test.shop_id == 0, 'shop_id'] = 57\n",
        "train.loc[train.shop_id == 1, 'shop_id'] = 58\n",
        "test.loc[test.shop_id == 1, 'shop_id'] = 58\n",
        "train.loc[train.shop_id == 10, 'shop_id'] = 11\n",
        "test.loc[test.shop_id == 10, 'shop_id'] = 11"
      ],
      "execution_count": 0,
      "outputs": []
    },
    {
      "metadata": {
        "id": "08PbtY-tnUER",
        "colab_type": "text"
      },
      "cell_type": "markdown",
      "source": [
        "# Months features"
      ]
    },
    {
      "metadata": {
        "id": "wOsMGFP9eDwI",
        "colab_type": "code",
        "colab": {}
      },
      "cell_type": "code",
      "source": [
        "n_months = train['date_block_num'].nunique()\n",
        "aux = []\n",
        "for i in range(n_months):\n",
        "    df = train[train.date_block_num == i]\n",
        "    shop_uniq, item_uniq = df.shop_id.unique(), df.item_id.unique()\n",
        "\n",
        "    a = list(product([i], shop_uniq, item_uniq))\n",
        "    a = np.array(a)\n",
        "    aux.append(a)\n",
        "aux = pd.DataFrame(np.vstack(aux), columns=['date_block_num', 'shop_id', 'item_id'])\n",
        "aux.sort_values(['date_block_num', 'shop_id', 'item_id'], inplace=True)"
      ],
      "execution_count": 0,
      "outputs": []
    },
    {
      "metadata": {
        "id": "gD1TKdJ9eH93",
        "colab_type": "code",
        "outputId": "15bd902b-ef36-4b4e-8f43-d679b1d999d7",
        "colab": {
          "base_uri": "https://localhost:8080/",
          "height": 195
        }
      },
      "cell_type": "code",
      "source": [
        "df_month = train.groupby(by=['date_block_num', 'shop_id', 'item_id'], axis='index').sum()\n",
        "df_month.rename(columns={'item_cnt_day':'item_cnt_month'}, inplace=True)\n",
        "df_month.reset_index(inplace=True)\n",
        "df_month.head()"
      ],
      "execution_count": 0,
      "outputs": [
        {
          "output_type": "execute_result",
          "data": {
            "text/html": [
              "<div>\n",
              "<style scoped>\n",
              "    .dataframe tbody tr th:only-of-type {\n",
              "        vertical-align: middle;\n",
              "    }\n",
              "\n",
              "    .dataframe tbody tr th {\n",
              "        vertical-align: top;\n",
              "    }\n",
              "\n",
              "    .dataframe thead th {\n",
              "        text-align: right;\n",
              "    }\n",
              "</style>\n",
              "<table border=\"1\" class=\"dataframe\">\n",
              "  <thead>\n",
              "    <tr style=\"text-align: right;\">\n",
              "      <th></th>\n",
              "      <th>date_block_num</th>\n",
              "      <th>shop_id</th>\n",
              "      <th>item_id</th>\n",
              "      <th>item_price</th>\n",
              "      <th>item_cnt_month</th>\n",
              "    </tr>\n",
              "  </thead>\n",
              "  <tbody>\n",
              "    <tr>\n",
              "      <th>0</th>\n",
              "      <td>0</td>\n",
              "      <td>2</td>\n",
              "      <td>27</td>\n",
              "      <td>2499.0</td>\n",
              "      <td>1.0</td>\n",
              "    </tr>\n",
              "    <tr>\n",
              "      <th>1</th>\n",
              "      <td>0</td>\n",
              "      <td>2</td>\n",
              "      <td>33</td>\n",
              "      <td>499.0</td>\n",
              "      <td>1.0</td>\n",
              "    </tr>\n",
              "    <tr>\n",
              "      <th>2</th>\n",
              "      <td>0</td>\n",
              "      <td>2</td>\n",
              "      <td>317</td>\n",
              "      <td>299.0</td>\n",
              "      <td>1.0</td>\n",
              "    </tr>\n",
              "    <tr>\n",
              "      <th>3</th>\n",
              "      <td>0</td>\n",
              "      <td>2</td>\n",
              "      <td>438</td>\n",
              "      <td>299.0</td>\n",
              "      <td>1.0</td>\n",
              "    </tr>\n",
              "    <tr>\n",
              "      <th>4</th>\n",
              "      <td>0</td>\n",
              "      <td>2</td>\n",
              "      <td>471</td>\n",
              "      <td>798.0</td>\n",
              "      <td>2.0</td>\n",
              "    </tr>\n",
              "  </tbody>\n",
              "</table>\n",
              "</div>"
            ],
            "text/plain": [
              "   date_block_num  shop_id  item_id  item_price  item_cnt_month\n",
              "0               0        2       27      2499.0             1.0\n",
              "1               0        2       33       499.0             1.0\n",
              "2               0        2      317       299.0             1.0\n",
              "3               0        2      438       299.0             1.0\n",
              "4               0        2      471       798.0             2.0"
            ]
          },
          "metadata": {
            "tags": []
          },
          "execution_count": 24
        }
      ]
    },
    {
      "metadata": {
        "id": "H3lsNa5YeJgA",
        "colab_type": "code",
        "colab": {}
      },
      "cell_type": "code",
      "source": [
        "df_month['revenue'] = df_month['item_cnt_month'] * df_month['item_price']"
      ],
      "execution_count": 0,
      "outputs": []
    },
    {
      "metadata": {
        "id": "c_6Asjb5eMTg",
        "colab_type": "code",
        "outputId": "4f8fabad-480a-4c0b-a36b-01359ac85411",
        "colab": {
          "base_uri": "https://localhost:8080/",
          "height": 195
        }
      },
      "cell_type": "code",
      "source": [
        "df_month.rename(columns={'item_price':'item_price_month', 'revenue':'revenue_month'}, inplace=True)\n",
        "df_month.head()"
      ],
      "execution_count": 0,
      "outputs": [
        {
          "output_type": "execute_result",
          "data": {
            "text/html": [
              "<div>\n",
              "<style scoped>\n",
              "    .dataframe tbody tr th:only-of-type {\n",
              "        vertical-align: middle;\n",
              "    }\n",
              "\n",
              "    .dataframe tbody tr th {\n",
              "        vertical-align: top;\n",
              "    }\n",
              "\n",
              "    .dataframe thead th {\n",
              "        text-align: right;\n",
              "    }\n",
              "</style>\n",
              "<table border=\"1\" class=\"dataframe\">\n",
              "  <thead>\n",
              "    <tr style=\"text-align: right;\">\n",
              "      <th></th>\n",
              "      <th>date_block_num</th>\n",
              "      <th>shop_id</th>\n",
              "      <th>item_id</th>\n",
              "      <th>item_price_month</th>\n",
              "      <th>item_cnt_month</th>\n",
              "      <th>revenue_month</th>\n",
              "    </tr>\n",
              "  </thead>\n",
              "  <tbody>\n",
              "    <tr>\n",
              "      <th>0</th>\n",
              "      <td>0</td>\n",
              "      <td>2</td>\n",
              "      <td>27</td>\n",
              "      <td>2499.0</td>\n",
              "      <td>1.0</td>\n",
              "      <td>2499.0</td>\n",
              "    </tr>\n",
              "    <tr>\n",
              "      <th>1</th>\n",
              "      <td>0</td>\n",
              "      <td>2</td>\n",
              "      <td>33</td>\n",
              "      <td>499.0</td>\n",
              "      <td>1.0</td>\n",
              "      <td>499.0</td>\n",
              "    </tr>\n",
              "    <tr>\n",
              "      <th>2</th>\n",
              "      <td>0</td>\n",
              "      <td>2</td>\n",
              "      <td>317</td>\n",
              "      <td>299.0</td>\n",
              "      <td>1.0</td>\n",
              "      <td>299.0</td>\n",
              "    </tr>\n",
              "    <tr>\n",
              "      <th>3</th>\n",
              "      <td>0</td>\n",
              "      <td>2</td>\n",
              "      <td>438</td>\n",
              "      <td>299.0</td>\n",
              "      <td>1.0</td>\n",
              "      <td>299.0</td>\n",
              "    </tr>\n",
              "    <tr>\n",
              "      <th>4</th>\n",
              "      <td>0</td>\n",
              "      <td>2</td>\n",
              "      <td>471</td>\n",
              "      <td>798.0</td>\n",
              "      <td>2.0</td>\n",
              "      <td>1596.0</td>\n",
              "    </tr>\n",
              "  </tbody>\n",
              "</table>\n",
              "</div>"
            ],
            "text/plain": [
              "   date_block_num  shop_id  item_id  item_price_month  item_cnt_month  \\\n",
              "0               0        2       27            2499.0             1.0   \n",
              "1               0        2       33             499.0             1.0   \n",
              "2               0        2      317             299.0             1.0   \n",
              "3               0        2      438             299.0             1.0   \n",
              "4               0        2      471             798.0             2.0   \n",
              "\n",
              "   revenue_month  \n",
              "0         2499.0  \n",
              "1          499.0  \n",
              "2          299.0  \n",
              "3          299.0  \n",
              "4         1596.0  "
            ]
          },
          "metadata": {
            "tags": []
          },
          "execution_count": 26
        }
      ]
    },
    {
      "metadata": {
        "id": "f06EcmJJeOMP",
        "colab_type": "code",
        "colab": {}
      },
      "cell_type": "code",
      "source": [
        "df_month = pd.merge(aux, df_month, on=['date_block_num', 'shop_id', 'item_id'], how='left').fillna(0)\n",
        "del aux"
      ],
      "execution_count": 0,
      "outputs": []
    },
    {
      "metadata": {
        "id": "vYLieK7aeP_X",
        "colab_type": "code",
        "colab": {}
      },
      "cell_type": "code",
      "source": [
        "df_month['item_cnt_month'] = df_month['item_cnt_month'].clip(0, 20)"
      ],
      "execution_count": 0,
      "outputs": []
    },
    {
      "metadata": {
        "id": "yaMFC3YWeRmH",
        "colab_type": "code",
        "outputId": "f4e4c2f5-b28b-4680-f251-9f71ed988bb0",
        "colab": {
          "base_uri": "https://localhost:8080/",
          "height": 195
        }
      },
      "cell_type": "code",
      "source": [
        "test['date_block_num'] = 34\n",
        "test.drop(['ID'], axis='columns', inplace=True)\n",
        "test.head()"
      ],
      "execution_count": 0,
      "outputs": [
        {
          "output_type": "execute_result",
          "data": {
            "text/html": [
              "<div>\n",
              "<style scoped>\n",
              "    .dataframe tbody tr th:only-of-type {\n",
              "        vertical-align: middle;\n",
              "    }\n",
              "\n",
              "    .dataframe tbody tr th {\n",
              "        vertical-align: top;\n",
              "    }\n",
              "\n",
              "    .dataframe thead th {\n",
              "        text-align: right;\n",
              "    }\n",
              "</style>\n",
              "<table border=\"1\" class=\"dataframe\">\n",
              "  <thead>\n",
              "    <tr style=\"text-align: right;\">\n",
              "      <th></th>\n",
              "      <th>shop_id</th>\n",
              "      <th>item_id</th>\n",
              "      <th>date_block_num</th>\n",
              "    </tr>\n",
              "  </thead>\n",
              "  <tbody>\n",
              "    <tr>\n",
              "      <th>0</th>\n",
              "      <td>5</td>\n",
              "      <td>5037</td>\n",
              "      <td>34</td>\n",
              "    </tr>\n",
              "    <tr>\n",
              "      <th>1</th>\n",
              "      <td>5</td>\n",
              "      <td>5320</td>\n",
              "      <td>34</td>\n",
              "    </tr>\n",
              "    <tr>\n",
              "      <th>2</th>\n",
              "      <td>5</td>\n",
              "      <td>5233</td>\n",
              "      <td>34</td>\n",
              "    </tr>\n",
              "    <tr>\n",
              "      <th>3</th>\n",
              "      <td>5</td>\n",
              "      <td>5232</td>\n",
              "      <td>34</td>\n",
              "    </tr>\n",
              "    <tr>\n",
              "      <th>4</th>\n",
              "      <td>5</td>\n",
              "      <td>5268</td>\n",
              "      <td>34</td>\n",
              "    </tr>\n",
              "  </tbody>\n",
              "</table>\n",
              "</div>"
            ],
            "text/plain": [
              "   shop_id  item_id  date_block_num\n",
              "0        5     5037              34\n",
              "1        5     5320              34\n",
              "2        5     5233              34\n",
              "3        5     5232              34\n",
              "4        5     5268              34"
            ]
          },
          "metadata": {
            "tags": []
          },
          "execution_count": 29
        }
      ]
    },
    {
      "metadata": {
        "id": "Qb97h14deTfX",
        "colab_type": "code",
        "outputId": "815f7bfc-b101-4e7a-d89d-e6baf1993b90",
        "colab": {
          "base_uri": "https://localhost:8080/",
          "height": 195
        }
      },
      "cell_type": "code",
      "source": [
        "df_month = pd.concat([df_month, test], ignore_index=True, keys=['date_block_num', 'shop_id', 'item_id']).fillna(0)\n",
        "df_month.tail()"
      ],
      "execution_count": 0,
      "outputs": [
        {
          "output_type": "execute_result",
          "data": {
            "text/html": [
              "<div>\n",
              "<style scoped>\n",
              "    .dataframe tbody tr th:only-of-type {\n",
              "        vertical-align: middle;\n",
              "    }\n",
              "\n",
              "    .dataframe tbody tr th {\n",
              "        vertical-align: top;\n",
              "    }\n",
              "\n",
              "    .dataframe thead th {\n",
              "        text-align: right;\n",
              "    }\n",
              "</style>\n",
              "<table border=\"1\" class=\"dataframe\">\n",
              "  <thead>\n",
              "    <tr style=\"text-align: right;\">\n",
              "      <th></th>\n",
              "      <th>date_block_num</th>\n",
              "      <th>item_cnt_month</th>\n",
              "      <th>item_id</th>\n",
              "      <th>item_price_month</th>\n",
              "      <th>revenue_month</th>\n",
              "      <th>shop_id</th>\n",
              "    </tr>\n",
              "  </thead>\n",
              "  <tbody>\n",
              "    <tr>\n",
              "      <th>11127999</th>\n",
              "      <td>34</td>\n",
              "      <td>0.0</td>\n",
              "      <td>18454</td>\n",
              "      <td>0.0</td>\n",
              "      <td>0.0</td>\n",
              "      <td>45</td>\n",
              "    </tr>\n",
              "    <tr>\n",
              "      <th>11128000</th>\n",
              "      <td>34</td>\n",
              "      <td>0.0</td>\n",
              "      <td>16188</td>\n",
              "      <td>0.0</td>\n",
              "      <td>0.0</td>\n",
              "      <td>45</td>\n",
              "    </tr>\n",
              "    <tr>\n",
              "      <th>11128001</th>\n",
              "      <td>34</td>\n",
              "      <td>0.0</td>\n",
              "      <td>15757</td>\n",
              "      <td>0.0</td>\n",
              "      <td>0.0</td>\n",
              "      <td>45</td>\n",
              "    </tr>\n",
              "    <tr>\n",
              "      <th>11128002</th>\n",
              "      <td>34</td>\n",
              "      <td>0.0</td>\n",
              "      <td>19648</td>\n",
              "      <td>0.0</td>\n",
              "      <td>0.0</td>\n",
              "      <td>45</td>\n",
              "    </tr>\n",
              "    <tr>\n",
              "      <th>11128003</th>\n",
              "      <td>34</td>\n",
              "      <td>0.0</td>\n",
              "      <td>969</td>\n",
              "      <td>0.0</td>\n",
              "      <td>0.0</td>\n",
              "      <td>45</td>\n",
              "    </tr>\n",
              "  </tbody>\n",
              "</table>\n",
              "</div>"
            ],
            "text/plain": [
              "          date_block_num  item_cnt_month  item_id  item_price_month  \\\n",
              "11127999              34             0.0    18454               0.0   \n",
              "11128000              34             0.0    16188               0.0   \n",
              "11128001              34             0.0    15757               0.0   \n",
              "11128002              34             0.0    19648               0.0   \n",
              "11128003              34             0.0      969               0.0   \n",
              "\n",
              "          revenue_month  shop_id  \n",
              "11127999            0.0       45  \n",
              "11128000            0.0       45  \n",
              "11128001            0.0       45  \n",
              "11128002            0.0       45  \n",
              "11128003            0.0       45  "
            ]
          },
          "metadata": {
            "tags": []
          },
          "execution_count": 30
        }
      ]
    },
    {
      "metadata": {
        "id": "oq2FZfgipj9R",
        "colab_type": "code",
        "outputId": "243756b2-df0a-4637-c2ad-9e0484020174",
        "colab": {
          "base_uri": "https://localhost:8080/",
          "height": 284
        }
      },
      "cell_type": "code",
      "source": [
        "df_month.describe()"
      ],
      "execution_count": 0,
      "outputs": [
        {
          "output_type": "execute_result",
          "data": {
            "text/html": [
              "<div>\n",
              "<style scoped>\n",
              "    .dataframe tbody tr th:only-of-type {\n",
              "        vertical-align: middle;\n",
              "    }\n",
              "\n",
              "    .dataframe tbody tr th {\n",
              "        vertical-align: top;\n",
              "    }\n",
              "\n",
              "    .dataframe thead th {\n",
              "        text-align: right;\n",
              "    }\n",
              "</style>\n",
              "<table border=\"1\" class=\"dataframe\">\n",
              "  <thead>\n",
              "    <tr style=\"text-align: right;\">\n",
              "      <th></th>\n",
              "      <th>date_block_num</th>\n",
              "      <th>item_cnt_month</th>\n",
              "      <th>item_id</th>\n",
              "      <th>item_price_month</th>\n",
              "      <th>revenue_month</th>\n",
              "      <th>shop_id</th>\n",
              "    </tr>\n",
              "  </thead>\n",
              "  <tbody>\n",
              "    <tr>\n",
              "      <th>count</th>\n",
              "      <td>1.112800e+07</td>\n",
              "      <td>1.112800e+07</td>\n",
              "      <td>1.112800e+07</td>\n",
              "      <td>1.112800e+07</td>\n",
              "      <td>1.112800e+07</td>\n",
              "      <td>1.112800e+07</td>\n",
              "    </tr>\n",
              "    <tr>\n",
              "      <th>mean</th>\n",
              "      <td>1.533960e+01</td>\n",
              "      <td>2.925003e-01</td>\n",
              "      <td>1.130371e+04</td>\n",
              "      <td>2.350019e+02</td>\n",
              "      <td>1.772792e+03</td>\n",
              "      <td>3.138372e+01</td>\n",
              "    </tr>\n",
              "    <tr>\n",
              "      <th>std</th>\n",
              "      <td>9.760412e+00</td>\n",
              "      <td>1.211247e+00</td>\n",
              "      <td>6.210934e+03</td>\n",
              "      <td>2.240315e+03</td>\n",
              "      <td>9.541417e+04</td>\n",
              "      <td>1.730666e+01</td>\n",
              "    </tr>\n",
              "    <tr>\n",
              "      <th>min</th>\n",
              "      <td>0.000000e+00</td>\n",
              "      <td>0.000000e+00</td>\n",
              "      <td>0.000000e+00</td>\n",
              "      <td>0.000000e+00</td>\n",
              "      <td>-1.351480e+05</td>\n",
              "      <td>2.000000e+00</td>\n",
              "    </tr>\n",
              "    <tr>\n",
              "      <th>25%</th>\n",
              "      <td>7.000000e+00</td>\n",
              "      <td>0.000000e+00</td>\n",
              "      <td>5.947000e+03</td>\n",
              "      <td>0.000000e+00</td>\n",
              "      <td>0.000000e+00</td>\n",
              "      <td>1.600000e+01</td>\n",
              "    </tr>\n",
              "    <tr>\n",
              "      <th>50%</th>\n",
              "      <td>1.500000e+01</td>\n",
              "      <td>0.000000e+00</td>\n",
              "      <td>1.138800e+04</td>\n",
              "      <td>0.000000e+00</td>\n",
              "      <td>0.000000e+00</td>\n",
              "      <td>3.100000e+01</td>\n",
              "    </tr>\n",
              "    <tr>\n",
              "      <th>75%</th>\n",
              "      <td>2.300000e+01</td>\n",
              "      <td>0.000000e+00</td>\n",
              "      <td>1.659200e+04</td>\n",
              "      <td>0.000000e+00</td>\n",
              "      <td>0.000000e+00</td>\n",
              "      <td>4.700000e+01</td>\n",
              "    </tr>\n",
              "    <tr>\n",
              "      <th>max</th>\n",
              "      <td>3.400000e+01</td>\n",
              "      <td>2.000000e+01</td>\n",
              "      <td>2.216900e+04</td>\n",
              "      <td>6.719300e+05</td>\n",
              "      <td>1.366834e+08</td>\n",
              "      <td>5.900000e+01</td>\n",
              "    </tr>\n",
              "  </tbody>\n",
              "</table>\n",
              "</div>"
            ],
            "text/plain": [
              "       date_block_num  item_cnt_month       item_id  item_price_month  \\\n",
              "count    1.112800e+07    1.112800e+07  1.112800e+07      1.112800e+07   \n",
              "mean     1.533960e+01    2.925003e-01  1.130371e+04      2.350019e+02   \n",
              "std      9.760412e+00    1.211247e+00  6.210934e+03      2.240315e+03   \n",
              "min      0.000000e+00    0.000000e+00  0.000000e+00      0.000000e+00   \n",
              "25%      7.000000e+00    0.000000e+00  5.947000e+03      0.000000e+00   \n",
              "50%      1.500000e+01    0.000000e+00  1.138800e+04      0.000000e+00   \n",
              "75%      2.300000e+01    0.000000e+00  1.659200e+04      0.000000e+00   \n",
              "max      3.400000e+01    2.000000e+01  2.216900e+04      6.719300e+05   \n",
              "\n",
              "       revenue_month       shop_id  \n",
              "count   1.112800e+07  1.112800e+07  \n",
              "mean    1.772792e+03  3.138372e+01  \n",
              "std     9.541417e+04  1.730666e+01  \n",
              "min    -1.351480e+05  2.000000e+00  \n",
              "25%     0.000000e+00  1.600000e+01  \n",
              "50%     0.000000e+00  3.100000e+01  \n",
              "75%     0.000000e+00  4.700000e+01  \n",
              "max     1.366834e+08  5.900000e+01  "
            ]
          },
          "metadata": {
            "tags": []
          },
          "execution_count": 31
        }
      ]
    },
    {
      "metadata": {
        "id": "13a5khVueV1g",
        "colab_type": "code",
        "colab": {}
      },
      "cell_type": "code",
      "source": [
        "df_month = pd.merge(df_month, shops, on=['shop_id'], how='left')\n",
        "df_month = pd.merge(df_month, items, on=['item_id'], how='left')\n",
        "df_month = pd.merge(df_month, items_cat, on=['item_category_id'], how='left')"
      ],
      "execution_count": 0,
      "outputs": []
    },
    {
      "metadata": {
        "id": "sCVQYlKnebQ3",
        "colab_type": "code",
        "colab": {}
      },
      "cell_type": "code",
      "source": [
        "df_month['date_block_num'] = df_month['date_block_num'].astype('int8')\n",
        "df_month['shop_id'] = df_month['shop_id'].astype('int8')\n",
        "df_month['item_id'] = df_month['item_id'].astype('int8')\n",
        "df_month['item_price_month'] = df_month['item_price_month'].astype('float32')\n",
        "df_month['item_cnt_month'] = df_month['item_cnt_month'].astype('int8')\n",
        "df_month['item_category_id'] = df_month['item_category_id'].astype('int8')\n",
        "df_month['revenue_month'] = df_month['revenue_month'].astype('float32')\n",
        "df_month['city_code'] = df_month['city_code'].astype('int8')\n",
        "df_month['type_code'] = df_month['type_code'].astype('int8')\n",
        "df_month['subtype_code'] = df_month['subtype_code'].astype('int8')"
      ],
      "execution_count": 0,
      "outputs": []
    },
    {
      "metadata": {
        "id": "ZJ9o9Q4RoI2n",
        "colab_type": "code",
        "outputId": "5e234470-1f2a-430b-898b-c2d38dc5d957",
        "colab": {
          "base_uri": "https://localhost:8080/",
          "height": 195
        }
      },
      "cell_type": "code",
      "source": [
        "df_month.head()"
      ],
      "execution_count": 0,
      "outputs": [
        {
          "output_type": "execute_result",
          "data": {
            "text/html": [
              "<div>\n",
              "<style scoped>\n",
              "    .dataframe tbody tr th:only-of-type {\n",
              "        vertical-align: middle;\n",
              "    }\n",
              "\n",
              "    .dataframe tbody tr th {\n",
              "        vertical-align: top;\n",
              "    }\n",
              "\n",
              "    .dataframe thead th {\n",
              "        text-align: right;\n",
              "    }\n",
              "</style>\n",
              "<table border=\"1\" class=\"dataframe\">\n",
              "  <thead>\n",
              "    <tr style=\"text-align: right;\">\n",
              "      <th></th>\n",
              "      <th>date_block_num</th>\n",
              "      <th>item_cnt_month</th>\n",
              "      <th>item_id</th>\n",
              "      <th>item_price_month</th>\n",
              "      <th>revenue_month</th>\n",
              "      <th>shop_id</th>\n",
              "      <th>city_code</th>\n",
              "      <th>item_category_id</th>\n",
              "      <th>type_code</th>\n",
              "      <th>subtype_code</th>\n",
              "    </tr>\n",
              "  </thead>\n",
              "  <tbody>\n",
              "    <tr>\n",
              "      <th>0</th>\n",
              "      <td>0</td>\n",
              "      <td>0</td>\n",
              "      <td>19</td>\n",
              "      <td>0.0</td>\n",
              "      <td>0.0</td>\n",
              "      <td>2</td>\n",
              "      <td>0</td>\n",
              "      <td>40</td>\n",
              "      <td>11</td>\n",
              "      <td>4</td>\n",
              "    </tr>\n",
              "    <tr>\n",
              "      <th>1</th>\n",
              "      <td>0</td>\n",
              "      <td>1</td>\n",
              "      <td>27</td>\n",
              "      <td>2499.0</td>\n",
              "      <td>2499.0</td>\n",
              "      <td>2</td>\n",
              "      <td>0</td>\n",
              "      <td>19</td>\n",
              "      <td>5</td>\n",
              "      <td>10</td>\n",
              "    </tr>\n",
              "    <tr>\n",
              "      <th>2</th>\n",
              "      <td>0</td>\n",
              "      <td>0</td>\n",
              "      <td>28</td>\n",
              "      <td>0.0</td>\n",
              "      <td>0.0</td>\n",
              "      <td>2</td>\n",
              "      <td>0</td>\n",
              "      <td>30</td>\n",
              "      <td>8</td>\n",
              "      <td>55</td>\n",
              "    </tr>\n",
              "    <tr>\n",
              "      <th>3</th>\n",
              "      <td>0</td>\n",
              "      <td>0</td>\n",
              "      <td>29</td>\n",
              "      <td>0.0</td>\n",
              "      <td>0.0</td>\n",
              "      <td>2</td>\n",
              "      <td>0</td>\n",
              "      <td>23</td>\n",
              "      <td>5</td>\n",
              "      <td>16</td>\n",
              "    </tr>\n",
              "    <tr>\n",
              "      <th>4</th>\n",
              "      <td>0</td>\n",
              "      <td>0</td>\n",
              "      <td>32</td>\n",
              "      <td>0.0</td>\n",
              "      <td>0.0</td>\n",
              "      <td>2</td>\n",
              "      <td>0</td>\n",
              "      <td>40</td>\n",
              "      <td>11</td>\n",
              "      <td>4</td>\n",
              "    </tr>\n",
              "  </tbody>\n",
              "</table>\n",
              "</div>"
            ],
            "text/plain": [
              "   date_block_num  item_cnt_month  item_id  item_price_month  revenue_month  \\\n",
              "0               0               0       19               0.0            0.0   \n",
              "1               0               1       27            2499.0         2499.0   \n",
              "2               0               0       28               0.0            0.0   \n",
              "3               0               0       29               0.0            0.0   \n",
              "4               0               0       32               0.0            0.0   \n",
              "\n",
              "   shop_id  city_code  item_category_id  type_code  subtype_code  \n",
              "0        2          0                40         11             4  \n",
              "1        2          0                19          5            10  \n",
              "2        2          0                30          8            55  \n",
              "3        2          0                23          5            16  \n",
              "4        2          0                40         11             4  "
            ]
          },
          "metadata": {
            "tags": []
          },
          "execution_count": 34
        }
      ]
    },
    {
      "metadata": {
        "id": "QRmlQtUBor-4",
        "colab_type": "code",
        "outputId": "8cbafeac-3e21-481d-9441-b4dbdb9b10a1",
        "colab": {
          "base_uri": "https://localhost:8080/",
          "height": 284
        }
      },
      "cell_type": "code",
      "source": [
        "df_month.describe()"
      ],
      "execution_count": 0,
      "outputs": [
        {
          "output_type": "execute_result",
          "data": {
            "text/html": [
              "<div>\n",
              "<style scoped>\n",
              "    .dataframe tbody tr th:only-of-type {\n",
              "        vertical-align: middle;\n",
              "    }\n",
              "\n",
              "    .dataframe tbody tr th {\n",
              "        vertical-align: top;\n",
              "    }\n",
              "\n",
              "    .dataframe thead th {\n",
              "        text-align: right;\n",
              "    }\n",
              "</style>\n",
              "<table border=\"1\" class=\"dataframe\">\n",
              "  <thead>\n",
              "    <tr style=\"text-align: right;\">\n",
              "      <th></th>\n",
              "      <th>date_block_num</th>\n",
              "      <th>item_cnt_month</th>\n",
              "      <th>item_id</th>\n",
              "      <th>item_price_month</th>\n",
              "      <th>revenue_month</th>\n",
              "      <th>shop_id</th>\n",
              "      <th>city_code</th>\n",
              "      <th>item_category_id</th>\n",
              "      <th>type_code</th>\n",
              "      <th>subtype_code</th>\n",
              "    </tr>\n",
              "  </thead>\n",
              "  <tbody>\n",
              "    <tr>\n",
              "      <th>count</th>\n",
              "      <td>1.112800e+07</td>\n",
              "      <td>1.112800e+07</td>\n",
              "      <td>1.112800e+07</td>\n",
              "      <td>1.112800e+07</td>\n",
              "      <td>1.112800e+07</td>\n",
              "      <td>1.112800e+07</td>\n",
              "      <td>1.112800e+07</td>\n",
              "      <td>1.112800e+07</td>\n",
              "      <td>1.112800e+07</td>\n",
              "      <td>1.112800e+07</td>\n",
              "    </tr>\n",
              "    <tr>\n",
              "      <th>mean</th>\n",
              "      <td>1.533960e+01</td>\n",
              "      <td>2.925003e-01</td>\n",
              "      <td>-9.617815e-01</td>\n",
              "      <td>2.350121e+02</td>\n",
              "      <td>1.766464e+03</td>\n",
              "      <td>3.138372e+01</td>\n",
              "      <td>1.530356e+01</td>\n",
              "      <td>4.494398e+01</td>\n",
              "      <td>1.107023e+01</td>\n",
              "      <td>1.810709e+01</td>\n",
              "    </tr>\n",
              "    <tr>\n",
              "      <th>std</th>\n",
              "      <td>9.760412e+00</td>\n",
              "      <td>1.211247e+00</td>\n",
              "      <td>7.383618e+01</td>\n",
              "      <td>2.228348e+03</td>\n",
              "      <td>9.538228e+04</td>\n",
              "      <td>1.730666e+01</td>\n",
              "      <td>8.018806e+00</td>\n",
              "      <td>1.514000e+01</td>\n",
              "      <td>2.854886e+00</td>\n",
              "      <td>2.015452e+01</td>\n",
              "    </tr>\n",
              "    <tr>\n",
              "      <th>min</th>\n",
              "      <td>0.000000e+00</td>\n",
              "      <td>0.000000e+00</td>\n",
              "      <td>-1.280000e+02</td>\n",
              "      <td>0.000000e+00</td>\n",
              "      <td>-1.351480e+05</td>\n",
              "      <td>2.000000e+00</td>\n",
              "      <td>0.000000e+00</td>\n",
              "      <td>0.000000e+00</td>\n",
              "      <td>0.000000e+00</td>\n",
              "      <td>0.000000e+00</td>\n",
              "    </tr>\n",
              "    <tr>\n",
              "      <th>25%</th>\n",
              "      <td>7.000000e+00</td>\n",
              "      <td>0.000000e+00</td>\n",
              "      <td>-6.500000e+01</td>\n",
              "      <td>0.000000e+00</td>\n",
              "      <td>0.000000e+00</td>\n",
              "      <td>1.600000e+01</td>\n",
              "      <td>1.000000e+01</td>\n",
              "      <td>3.700000e+01</td>\n",
              "      <td>1.100000e+01</td>\n",
              "      <td>2.000000e+00</td>\n",
              "    </tr>\n",
              "    <tr>\n",
              "      <th>50%</th>\n",
              "      <td>1.500000e+01</td>\n",
              "      <td>0.000000e+00</td>\n",
              "      <td>-1.000000e+00</td>\n",
              "      <td>0.000000e+00</td>\n",
              "      <td>0.000000e+00</td>\n",
              "      <td>3.100000e+01</td>\n",
              "      <td>1.300000e+01</td>\n",
              "      <td>4.000000e+01</td>\n",
              "      <td>1.100000e+01</td>\n",
              "      <td>4.000000e+00</td>\n",
              "    </tr>\n",
              "    <tr>\n",
              "      <th>75%</th>\n",
              "      <td>2.300000e+01</td>\n",
              "      <td>0.000000e+00</td>\n",
              "      <td>6.300000e+01</td>\n",
              "      <td>0.000000e+00</td>\n",
              "      <td>0.000000e+00</td>\n",
              "      <td>4.700000e+01</td>\n",
              "      <td>2.200000e+01</td>\n",
              "      <td>5.500000e+01</td>\n",
              "      <td>1.300000e+01</td>\n",
              "      <td>3.200000e+01</td>\n",
              "    </tr>\n",
              "    <tr>\n",
              "      <th>max</th>\n",
              "      <td>3.400000e+01</td>\n",
              "      <td>2.000000e+01</td>\n",
              "      <td>1.270000e+02</td>\n",
              "      <td>6.719300e+05</td>\n",
              "      <td>1.366834e+08</td>\n",
              "      <td>5.900000e+01</td>\n",
              "      <td>3.000000e+01</td>\n",
              "      <td>8.300000e+01</td>\n",
              "      <td>1.900000e+01</td>\n",
              "      <td>6.400000e+01</td>\n",
              "    </tr>\n",
              "  </tbody>\n",
              "</table>\n",
              "</div>"
            ],
            "text/plain": [
              "       date_block_num  item_cnt_month       item_id  item_price_month  \\\n",
              "count    1.112800e+07    1.112800e+07  1.112800e+07      1.112800e+07   \n",
              "mean     1.533960e+01    2.925003e-01 -9.617815e-01      2.350121e+02   \n",
              "std      9.760412e+00    1.211247e+00  7.383618e+01      2.228348e+03   \n",
              "min      0.000000e+00    0.000000e+00 -1.280000e+02      0.000000e+00   \n",
              "25%      7.000000e+00    0.000000e+00 -6.500000e+01      0.000000e+00   \n",
              "50%      1.500000e+01    0.000000e+00 -1.000000e+00      0.000000e+00   \n",
              "75%      2.300000e+01    0.000000e+00  6.300000e+01      0.000000e+00   \n",
              "max      3.400000e+01    2.000000e+01  1.270000e+02      6.719300e+05   \n",
              "\n",
              "       revenue_month       shop_id     city_code  item_category_id  \\\n",
              "count   1.112800e+07  1.112800e+07  1.112800e+07      1.112800e+07   \n",
              "mean    1.766464e+03  3.138372e+01  1.530356e+01      4.494398e+01   \n",
              "std     9.538228e+04  1.730666e+01  8.018806e+00      1.514000e+01   \n",
              "min    -1.351480e+05  2.000000e+00  0.000000e+00      0.000000e+00   \n",
              "25%     0.000000e+00  1.600000e+01  1.000000e+01      3.700000e+01   \n",
              "50%     0.000000e+00  3.100000e+01  1.300000e+01      4.000000e+01   \n",
              "75%     0.000000e+00  4.700000e+01  2.200000e+01      5.500000e+01   \n",
              "max     1.366834e+08  5.900000e+01  3.000000e+01      8.300000e+01   \n",
              "\n",
              "          type_code  subtype_code  \n",
              "count  1.112800e+07  1.112800e+07  \n",
              "mean   1.107023e+01  1.810709e+01  \n",
              "std    2.854886e+00  2.015452e+01  \n",
              "min    0.000000e+00  0.000000e+00  \n",
              "25%    1.100000e+01  2.000000e+00  \n",
              "50%    1.100000e+01  4.000000e+00  \n",
              "75%    1.300000e+01  3.200000e+01  \n",
              "max    1.900000e+01  6.400000e+01  "
            ]
          },
          "metadata": {
            "tags": []
          },
          "execution_count": 35
        }
      ]
    },
    {
      "metadata": {
        "id": "W1S7WRzLm-O7",
        "colab_type": "text"
      },
      "cell_type": "markdown",
      "source": [
        "# PCA\n",
        "\n",
        "-https://www.kaggle.com/arthurtok/interactive-intro-to-dimensionality-reduction\n",
        "- http://sebastianraschka.com/Articles/2015_pca_in_3_steps.html"
      ]
    },
    {
      "metadata": {
        "id": "GoVDj-Yuq91q",
        "colab_type": "code",
        "colab": {}
      },
      "cell_type": "code",
      "source": [
        "col = ['city_code', 'shop_id', 'item_category_id', 'type_code', 'item_id']"
      ],
      "execution_count": 0,
      "outputs": []
    },
    {
      "metadata": {
        "id": "tK9pFhHOmrGj",
        "colab_type": "code",
        "outputId": "8a2e68be-8056-4af8-8dd7-8dd093d35d36",
        "colab": {
          "base_uri": "https://localhost:8080/",
          "height": 151
        }
      },
      "cell_type": "code",
      "source": [
        "scaler = StandardScaler().fit(df_month[col]) # salva a média e std de cada coluna, para poder ser aplicado no set de treino.\n",
        "X = scaler.transform(df_month[col])\n",
        "print('\\nMean:', scaler.mean_, '\\n\\nStd:', scaler.scale_)"
      ],
      "execution_count": 0,
      "outputs": [
        {
          "output_type": "stream",
          "text": [
            "/usr/local/lib/python3.6/dist-packages/sklearn/preprocessing/data.py:645: DataConversionWarning: Data with input dtype int8 were all converted to float64 by StandardScaler.\n",
            "  return self.partial_fit(X, y)\n"
          ],
          "name": "stderr"
        },
        {
          "output_type": "stream",
          "text": [
            "\n",
            "Mean: [15.30356271 31.38371949 44.94398375 11.07022616 -0.96178147] \n",
            "\n",
            "Std: [ 8.01880568 17.30665644 15.13999503  2.85488562 73.83617625]\n"
          ],
          "name": "stdout"
        },
        {
          "output_type": "stream",
          "text": [
            "/usr/local/lib/python3.6/dist-packages/ipykernel_launcher.py:2: DataConversionWarning: Data with input dtype int8 were all converted to float64 by StandardScaler.\n",
            "  \n"
          ],
          "name": "stderr"
        }
      ]
    },
    {
      "metadata": {
        "id": "dEUTlYI3qRk6",
        "colab_type": "code",
        "cellView": "form",
        "outputId": "257b505c-7e03-4047-97fe-cf1e404cae9e",
        "colab": {
          "base_uri": "https://localhost:8080/",
          "height": 284
        }
      },
      "cell_type": "code",
      "source": [
        "#@title Dataframe centrado em zero com variância 1.\n",
        "pd.DataFrame(X, columns=col).describe()"
      ],
      "execution_count": 0,
      "outputs": [
        {
          "output_type": "execute_result",
          "data": {
            "text/html": [
              "<div>\n",
              "<style scoped>\n",
              "    .dataframe tbody tr th:only-of-type {\n",
              "        vertical-align: middle;\n",
              "    }\n",
              "\n",
              "    .dataframe tbody tr th {\n",
              "        vertical-align: top;\n",
              "    }\n",
              "\n",
              "    .dataframe thead th {\n",
              "        text-align: right;\n",
              "    }\n",
              "</style>\n",
              "<table border=\"1\" class=\"dataframe\">\n",
              "  <thead>\n",
              "    <tr style=\"text-align: right;\">\n",
              "      <th></th>\n",
              "      <th>city_code</th>\n",
              "      <th>shop_id</th>\n",
              "      <th>item_category_id</th>\n",
              "      <th>type_code</th>\n",
              "      <th>item_id</th>\n",
              "    </tr>\n",
              "  </thead>\n",
              "  <tbody>\n",
              "    <tr>\n",
              "      <th>count</th>\n",
              "      <td>1.112800e+07</td>\n",
              "      <td>1.112800e+07</td>\n",
              "      <td>1.112800e+07</td>\n",
              "      <td>1.112800e+07</td>\n",
              "      <td>1.112800e+07</td>\n",
              "    </tr>\n",
              "    <tr>\n",
              "      <th>mean</th>\n",
              "      <td>1.269627e-12</td>\n",
              "      <td>-6.552500e-13</td>\n",
              "      <td>3.709326e-14</td>\n",
              "      <td>-7.766204e-13</td>\n",
              "      <td>1.421452e-15</td>\n",
              "    </tr>\n",
              "    <tr>\n",
              "      <th>std</th>\n",
              "      <td>1.000000e+00</td>\n",
              "      <td>1.000000e+00</td>\n",
              "      <td>1.000000e+00</td>\n",
              "      <td>1.000000e+00</td>\n",
              "      <td>1.000000e+00</td>\n",
              "    </tr>\n",
              "    <tr>\n",
              "      <th>min</th>\n",
              "      <td>-1.908459e+00</td>\n",
              "      <td>-1.697828e+00</td>\n",
              "      <td>-2.968560e+00</td>\n",
              "      <td>-3.877643e+00</td>\n",
              "      <td>-1.720542e+00</td>\n",
              "    </tr>\n",
              "    <tr>\n",
              "      <th>25%</th>\n",
              "      <td>-6.613906e-01</td>\n",
              "      <td>-8.888903e-01</td>\n",
              "      <td>-5.247019e-01</td>\n",
              "      <td>-2.459859e-02</td>\n",
              "      <td>-8.673014e-01</td>\n",
              "    </tr>\n",
              "    <tr>\n",
              "      <th>50%</th>\n",
              "      <td>-2.872700e-01</td>\n",
              "      <td>-2.217179e-02</td>\n",
              "      <td>-3.265512e-01</td>\n",
              "      <td>-2.459859e-02</td>\n",
              "      <td>-5.176126e-04</td>\n",
              "    </tr>\n",
              "    <tr>\n",
              "      <th>75%</th>\n",
              "      <td>8.350916e-01</td>\n",
              "      <td>9.023280e-01</td>\n",
              "      <td>6.642021e-01</td>\n",
              "      <td>6.759549e-01</td>\n",
              "      <td>8.662662e-01</td>\n",
              "    </tr>\n",
              "    <tr>\n",
              "      <th>max</th>\n",
              "      <td>1.832746e+00</td>\n",
              "      <td>1.595703e+00</td>\n",
              "      <td>2.513608e+00</td>\n",
              "      <td>2.777615e+00</td>\n",
              "      <td>1.733050e+00</td>\n",
              "    </tr>\n",
              "  </tbody>\n",
              "</table>\n",
              "</div>"
            ],
            "text/plain": [
              "          city_code       shop_id  item_category_id     type_code  \\\n",
              "count  1.112800e+07  1.112800e+07      1.112800e+07  1.112800e+07   \n",
              "mean   1.269627e-12 -6.552500e-13      3.709326e-14 -7.766204e-13   \n",
              "std    1.000000e+00  1.000000e+00      1.000000e+00  1.000000e+00   \n",
              "min   -1.908459e+00 -1.697828e+00     -2.968560e+00 -3.877643e+00   \n",
              "25%   -6.613906e-01 -8.888903e-01     -5.247019e-01 -2.459859e-02   \n",
              "50%   -2.872700e-01 -2.217179e-02     -3.265512e-01 -2.459859e-02   \n",
              "75%    8.350916e-01  9.023280e-01      6.642021e-01  6.759549e-01   \n",
              "max    1.832746e+00  1.595703e+00      2.513608e+00  2.777615e+00   \n",
              "\n",
              "            item_id  \n",
              "count  1.112800e+07  \n",
              "mean   1.421452e-15  \n",
              "std    1.000000e+00  \n",
              "min   -1.720542e+00  \n",
              "25%   -8.673014e-01  \n",
              "50%   -5.176126e-04  \n",
              "75%    8.662662e-01  \n",
              "max    1.733050e+00  "
            ]
          },
          "metadata": {
            "tags": []
          },
          "execution_count": 38
        }
      ]
    },
    {
      "metadata": {
        "id": "LLoFb71Mqc7c",
        "colab_type": "code",
        "colab": {}
      },
      "cell_type": "code",
      "source": [
        "pca = PCA(n_components=4)\n",
        "principalComponents = pca.fit_transform(X)\n",
        "principalDf = pd.DataFrame(data = principalComponents)"
      ],
      "execution_count": 0,
      "outputs": []
    },
    {
      "metadata": {
        "id": "sIDtMBauq2qO",
        "colab_type": "code",
        "outputId": "f7840472-2918-455e-9427-1f62266e0e8c",
        "colab": {
          "base_uri": "https://localhost:8080/",
          "height": 361
        }
      },
      "cell_type": "code",
      "source": [
        "plt.plot(pca.explained_variance_ratio_, marker='o')\n",
        "plt.ylabel('Importance')\n",
        "plt.xlabel('Component number')\n",
        "plt.show()"
      ],
      "execution_count": 0,
      "outputs": [
        {
          "output_type": "display_data",
          "data": {
            "image/png": "[encoded data removed]",
            "text/plain": [
              "<Figure size 576x396 with 1 Axes>"
            ]
          },
          "metadata": {
            "tags": []
          }
        }
      ]
    },
    {
      "metadata": {
        "id": "bnfvFGzEwmP8",
        "colab_type": "code",
        "outputId": "ac2208ed-fb6a-4f53-a629-0a69dfb279c9",
        "colab": {
          "base_uri": "https://localhost:8080/",
          "height": 364
        }
      },
      "cell_type": "code",
      "source": [
        "#plt.scatter(principalDf[0], principalDf[1])"
      ],
      "execution_count": 0,
      "outputs": [
        {
          "output_type": "execute_result",
          "data": {
            "text/plain": [
              "<matplotlib.collections.PathCollection at 0x7fea52257240>"
            ]
          },
          "metadata": {
            "tags": []
          },
          "execution_count": 47
        },
        {
          "output_type": "display_data",
          "data": {
            "image/png": "[encoded data removed]",
            "text/plain": [
              "<Figure size 576x396 with 1 Axes>"
            ]
          },
          "metadata": {
            "tags": []
          }
        }
      ]
    },
    {
      "metadata": {
        "id": "04w_4qZZyNgw",
        "colab_type": "code",
        "outputId": "2dc1aac9-7c34-450e-b6a4-5b996bb0be0d",
        "colab": {
          "base_uri": "https://localhost:8080/",
          "height": 364
        }
      },
      "cell_type": "code",
      "source": [
        "plt.scatter(principalDf[1], principalDf[2])"
      ],
      "execution_count": 0,
      "outputs": [
        {
          "output_type": "execute_result",
          "data": {
            "text/plain": [
              "<matplotlib.collections.PathCollection at 0x7fea302827b8>"
            ]
          },
          "metadata": {
            "tags": []
          },
          "execution_count": 46
        },
        {
          "output_type": "display_data",
          "data": {
            "image/png": "[encoded data removed]",
            "text/plain": [
              "<Figure size 576x396 with 1 Axes>"
            ]
          },
          "metadata": {
            "tags": []
          }
        }
      ]
    },
    {
      "metadata": {
        "id": "SVtKBPUnn_F5",
        "colab_type": "text"
      },
      "cell_type": "markdown",
      "source": [
        "# Lagged features"
      ]
    },
    {
      "metadata": {
        "id": "dJWUWpduefAH",
        "colab_type": "code",
        "colab": {}
      },
      "cell_type": "code",
      "source": [
        "df_lag3 = df_month[['date_block_num', 'shop_id', 'item_id', 'item_cnt_month', 'revenue_month']].copy()\n",
        "df_lag3.rename(columns={'item_cnt_month':'lag3_item_cnt_month', 'revenue_month':'lag3_revenue_month'}, inplace=True)\n",
        "df_lag3['date_block_num'] += 3\n",
        "df_month = pd.merge(df_month, df_lag3, on=['date_block_num', 'shop_id', 'item_id'], how='left').fillna(0)\n",
        "del df_lag3"
      ],
      "execution_count": 0,
      "outputs": []
    },
    {
      "metadata": {
        "id": "5OaXP_zaej8f",
        "colab_type": "code",
        "colab": {}
      },
      "cell_type": "code",
      "source": [
        "df_lag6 = df_month[['date_block_num', 'shop_id', 'item_id', 'item_cnt_month', 'revenue_month']].copy()\n",
        "df_lag6.rename(columns={'item_cnt_month':'lag6_item_cnt_month', 'revenue_month':'lag6_revenue_month'}, inplace=True)\n",
        "df_lag6['date_block_num'] += 6\n",
        "df_month = pd.merge(df_month, df_lag6, on=['date_block_num', 'shop_id', 'item_id'], how='left').fillna(0)\n",
        "del df_lag6"
      ],
      "execution_count": 0,
      "outputs": []
    },
    {
      "metadata": {
        "id": "s_ORaodkeoXA",
        "colab_type": "code",
        "colab": {}
      },
      "cell_type": "code",
      "source": [
        "df_lag9 = df_month[['date_block_num', 'shop_id', 'item_id', 'item_cnt_month', 'revenue_month']].copy()\n",
        "df_lag9.rename(columns={'item_cnt_month':'lag9_item_cnt_month', 'revenue_month':'lag9_revenue_month'}, inplace=True)\n",
        "df_lag9['date_block_num'] += 9\n",
        "df_month = pd.merge(df_month, df_lag9, on=['date_block_num', 'shop_id', 'item_id'], how='left').fillna(0)\n",
        "del df_lag9"
      ],
      "execution_count": 0,
      "outputs": []
    },
    {
      "metadata": {
        "id": "RCwDoSzSepEg",
        "colab_type": "code",
        "colab": {}
      },
      "cell_type": "code",
      "source": [
        "df_lag12 = df_month[['date_block_num', 'shop_id', 'item_id', 'item_cnt_month', 'revenue_month']].copy()\n",
        "df_lag12.rename(columns={'item_cnt_month':'lag12_item_cnt_month', 'revenue_month':'lag12_revenue_month'}, inplace=True)\n",
        "df_lag12['date_block_num'] += 12\n",
        "df_month = pd.merge(df_month, df_lag12, on=['date_block_num', 'shop_id', 'item_id'], how='left').fillna(0)\n",
        "del df_lag12"
      ],
      "execution_count": 0,
      "outputs": []
    },
    {
      "metadata": {
        "id": "caJKLGXPghTq",
        "colab_type": "code",
        "colab": {}
      },
      "cell_type": "code",
      "source": [
        "#df_month['lag3_item_cnt_month'] = df_month['lag3_item_cnt_month'].astype('float16')\n",
        "df_month['lag6_item_cnt_month'] = df_month['lag6_item_cnt_month'].astype('float16')\n",
        "#df_month['lag9_item_cnt_month'] = df_month['lag9_item_cnt_month'].astype('float16')\n",
        "#df_month['lag12_item_cnt_month'] = df_month['lag12_item_cnt_month'].astype('float16')\n",
        "\n",
        "#df_month['lag3_revenue_month'] = df_month['lag3_revenue_month'].astype('float16')\n",
        "df_month['lag6_revenue_month'] = df_month['lag6_revenue_month'].astype('float16')\n",
        "#df_month['lag9_revenue_month'] = df_month['lag9_revenue_month'].astype('float16')\n",
        "#df_month['lag12_revenue_month'] = df_month['lag12_revenue_month'].astype('float16')"
      ],
      "execution_count": 0,
      "outputs": []
    },
    {
      "metadata": {
        "id": "fhBkhtm_gT9k",
        "colab_type": "code",
        "outputId": "2e42bd99-1281-4734-a626-1b07961128c9",
        "colab": {
          "base_uri": "https://localhost:8080/",
          "height": 306
        }
      },
      "cell_type": "code",
      "source": [
        "df_month.info()"
      ],
      "execution_count": 0,
      "outputs": [
        {
          "output_type": "stream",
          "text": [
            "<class 'pandas.core.frame.DataFrame'>\n",
            "Int64Index: 11128004 entries, 0 to 11128003\n",
            "Data columns (total 12 columns):\n",
            "date_block_num         int8\n",
            "item_cnt_month         int8\n",
            "item_id                int8\n",
            "item_price_month       float16\n",
            "revenue_month          float16\n",
            "shop_id                int8\n",
            "city_code              int8\n",
            "item_category_id       int8\n",
            "type_code              int8\n",
            "subtype_code           int8\n",
            "lag6_item_cnt_month    float16\n",
            "lag6_revenue_month     float16\n",
            "dtypes: float16(4), int8(8)\n",
            "memory usage: 254.7 MB\n"
          ],
          "name": "stdout"
        }
      ]
    },
    {
      "metadata": {
        "id": "F_pDLtLFf9cu",
        "colab_type": "code",
        "colab": {}
      },
      "cell_type": "code",
      "source": [
        "df_month.head()"
      ],
      "execution_count": 0,
      "outputs": []
    },
    {
      "metadata": {
        "id": "E0kBta1keGI_",
        "colab_type": "text"
      },
      "cell_type": "markdown",
      "source": [
        "# XGboost"
      ]
    },
    {
      "metadata": {
        "id": "7kyeEBv0eq6I",
        "colab_type": "code",
        "colab": {}
      },
      "cell_type": "code",
      "source": [
        "model = XGBRegressor(\n",
        "    max_depth=8,\n",
        "    n_estimators=100,\n",
        "    min_child_weight=0.5, \n",
        "    colsample_bytree=0.8, \n",
        "    subsample=0.8, \n",
        "    eta=0.3)\n",
        "\n",
        "X_train = df_month[df_month.date_block_num < 33].drop(['item_cnt_month'], axis='columns')\n",
        "Y_train = df_month[df_month.date_block_num < 33]['item_cnt_month']\n",
        "\n",
        "X_valid = df_month[df_month.date_block_num == 33].drop(['item_cnt_month'], axis='columns')\n",
        "Y_valid = df_month[df_month.date_block_num == 33]['item_cnt_month']\n",
        "\n",
        "X_test = df_month[df_month.date_block_num == 34].drop(['item_cnt_month'], axis=1)\n",
        "\n",
        "model.fit(\n",
        "    X_train, \n",
        "    Y_train, \n",
        "    eval_metric=\"rmse\", \n",
        "    eval_set=[(X_train, Y_train), (X_valid, Y_valid)], \n",
        "    verbose=True, \n",
        "    early_stopping_rounds = 5)"
      ],
      "execution_count": 0,
      "outputs": []
    },
    {
      "metadata": {
        "id": "rv9FYCb-fU7X",
        "colab_type": "code",
        "colab": {}
      },
      "cell_type": "code",
      "source": [
        "xgb.plot_importance(model, importance_type='weight')\n",
        "plt.show()"
      ],
      "execution_count": 0,
      "outputs": []
    },
    {
      "metadata": {
        "id": "m3ibDPhIfX5_",
        "colab_type": "code",
        "colab": {}
      },
      "cell_type": "code",
      "source": [
        ""
      ],
      "execution_count": 0,
      "outputs": []
    }
  ]
}