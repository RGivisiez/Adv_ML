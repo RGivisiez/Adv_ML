{
 "cells": [
  {
   "cell_type": "markdown",
   "metadata": {
    "colab_type": "text",
    "id": "view-in-github"
   },
   "source": [
    "<a href=\"https://colab.research.google.com/github/RGivisiez/Adv_ML/blob/clean/XGboost_and_RNN.ipynb\" target=\"_parent\"><img src=\"https://colab.research.google.com/assets/colab-badge.svg\" alt=\"Open In Colab\"/></a>"
   ]
  },
  {
   "cell_type": "code",
   "execution_count": null,
   "metadata": {
    "colab": {
     "base_uri": "https://localhost:8080/",
     "height": 34
    },
    "colab_type": "code",
    "id": "gcHnLkR9Jqgv",
    "outputId": "4e0d505e-25dd-4d1b-9dd0-aca536bba0e7"
   },
   "outputs": [],
   "source": [
    "from google.colab import drive\n",
    "drive.mount('/content/gdrive')"
   ]
  },
  {
   "cell_type": "markdown",
   "metadata": {
    "colab_type": "text",
    "id": "0pREbqL27K-C"
   },
   "source": [
    "# Importing"
   ]
  },
  {
   "cell_type": "code",
   "execution_count": 12,
   "metadata": {
    "colab": {},
    "colab_type": "code",
    "id": "lxQp_1TiJ6iN"
   },
   "outputs": [
    {
     "name": "stderr",
     "output_type": "stream",
     "text": [
      "Using TensorFlow backend.\n"
     ]
    }
   ],
   "source": [
    "import pandas as pd\n",
    "import numpy as np\n",
    "import seaborn as sns\n",
    "import matplotlib.pyplot as plt\n",
    "\n",
    "from sklearn.preprocessing import LabelEncoder\n",
    "from itertools import product\n",
    "\n",
    "import xgboost as xgb\n",
    "from xgboost import XGBRegressor\n",
    "\n",
    "from sklearn import preprocessing\n",
    "from sklearn.preprocessing import StandardScaler\n",
    "from sklearn.decomposition import PCA\n",
    "\n",
    "from keras.models import Model\n",
    "from keras.layers import Input, LSTM, Dense, Dropout\n",
    "from keras.models import Sequential"
   ]
  },
  {
   "cell_type": "code",
   "execution_count": null,
   "metadata": {
    "colab": {
     "base_uri": "https://localhost:8080/",
     "height": 54
    },
    "colab_type": "code",
    "id": "T-wtzfxDDjFV",
    "outputId": "c0ea0eed-e07d-4ed1-bdf1-130f90d6db80"
   },
   "outputs": [],
   "source": [
    "import tensorflow as tf\n",
    "device_name = tf.test.gpu_device_name()\n",
    "if device_name != '/device:GPU:0':\n",
    "  raise SystemError('GPU device not found')\n",
    "print('Found GPU at: {}'.format(device_name))"
   ]
  },
  {
   "cell_type": "code",
   "execution_count": 2,
   "metadata": {
    "colab": {},
    "colab_type": "code",
    "id": "6aLVftQwKVks"
   },
   "outputs": [],
   "source": [
    "path = '~/Git_repo/Adv_ML/data'"
   ]
  },
  {
   "cell_type": "markdown",
   "metadata": {
    "colab_type": "text",
    "id": "3m7Q8DcL7Bb-"
   },
   "source": [
    "# Loading data"
   ]
  },
  {
   "cell_type": "code",
   "execution_count": 5,
   "metadata": {
    "colab": {
     "base_uri": "https://localhost:8080/",
     "height": 672
    },
    "colab_type": "code",
    "id": "ANUaM4qjLLY_",
    "outputId": "cc8bfdda-01bd-44e8-9f10-59c981027c5e"
   },
   "outputs": [],
   "source": [
    "train = pd.read_csv(path + '/sales_train.csv.gz')\n",
    "test = pd.read_csv(path + '/test.csv.gz')\n",
    "items = pd.read_csv(path + '/items.csv')\n",
    "items_cat = pd.read_csv(path + '/item_categories.csv')\n",
    "shops = pd.read_csv(path + '/shops.csv')\n",
    "\n",
    "#print('Treino \\n', train.head(), '\\n')\n",
    "#print('Itens \\n', items.head(), '\\n')\n",
    "#print('Itens Cat \\n', items_cat.head(), '\\n')\n",
    "#print('Shops \\n', shops.head(), '\\n')"
   ]
  },
  {
   "cell_type": "code",
   "execution_count": 4,
   "metadata": {
    "colab": {
     "base_uri": "https://localhost:8080/",
     "height": 134
    },
    "colab_type": "code",
    "id": "v5NPFj-4B2uE",
    "outputId": "95072735-d4a7-43a2-ddad-1169aece4281"
   },
   "outputs": [
    {
     "name": "stdout",
     "output_type": "stream",
     "text": [
      "Teste \n",
      "             ID  shop_id  item_id\n",
      "214195  214195       45    18454\n",
      "214196  214196       45    16188\n",
      "214197  214197       45    15757\n",
      "214198  214198       45    19648\n",
      "214199  214199       45      969\n"
     ]
    }
   ],
   "source": [
    "print('Teste \\n', test.tail() )"
   ]
  },
  {
   "cell_type": "markdown",
   "metadata": {
    "colab_type": "text",
    "id": "JBwMNmgNdGQo"
   },
   "source": [
    "# Creating new features"
   ]
  },
  {
   "cell_type": "code",
   "execution_count": 6,
   "metadata": {
    "colab": {
     "base_uri": "https://localhost:8080/",
     "height": 195
    },
    "colab_type": "code",
    "id": "XhReNi6icmn_",
    "outputId": "49b8782d-6360-42b8-9bc3-931ffe371f28"
   },
   "outputs": [],
   "source": [
    "shops.loc[shops.shop_name == 'Сергиев Посад ТЦ \"7Я\"', 'shop_name'] = 'СергиевПосад ТЦ \"7Я\"'\n",
    "shops['city'] = shops['shop_name'].str.split(' ').map(lambda x: x[0])\n",
    "shops.loc[shops.city == '!Якутск', 'city'] = 'Якутск'\n",
    "shops['city_code'] = LabelEncoder().fit_transform(shops['city'])\n",
    "shops.drop(['shop_name', 'city'], axis='columns', inplace=True)\n",
    "#shops.head()"
   ]
  },
  {
   "cell_type": "code",
   "execution_count": 7,
   "metadata": {
    "colab": {
     "base_uri": "https://localhost:8080/",
     "height": 195
    },
    "colab_type": "code",
    "id": "OhH2UrOodKmv",
    "outputId": "67c7e279-f772-451c-a44d-800443bb9c16"
   },
   "outputs": [],
   "source": [
    "items_cat['split'] = items_cat['item_category_name'].str.split('-')\n",
    "items_cat['type'] = items_cat['split'].map(lambda x: x[0].strip())\n",
    "items_cat['type_code'] = LabelEncoder().fit_transform(items_cat['type'])\n",
    "\n",
    "items_cat['subtype'] = items_cat['split'].map(lambda x: x[1].strip() if len(x) > 1 else x[0].strip())\n",
    "items_cat['subtype_code'] = LabelEncoder().fit_transform(items_cat['subtype'])\n",
    "\n",
    "items_cat.drop(['item_category_name', 'split', 'type', 'subtype'], axis='columns', inplace=True)\n",
    "#items_cat.head()"
   ]
  },
  {
   "cell_type": "code",
   "execution_count": 8,
   "metadata": {
    "colab": {
     "base_uri": "https://localhost:8080/",
     "height": 195
    },
    "colab_type": "code",
    "id": "t9r9LXlndR6n",
    "outputId": "7d496f52-e022-438b-b070-14e0012d72e2"
   },
   "outputs": [],
   "source": [
    "items.drop(['item_name'], axis=1, inplace=True)\n",
    "#items.head()"
   ]
  },
  {
   "cell_type": "code",
   "execution_count": 9,
   "metadata": {
    "colab": {
     "base_uri": "https://localhost:8080/",
     "height": 195
    },
    "colab_type": "code",
    "id": "XXSEA13zdXOP",
    "outputId": "a8b637c0-da63-493a-b166-ee8ce8e09c71"
   },
   "outputs": [],
   "source": [
    "train.drop(['date'], axis='columns', inplace=True)\n",
    "#train.head()"
   ]
  },
  {
   "cell_type": "code",
   "execution_count": 46,
   "metadata": {},
   "outputs": [],
   "source": [
    "train['revenue'] = train['item_price'] * train['item_cnt_day']\n",
    "train.drop(['item_price'], axis=1, inplace=True)"
   ]
  },
  {
   "cell_type": "markdown",
   "metadata": {},
   "source": [
    "# Train_full é só pra fazer EDA"
   ]
  },
  {
   "cell_type": "code",
   "execution_count": null,
   "metadata": {
    "colab": {
     "base_uri": "https://localhost:8080/",
     "height": 195
    },
    "colab_type": "code",
    "id": "Xc-cMcd3dXmX",
    "outputId": "91bb2c4e-f867-4d95-e7a0-83f85edfb7bd"
   },
   "outputs": [],
   "source": [
    "train_full = pd.merge(train, shops, on='shop_id', how='left')\n",
    "train_full = pd.merge(train_full, items, on='item_id', how='left')\n",
    "train_full = pd.merge(train_full, items_cat, on='item_category_id', how='left')\n",
    "#train_full.head()"
   ]
  },
  {
   "cell_type": "code",
   "execution_count": null,
   "metadata": {
    "colab": {
     "base_uri": "https://localhost:8080/",
     "height": 846
    },
    "colab_type": "code",
    "id": "1UBveIeDdddf",
    "outputId": "cf558efd-6037-45bd-aa91-6fe827f0cdfd"
   },
   "outputs": [],
   "source": [
    "# Liner correlation between features.\n",
    "correlation = train_full.corr()\n",
    "plt.figure(figsize=(15,15))\n",
    "sns.heatmap(correlation, vmax=1, square=True,annot=True)\n",
    "plt.show()"
   ]
  },
  {
   "cell_type": "code",
   "execution_count": null,
   "metadata": {
    "colab": {
     "base_uri": "https://localhost:8080/",
     "height": 134
    },
    "colab_type": "code",
    "id": "FvlFZfDQdo9H",
    "outputId": "1cd551f5-db58-48f3-de91-1bb603e64a09"
   },
   "outputs": [],
   "source": [
    "print('Test:')\n",
    "print('- Número de itens únicos:', test['item_id'].nunique())\n",
    "print('- Número de shoppings únicos:', test['shop_id'].nunique())\n",
    "print('\\n Train_full:')\n",
    "print('- Número de itens únicos:', train_full['item_id'].nunique())\n",
    "print('- Número de shoppings únicos:', train_full['shop_id'].nunique())"
   ]
  },
  {
   "cell_type": "code",
   "execution_count": null,
   "metadata": {
    "colab": {
     "base_uri": "https://localhost:8080/",
     "height": 284
    },
    "colab_type": "code",
    "id": "y10OM1XjdvhX",
    "outputId": "50dea854-26de-4d83-ee41-25bb7385882a"
   },
   "outputs": [],
   "source": [
    "train_full.describe()"
   ]
  },
  {
   "cell_type": "code",
   "execution_count": null,
   "metadata": {
    "colab": {
     "base_uri": "https://localhost:8080/",
     "height": 284
    },
    "colab_type": "code",
    "id": "4ibZ-VrcdxGv",
    "outputId": "f259d426-f6e6-45be-ab3c-00ad8fb59f01"
   },
   "outputs": [],
   "source": [
    "test.describe()"
   ]
  },
  {
   "cell_type": "code",
   "execution_count": null,
   "metadata": {
    "colab": {
     "base_uri": "https://localhost:8080/",
     "height": 376
    },
    "colab_type": "code",
    "id": "Ss8K84TNdzaH",
    "outputId": "4eb6a30c-7440-4cc1-f19e-52402d644e5d"
   },
   "outputs": [],
   "source": [
    "plt.hist(train_full['item_price'], bins = 100)\n",
    "plt.title('Hist - item_price')\n",
    "plt.xlabel('Item Price')\n",
    "plt.show()"
   ]
  },
  {
   "cell_type": "code",
   "execution_count": null,
   "metadata": {
    "colab": {
     "base_uri": "https://localhost:8080/",
     "height": 376
    },
    "colab_type": "code",
    "id": "JHUci6o1d2YP",
    "outputId": "d3cc7aec-a742-4d06-a557-7c085b5f0d71"
   },
   "outputs": [],
   "source": [
    "plt.hist(train_full['item_price'][train_full.item_price < 8000], bins = 100)\n",
    "plt.title('Hist - item_price')\n",
    "plt.xlabel('Item Price')\n",
    "plt.show()"
   ]
  },
  {
   "cell_type": "code",
   "execution_count": null,
   "metadata": {
    "colab": {
     "base_uri": "https://localhost:8080/",
     "height": 376
    },
    "colab_type": "code",
    "id": "jCNCPRZcd4U_",
    "outputId": "cff4161a-d408-4a47-b34f-d7fabf94a785"
   },
   "outputs": [],
   "source": [
    "x = train_full['item_price'][train_full.item_price < 8000].values\n",
    "x = np.log(np.abs(x))\n",
    "plt.hist(x, bins = 30)\n",
    "plt.title('Hist - item_price')\n",
    "plt.xlabel('Log(Item Price)')\n",
    "plt.show()"
   ]
  },
  {
   "cell_type": "code",
   "execution_count": null,
   "metadata": {
    "colab": {},
    "colab_type": "code",
    "id": "9aQGA0UId5-n"
   },
   "outputs": [],
   "source": [
    "train_full = train_full[train_full.item_price < 100000]\n",
    "train_full = train_full[train_full.item_cnt_day < 1001]"
   ]
  },
  {
   "cell_type": "code",
   "execution_count": null,
   "metadata": {
    "colab": {
     "base_uri": "https://localhost:8080/",
     "height": 284
    },
    "colab_type": "code",
    "id": "Mp5n-huDeAHn",
    "outputId": "40d5f909-2f36-4ecb-be36-422ff1264163"
   },
   "outputs": [],
   "source": [
    "train_full.describe()"
   ]
  },
  {
   "cell_type": "markdown",
   "metadata": {},
   "source": [
    "# Faz alterações no train e test"
   ]
  },
  {
   "cell_type": "code",
   "execution_count": 10,
   "metadata": {
    "colab": {},
    "colab_type": "code",
    "id": "eEryG5GTeBpn"
   },
   "outputs": [],
   "source": [
    "# Idk with this is true\n",
    "train.loc[train.shop_id == 0, 'shop_id'] = 57\n",
    "test.loc[test.shop_id == 0, 'shop_id'] = 57\n",
    "train.loc[train.shop_id == 1, 'shop_id'] = 58\n",
    "test.loc[test.shop_id == 1, 'shop_id'] = 58\n",
    "train.loc[train.shop_id == 10, 'shop_id'] = 11\n",
    "test.loc[test.shop_id == 10, 'shop_id'] = 11"
   ]
  },
  {
   "cell_type": "code",
   "execution_count": 11,
   "metadata": {
    "colab": {},
    "colab_type": "code",
    "id": "Px1KHST-d_Lp"
   },
   "outputs": [],
   "source": [
    "train = train[train.item_price < 100000]\n",
    "train = train[train.item_cnt_day < 1001]"
   ]
  },
  {
   "cell_type": "markdown",
   "metadata": {
    "colab_type": "text",
    "id": "08PbtY-tnUER"
   },
   "source": [
    "# Months features"
   ]
  },
  {
   "cell_type": "code",
   "execution_count": 58,
   "metadata": {
    "colab": {
     "base_uri": "https://localhost:8080/",
     "height": 195
    },
    "colab_type": "code",
    "id": "gD1TKdJ9eH93",
    "outputId": "15bd902b-ef36-4b4e-8f43-d679b1d999d7"
   },
   "outputs": [],
   "source": [
    "df_month = train.groupby(by=['date_block_num', 'shop_id', 'item_id'], axis='index').sum()\n",
    "df_month.rename(columns={'item_cnt_day':'item_cnt_month', 'revenue':'revenue_month'}, inplace=True)\n",
    "df_month.reset_index(inplace=True)\n",
    "#df_month.head()"
   ]
  },
  {
   "cell_type": "markdown",
   "metadata": {},
   "source": [
    "# Train and test more equals"
   ]
  },
  {
   "cell_type": "code",
   "execution_count": null,
   "metadata": {
    "colab": {},
    "colab_type": "code",
    "id": "wOsMGFP9eDwI"
   },
   "outputs": [],
   "source": [
    "n_months = train['date_block_num'].nunique()\n",
    "aux = []\n",
    "for i in range(n_months):\n",
    "    df = train[train.date_block_num == i]\n",
    "    shop_uniq, item_uniq = df.shop_id.unique(), df.item_id.unique()\n",
    "\n",
    "    a = list(product([i], shop_uniq, item_uniq))\n",
    "    a = np.array(a)\n",
    "    aux.append(a)\n",
    "aux = pd.DataFrame(np.vstack(aux), columns=['date_block_num', 'shop_id', 'item_id'])\n",
    "aux.sort_values(['date_block_num', 'shop_id', 'item_id'], inplace=True)"
   ]
  },
  {
   "cell_type": "code",
   "execution_count": null,
   "metadata": {
    "colab": {},
    "colab_type": "code",
    "id": "f06EcmJJeOMP"
   },
   "outputs": [],
   "source": [
    "df_month = pd.merge(aux, df_month, on=['date_block_num', 'shop_id', 'item_id'], how='left').fillna(0)\n",
    "del aux"
   ]
  },
  {
   "cell_type": "markdown",
   "metadata": {},
   "source": [
    "-----------------"
   ]
  },
  {
   "cell_type": "code",
   "execution_count": 59,
   "metadata": {
    "colab": {},
    "colab_type": "code",
    "id": "vYLieK7aeP_X"
   },
   "outputs": [],
   "source": [
    "df_month['item_cnt_month'] = df_month['item_cnt_month'].clip(0, 20)"
   ]
  },
  {
   "cell_type": "markdown",
   "metadata": {},
   "source": [
    "# Adiciona o teste ao treino"
   ]
  },
  {
   "cell_type": "code",
   "execution_count": 60,
   "metadata": {
    "colab": {
     "base_uri": "https://localhost:8080/",
     "height": 195
    },
    "colab_type": "code",
    "id": "yaMFC3YWeRmH",
    "outputId": "f4e4c2f5-b28b-4680-f251-9f71ed988bb0"
   },
   "outputs": [
    {
     "ename": "KeyError",
     "evalue": "\"['ID'] not found in axis\"",
     "output_type": "error",
     "traceback": [
      "\u001b[0;31m---------------------------------------------------------------------------\u001b[0m",
      "\u001b[0;31mKeyError\u001b[0m                                  Traceback (most recent call last)",
      "\u001b[0;32m<ipython-input-60-aba49bb0c886>\u001b[0m in \u001b[0;36m<module>\u001b[0;34m\u001b[0m\n\u001b[1;32m      1\u001b[0m \u001b[0mtest\u001b[0m\u001b[0;34m[\u001b[0m\u001b[0;34m'date_block_num'\u001b[0m\u001b[0;34m]\u001b[0m \u001b[0;34m=\u001b[0m \u001b[0;36m34\u001b[0m\u001b[0;34m\u001b[0m\u001b[0;34m\u001b[0m\u001b[0m\n\u001b[0;32m----> 2\u001b[0;31m \u001b[0mtest\u001b[0m\u001b[0;34m.\u001b[0m\u001b[0mdrop\u001b[0m\u001b[0;34m(\u001b[0m\u001b[0;34m[\u001b[0m\u001b[0;34m'ID'\u001b[0m\u001b[0;34m]\u001b[0m\u001b[0;34m,\u001b[0m \u001b[0maxis\u001b[0m\u001b[0;34m=\u001b[0m\u001b[0;34m'columns'\u001b[0m\u001b[0;34m,\u001b[0m \u001b[0minplace\u001b[0m\u001b[0;34m=\u001b[0m\u001b[0;32mTrue\u001b[0m\u001b[0;34m)\u001b[0m\u001b[0;34m\u001b[0m\u001b[0;34m\u001b[0m\u001b[0m\n\u001b[0m\u001b[1;32m      3\u001b[0m \u001b[0;31m#test.head()\u001b[0m\u001b[0;34m\u001b[0m\u001b[0;34m\u001b[0m\u001b[0;34m\u001b[0m\u001b[0m\n",
      "\u001b[0;32m~/anaconda3/envs/Data_Science/lib/python3.6/site-packages/pandas/core/frame.py\u001b[0m in \u001b[0;36mdrop\u001b[0;34m(self, labels, axis, index, columns, level, inplace, errors)\u001b[0m\n\u001b[1;32m   3695\u001b[0m                                            \u001b[0mindex\u001b[0m\u001b[0;34m=\u001b[0m\u001b[0mindex\u001b[0m\u001b[0;34m,\u001b[0m \u001b[0mcolumns\u001b[0m\u001b[0;34m=\u001b[0m\u001b[0mcolumns\u001b[0m\u001b[0;34m,\u001b[0m\u001b[0;34m\u001b[0m\u001b[0;34m\u001b[0m\u001b[0m\n\u001b[1;32m   3696\u001b[0m                                            \u001b[0mlevel\u001b[0m\u001b[0;34m=\u001b[0m\u001b[0mlevel\u001b[0m\u001b[0;34m,\u001b[0m \u001b[0minplace\u001b[0m\u001b[0;34m=\u001b[0m\u001b[0minplace\u001b[0m\u001b[0;34m,\u001b[0m\u001b[0;34m\u001b[0m\u001b[0;34m\u001b[0m\u001b[0m\n\u001b[0;32m-> 3697\u001b[0;31m                                            errors=errors)\n\u001b[0m\u001b[1;32m   3698\u001b[0m \u001b[0;34m\u001b[0m\u001b[0m\n\u001b[1;32m   3699\u001b[0m     @rewrite_axis_style_signature('mapper', [('copy', True),\n",
      "\u001b[0;32m~/anaconda3/envs/Data_Science/lib/python3.6/site-packages/pandas/core/generic.py\u001b[0m in \u001b[0;36mdrop\u001b[0;34m(self, labels, axis, index, columns, level, inplace, errors)\u001b[0m\n\u001b[1;32m   3109\u001b[0m         \u001b[0;32mfor\u001b[0m \u001b[0maxis\u001b[0m\u001b[0;34m,\u001b[0m \u001b[0mlabels\u001b[0m \u001b[0;32min\u001b[0m \u001b[0maxes\u001b[0m\u001b[0;34m.\u001b[0m\u001b[0mitems\u001b[0m\u001b[0;34m(\u001b[0m\u001b[0;34m)\u001b[0m\u001b[0;34m:\u001b[0m\u001b[0;34m\u001b[0m\u001b[0;34m\u001b[0m\u001b[0m\n\u001b[1;32m   3110\u001b[0m             \u001b[0;32mif\u001b[0m \u001b[0mlabels\u001b[0m \u001b[0;32mis\u001b[0m \u001b[0;32mnot\u001b[0m \u001b[0;32mNone\u001b[0m\u001b[0;34m:\u001b[0m\u001b[0;34m\u001b[0m\u001b[0;34m\u001b[0m\u001b[0m\n\u001b[0;32m-> 3111\u001b[0;31m                 \u001b[0mobj\u001b[0m \u001b[0;34m=\u001b[0m \u001b[0mobj\u001b[0m\u001b[0;34m.\u001b[0m\u001b[0m_drop_axis\u001b[0m\u001b[0;34m(\u001b[0m\u001b[0mlabels\u001b[0m\u001b[0;34m,\u001b[0m \u001b[0maxis\u001b[0m\u001b[0;34m,\u001b[0m \u001b[0mlevel\u001b[0m\u001b[0;34m=\u001b[0m\u001b[0mlevel\u001b[0m\u001b[0;34m,\u001b[0m \u001b[0merrors\u001b[0m\u001b[0;34m=\u001b[0m\u001b[0merrors\u001b[0m\u001b[0;34m)\u001b[0m\u001b[0;34m\u001b[0m\u001b[0;34m\u001b[0m\u001b[0m\n\u001b[0m\u001b[1;32m   3112\u001b[0m \u001b[0;34m\u001b[0m\u001b[0m\n\u001b[1;32m   3113\u001b[0m         \u001b[0;32mif\u001b[0m \u001b[0minplace\u001b[0m\u001b[0;34m:\u001b[0m\u001b[0;34m\u001b[0m\u001b[0;34m\u001b[0m\u001b[0m\n",
      "\u001b[0;32m~/anaconda3/envs/Data_Science/lib/python3.6/site-packages/pandas/core/generic.py\u001b[0m in \u001b[0;36m_drop_axis\u001b[0;34m(self, labels, axis, level, errors)\u001b[0m\n\u001b[1;32m   3141\u001b[0m                 \u001b[0mnew_axis\u001b[0m \u001b[0;34m=\u001b[0m \u001b[0maxis\u001b[0m\u001b[0;34m.\u001b[0m\u001b[0mdrop\u001b[0m\u001b[0;34m(\u001b[0m\u001b[0mlabels\u001b[0m\u001b[0;34m,\u001b[0m \u001b[0mlevel\u001b[0m\u001b[0;34m=\u001b[0m\u001b[0mlevel\u001b[0m\u001b[0;34m,\u001b[0m \u001b[0merrors\u001b[0m\u001b[0;34m=\u001b[0m\u001b[0merrors\u001b[0m\u001b[0;34m)\u001b[0m\u001b[0;34m\u001b[0m\u001b[0;34m\u001b[0m\u001b[0m\n\u001b[1;32m   3142\u001b[0m             \u001b[0;32melse\u001b[0m\u001b[0;34m:\u001b[0m\u001b[0;34m\u001b[0m\u001b[0;34m\u001b[0m\u001b[0m\n\u001b[0;32m-> 3143\u001b[0;31m                 \u001b[0mnew_axis\u001b[0m \u001b[0;34m=\u001b[0m \u001b[0maxis\u001b[0m\u001b[0;34m.\u001b[0m\u001b[0mdrop\u001b[0m\u001b[0;34m(\u001b[0m\u001b[0mlabels\u001b[0m\u001b[0;34m,\u001b[0m \u001b[0merrors\u001b[0m\u001b[0;34m=\u001b[0m\u001b[0merrors\u001b[0m\u001b[0;34m)\u001b[0m\u001b[0;34m\u001b[0m\u001b[0;34m\u001b[0m\u001b[0m\n\u001b[0m\u001b[1;32m   3144\u001b[0m             \u001b[0mresult\u001b[0m \u001b[0;34m=\u001b[0m \u001b[0mself\u001b[0m\u001b[0;34m.\u001b[0m\u001b[0mreindex\u001b[0m\u001b[0;34m(\u001b[0m\u001b[0;34m**\u001b[0m\u001b[0;34m{\u001b[0m\u001b[0maxis_name\u001b[0m\u001b[0;34m:\u001b[0m \u001b[0mnew_axis\u001b[0m\u001b[0;34m}\u001b[0m\u001b[0;34m)\u001b[0m\u001b[0;34m\u001b[0m\u001b[0;34m\u001b[0m\u001b[0m\n\u001b[1;32m   3145\u001b[0m \u001b[0;34m\u001b[0m\u001b[0m\n",
      "\u001b[0;32m~/anaconda3/envs/Data_Science/lib/python3.6/site-packages/pandas/core/indexes/base.py\u001b[0m in \u001b[0;36mdrop\u001b[0;34m(self, labels, errors)\u001b[0m\n\u001b[1;32m   4402\u001b[0m             \u001b[0;32mif\u001b[0m \u001b[0merrors\u001b[0m \u001b[0;34m!=\u001b[0m \u001b[0;34m'ignore'\u001b[0m\u001b[0;34m:\u001b[0m\u001b[0;34m\u001b[0m\u001b[0;34m\u001b[0m\u001b[0m\n\u001b[1;32m   4403\u001b[0m                 raise KeyError(\n\u001b[0;32m-> 4404\u001b[0;31m                     '{} not found in axis'.format(labels[mask]))\n\u001b[0m\u001b[1;32m   4405\u001b[0m             \u001b[0mindexer\u001b[0m \u001b[0;34m=\u001b[0m \u001b[0mindexer\u001b[0m\u001b[0;34m[\u001b[0m\u001b[0;34m~\u001b[0m\u001b[0mmask\u001b[0m\u001b[0;34m]\u001b[0m\u001b[0;34m\u001b[0m\u001b[0;34m\u001b[0m\u001b[0m\n\u001b[1;32m   4406\u001b[0m         \u001b[0;32mreturn\u001b[0m \u001b[0mself\u001b[0m\u001b[0;34m.\u001b[0m\u001b[0mdelete\u001b[0m\u001b[0;34m(\u001b[0m\u001b[0mindexer\u001b[0m\u001b[0;34m)\u001b[0m\u001b[0;34m\u001b[0m\u001b[0;34m\u001b[0m\u001b[0m\n",
      "\u001b[0;31mKeyError\u001b[0m: \"['ID'] not found in axis\""
     ]
    }
   ],
   "source": [
    "test['date_block_num'] = 34\n",
    "test.drop(['ID'], axis='columns', inplace=True)\n",
    "#test.head()"
   ]
  },
  {
   "cell_type": "code",
   "execution_count": 61,
   "metadata": {
    "colab": {
     "base_uri": "https://localhost:8080/",
     "height": 195
    },
    "colab_type": "code",
    "id": "Qb97h14deTfX",
    "outputId": "815f7bfc-b101-4e7a-d89d-e6baf1993b90"
   },
   "outputs": [],
   "source": [
    "df_month = pd.concat([df_month, test], ignore_index=True, sort=False, keys=['date_block_num', 'shop_id', 'item_id']).fillna(0)\n",
    "#df_month.tail()"
   ]
  },
  {
   "cell_type": "code",
   "execution_count": 62,
   "metadata": {
    "colab": {},
    "colab_type": "code",
    "id": "13a5khVueV1g"
   },
   "outputs": [],
   "source": [
    "df_month = pd.merge(df_month, shops, on=['shop_id'], how='left')\n",
    "df_month = pd.merge(df_month, items, on=['item_id'], how='left')\n",
    "df_month = pd.merge(df_month, items_cat, on=['item_category_id'], how='left')"
   ]
  },
  {
   "cell_type": "code",
   "execution_count": null,
   "metadata": {
    "colab": {
     "base_uri": "https://localhost:8080/",
     "height": 195
    },
    "colab_type": "code",
    "id": "ZJ9o9Q4RoI2n",
    "outputId": "5e234470-1f2a-430b-898b-c2d38dc5d957"
   },
   "outputs": [],
   "source": [
    "df_month.head()"
   ]
  },
  {
   "cell_type": "code",
   "execution_count": 64,
   "metadata": {
    "colab": {},
    "colab_type": "code",
    "id": "sCVQYlKnebQ3"
   },
   "outputs": [],
   "source": [
    "df_month['date_block_num'] = df_month['date_block_num'].astype('int8')\n",
    "df_month['shop_id'] = df_month['shop_id'].astype('int16')\n",
    "df_month['item_id'] = df_month['item_id'].astype('int16')\n",
    "df_month['item_cnt_month'] = df_month['item_cnt_month'].astype('int16')\n",
    "df_month['item_category_id'] = df_month['item_category_id'].astype('int16')\n",
    "df_month['revenue_month'] = df_month['revenue_month'].astype('float32')\n",
    "df_month['city_code'] = df_month['city_code'].astype('int16')\n",
    "df_month['type_code'] = df_month['type_code'].astype('int16')\n",
    "df_month['subtype_code'] = df_month['subtype_code'].astype('int16')"
   ]
  },
  {
   "cell_type": "code",
   "execution_count": 65,
   "metadata": {
    "colab": {
     "base_uri": "https://localhost:8080/",
     "height": 284
    },
    "colab_type": "code",
    "id": "oq2FZfgipj9R",
    "outputId": "243756b2-df0a-4637-c2ad-9e0484020174"
   },
   "outputs": [
    {
     "data": {
      "text/html": [
       "<div>\n",
       "<style scoped>\n",
       "    .dataframe tbody tr th:only-of-type {\n",
       "        vertical-align: middle;\n",
       "    }\n",
       "\n",
       "    .dataframe tbody tr th {\n",
       "        vertical-align: top;\n",
       "    }\n",
       "\n",
       "    .dataframe thead th {\n",
       "        text-align: right;\n",
       "    }\n",
       "</style>\n",
       "<table border=\"1\" class=\"dataframe\">\n",
       "  <thead>\n",
       "    <tr style=\"text-align: right;\">\n",
       "      <th></th>\n",
       "      <th>date_block_num</th>\n",
       "      <th>shop_id</th>\n",
       "      <th>item_id</th>\n",
       "      <th>item_cnt_month</th>\n",
       "      <th>revenue_month</th>\n",
       "      <th>city_code</th>\n",
       "      <th>item_category_id</th>\n",
       "      <th>type_code</th>\n",
       "      <th>subtype_code</th>\n",
       "    </tr>\n",
       "  </thead>\n",
       "  <tbody>\n",
       "    <tr>\n",
       "      <th>count</th>\n",
       "      <td>1.823323e+06</td>\n",
       "      <td>1.823323e+06</td>\n",
       "      <td>1.823323e+06</td>\n",
       "      <td>1.823323e+06</td>\n",
       "      <td>1.823323e+06</td>\n",
       "      <td>1.823323e+06</td>\n",
       "      <td>1.823323e+06</td>\n",
       "      <td>1.823323e+06</td>\n",
       "      <td>1.823323e+06</td>\n",
       "    </tr>\n",
       "    <tr>\n",
       "      <th>mean</th>\n",
       "      <td>1.693625e+01</td>\n",
       "      <td>3.293353e+01</td>\n",
       "      <td>1.072075e+04</td>\n",
       "      <td>1.785172e+00</td>\n",
       "      <td>1.863968e+03</td>\n",
       "      <td>1.602764e+01</td>\n",
       "      <td>4.210200e+01</td>\n",
       "      <td>1.036932e+01</td>\n",
       "      <td>1.850362e+01</td>\n",
       "    </tr>\n",
       "    <tr>\n",
       "      <th>std</th>\n",
       "      <td>1.091414e+01</td>\n",
       "      <td>1.659080e+01</td>\n",
       "      <td>6.241452e+03</td>\n",
       "      <td>2.507862e+00</td>\n",
       "      <td>1.440297e+04</td>\n",
       "      <td>7.734857e+00</td>\n",
       "      <td>1.644211e+01</td>\n",
       "      <td>3.348347e+00</td>\n",
       "      <td>1.989422e+01</td>\n",
       "    </tr>\n",
       "    <tr>\n",
       "      <th>min</th>\n",
       "      <td>0.000000e+00</td>\n",
       "      <td>2.000000e+00</td>\n",
       "      <td>0.000000e+00</td>\n",
       "      <td>0.000000e+00</td>\n",
       "      <td>-3.378700e+04</td>\n",
       "      <td>0.000000e+00</td>\n",
       "      <td>0.000000e+00</td>\n",
       "      <td>0.000000e+00</td>\n",
       "      <td>0.000000e+00</td>\n",
       "    </tr>\n",
       "    <tr>\n",
       "      <th>25%</th>\n",
       "      <td>7.000000e+00</td>\n",
       "      <td>2.100000e+01</td>\n",
       "      <td>5.070000e+03</td>\n",
       "      <td>1.000000e+00</td>\n",
       "      <td>1.980000e+02</td>\n",
       "      <td>1.300000e+01</td>\n",
       "      <td>3.000000e+01</td>\n",
       "      <td>8.000000e+00</td>\n",
       "      <td>2.000000e+00</td>\n",
       "    </tr>\n",
       "    <tr>\n",
       "      <th>50%</th>\n",
       "      <td>1.600000e+01</td>\n",
       "      <td>3.100000e+01</td>\n",
       "      <td>1.059100e+04</td>\n",
       "      <td>1.000000e+00</td>\n",
       "      <td>3.990000e+02</td>\n",
       "      <td>1.300000e+01</td>\n",
       "      <td>4.000000e+01</td>\n",
       "      <td>1.100000e+01</td>\n",
       "      <td>1.000000e+01</td>\n",
       "    </tr>\n",
       "    <tr>\n",
       "      <th>75%</th>\n",
       "      <td>2.600000e+01</td>\n",
       "      <td>4.800000e+01</td>\n",
       "      <td>1.606300e+04</td>\n",
       "      <td>2.000000e+00</td>\n",
       "      <td>1.199000e+03</td>\n",
       "      <td>2.300000e+01</td>\n",
       "      <td>5.500000e+01</td>\n",
       "      <td>1.300000e+01</td>\n",
       "      <td>3.200000e+01</td>\n",
       "    </tr>\n",
       "    <tr>\n",
       "      <th>max</th>\n",
       "      <td>3.400000e+01</td>\n",
       "      <td>5.900000e+01</td>\n",
       "      <td>2.216900e+04</td>\n",
       "      <td>2.000000e+01</td>\n",
       "      <td>6.264230e+06</td>\n",
       "      <td>3.000000e+01</td>\n",
       "      <td>8.300000e+01</td>\n",
       "      <td>1.900000e+01</td>\n",
       "      <td>6.400000e+01</td>\n",
       "    </tr>\n",
       "  </tbody>\n",
       "</table>\n",
       "</div>"
      ],
      "text/plain": [
       "       date_block_num       shop_id       item_id  item_cnt_month  \\\n",
       "count    1.823323e+06  1.823323e+06  1.823323e+06    1.823323e+06   \n",
       "mean     1.693625e+01  3.293353e+01  1.072075e+04    1.785172e+00   \n",
       "std      1.091414e+01  1.659080e+01  6.241452e+03    2.507862e+00   \n",
       "min      0.000000e+00  2.000000e+00  0.000000e+00    0.000000e+00   \n",
       "25%      7.000000e+00  2.100000e+01  5.070000e+03    1.000000e+00   \n",
       "50%      1.600000e+01  3.100000e+01  1.059100e+04    1.000000e+00   \n",
       "75%      2.600000e+01  4.800000e+01  1.606300e+04    2.000000e+00   \n",
       "max      3.400000e+01  5.900000e+01  2.216900e+04    2.000000e+01   \n",
       "\n",
       "       revenue_month     city_code  item_category_id     type_code  \\\n",
       "count   1.823323e+06  1.823323e+06      1.823323e+06  1.823323e+06   \n",
       "mean    1.863968e+03  1.602764e+01      4.210200e+01  1.036932e+01   \n",
       "std     1.440297e+04  7.734857e+00      1.644211e+01  3.348347e+00   \n",
       "min    -3.378700e+04  0.000000e+00      0.000000e+00  0.000000e+00   \n",
       "25%     1.980000e+02  1.300000e+01      3.000000e+01  8.000000e+00   \n",
       "50%     3.990000e+02  1.300000e+01      4.000000e+01  1.100000e+01   \n",
       "75%     1.199000e+03  2.300000e+01      5.500000e+01  1.300000e+01   \n",
       "max     6.264230e+06  3.000000e+01      8.300000e+01  1.900000e+01   \n",
       "\n",
       "       subtype_code  \n",
       "count  1.823323e+06  \n",
       "mean   1.850362e+01  \n",
       "std    1.989422e+01  \n",
       "min    0.000000e+00  \n",
       "25%    2.000000e+00  \n",
       "50%    1.000000e+01  \n",
       "75%    3.200000e+01  \n",
       "max    6.400000e+01  "
      ]
     },
     "execution_count": 65,
     "metadata": {},
     "output_type": "execute_result"
    }
   ],
   "source": [
    "df_month.describe()"
   ]
  },
  {
   "cell_type": "markdown",
   "metadata": {
    "colab_type": "text",
    "id": "W1S7WRzLm-O7"
   },
   "source": [
    "# PCA\n",
    "\n",
    "-https://www.kaggle.com/arthurtok/interactive-intro-to-dimensionality-reduction\n",
    "- http://sebastianraschka.com/Articles/2015_pca_in_3_steps.html"
   ]
  },
  {
   "cell_type": "code",
   "execution_count": null,
   "metadata": {
    "colab": {},
    "colab_type": "code",
    "id": "GoVDj-Yuq91q"
   },
   "outputs": [],
   "source": [
    "col = ['city_code', 'item_category_id', 'type_code']"
   ]
  },
  {
   "cell_type": "code",
   "execution_count": null,
   "metadata": {
    "colab": {
     "base_uri": "https://localhost:8080/",
     "height": 151
    },
    "colab_type": "code",
    "id": "tK9pFhHOmrGj",
    "outputId": "8a2e68be-8056-4af8-8dd7-8dd093d35d36",
    "scrolled": true
   },
   "outputs": [],
   "source": [
    "scaler = StandardScaler().fit(df_month[col]) # salva a média e std de cada coluna, para poder ser aplicado no set de treino.\n",
    "X = scaler.transform(df_month[col])\n",
    "print('\\nMean:', scaler.mean_, '\\n\\nStd:', scaler.scale_)"
   ]
  },
  {
   "cell_type": "code",
   "execution_count": null,
   "metadata": {
    "cellView": "form",
    "colab": {
     "base_uri": "https://localhost:8080/",
     "height": 284
    },
    "colab_type": "code",
    "id": "dEUTlYI3qRk6",
    "outputId": "257b505c-7e03-4047-97fe-cf1e404cae9e"
   },
   "outputs": [],
   "source": [
    "#@title Dataframe centrado em zero com variância 1.\n",
    "pd.DataFrame(X, columns=df_month.columns).describe()"
   ]
  },
  {
   "cell_type": "code",
   "execution_count": null,
   "metadata": {
    "colab": {},
    "colab_type": "code",
    "id": "LLoFb71Mqc7c"
   },
   "outputs": [],
   "source": [
    "pca = PCA(n_components=3)\n",
    "principalComponents = pca.fit_transform(X)\n",
    "principalDf = pd.DataFrame(data = principalComponents)"
   ]
  },
  {
   "cell_type": "code",
   "execution_count": null,
   "metadata": {
    "colab": {
     "base_uri": "https://localhost:8080/",
     "height": 361
    },
    "colab_type": "code",
    "id": "sIDtMBauq2qO",
    "outputId": "f7840472-2918-455e-9427-1f62266e0e8c"
   },
   "outputs": [],
   "source": [
    "plt.plot(pca.explained_variance_ratio_, marker='o')\n",
    "plt.ylabel('Importance')\n",
    "plt.xlabel('Component number')\n",
    "plt.show()"
   ]
  },
  {
   "cell_type": "code",
   "execution_count": null,
   "metadata": {},
   "outputs": [],
   "source": [
    "df_month.drop(col, axis=1, inplace=True)"
   ]
  },
  {
   "cell_type": "code",
   "execution_count": null,
   "metadata": {},
   "outputs": [],
   "source": [
    "df_month['PCA1'] = principalDf[0]\n",
    "df_month['PCA2'] = principalDf[1]"
   ]
  },
  {
   "cell_type": "markdown",
   "metadata": {
    "colab_type": "text",
    "id": "SVtKBPUnn_F5"
   },
   "source": [
    "# Lagged features"
   ]
  },
  {
   "cell_type": "code",
   "execution_count": null,
   "metadata": {
    "colab": {},
    "colab_type": "code",
    "id": "dJWUWpduefAH"
   },
   "outputs": [],
   "source": [
    "df_lag3 = df_month[['date_block_num', 'shop_id', 'item_id', 'item_cnt_month', 'revenue_month']].copy()\n",
    "df_lag3.rename(columns={'item_cnt_month':'lag3_item_cnt_month', 'revenue_month':'lag3_revenue_month'}, inplace=True)\n",
    "df_lag3['date_block_num'] += 3\n",
    "df_month = pd.merge(df_month, df_lag3, on=['date_block_num', 'shop_id', 'item_id'], how='left').fillna(0)\n",
    "del df_lag3"
   ]
  },
  {
   "cell_type": "code",
   "execution_count": null,
   "metadata": {
    "colab": {},
    "colab_type": "code",
    "id": "5OaXP_zaej8f"
   },
   "outputs": [],
   "source": [
    "df_lag6 = df_month[['date_block_num', 'shop_id', 'item_id', 'item_cnt_month', 'revenue_month']].copy()\n",
    "df_lag6.rename(columns={'item_cnt_month':'lag6_item_cnt_month', 'revenue_month':'lag6_revenue_month'}, inplace=True)\n",
    "df_lag6['date_block_num'] += 6\n",
    "df_month = pd.merge(df_month, df_lag6, on=['date_block_num', 'shop_id', 'item_id'], how='left').fillna(0)\n",
    "del df_lag6"
   ]
  },
  {
   "cell_type": "code",
   "execution_count": null,
   "metadata": {
    "colab": {},
    "colab_type": "code",
    "id": "s_ORaodkeoXA"
   },
   "outputs": [],
   "source": [
    "df_lag9 = df_month[['date_block_num', 'shop_id', 'item_id', 'item_cnt_month', 'revenue_month']].copy()\n",
    "df_lag9.rename(columns={'item_cnt_month':'lag9_item_cnt_month', 'revenue_month':'lag9_revenue_month'}, inplace=True)\n",
    "df_lag9['date_block_num'] += 9\n",
    "df_month = pd.merge(df_month, df_lag9, on=['date_block_num', 'shop_id', 'item_id'], how='left').fillna(0)\n",
    "del df_lag9"
   ]
  },
  {
   "cell_type": "code",
   "execution_count": null,
   "metadata": {
    "colab": {},
    "colab_type": "code",
    "id": "RCwDoSzSepEg"
   },
   "outputs": [],
   "source": [
    "df_lag12 = df_month[['date_block_num', 'shop_id', 'item_id', 'item_cnt_month', 'revenue_month']].copy()\n",
    "df_lag12.rename(columns={'item_cnt_month':'lag12_item_cnt_month', 'revenue_month':'lag12_revenue_month'}, inplace=True)\n",
    "df_lag12['date_block_num'] += 12\n",
    "df_month = pd.merge(df_month, df_lag12, on=['date_block_num', 'shop_id', 'item_id'], how='left').fillna(0)\n",
    "del df_lag12"
   ]
  },
  {
   "cell_type": "code",
   "execution_count": null,
   "metadata": {
    "colab": {},
    "colab_type": "code",
    "id": "caJKLGXPghTq"
   },
   "outputs": [],
   "source": [
    "df_month['lag3_item_cnt_month'] = df_month['lag3_item_cnt_month'].astype('float32')\n",
    "df_month['lag6_item_cnt_month'] = df_month['lag6_item_cnt_month'].astype('float32')\n",
    "df_month['lag9_item_cnt_month'] = df_month['lag9_item_cnt_month'].astype('float32')\n",
    "df_month['lag12_item_cnt_month'] = df_month['lag12_item_cnt_month'].astype('float32')\n",
    "\n",
    "df_month['lag3_revenue_month'] = df_month['lag3_revenue_month'].astype('float32')\n",
    "df_month['lag6_revenue_month'] = df_month['lag6_revenue_month'].astype('float32')\n",
    "df_month['lag9_revenue_month'] = df_month['lag9_revenue_month'].astype('float32')\n",
    "df_month['lag12_revenue_month'] = df_month['lag12_revenue_month'].astype('float32')"
   ]
  },
  {
   "cell_type": "code",
   "execution_count": null,
   "metadata": {
    "colab": {
     "base_uri": "https://localhost:8080/",
     "height": 306
    },
    "colab_type": "code",
    "id": "fhBkhtm_gT9k",
    "outputId": "2e42bd99-1281-4734-a626-1b07961128c9"
   },
   "outputs": [],
   "source": [
    "df_month.info()"
   ]
  },
  {
   "cell_type": "code",
   "execution_count": null,
   "metadata": {
    "colab": {},
    "colab_type": "code",
    "id": "F_pDLtLFf9cu"
   },
   "outputs": [],
   "source": [
    "df_month.head()"
   ]
  },
  {
   "cell_type": "code",
   "execution_count": null,
   "metadata": {},
   "outputs": [],
   "source": [
    "col2 = ['item_price_month', 'revenue_month', 'lag3_item_cnt_month', 'lag3_revenue_month', 'lag6_item_cnt_month', 'lag6_revenue_month', 'lag9_item_cnt_month', 'lag9_revenue_month', 'lag12_item_cnt_month', 'lag12_revenue_month']"
   ]
  },
  {
   "cell_type": "code",
   "execution_count": null,
   "metadata": {},
   "outputs": [],
   "source": [
    "scaler = StandardScaler().fit(df_month[col2]) # salva a média e std de cada coluna, para poder ser aplicado no set de treino.\n",
    "X = scaler.transform(df_month[col2])\n",
    "df_month[col2] = pd.DataFrame(X, columns=col2)\n",
    "df_month.head()"
   ]
  },
  {
   "cell_type": "markdown",
   "metadata": {
    "colab_type": "text",
    "id": "E0kBta1keGI_"
   },
   "source": [
    "# XGboost"
   ]
  },
  {
   "cell_type": "code",
   "execution_count": null,
   "metadata": {
    "colab": {},
    "colab_type": "code",
    "id": "7kyeEBv0eq6I"
   },
   "outputs": [],
   "source": [
    "model = XGBRegressor(\n",
    "    max_depth=8,\n",
    "    n_estimators=100,\n",
    "    min_child_weight=300, \n",
    "    colsample_bytree=0.8, \n",
    "    subsample=0.8,\n",
    "    nthreads = 6,\n",
    "    seed = 42,\n",
    "    eta=0.3)\n",
    "\n",
    "X_train = df_month[df_month.date_block_num < 33].drop(['item_cnt_month'], axis='columns')\n",
    "Y_train = df_month[df_month.date_block_num < 33]['item_cnt_month']\n",
    "\n",
    "X_valid = df_month[df_month.date_block_num == 33].drop(['item_cnt_month'], axis='columns')\n",
    "Y_valid = df_month[df_month.date_block_num == 33]['item_cnt_month']\n",
    "\n",
    "X_test = df_month[df_month.date_block_num == 34].drop(['item_cnt_month'], axis=1)\n",
    "\n",
    "model.fit(\n",
    "    X_train, \n",
    "    Y_train, \n",
    "    eval_metric=\"rmse\", \n",
    "    eval_set=[(X_train, Y_train), (X_valid, Y_valid)], \n",
    "    verbose=True, \n",
    "    early_stopping_rounds = 5)"
   ]
  },
  {
   "cell_type": "code",
   "execution_count": null,
   "metadata": {
    "colab": {},
    "colab_type": "code",
    "id": "rv9FYCb-fU7X"
   },
   "outputs": [],
   "source": [
    "xgb.plot_importance(model, importance_type='weight')\n",
    "plt.show()"
   ]
  },
  {
   "cell_type": "code",
   "execution_count": null,
   "metadata": {
    "colab": {},
    "colab_type": "code",
    "id": "m3ibDPhIfX5_"
   },
   "outputs": [],
   "source": [
    "Y_pred = model.predict(X_valid).clip(0, 20)\n",
    "Y_test = model.predict(X_test).clip(0, 20)"
   ]
  },
  {
   "cell_type": "code",
   "execution_count": null,
   "metadata": {},
   "outputs": [],
   "source": [
    "submission = pd.DataFrame({\n",
    "    \"ID\": test.index, \n",
    "    \"item_cnt_month\": Y_test\n",
    "})\n",
    "submission.to_csv('xgb_submission.csv', index=False)"
   ]
  },
  {
   "cell_type": "markdown",
   "metadata": {},
   "source": [
    "# RNN"
   ]
  },
  {
   "cell_type": "markdown",
   "metadata": {},
   "source": [
    "- Samples: One sequence is one sample. A batch is comprised of one or more samples.\n",
    "- Time Steps: One time step is one point of observation in the sample.\n",
    "- Features: One feature is one observation at a time step."
   ]
  },
  {
   "cell_type": "code",
   "execution_count": 251,
   "metadata": {
    "scrolled": true
   },
   "outputs": [
    {
     "data": {
      "text/html": [
       "<div>\n",
       "<style scoped>\n",
       "    .dataframe tbody tr th:only-of-type {\n",
       "        vertical-align: middle;\n",
       "    }\n",
       "\n",
       "    .dataframe tbody tr th {\n",
       "        vertical-align: top;\n",
       "    }\n",
       "\n",
       "    .dataframe thead tr th {\n",
       "        text-align: left;\n",
       "    }\n",
       "\n",
       "    .dataframe thead tr:last-of-type th {\n",
       "        text-align: right;\n",
       "    }\n",
       "</style>\n",
       "<table border=\"1\" class=\"dataframe\">\n",
       "  <thead>\n",
       "    <tr>\n",
       "      <th></th>\n",
       "      <th></th>\n",
       "      <th></th>\n",
       "      <th colspan=\"21\" halign=\"left\">item_cnt_month</th>\n",
       "    </tr>\n",
       "    <tr>\n",
       "      <th></th>\n",
       "      <th></th>\n",
       "      <th>date_block_num</th>\n",
       "      <th>0</th>\n",
       "      <th>1</th>\n",
       "      <th>2</th>\n",
       "      <th>3</th>\n",
       "      <th>4</th>\n",
       "      <th>5</th>\n",
       "      <th>6</th>\n",
       "      <th>7</th>\n",
       "      <th>8</th>\n",
       "      <th>9</th>\n",
       "      <th>...</th>\n",
       "      <th>25</th>\n",
       "      <th>26</th>\n",
       "      <th>27</th>\n",
       "      <th>28</th>\n",
       "      <th>29</th>\n",
       "      <th>30</th>\n",
       "      <th>31</th>\n",
       "      <th>32</th>\n",
       "      <th>33</th>\n",
       "      <th>34</th>\n",
       "    </tr>\n",
       "    <tr>\n",
       "      <th>shop_id</th>\n",
       "      <th>item_id</th>\n",
       "      <th>item_category_id</th>\n",
       "      <th></th>\n",
       "      <th></th>\n",
       "      <th></th>\n",
       "      <th></th>\n",
       "      <th></th>\n",
       "      <th></th>\n",
       "      <th></th>\n",
       "      <th></th>\n",
       "      <th></th>\n",
       "      <th></th>\n",
       "      <th></th>\n",
       "      <th></th>\n",
       "      <th></th>\n",
       "      <th></th>\n",
       "      <th></th>\n",
       "      <th></th>\n",
       "      <th></th>\n",
       "      <th></th>\n",
       "      <th></th>\n",
       "      <th></th>\n",
       "      <th></th>\n",
       "    </tr>\n",
       "  </thead>\n",
       "  <tbody>\n",
       "    <tr>\n",
       "      <th rowspan=\"5\" valign=\"top\">2</th>\n",
       "      <th>27</th>\n",
       "      <th>19</th>\n",
       "      <td>1</td>\n",
       "      <td>0</td>\n",
       "      <td>0</td>\n",
       "      <td>0</td>\n",
       "      <td>0</td>\n",
       "      <td>0</td>\n",
       "      <td>0</td>\n",
       "      <td>0</td>\n",
       "      <td>0</td>\n",
       "      <td>0</td>\n",
       "      <td>...</td>\n",
       "      <td>0</td>\n",
       "      <td>0</td>\n",
       "      <td>0</td>\n",
       "      <td>0</td>\n",
       "      <td>0</td>\n",
       "      <td>0</td>\n",
       "      <td>0</td>\n",
       "      <td>0</td>\n",
       "      <td>0</td>\n",
       "      <td>0</td>\n",
       "    </tr>\n",
       "    <tr>\n",
       "      <th>30</th>\n",
       "      <th>40</th>\n",
       "      <td>0</td>\n",
       "      <td>0</td>\n",
       "      <td>1</td>\n",
       "      <td>0</td>\n",
       "      <td>0</td>\n",
       "      <td>1</td>\n",
       "      <td>0</td>\n",
       "      <td>0</td>\n",
       "      <td>0</td>\n",
       "      <td>0</td>\n",
       "      <td>...</td>\n",
       "      <td>0</td>\n",
       "      <td>0</td>\n",
       "      <td>0</td>\n",
       "      <td>0</td>\n",
       "      <td>0</td>\n",
       "      <td>0</td>\n",
       "      <td>0</td>\n",
       "      <td>0</td>\n",
       "      <td>0</td>\n",
       "      <td>0</td>\n",
       "    </tr>\n",
       "    <tr>\n",
       "      <th>31</th>\n",
       "      <th>37</th>\n",
       "      <td>0</td>\n",
       "      <td>4</td>\n",
       "      <td>1</td>\n",
       "      <td>1</td>\n",
       "      <td>0</td>\n",
       "      <td>0</td>\n",
       "      <td>0</td>\n",
       "      <td>0</td>\n",
       "      <td>0</td>\n",
       "      <td>0</td>\n",
       "      <td>...</td>\n",
       "      <td>0</td>\n",
       "      <td>0</td>\n",
       "      <td>0</td>\n",
       "      <td>0</td>\n",
       "      <td>0</td>\n",
       "      <td>0</td>\n",
       "      <td>0</td>\n",
       "      <td>0</td>\n",
       "      <td>1</td>\n",
       "      <td>0</td>\n",
       "    </tr>\n",
       "    <tr>\n",
       "      <th>32</th>\n",
       "      <th>40</th>\n",
       "      <td>0</td>\n",
       "      <td>0</td>\n",
       "      <td>0</td>\n",
       "      <td>0</td>\n",
       "      <td>0</td>\n",
       "      <td>0</td>\n",
       "      <td>0</td>\n",
       "      <td>0</td>\n",
       "      <td>0</td>\n",
       "      <td>0</td>\n",
       "      <td>...</td>\n",
       "      <td>0</td>\n",
       "      <td>1</td>\n",
       "      <td>0</td>\n",
       "      <td>0</td>\n",
       "      <td>0</td>\n",
       "      <td>0</td>\n",
       "      <td>1</td>\n",
       "      <td>0</td>\n",
       "      <td>0</td>\n",
       "      <td>0</td>\n",
       "    </tr>\n",
       "    <tr>\n",
       "      <th>33</th>\n",
       "      <th>37</th>\n",
       "      <td>1</td>\n",
       "      <td>0</td>\n",
       "      <td>0</td>\n",
       "      <td>0</td>\n",
       "      <td>0</td>\n",
       "      <td>0</td>\n",
       "      <td>0</td>\n",
       "      <td>0</td>\n",
       "      <td>0</td>\n",
       "      <td>0</td>\n",
       "      <td>...</td>\n",
       "      <td>1</td>\n",
       "      <td>0</td>\n",
       "      <td>1</td>\n",
       "      <td>1</td>\n",
       "      <td>0</td>\n",
       "      <td>1</td>\n",
       "      <td>0</td>\n",
       "      <td>1</td>\n",
       "      <td>0</td>\n",
       "      <td>0</td>\n",
       "    </tr>\n",
       "  </tbody>\n",
       "</table>\n",
       "<p>5 rows × 35 columns</p>\n",
       "</div>"
      ],
      "text/plain": [
       "                                 item_cnt_month                             \\\n",
       "date_block_num                               0  1  2  3  4  5  6  7  8  9    \n",
       "shop_id item_id item_category_id                                             \n",
       "2       27      19                            1  0  0  0  0  0  0  0  0  0   \n",
       "        30      40                            0  0  1  0  0  1  0  0  0  0   \n",
       "        31      37                            0  4  1  1  0  0  0  0  0  0   \n",
       "        32      40                            0  0  0  0  0  0  0  0  0  0   \n",
       "        33      37                            1  0  0  0  0  0  0  0  0  0   \n",
       "\n",
       "                                 ...                                \n",
       "date_block_num                   ... 25 26 27 28 29 30 31 32 33 34  \n",
       "shop_id item_id item_category_id ...                                \n",
       "2       27      19               ...  0  0  0  0  0  0  0  0  0  0  \n",
       "        30      40               ...  0  0  0  0  0  0  0  0  0  0  \n",
       "        31      37               ...  0  0  0  0  0  0  0  0  1  0  \n",
       "        32      40               ...  0  1  0  0  0  0  1  0  0  0  \n",
       "        33      37               ...  1  0  1  1  0  1  0  1  0  0  \n",
       "\n",
       "[5 rows x 35 columns]"
      ]
     },
     "execution_count": 251,
     "metadata": {},
     "output_type": "execute_result"
    }
   ],
   "source": [
    "X_train = df_month.pivot_table(index=['shop_id', 'item_id', 'item_category_id'],\n",
    "                               columns=['date_block_num'], values=['item_cnt_month'],\n",
    "                               fill_value=0)\n",
    "#X_train = df_month.pivot_table(index=['shop_id', 'city_code', 'item_id', 'type_code',\n",
    "#                                      'subtype_code', 'revenue_month', 'item_category_id'],\n",
    "#                               columns=['date_block_num'], values=['item_cnt_month'],\n",
    "#                               fill_value=0)\n",
    "\n",
    "X_train.head()"
   ]
  },
  {
   "cell_type": "code",
   "execution_count": 252,
   "metadata": {},
   "outputs": [],
   "source": [
    "X_train.columns = X_train.columns.droplevel(0)\n",
    "X_train.reset_index(inplace=True)"
   ]
  },
  {
   "cell_type": "code",
   "execution_count": 253,
   "metadata": {},
   "outputs": [],
   "source": [
    "X_train.drop(['item_category_id'], axis=1, inplace=True)"
   ]
  },
  {
   "cell_type": "code",
   "execution_count": 217,
   "metadata": {},
   "outputs": [],
   "source": [
    "#X_train.drop(['shop_id', 'item_id'], axis=1, inplace=True)"
   ]
  },
  {
   "cell_type": "code",
   "execution_count": 254,
   "metadata": {},
   "outputs": [],
   "source": [
    "X_train.columns = ['shop_id', 'item_id'] + [str(x) for x in range(35)]"
   ]
  },
  {
   "cell_type": "code",
   "execution_count": 263,
   "metadata": {},
   "outputs": [],
   "source": [
    "Y_train = X_train.loc[:, ['shop_id', 'item_id', '33']]\n",
    "X_train = X_train.drop(['33', '34'], axis=1)"
   ]
  },
  {
   "cell_type": "code",
   "execution_count": 266,
   "metadata": {},
   "outputs": [
    {
     "name": "stdout",
     "output_type": "stream",
     "text": [
      "521637 35 1\n"
     ]
    }
   ],
   "source": [
    "n_samples, time_steps = X_train.shape\n",
    "features = 1\n",
    "print(n_samples, time_steps, features)"
   ]
  },
  {
   "cell_type": "code",
   "execution_count": 271,
   "metadata": {},
   "outputs": [],
   "source": [
    "X_train = X_train.values.reshape((n_samples, time_steps, features))"
   ]
  },
  {
   "cell_type": "code",
   "execution_count": 274,
   "metadata": {},
   "outputs": [
    {
     "name": "stdout",
     "output_type": "stream",
     "text": [
      "_________________________________________________________________\n",
      "Layer (type)                 Output Shape              Param #   \n",
      "=================================================================\n",
      "lstm_3 (LSTM)                (None, 32)                4352      \n",
      "_________________________________________________________________\n",
      "dense_3 (Dense)              (None, 3)                 99        \n",
      "=================================================================\n",
      "Total params: 4,451\n",
      "Trainable params: 4,451\n",
      "Non-trainable params: 0\n",
      "_________________________________________________________________\n"
     ]
    }
   ],
   "source": [
    "model = Sequential()\n",
    "model.add(LSTM(units=32, input_shape=(time_steps, features)))\n",
    "model.add(Dense(1))\n",
    "model.compile(loss = 'mse',optimizer = 'adam', metrics = ['mean_squared_error'])\n",
    "model.summary()"
   ]
  },
  {
   "cell_type": "code",
   "execution_count": 275,
   "metadata": {},
   "outputs": [
    {
     "name": "stdout",
     "output_type": "stream",
     "text": [
      "Epoch 1/10\n",
      "521637/521637 [==============================] - 8s 14us/step - loss: 56008323.1046 - mean_squared_error: 56008323.1046\n",
      "Epoch 2/10\n",
      "521637/521637 [==============================] - 7s 13us/step - loss: 55946910.2192 - mean_squared_error: 55946910.2192\n",
      "Epoch 3/10\n",
      "521637/521637 [==============================] - 7s 14us/step - loss: 55909223.8778 - mean_squared_error: 55909223.8778\n",
      "Epoch 4/10\n",
      "521637/521637 [==============================] - 7s 14us/step - loss: 55874385.3537 - mean_squared_error: 55874385.3537\n",
      "Epoch 5/10\n",
      "521637/521637 [==============================] - 7s 14us/step - loss: 55840535.4220 - mean_squared_error: 55840535.4220\n",
      "Epoch 6/10\n",
      "521637/521637 [==============================] - 7s 14us/step - loss: 55807218.8223 - mean_squared_error: 55807218.8223\n",
      "Epoch 7/10\n",
      "521637/521637 [==============================] - 7s 14us/step - loss: 55774237.7000 - mean_squared_error: 55774237.7000\n",
      "Epoch 8/10\n",
      "521637/521637 [==============================] - 7s 14us/step - loss: 55741489.9706 - mean_squared_error: 55741489.9706\n",
      "Epoch 9/10\n",
      "521637/521637 [==============================] - 7s 14us/step - loss: 55708913.3932 - mean_squared_error: 55708913.3932\n",
      "Epoch 10/10\n",
      "521637/521637 [==============================] - 7s 14us/step - loss: 55676469.6742 - mean_squared_error: 55676469.6742\n"
     ]
    },
    {
     "data": {
      "text/plain": [
       "<keras.callbacks.History at 0x7fe3050029b0>"
      ]
     },
     "execution_count": 275,
     "metadata": {},
     "output_type": "execute_result"
    }
   ],
   "source": [
    "model.fit(X_train, Y_train, batch_size = 4096, epochs = 10)"
   ]
  },
  {
   "cell_type": "code",
   "execution_count": 186,
   "metadata": {},
   "outputs": [],
   "source": [
    "#X_train.reset_index().iloc[0]"
   ]
  },
  {
   "cell_type": "code",
   "execution_count": 130,
   "metadata": {},
   "outputs": [],
   "source": [
    "#X_train.columns = X_train.columns.droplevel(0)\n",
    "#X_train.T.reset_index()"
   ]
  }
 ],
 "metadata": {
  "accelerator": "GPU",
  "colab": {
   "collapsed_sections": [
    "0pREbqL27K-C",
    "SVtKBPUnn_F5",
    "E0kBta1keGI_"
   ],
   "include_colab_link": true,
   "name": "XGboost and RNN.ipynb",
   "provenance": [],
   "version": "0.3.2"
  },
  "kernelspec": {
   "display_name": "Python 3",
   "language": "python",
   "name": "python3"
  },
  "language_info": {
   "codemirror_mode": {
    "name": "ipython",
    "version": 3
   },
   "file_extension": ".py",
   "mimetype": "text/x-python",
   "name": "python",
   "nbconvert_exporter": "python",
   "pygments_lexer": "ipython3",
   "version": "3.6.8"
  }
 },
 "nbformat": 4,
 "nbformat_minor": 1
}
